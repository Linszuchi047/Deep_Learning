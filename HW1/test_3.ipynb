{
 "cells": [
  {
   "cell_type": "code",
   "execution_count": 2,
   "metadata": {},
   "outputs": [],
   "source": [
    "import torch\n",
    "from torch import nn, optim\n",
    "from torch.utils.data import DataLoader,random_split\n",
    "from torchvision import transforms, datasets, models\n",
    "import numpy as np\n",
    "from PIL import Image\n",
    "import matplotlib.pyplot as plt\n",
    "from tqdm import tqdm\n",
    "import torch.nn.functional as F"
   ]
  },
  {
   "cell_type": "code",
   "execution_count": 3,
   "metadata": {},
   "outputs": [],
   "source": [
    "device = torch.device(\"cuda\" if torch.cuda.is_available() else \"cpu\")\n",
    "\n",
    "mean = [0.4914, 0.4822, 0.4465] \n",
    "std = [0.2470, 0.2435, 0.2616] \n",
    "batch_size = 40\n",
    "n_epochs = 100\n",
    "\n",
    "train_transform = transforms.Compose([\n",
    "    transforms.Resize((224, 224)),  # Resize all images to 224x224\n",
    "    # Random augmentations\n",
    "    # Randomly rotate images by 40 degrees\n",
    "    transforms.RandomRotation(40),\n",
    "    transforms.RandomHorizontalFlip(),  # Random horizontal flip\n",
    "    transforms.ColorJitter(brightness=0.15, contrast=0.15, saturation=0.15, hue=0.05),  # Random color jitter\n",
    "    transforms.ToTensor(),  # Convert to tensor\n",
    "    transforms.Normalize(mean=mean, std=std)  # Normalize with mean and std\n",
    "])\n",
    "\n",
    "path='train'\n",
    "all_train = datasets.ImageFolder(root = path, transform = train_transform)\n",
    "train_size = int(0.9 * len(all_train))\n",
    "validation_size = len(all_train) - train_size\n",
    "train_dataset, validation_dataset = random_split(all_train , [train_size, validation_size])\n",
    "train_loader = DataLoader(\n",
    "    train_dataset,\n",
    "    batch_size=batch_size,\n",
    "    shuffle=True,\n",
    "    num_workers=3\n",
    ")\n",
    "val_loader = DataLoader(\n",
    "    validation_dataset,\n",
    "    batch_size=batch_size,\n",
    "    shuffle=True,\n",
    "    num_workers=3\n",
    ")"
   ]
  },
  {
   "cell_type": "code",
   "execution_count": 4,
   "metadata": {},
   "outputs": [],
   "source": [
    "image_size = (3, 224, 224)  # Example: 3 channels, 32x32 pixels\n",
    "num_classes = 100"
   ]
  },
  {
   "cell_type": "code",
   "execution_count": 5,
   "metadata": {},
   "outputs": [],
   "source": [
    "import torch\n",
    "import torch.nn as nn\n",
    "import torch.nn.functional as F\n",
    "from math import ceil\n",
    "\n",
    "# Inverted Residual Block with Squeeze-and-Excitation\n",
    "class MBConvBlock(nn.Module):\n",
    "    def __init__(self, in_channels, out_channels, expand_ratio, stride, kernel_size, reduction_ratio=4):\n",
    "        super(MBConvBlock, self).__init__()\n",
    "        self.stride = stride\n",
    "        self.expand_ratio = expand_ratio\n",
    "        hidden_dim = in_channels * expand_ratio\n",
    "        \n",
    "        # Expansion phase\n",
    "        if expand_ratio != 1:\n",
    "            self.expand_conv = nn.Conv2d(in_channels, hidden_dim, kernel_size=1, bias=False)\n",
    "            self.bn0 = nn.BatchNorm2d(hidden_dim)\n",
    "        else:\n",
    "            self.expand_conv = None\n",
    "        \n",
    "        # Depthwise convolution\n",
    "        self.depthwise_conv = nn.Conv2d(hidden_dim if expand_ratio != 1 else in_channels, hidden_dim, \n",
    "                                        kernel_size=kernel_size, stride=stride, \n",
    "                                        padding=kernel_size // 2, groups=hidden_dim, bias=False)\n",
    "        self.bn1 = nn.BatchNorm2d(hidden_dim)\n",
    "        \n",
    "        # Squeeze and Excitation block\n",
    "        self.se_avgpool = nn.AdaptiveAvgPool2d(1)\n",
    "        self.se_fc1 = nn.Conv2d(hidden_dim, hidden_dim // reduction_ratio, kernel_size=1)\n",
    "        self.se_fc2 = nn.Conv2d(hidden_dim // reduction_ratio, hidden_dim, kernel_size=1)\n",
    "        \n",
    "        # Output phase\n",
    "        self.project_conv = nn.Conv2d(hidden_dim, out_channels, kernel_size=1, bias=False)\n",
    "        self.bn2 = nn.BatchNorm2d(out_channels)\n",
    "        \n",
    "        self.use_residual = (in_channels == out_channels and stride == 1)\n",
    "    \n",
    "    def forward(self, x):\n",
    "        identity = x\n",
    "        \n",
    "        if self.expand_conv:\n",
    "            out = F.relu6(self.bn0(self.expand_conv(x)))\n",
    "        else:\n",
    "            out = x\n",
    "        \n",
    "        # Depthwise convolution\n",
    "        out = F.relu6(self.bn1(self.depthwise_conv(out)))\n",
    "        \n",
    "        # Squeeze and Excitation\n",
    "        se = self.se_avgpool(out)\n",
    "        se = F.relu(self.se_fc1(se))\n",
    "        se = torch.sigmoid(self.se_fc2(se))\n",
    "        out = out * se\n",
    "        \n",
    "        # Output\n",
    "        out = self.bn2(self.project_conv(out))\n",
    "        \n",
    "        if self.use_residual:\n",
    "            out = out + identity\n",
    "        \n",
    "        return out\n",
    "\n",
    "# EfficientNet Main Architecture\n",
    "class EfficientNet(nn.Module):\n",
    "    def __init__(self, width_coefficient, depth_coefficient, dropout_rate=0.2, num_classes=100):\n",
    "        super(EfficientNet, self).__init__()\n",
    "        \n",
    "        # Base settings for EfficientNet-B0 with reduced coefficients\n",
    "        base_channels = 16  # Reduced base channels\n",
    "        base_layers = [\n",
    "            # (expand_ratio, out_channels, num_blocks, stride, kernel_size)\n",
    "            (1, 16, 1, 1, 3),   # Stage 1\n",
    "            (6, 24, 2, 2, 3),   # Stage 2\n",
    "            (6, 40, 2, 2, 5),   # Stage 3\n",
    "            (6, 80, 3, 2, 3),   # Stage 4\n",
    "            (6, 112, 3, 1, 5),  # Stage 5\n",
    "            (6, 192, 4, 2, 5),  # Stage 6\n",
    "            (6, 320, 1, 1, 3)   # Stage 7\n",
    "        ]\n",
    "        \n",
    "        # Stem\n",
    "        out_channels = ceil(base_channels * width_coefficient)\n",
    "        self.stem_conv = nn.Conv2d(3, out_channels, kernel_size=3, stride=2, padding=1, bias=False)\n",
    "        self.stem_bn = nn.BatchNorm2d(out_channels)\n",
    "        \n",
    "        # Build blocks\n",
    "        self.blocks = nn.ModuleList([])\n",
    "        in_channels = out_channels\n",
    "        for expand_ratio, out_channels, num_blocks, stride, kernel_size in base_layers:\n",
    "            out_channels = ceil(out_channels * width_coefficient)\n",
    "            num_blocks = ceil(num_blocks * depth_coefficient)\n",
    "            for i in range(num_blocks):\n",
    "                block_stride = stride if i == 0 else 1\n",
    "                self.blocks.append(MBConvBlock(in_channels, out_channels, expand_ratio, block_stride, kernel_size))\n",
    "                in_channels = out_channels\n",
    "        \n",
    "        # Head\n",
    "        final_channels = ceil(1024 * width_coefficient)  # Reduced head channels\n",
    "        self.head_conv = nn.Conv2d(in_channels, final_channels, kernel_size=1, bias=False)\n",
    "        self.head_bn = nn.BatchNorm2d(final_channels)\n",
    "        \n",
    "        # Pooling and classification\n",
    "        self.avgpool = nn.AdaptiveAvgPool2d(1)\n",
    "        self.dropout = nn.Dropout(dropout_rate)\n",
    "        self.fc = nn.Linear(final_channels, num_classes)\n",
    "    \n",
    "    def forward(self, x):\n",
    "        # Stem\n",
    "        x = F.relu6(self.stem_bn(self.stem_conv(x)))\n",
    "        \n",
    "        # Blocks\n",
    "        for block in self.blocks:\n",
    "            x = block(x)\n",
    "        \n",
    "        # Head\n",
    "        x = F.relu6(self.head_bn(self.head_conv(x)))\n",
    "        \n",
    "        # Pooling and classification\n",
    "        x = self.avgpool(x)\n",
    "        x = x.view(x.size(0), -1)\n",
    "        x = self.dropout(x)\n",
    "        x = self.fc(x)\n",
    "        \n",
    "        return x\n",
    "\n",
    "def efficientnet_b0(num_classes=100):\n",
    "    # Reduced width and depth coefficients to reduce parameters\n",
    "    return EfficientNet(width_coefficient=0.95, depth_coefficient=0.95, num_classes=num_classes)"
   ]
  },
  {
   "cell_type": "code",
   "execution_count": 6,
   "metadata": {},
   "outputs": [
    {
     "name": "stdout",
     "output_type": "stream",
     "text": [
      "# parameters: 6513208\n"
     ]
    }
   ],
   "source": [
    "model = efficientnet_b0(num_classes=100)\n",
    "total_params = sum(p.numel() for p in model.parameters())\n",
    "print(\"# parameters:\", total_params)"
   ]
  },
  {
   "cell_type": "code",
   "execution_count": 7,
   "metadata": {},
   "outputs": [
    {
     "name": "stderr",
     "output_type": "stream",
     "text": [
      "100%|██████████| 315/315 [01:58<00:00,  2.66it/s]\n",
      "100%|██████████| 35/35 [00:17<00:00,  1.98it/s]\n"
     ]
    },
    {
     "name": "stdout",
     "output_type": "stream",
     "text": [
      "Epoch 1/100:\n",
      "Train Loss: 4.0532, Train Acc: 0.0604\n",
      "Val Loss: 3.8676, Val Acc: 0.0879\n"
     ]
    },
    {
     "name": "stderr",
     "output_type": "stream",
     "text": [
      "100%|██████████| 315/315 [01:13<00:00,  4.29it/s]\n",
      "100%|██████████| 35/35 [00:14<00:00,  2.49it/s]\n"
     ]
    },
    {
     "name": "stdout",
     "output_type": "stream",
     "text": [
      "Epoch 2/100:\n",
      "Train Loss: 3.5659, Train Acc: 0.1102\n",
      "Val Loss: 3.6115, Val Acc: 0.1243\n"
     ]
    },
    {
     "name": "stderr",
     "output_type": "stream",
     "text": [
      "100%|██████████| 315/315 [01:13<00:00,  4.27it/s]\n",
      "100%|██████████| 35/35 [00:11<00:00,  2.96it/s]\n"
     ]
    },
    {
     "name": "stdout",
     "output_type": "stream",
     "text": [
      "Epoch 3/100:\n",
      "Train Loss: 3.2620, Train Acc: 0.1722\n",
      "Val Loss: 3.3285, Val Acc: 0.1643\n"
     ]
    },
    {
     "name": "stderr",
     "output_type": "stream",
     "text": [
      "100%|██████████| 315/315 [01:13<00:00,  4.27it/s]\n",
      "100%|██████████| 35/35 [00:12<00:00,  2.76it/s]\n"
     ]
    },
    {
     "name": "stdout",
     "output_type": "stream",
     "text": [
      "Epoch 4/100:\n",
      "Train Loss: 3.0246, Train Acc: 0.2224\n",
      "Val Loss: 3.0099, Val Acc: 0.2193\n"
     ]
    },
    {
     "name": "stderr",
     "output_type": "stream",
     "text": [
      "100%|██████████| 315/315 [01:14<00:00,  4.24it/s]\n",
      "100%|██████████| 35/35 [00:11<00:00,  2.95it/s]\n"
     ]
    },
    {
     "name": "stdout",
     "output_type": "stream",
     "text": [
      "Epoch 5/100:\n",
      "Train Loss: 2.7730, Train Acc: 0.2710\n",
      "Val Loss: 2.7496, Val Acc: 0.2779\n"
     ]
    },
    {
     "name": "stderr",
     "output_type": "stream",
     "text": [
      "100%|██████████| 315/315 [01:12<00:00,  4.37it/s]\n",
      "100%|██████████| 35/35 [00:12<00:00,  2.85it/s]\n"
     ]
    },
    {
     "name": "stdout",
     "output_type": "stream",
     "text": [
      "Epoch 6/100:\n",
      "Train Loss: 2.5913, Train Acc: 0.3169\n",
      "Val Loss: 2.5188, Val Acc: 0.3264\n"
     ]
    },
    {
     "name": "stderr",
     "output_type": "stream",
     "text": [
      "100%|██████████| 315/315 [01:12<00:00,  4.36it/s]\n",
      "100%|██████████| 35/35 [00:11<00:00,  2.93it/s]\n"
     ]
    },
    {
     "name": "stdout",
     "output_type": "stream",
     "text": [
      "Epoch 7/100:\n",
      "Train Loss: 2.4340, Train Acc: 0.3497\n",
      "Val Loss: 2.4947, Val Acc: 0.3400\n"
     ]
    },
    {
     "name": "stderr",
     "output_type": "stream",
     "text": [
      "100%|██████████| 315/315 [01:13<00:00,  4.30it/s]\n",
      "100%|██████████| 35/35 [00:20<00:00,  1.68it/s]\n"
     ]
    },
    {
     "name": "stdout",
     "output_type": "stream",
     "text": [
      "Epoch 8/100:\n",
      "Train Loss: 2.2672, Train Acc: 0.3914\n",
      "Val Loss: 2.3263, Val Acc: 0.3793\n"
     ]
    },
    {
     "name": "stderr",
     "output_type": "stream",
     "text": [
      "100%|██████████| 315/315 [02:08<00:00,  2.45it/s]\n",
      "100%|██████████| 35/35 [00:11<00:00,  2.96it/s]\n"
     ]
    },
    {
     "name": "stdout",
     "output_type": "stream",
     "text": [
      "Epoch 9/100:\n",
      "Train Loss: 2.1432, Train Acc: 0.4233\n",
      "Val Loss: 2.3667, Val Acc: 0.3721\n"
     ]
    },
    {
     "name": "stderr",
     "output_type": "stream",
     "text": [
      "100%|██████████| 315/315 [01:28<00:00,  3.57it/s]\n",
      "100%|██████████| 35/35 [00:11<00:00,  3.00it/s]\n"
     ]
    },
    {
     "name": "stdout",
     "output_type": "stream",
     "text": [
      "Epoch 10/100:\n",
      "Train Loss: 2.0350, Train Acc: 0.4445\n",
      "Val Loss: 2.0864, Val Acc: 0.4350\n"
     ]
    },
    {
     "name": "stderr",
     "output_type": "stream",
     "text": [
      "100%|██████████| 315/315 [01:26<00:00,  3.63it/s]\n",
      "100%|██████████| 35/35 [00:11<00:00,  3.03it/s]\n"
     ]
    },
    {
     "name": "stdout",
     "output_type": "stream",
     "text": [
      "Epoch 11/100:\n",
      "Train Loss: 1.9019, Train Acc: 0.4717\n",
      "Val Loss: 2.0797, Val Acc: 0.4371\n"
     ]
    },
    {
     "name": "stderr",
     "output_type": "stream",
     "text": [
      "100%|██████████| 315/315 [01:33<00:00,  3.38it/s]\n",
      "100%|██████████| 35/35 [00:14<00:00,  2.43it/s]\n"
     ]
    },
    {
     "name": "stdout",
     "output_type": "stream",
     "text": [
      "Epoch 12/100:\n",
      "Train Loss: 1.8168, Train Acc: 0.4943\n",
      "Val Loss: 1.9804, Val Acc: 0.4721\n"
     ]
    },
    {
     "name": "stderr",
     "output_type": "stream",
     "text": [
      "100%|██████████| 315/315 [01:31<00:00,  3.44it/s]\n",
      "100%|██████████| 35/35 [00:11<00:00,  2.92it/s]\n"
     ]
    },
    {
     "name": "stdout",
     "output_type": "stream",
     "text": [
      "Epoch 13/100:\n",
      "Train Loss: 1.7213, Train Acc: 0.5224\n",
      "Val Loss: 1.9216, Val Acc: 0.4886\n"
     ]
    },
    {
     "name": "stderr",
     "output_type": "stream",
     "text": [
      "100%|██████████| 315/315 [00:48<00:00,  6.45it/s]\n",
      "100%|██████████| 35/35 [00:09<00:00,  3.81it/s]\n"
     ]
    },
    {
     "name": "stdout",
     "output_type": "stream",
     "text": [
      "Epoch 14/100:\n",
      "Train Loss: 1.6205, Train Acc: 0.5457\n",
      "Val Loss: 1.9387, Val Acc: 0.4771\n"
     ]
    },
    {
     "name": "stderr",
     "output_type": "stream",
     "text": [
      "100%|██████████| 315/315 [00:48<00:00,  6.55it/s]\n",
      "100%|██████████| 35/35 [00:09<00:00,  3.76it/s]\n"
     ]
    },
    {
     "name": "stdout",
     "output_type": "stream",
     "text": [
      "Epoch 15/100:\n",
      "Train Loss: 1.5727, Train Acc: 0.5574\n",
      "Val Loss: 1.6644, Val Acc: 0.5336\n"
     ]
    },
    {
     "name": "stderr",
     "output_type": "stream",
     "text": [
      "100%|██████████| 315/315 [00:47<00:00,  6.57it/s]\n",
      "100%|██████████| 35/35 [00:09<00:00,  3.74it/s]\n"
     ]
    },
    {
     "name": "stdout",
     "output_type": "stream",
     "text": [
      "Epoch 16/100:\n",
      "Train Loss: 1.4591, Train Acc: 0.5820\n",
      "Val Loss: 1.6723, Val Acc: 0.5336\n"
     ]
    },
    {
     "name": "stderr",
     "output_type": "stream",
     "text": [
      "100%|██████████| 315/315 [00:48<00:00,  6.55it/s]\n",
      "100%|██████████| 35/35 [00:09<00:00,  3.71it/s]\n"
     ]
    },
    {
     "name": "stdout",
     "output_type": "stream",
     "text": [
      "Epoch 17/100:\n",
      "Train Loss: 1.3945, Train Acc: 0.6022\n",
      "Val Loss: 1.4962, Val Acc: 0.5886\n"
     ]
    },
    {
     "name": "stderr",
     "output_type": "stream",
     "text": [
      "100%|██████████| 315/315 [00:47<00:00,  6.57it/s]\n",
      "100%|██████████| 35/35 [00:09<00:00,  3.73it/s]\n"
     ]
    },
    {
     "name": "stdout",
     "output_type": "stream",
     "text": [
      "Epoch 18/100:\n",
      "Train Loss: 1.3368, Train Acc: 0.6147\n",
      "Val Loss: 1.5658, Val Acc: 0.5829\n"
     ]
    },
    {
     "name": "stderr",
     "output_type": "stream",
     "text": [
      "100%|██████████| 315/315 [00:47<00:00,  6.57it/s]\n",
      "100%|██████████| 35/35 [00:09<00:00,  3.67it/s]\n"
     ]
    },
    {
     "name": "stdout",
     "output_type": "stream",
     "text": [
      "Epoch 19/100:\n",
      "Train Loss: 1.2755, Train Acc: 0.6294\n",
      "Val Loss: 1.5649, Val Acc: 0.5686\n"
     ]
    },
    {
     "name": "stderr",
     "output_type": "stream",
     "text": [
      "100%|██████████| 315/315 [00:48<00:00,  6.54it/s]\n",
      "100%|██████████| 35/35 [00:09<00:00,  3.74it/s]\n"
     ]
    },
    {
     "name": "stdout",
     "output_type": "stream",
     "text": [
      "Epoch 20/100:\n",
      "Train Loss: 1.2280, Train Acc: 0.6448\n",
      "Val Loss: 1.5403, Val Acc: 0.5907\n"
     ]
    },
    {
     "name": "stderr",
     "output_type": "stream",
     "text": [
      "100%|██████████| 315/315 [00:48<00:00,  6.55it/s]\n",
      "100%|██████████| 35/35 [00:09<00:00,  3.79it/s]\n"
     ]
    },
    {
     "name": "stdout",
     "output_type": "stream",
     "text": [
      "Epoch 21/100:\n",
      "Train Loss: 1.1560, Train Acc: 0.6641\n",
      "Val Loss: 1.5577, Val Acc: 0.5714\n"
     ]
    },
    {
     "name": "stderr",
     "output_type": "stream",
     "text": [
      "100%|██████████| 315/315 [00:48<00:00,  6.53it/s]\n",
      "100%|██████████| 35/35 [00:09<00:00,  3.60it/s]\n"
     ]
    },
    {
     "name": "stdout",
     "output_type": "stream",
     "text": [
      "Epoch 22/100:\n",
      "Train Loss: 1.1067, Train Acc: 0.6756\n",
      "Val Loss: 1.4241, Val Acc: 0.6071\n"
     ]
    },
    {
     "name": "stderr",
     "output_type": "stream",
     "text": [
      "100%|██████████| 315/315 [00:48<00:00,  6.52it/s]\n",
      "100%|██████████| 35/35 [00:09<00:00,  3.71it/s]\n"
     ]
    },
    {
     "name": "stdout",
     "output_type": "stream",
     "text": [
      "Epoch 23/100:\n",
      "Train Loss: 1.0623, Train Acc: 0.6900\n",
      "Val Loss: 1.4669, Val Acc: 0.6014\n"
     ]
    },
    {
     "name": "stderr",
     "output_type": "stream",
     "text": [
      "100%|██████████| 315/315 [00:48<00:00,  6.56it/s]\n",
      "100%|██████████| 35/35 [00:09<00:00,  3.73it/s]\n"
     ]
    },
    {
     "name": "stdout",
     "output_type": "stream",
     "text": [
      "Epoch 24/100:\n",
      "Train Loss: 1.0061, Train Acc: 0.7007\n",
      "Val Loss: 1.3802, Val Acc: 0.6193\n"
     ]
    },
    {
     "name": "stderr",
     "output_type": "stream",
     "text": [
      "100%|██████████| 315/315 [00:48<00:00,  6.53it/s]\n",
      "100%|██████████| 35/35 [00:09<00:00,  3.71it/s]\n"
     ]
    },
    {
     "name": "stdout",
     "output_type": "stream",
     "text": [
      "Epoch 25/100:\n",
      "Train Loss: 0.9438, Train Acc: 0.7207\n",
      "Val Loss: 1.3653, Val Acc: 0.6521\n"
     ]
    },
    {
     "name": "stderr",
     "output_type": "stream",
     "text": [
      "100%|██████████| 315/315 [00:48<00:00,  6.54it/s]\n",
      "100%|██████████| 35/35 [00:09<00:00,  3.70it/s]\n"
     ]
    },
    {
     "name": "stdout",
     "output_type": "stream",
     "text": [
      "Epoch 26/100:\n",
      "Train Loss: 0.9175, Train Acc: 0.7253\n",
      "Val Loss: 1.2833, Val Acc: 0.6493\n"
     ]
    },
    {
     "name": "stderr",
     "output_type": "stream",
     "text": [
      "100%|██████████| 315/315 [00:47<00:00,  6.58it/s]\n",
      "100%|██████████| 35/35 [00:09<00:00,  3.77it/s]\n"
     ]
    },
    {
     "name": "stdout",
     "output_type": "stream",
     "text": [
      "Epoch 27/100:\n",
      "Train Loss: 0.8691, Train Acc: 0.7421\n",
      "Val Loss: 1.3308, Val Acc: 0.6379\n"
     ]
    },
    {
     "name": "stderr",
     "output_type": "stream",
     "text": [
      "100%|██████████| 315/315 [00:47<00:00,  6.59it/s]\n",
      "100%|██████████| 35/35 [00:09<00:00,  3.71it/s]\n"
     ]
    },
    {
     "name": "stdout",
     "output_type": "stream",
     "text": [
      "Epoch 28/100:\n",
      "Train Loss: 0.8445, Train Acc: 0.7454\n",
      "Val Loss: 1.3177, Val Acc: 0.6614\n"
     ]
    },
    {
     "name": "stderr",
     "output_type": "stream",
     "text": [
      "100%|██████████| 315/315 [00:47<00:00,  6.58it/s]\n",
      "100%|██████████| 35/35 [00:09<00:00,  3.70it/s]\n"
     ]
    },
    {
     "name": "stdout",
     "output_type": "stream",
     "text": [
      "Epoch 29/100:\n",
      "Train Loss: 0.7848, Train Acc: 0.7653\n",
      "Val Loss: 1.3005, Val Acc: 0.6557\n"
     ]
    },
    {
     "name": "stderr",
     "output_type": "stream",
     "text": [
      "100%|██████████| 315/315 [00:48<00:00,  6.54it/s]\n",
      "100%|██████████| 35/35 [00:09<00:00,  3.73it/s]\n"
     ]
    },
    {
     "name": "stdout",
     "output_type": "stream",
     "text": [
      "Epoch 30/100:\n",
      "Train Loss: 0.7673, Train Acc: 0.7639\n",
      "Val Loss: 1.2050, Val Acc: 0.6771\n"
     ]
    },
    {
     "name": "stderr",
     "output_type": "stream",
     "text": [
      "100%|██████████| 315/315 [00:47<00:00,  6.60it/s]\n",
      "100%|██████████| 35/35 [00:09<00:00,  3.73it/s]\n"
     ]
    },
    {
     "name": "stdout",
     "output_type": "stream",
     "text": [
      "Epoch 31/100:\n",
      "Train Loss: 0.7260, Train Acc: 0.7803\n",
      "Val Loss: 1.2300, Val Acc: 0.6629\n"
     ]
    },
    {
     "name": "stderr",
     "output_type": "stream",
     "text": [
      "100%|██████████| 315/315 [00:47<00:00,  6.57it/s]\n",
      "100%|██████████| 35/35 [00:09<00:00,  3.67it/s]\n"
     ]
    },
    {
     "name": "stdout",
     "output_type": "stream",
     "text": [
      "Epoch 32/100:\n",
      "Train Loss: 0.6880, Train Acc: 0.7846\n",
      "Val Loss: 1.1799, Val Acc: 0.6864\n"
     ]
    },
    {
     "name": "stderr",
     "output_type": "stream",
     "text": [
      "100%|██████████| 315/315 [00:47<00:00,  6.61it/s]\n",
      "100%|██████████| 35/35 [00:09<00:00,  3.74it/s]\n"
     ]
    },
    {
     "name": "stdout",
     "output_type": "stream",
     "text": [
      "Epoch 33/100:\n",
      "Train Loss: 0.6682, Train Acc: 0.7988\n",
      "Val Loss: 1.2262, Val Acc: 0.6800\n"
     ]
    },
    {
     "name": "stderr",
     "output_type": "stream",
     "text": [
      "100%|██████████| 315/315 [00:47<00:00,  6.61it/s]\n",
      "100%|██████████| 35/35 [00:11<00:00,  3.16it/s]\n"
     ]
    },
    {
     "name": "stdout",
     "output_type": "stream",
     "text": [
      "Epoch 34/100:\n",
      "Train Loss: 0.6170, Train Acc: 0.8103\n",
      "Val Loss: 1.1842, Val Acc: 0.6807\n"
     ]
    },
    {
     "name": "stderr",
     "output_type": "stream",
     "text": [
      "100%|██████████| 315/315 [00:50<00:00,  6.28it/s]\n",
      "100%|██████████| 35/35 [00:09<00:00,  3.76it/s]\n"
     ]
    },
    {
     "name": "stdout",
     "output_type": "stream",
     "text": [
      "Epoch 35/100:\n",
      "Train Loss: 0.5967, Train Acc: 0.8155\n",
      "Val Loss: 1.1610, Val Acc: 0.6914\n"
     ]
    },
    {
     "name": "stderr",
     "output_type": "stream",
     "text": [
      "100%|██████████| 315/315 [00:48<00:00,  6.54it/s]\n",
      "100%|██████████| 35/35 [00:09<00:00,  3.69it/s]\n"
     ]
    },
    {
     "name": "stdout",
     "output_type": "stream",
     "text": [
      "Epoch 36/100:\n",
      "Train Loss: 0.5543, Train Acc: 0.8270\n",
      "Val Loss: 1.1539, Val Acc: 0.6964\n"
     ]
    },
    {
     "name": "stderr",
     "output_type": "stream",
     "text": [
      "100%|██████████| 315/315 [00:47<00:00,  6.59it/s]\n",
      "100%|██████████| 35/35 [00:09<00:00,  3.69it/s]\n"
     ]
    },
    {
     "name": "stdout",
     "output_type": "stream",
     "text": [
      "Epoch 37/100:\n",
      "Train Loss: 0.5340, Train Acc: 0.8366\n",
      "Val Loss: 1.1451, Val Acc: 0.6943\n"
     ]
    },
    {
     "name": "stderr",
     "output_type": "stream",
     "text": [
      "100%|██████████| 315/315 [00:48<00:00,  6.55it/s]\n",
      "100%|██████████| 35/35 [00:09<00:00,  3.81it/s]\n"
     ]
    },
    {
     "name": "stdout",
     "output_type": "stream",
     "text": [
      "Epoch 38/100:\n",
      "Train Loss: 0.5004, Train Acc: 0.8419\n",
      "Val Loss: 1.2385, Val Acc: 0.6943\n"
     ]
    },
    {
     "name": "stderr",
     "output_type": "stream",
     "text": [
      "100%|██████████| 315/315 [00:47<00:00,  6.59it/s]\n",
      "100%|██████████| 35/35 [00:09<00:00,  3.83it/s]\n"
     ]
    },
    {
     "name": "stdout",
     "output_type": "stream",
     "text": [
      "Epoch 39/100:\n",
      "Train Loss: 0.4813, Train Acc: 0.8503\n",
      "Val Loss: 1.1279, Val Acc: 0.7236\n"
     ]
    },
    {
     "name": "stderr",
     "output_type": "stream",
     "text": [
      "100%|██████████| 315/315 [00:47<00:00,  6.58it/s]\n",
      "100%|██████████| 35/35 [00:09<00:00,  3.77it/s]\n"
     ]
    },
    {
     "name": "stdout",
     "output_type": "stream",
     "text": [
      "Epoch 40/100:\n",
      "Train Loss: 0.4542, Train Acc: 0.8567\n",
      "Val Loss: 1.1293, Val Acc: 0.7100\n"
     ]
    },
    {
     "name": "stderr",
     "output_type": "stream",
     "text": [
      "100%|██████████| 315/315 [00:47<00:00,  6.60it/s]\n",
      "100%|██████████| 35/35 [00:09<00:00,  3.78it/s]\n"
     ]
    },
    {
     "name": "stdout",
     "output_type": "stream",
     "text": [
      "Epoch 41/100:\n",
      "Train Loss: 0.4338, Train Acc: 0.8670\n",
      "Val Loss: 1.2291, Val Acc: 0.6971\n"
     ]
    },
    {
     "name": "stderr",
     "output_type": "stream",
     "text": [
      "100%|██████████| 315/315 [00:48<00:00,  6.54it/s]\n",
      "100%|██████████| 35/35 [00:09<00:00,  3.78it/s]\n"
     ]
    },
    {
     "name": "stdout",
     "output_type": "stream",
     "text": [
      "Epoch 42/100:\n",
      "Train Loss: 0.4220, Train Acc: 0.8684\n",
      "Val Loss: 1.0835, Val Acc: 0.7171\n"
     ]
    },
    {
     "name": "stderr",
     "output_type": "stream",
     "text": [
      "100%|██████████| 315/315 [00:47<00:00,  6.60it/s]\n",
      "100%|██████████| 35/35 [00:09<00:00,  3.82it/s]\n"
     ]
    },
    {
     "name": "stdout",
     "output_type": "stream",
     "text": [
      "Epoch 43/100:\n",
      "Train Loss: 0.4048, Train Acc: 0.8721\n",
      "Val Loss: 1.1330, Val Acc: 0.7200\n"
     ]
    },
    {
     "name": "stderr",
     "output_type": "stream",
     "text": [
      "100%|██████████| 315/315 [00:47<00:00,  6.60it/s]\n",
      "100%|██████████| 35/35 [00:09<00:00,  3.77it/s]\n"
     ]
    },
    {
     "name": "stdout",
     "output_type": "stream",
     "text": [
      "Epoch 44/100:\n",
      "Train Loss: 0.3524, Train Acc: 0.8885\n",
      "Val Loss: 1.0589, Val Acc: 0.7257\n"
     ]
    },
    {
     "name": "stderr",
     "output_type": "stream",
     "text": [
      "100%|██████████| 315/315 [00:48<00:00,  6.49it/s]\n",
      "100%|██████████| 35/35 [00:09<00:00,  3.71it/s]\n"
     ]
    },
    {
     "name": "stdout",
     "output_type": "stream",
     "text": [
      "Epoch 45/100:\n",
      "Train Loss: 0.3527, Train Acc: 0.8901\n",
      "Val Loss: 1.1513, Val Acc: 0.7121\n"
     ]
    },
    {
     "name": "stderr",
     "output_type": "stream",
     "text": [
      "100%|██████████| 315/315 [00:47<00:00,  6.58it/s]\n",
      "100%|██████████| 35/35 [00:09<00:00,  3.68it/s]\n"
     ]
    },
    {
     "name": "stdout",
     "output_type": "stream",
     "text": [
      "Epoch 46/100:\n",
      "Train Loss: 0.3424, Train Acc: 0.8913\n",
      "Val Loss: 1.1196, Val Acc: 0.7186\n"
     ]
    },
    {
     "name": "stderr",
     "output_type": "stream",
     "text": [
      "100%|██████████| 315/315 [00:47<00:00,  6.58it/s]\n",
      "100%|██████████| 35/35 [00:09<00:00,  3.77it/s]\n"
     ]
    },
    {
     "name": "stdout",
     "output_type": "stream",
     "text": [
      "Epoch 47/100:\n",
      "Train Loss: 0.3133, Train Acc: 0.9017\n",
      "Val Loss: 1.1368, Val Acc: 0.7364\n"
     ]
    },
    {
     "name": "stderr",
     "output_type": "stream",
     "text": [
      "100%|██████████| 315/315 [00:47<00:00,  6.57it/s]\n",
      "100%|██████████| 35/35 [00:09<00:00,  3.75it/s]\n"
     ]
    },
    {
     "name": "stdout",
     "output_type": "stream",
     "text": [
      "Epoch 48/100:\n",
      "Train Loss: 0.2872, Train Acc: 0.9091\n",
      "Val Loss: 1.0667, Val Acc: 0.7307\n"
     ]
    },
    {
     "name": "stderr",
     "output_type": "stream",
     "text": [
      "100%|██████████| 315/315 [00:47<00:00,  6.59it/s]\n",
      "100%|██████████| 35/35 [00:09<00:00,  3.71it/s]\n"
     ]
    },
    {
     "name": "stdout",
     "output_type": "stream",
     "text": [
      "Epoch 49/100:\n",
      "Train Loss: 0.2909, Train Acc: 0.9065\n",
      "Val Loss: 1.1473, Val Acc: 0.7179\n"
     ]
    },
    {
     "name": "stderr",
     "output_type": "stream",
     "text": [
      "100%|██████████| 315/315 [01:07<00:00,  4.68it/s]\n",
      "100%|██████████| 35/35 [00:11<00:00,  2.98it/s]\n"
     ]
    },
    {
     "name": "stdout",
     "output_type": "stream",
     "text": [
      "Epoch 50/100:\n",
      "Train Loss: 0.2656, Train Acc: 0.9152\n",
      "Val Loss: 1.0766, Val Acc: 0.7371\n"
     ]
    },
    {
     "name": "stderr",
     "output_type": "stream",
     "text": [
      "100%|██████████| 315/315 [01:13<00:00,  4.31it/s]\n",
      "100%|██████████| 35/35 [00:10<00:00,  3.21it/s]"
     ]
    },
    {
     "name": "stdout",
     "output_type": "stream",
     "text": [
      "Epoch 51/100:\n",
      "Train Loss: 0.2459, Train Acc: 0.9229\n",
      "Val Loss: 1.1232, Val Acc: 0.7379\n",
      "Early stopping\n"
     ]
    },
    {
     "name": "stderr",
     "output_type": "stream",
     "text": [
      "\n"
     ]
    }
   ],
   "source": [
    "model = efficientnet_b0(num_classes=100).to(device)\n",
    "loss_fn = nn.CrossEntropyLoss()\n",
    "optimizer = optim.Adam(model.parameters(), lr=0.001, betas=(0.9, 0.999), eps=1e-08, weight_decay=0, amsgrad=False)\n",
    "scheduler = torch.optim.lr_scheduler.CosineAnnealingLR(optimizer, T_max=n_epochs, eta_min=1e-6)\n",
    "\n",
    "# Early stopping class\n",
    "class EarlyStopper:\n",
    "    def __init__(self, patience=7, min_delta=0):\n",
    "        self.patience = patience\n",
    "        self.min_delta = min_delta\n",
    "        self.counter = 0\n",
    "        self.min_validation_loss = np.inf\n",
    "\n",
    "    def early_stop(self, validation_loss):\n",
    "        if validation_loss < self.min_validation_loss:\n",
    "            self.min_validation_loss = validation_loss\n",
    "            self.counter = 0\n",
    "        elif validation_loss > (self.min_validation_loss + self.min_delta):\n",
    "            self.counter += 1\n",
    "            if self.counter >= self.patience:\n",
    "                return True\n",
    "        return False\n",
    "\n",
    "# Train function\n",
    "def train(model, train_loader, optimizer, loss_fn):\n",
    "    model.train()\n",
    "    running_loss = 0.0\n",
    "    correct = 0\n",
    "    total = 0\n",
    "    for images, labels in tqdm(train_loader):\n",
    "        images, labels = images.to(device), labels.to(device)\n",
    "        \n",
    "        optimizer.zero_grad()\n",
    "        outputs = model(images)\n",
    "        loss = loss_fn(outputs, labels)\n",
    "        loss.backward()\n",
    "        optimizer.step()\n",
    "        \n",
    "        running_loss += loss.item() * images.size(0)\n",
    "        _, predicted = outputs.max(1)\n",
    "        correct += predicted.eq(labels).sum().item()\n",
    "        total += labels.size(0)\n",
    "        \n",
    "    epoch_loss = running_loss / len(train_loader.dataset)\n",
    "    accuracy = correct / total\n",
    "    return epoch_loss, accuracy\n",
    "\n",
    "# Validation function\n",
    "@torch.no_grad()\n",
    "def validate(model, val_loader, loss_fn):\n",
    "    model.eval()\n",
    "    val_loss = 0.0\n",
    "    correct = 0\n",
    "    total = 0\n",
    "    for images, labels in tqdm(val_loader):\n",
    "        images, labels = images.to(device), labels.to(device)\n",
    "        \n",
    "        outputs = model(images)\n",
    "        loss = loss_fn(outputs, labels)\n",
    "        val_loss += loss.item() * images.size(0)\n",
    "        \n",
    "        _, predicted = outputs.max(1)\n",
    "        correct += predicted.eq(labels).sum().item()\n",
    "        total += labels.size(0)\n",
    "        \n",
    "    avg_loss = val_loss / len(val_loader.dataset)\n",
    "    accuracy = correct / total\n",
    "    return avg_loss, accuracy\n",
    "\n",
    "# Training loop\n",
    "train_loss_list = []\n",
    "valid_loss_list = []\n",
    "early_stopper = EarlyStopper(patience=7)\n",
    "\n",
    "best_val_acc = 0.0\n",
    "\n",
    "for epoch in range(n_epochs):\n",
    "    train_loss, train_acc = train(model, train_loader, optimizer, loss_fn)\n",
    "    val_loss, val_acc = validate(model, val_loader, loss_fn)\n",
    "    \n",
    "    train_loss_list.append(train_loss)\n",
    "    valid_loss_list.append(val_loss)\n",
    "    \n",
    "    print(f\"Epoch {epoch+1}/{n_epochs}:\")\n",
    "    print(f\"Train Loss: {train_loss:.4f}, Train Acc: {train_acc:.4f}\")\n",
    "    print(f\"Val Loss: {val_loss:.4f}, Val Acc: {val_acc:.4f}\")\n",
    "    \n",
    "    # Step the learning rate scheduler\n",
    "    scheduler.step()\n",
    "    \n",
    "    # Early stopping check\n",
    "    if early_stopper.early_stop(val_loss):\n",
    "        print(\"Early stopping\")\n",
    "        break\n",
    "    if val_acc > best_val_acc:\n",
    "        best_val_acc = val_acc\n",
    "        torch.save(model.state_dict(), \"best_model.pth\")\n",
    "\n",
    "# Save the final model\n",
    "torch.save(model.state_dict(), \"final_model.pth\")"
   ]
  }
 ],
 "metadata": {
  "kernelspec": {
   "display_name": "DeepLearning",
   "language": "python",
   "name": "python3"
  },
  "language_info": {
   "codemirror_mode": {
    "name": "ipython",
    "version": 3
   },
   "file_extension": ".py",
   "mimetype": "text/x-python",
   "name": "python",
   "nbconvert_exporter": "python",
   "pygments_lexer": "ipython3",
   "version": "3.11.5"
  }
 },
 "nbformat": 4,
 "nbformat_minor": 2
}
