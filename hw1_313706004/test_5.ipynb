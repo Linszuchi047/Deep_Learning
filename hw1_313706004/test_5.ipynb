{
 "cells": [
  {
   "cell_type": "code",
   "execution_count": 1,
   "metadata": {},
   "outputs": [],
   "source": [
    "import torch\n",
    "from torch import nn, optim\n",
    "from torch.utils.data import DataLoader,random_split\n",
    "from torchvision import transforms, datasets, models\n",
    "import numpy as np\n",
    "from PIL import Image\n",
    "import matplotlib.pyplot as plt\n",
    "from tqdm import tqdm\n",
    "import torch.nn.functional as F\n",
    "import torch.nn.utils.prune as prune"
   ]
  },
  {
   "cell_type": "code",
   "execution_count": 2,
   "metadata": {},
   "outputs": [],
   "source": [
    "device = torch.device(\"cuda\" if torch.cuda.is_available() else \"cpu\")\n",
    "\n",
    "mean = [0.4914, 0.4822, 0.4465] \n",
    "std = [0.2470, 0.2435, 0.2616] \n",
    "batch_size = 40\n",
    "n_epochs = 100\n",
    "\n",
    "train_transform = transforms.Compose([\n",
    "    transforms.Resize((224, 224)),  # Resize all images to 224x224\n",
    "    # Random augmentations\n",
    "    # Randomly rotate images by 40 degrees\n",
    "    transforms.RandomRotation(40),\n",
    "    transforms.RandomHorizontalFlip(),  # Random horizontal flip\n",
    "    transforms.ColorJitter(brightness=0.15, contrast=0.15, saturation=0.15, hue=0.05),  # Random color jitter\n",
    "    transforms.ToTensor(),  # Convert to tensor\n",
    "    transforms.Normalize(mean=mean, std=std)  # Normalize with mean and std\n",
    "])\n",
    "\n",
    "path='train'\n",
    "all_train = datasets.ImageFolder(root = path, transform = train_transform)\n",
    "train_size = int(0.9 * len(all_train))\n",
    "validation_size = len(all_train) - train_size\n",
    "train_dataset, validation_dataset = random_split(all_train , [train_size, validation_size])\n",
    "train_loader = DataLoader(\n",
    "    train_dataset,\n",
    "    batch_size=batch_size,\n",
    "    shuffle=True,\n",
    "    num_workers=3\n",
    ")\n",
    "val_loader = DataLoader(\n",
    "    validation_dataset,\n",
    "    batch_size=batch_size,\n",
    "    shuffle=True,\n",
    "    num_workers=3\n",
    ")"
   ]
  },
  {
   "cell_type": "code",
   "execution_count": 3,
   "metadata": {},
   "outputs": [],
   "source": [
    "image_size = (3, 224, 224)  # Example: 3 channels, 32x32 pixels\n",
    "num_classes = 100"
   ]
  },
  {
   "cell_type": "code",
   "execution_count": 7,
   "metadata": {},
   "outputs": [],
   "source": [
    "import torch\n",
    "import torch.nn as nn\n",
    "import torch.nn.functional as F\n",
    "from math import ceil\n",
    "\n",
    "# Inverted Residual Block with Squeeze-and-Excitation\n",
    "class MBConvBlock(nn.Module):\n",
    "    def __init__(self, in_channels, out_channels, expand_ratio, stride, kernel_size, reduction_ratio=4):\n",
    "        super(MBConvBlock, self).__init__()\n",
    "        self.stride = stride\n",
    "        self.expand_ratio = expand_ratio\n",
    "        hidden_dim = in_channels * expand_ratio\n",
    "        \n",
    "        # Expansion phase\n",
    "        if expand_ratio != 1:\n",
    "            self.expand_conv = nn.Conv2d(in_channels, hidden_dim, kernel_size=1, bias=False)\n",
    "            self.bn0 = nn.BatchNorm2d(hidden_dim)\n",
    "        else:\n",
    "            self.expand_conv = None\n",
    "        \n",
    "        # Depthwise convolution\n",
    "        self.depthwise_conv = nn.Conv2d(hidden_dim if expand_ratio != 1 else in_channels, hidden_dim, \n",
    "                                        kernel_size=kernel_size, stride=stride, \n",
    "                                        padding=kernel_size // 2, groups=hidden_dim, bias=False)\n",
    "        self.bn1 = nn.BatchNorm2d(hidden_dim)\n",
    "        \n",
    "        # Squeeze and Excitation block\n",
    "        self.se_avgpool = nn.AdaptiveAvgPool2d(1)\n",
    "        self.se_fc1 = nn.Conv2d(hidden_dim, hidden_dim // reduction_ratio, kernel_size=1)\n",
    "        self.se_fc2 = nn.Conv2d(hidden_dim // reduction_ratio, hidden_dim, kernel_size=1)\n",
    "        \n",
    "        # Output phase\n",
    "        self.project_conv = nn.Conv2d(hidden_dim, out_channels, kernel_size=1, bias=False)\n",
    "        self.bn2 = nn.BatchNorm2d(out_channels)\n",
    "        \n",
    "        self.use_residual = (in_channels == out_channels and stride == 1)\n",
    "    \n",
    "    def forward(self, x):\n",
    "        identity = x\n",
    "        \n",
    "        if self.expand_conv:\n",
    "            out = F.relu6(self.bn0(self.expand_conv(x)))\n",
    "        else:\n",
    "            out = x\n",
    "        \n",
    "        # Depthwise convolution\n",
    "        out = F.relu6(self.bn1(self.depthwise_conv(out)))\n",
    "        \n",
    "        # Squeeze and Excitation\n",
    "        se = self.se_avgpool(out)\n",
    "        se = F.relu(self.se_fc1(se))\n",
    "        se = torch.sigmoid(self.se_fc2(se))\n",
    "        out = out * se\n",
    "        \n",
    "        # Output\n",
    "        out = self.bn2(self.project_conv(out))\n",
    "        \n",
    "        if self.use_residual:\n",
    "            out = out + identity\n",
    "        \n",
    "        return out\n",
    "\n",
    "# EfficientNet Main Architecture\n",
    "class EfficientNet(nn.Module):\n",
    "    def __init__(self, width_coefficient, depth_coefficient, dropout_rate=0.2, num_classes=100):\n",
    "        super(EfficientNet, self).__init__()\n",
    "        \n",
    "        # Base settings for EfficientNet-B0 with reduced coefficients\n",
    "        base_channels = 16  # Reduced base channels\n",
    "        base_layers = [\n",
    "            # (expand_ratio, out_channels, num_blocks, stride, kernel_size)\n",
    "            (1, 16, 1, 1, 3),   # Stage 1\n",
    "            (6, 24, 2, 2, 3),   # Stage 2\n",
    "            (6, 40, 2, 2, 5),   # Stage 3\n",
    "            (6, 80, 3, 2, 3),   # Stage 4\n",
    "            (6, 112, 3, 1, 5),  # Stage 5\n",
    "            (6, 192, 4, 2, 5),  # Stage 6\n",
    "            (6, 320, 1, 1, 3)   # Stage 7\n",
    "        ]\n",
    "        \n",
    "        # Stem\n",
    "        out_channels = ceil(base_channels * width_coefficient)\n",
    "        self.stem_conv = nn.Conv2d(3, out_channels, kernel_size=3, stride=2, padding=1, groups=1,bias=False)\n",
    "        self.stem_bn = nn.BatchNorm2d(out_channels)\n",
    "        \n",
    "        # Build blocks\n",
    "        self.blocks = nn.ModuleList([])\n",
    "        in_channels = out_channels\n",
    "        for expand_ratio, out_channels, num_blocks, stride, kernel_size in base_layers:\n",
    "            out_channels = ceil(out_channels * width_coefficient)\n",
    "            num_blocks = ceil(num_blocks * depth_coefficient)\n",
    "            for i in range(num_blocks):\n",
    "                block_stride = stride if i == 0 else 1\n",
    "                self.blocks.append(MBConvBlock(in_channels, out_channels, expand_ratio, block_stride, kernel_size))\n",
    "                in_channels = out_channels\n",
    "        \n",
    "        # Head\n",
    "        final_channels = ceil(1024 * width_coefficient)  # Reduced head channels\n",
    "        self.head_conv = nn.Conv2d(in_channels, final_channels, kernel_size=1, bias=False)\n",
    "        self.head_bn = nn.BatchNorm2d(final_channels)\n",
    "        \n",
    "        # Pooling and classification\n",
    "        self.avgpool = nn.AdaptiveAvgPool2d(1)\n",
    "        self.dropout = nn.Dropout(dropout_rate)\n",
    "        self.fc = nn.Linear(final_channels, num_classes)\n",
    "    \n",
    "    def forward(self, x):\n",
    "        # Stem\n",
    "        x = F.relu6(self.stem_bn(self.stem_conv(x)))\n",
    "        \n",
    "        # Blocks\n",
    "        for block in self.blocks:\n",
    "            x = block(x)\n",
    "        \n",
    "        # Head\n",
    "        x = F.relu6(self.head_bn(self.head_conv(x)))\n",
    "        \n",
    "        # Pooling and classification\n",
    "        x = self.avgpool(x)\n",
    "        x = x.view(x.size(0), -1)\n",
    "        x = self.dropout(x)\n",
    "        x = self.fc(x)\n",
    "        \n",
    "        return x\n",
    "\n",
    "def efficientnet_b0(num_classes=100):\n",
    "    # Reduced width and depth coefficients to reduce parameters\n",
    "    return EfficientNet(width_coefficient=0.75, depth_coefficient=0.75, num_classes=num_classes)"
   ]
  },
  {
   "cell_type": "code",
   "execution_count": 8,
   "metadata": {},
   "outputs": [
    {
     "name": "stdout",
     "output_type": "stream",
     "text": [
      "# parameters: 3443197\n"
     ]
    }
   ],
   "source": [
    "model = efficientnet_b0(num_classes=100).to(device)\n",
    "prune.l1_unstructured(model.fc, name='weight', amount=0.4)\n",
    "total_params = sum(p.numel() for p in model.parameters())\n",
    "print(\"# parameters:\", total_params)"
   ]
  },
  {
   "cell_type": "code",
   "execution_count": 9,
   "metadata": {},
   "outputs": [
    {
     "name": "stderr",
     "output_type": "stream",
     "text": [
      "100%|██████████| 315/315 [01:17<00:00,  4.04it/s]\n",
      "100%|██████████| 35/35 [00:15<00:00,  2.28it/s]\n"
     ]
    },
    {
     "name": "stdout",
     "output_type": "stream",
     "text": [
      "Epoch 1/100:\n",
      "Train Loss: 4.0460, Train Acc: 0.0596\n",
      "Val Loss: 3.7411, Val Acc: 0.0793\n"
     ]
    },
    {
     "name": "stderr",
     "output_type": "stream",
     "text": [
      "100%|██████████| 315/315 [00:55<00:00,  5.68it/s]\n",
      "100%|██████████| 35/35 [00:13<00:00,  2.55it/s]\n"
     ]
    },
    {
     "name": "stdout",
     "output_type": "stream",
     "text": [
      "Epoch 2/100:\n",
      "Train Loss: 3.5297, Train Acc: 0.1237\n",
      "Val Loss: 3.3813, Val Acc: 0.1564\n"
     ]
    },
    {
     "name": "stderr",
     "output_type": "stream",
     "text": [
      "100%|██████████| 315/315 [01:09<00:00,  4.54it/s]\n",
      "100%|██████████| 35/35 [00:12<00:00,  2.91it/s]\n"
     ]
    },
    {
     "name": "stdout",
     "output_type": "stream",
     "text": [
      "Epoch 3/100:\n",
      "Train Loss: 3.2403, Train Acc: 0.1730\n",
      "Val Loss: 3.0967, Val Acc: 0.2050\n"
     ]
    },
    {
     "name": "stderr",
     "output_type": "stream",
     "text": [
      "100%|██████████| 315/315 [00:48<00:00,  6.48it/s]\n",
      "100%|██████████| 35/35 [00:09<00:00,  3.60it/s]\n"
     ]
    },
    {
     "name": "stdout",
     "output_type": "stream",
     "text": [
      "Epoch 4/100:\n",
      "Train Loss: 2.9961, Train Acc: 0.2177\n",
      "Val Loss: 3.1454, Val Acc: 0.2029\n"
     ]
    },
    {
     "name": "stderr",
     "output_type": "stream",
     "text": [
      "100%|██████████| 315/315 [00:39<00:00,  8.06it/s]\n",
      "100%|██████████| 35/35 [00:10<00:00,  3.20it/s]\n"
     ]
    },
    {
     "name": "stdout",
     "output_type": "stream",
     "text": [
      "Epoch 5/100:\n",
      "Train Loss: 2.7893, Train Acc: 0.2687\n",
      "Val Loss: 2.6403, Val Acc: 0.3193\n"
     ]
    },
    {
     "name": "stderr",
     "output_type": "stream",
     "text": [
      "100%|██████████| 315/315 [00:38<00:00,  8.10it/s]\n",
      "100%|██████████| 35/35 [00:09<00:00,  3.84it/s]\n"
     ]
    },
    {
     "name": "stdout",
     "output_type": "stream",
     "text": [
      "Epoch 6/100:\n",
      "Train Loss: 2.5892, Train Acc: 0.3142\n",
      "Val Loss: 2.5373, Val Acc: 0.3229\n"
     ]
    },
    {
     "name": "stderr",
     "output_type": "stream",
     "text": [
      "100%|██████████| 315/315 [00:38<00:00,  8.08it/s]\n",
      "100%|██████████| 35/35 [00:09<00:00,  3.60it/s]\n"
     ]
    },
    {
     "name": "stdout",
     "output_type": "stream",
     "text": [
      "Epoch 7/100:\n",
      "Train Loss: 2.4306, Train Acc: 0.3526\n",
      "Val Loss: 2.4662, Val Acc: 0.3500\n"
     ]
    },
    {
     "name": "stderr",
     "output_type": "stream",
     "text": [
      "100%|██████████| 315/315 [00:39<00:00,  7.95it/s]\n",
      "100%|██████████| 35/35 [00:09<00:00,  3.79it/s]\n"
     ]
    },
    {
     "name": "stdout",
     "output_type": "stream",
     "text": [
      "Epoch 8/100:\n",
      "Train Loss: 2.2763, Train Acc: 0.3815\n",
      "Val Loss: 2.3987, Val Acc: 0.3657\n"
     ]
    },
    {
     "name": "stderr",
     "output_type": "stream",
     "text": [
      "100%|██████████| 315/315 [00:38<00:00,  8.08it/s]\n",
      "100%|██████████| 35/35 [00:09<00:00,  3.70it/s]\n"
     ]
    },
    {
     "name": "stdout",
     "output_type": "stream",
     "text": [
      "Epoch 9/100:\n",
      "Train Loss: 2.1558, Train Acc: 0.4143\n",
      "Val Loss: 2.1292, Val Acc: 0.4271\n"
     ]
    },
    {
     "name": "stderr",
     "output_type": "stream",
     "text": [
      "100%|██████████| 315/315 [00:39<00:00,  8.02it/s]\n",
      "100%|██████████| 35/35 [00:10<00:00,  3.42it/s]\n"
     ]
    },
    {
     "name": "stdout",
     "output_type": "stream",
     "text": [
      "Epoch 10/100:\n",
      "Train Loss: 2.0298, Train Acc: 0.4473\n",
      "Val Loss: 1.9951, Val Acc: 0.4521\n"
     ]
    },
    {
     "name": "stderr",
     "output_type": "stream",
     "text": [
      "100%|██████████| 315/315 [00:38<00:00,  8.17it/s]\n",
      "100%|██████████| 35/35 [00:09<00:00,  3.86it/s]\n"
     ]
    },
    {
     "name": "stdout",
     "output_type": "stream",
     "text": [
      "Epoch 11/100:\n",
      "Train Loss: 1.9412, Train Acc: 0.4648\n",
      "Val Loss: 1.9807, Val Acc: 0.4836\n"
     ]
    },
    {
     "name": "stderr",
     "output_type": "stream",
     "text": [
      "100%|██████████| 315/315 [00:48<00:00,  6.51it/s]\n",
      "100%|██████████| 35/35 [00:08<00:00,  3.97it/s]\n"
     ]
    },
    {
     "name": "stdout",
     "output_type": "stream",
     "text": [
      "Epoch 12/100:\n",
      "Train Loss: 1.8330, Train Acc: 0.4959\n",
      "Val Loss: 1.8844, Val Acc: 0.5007\n"
     ]
    },
    {
     "name": "stderr",
     "output_type": "stream",
     "text": [
      "100%|██████████| 315/315 [01:03<00:00,  5.00it/s]\n",
      "100%|██████████| 35/35 [00:11<00:00,  3.14it/s]\n"
     ]
    },
    {
     "name": "stdout",
     "output_type": "stream",
     "text": [
      "Epoch 13/100:\n",
      "Train Loss: 1.7612, Train Acc: 0.5064\n",
      "Val Loss: 1.7856, Val Acc: 0.5214\n"
     ]
    },
    {
     "name": "stderr",
     "output_type": "stream",
     "text": [
      "100%|██████████| 315/315 [01:05<00:00,  4.81it/s]\n",
      "100%|██████████| 35/35 [00:10<00:00,  3.45it/s]\n"
     ]
    },
    {
     "name": "stdout",
     "output_type": "stream",
     "text": [
      "Epoch 14/100:\n",
      "Train Loss: 1.6680, Train Acc: 0.5379\n",
      "Val Loss: 1.6877, Val Acc: 0.5443\n"
     ]
    },
    {
     "name": "stderr",
     "output_type": "stream",
     "text": [
      "100%|██████████| 315/315 [01:09<00:00,  4.55it/s]\n",
      "100%|██████████| 35/35 [00:10<00:00,  3.34it/s]\n"
     ]
    },
    {
     "name": "stdout",
     "output_type": "stream",
     "text": [
      "Epoch 15/100:\n",
      "Train Loss: 1.5995, Train Acc: 0.5534\n",
      "Val Loss: 1.6561, Val Acc: 0.5450\n"
     ]
    },
    {
     "name": "stderr",
     "output_type": "stream",
     "text": [
      "100%|██████████| 315/315 [01:07<00:00,  4.64it/s]\n",
      "100%|██████████| 35/35 [00:10<00:00,  3.28it/s]\n"
     ]
    },
    {
     "name": "stdout",
     "output_type": "stream",
     "text": [
      "Epoch 16/100:\n",
      "Train Loss: 1.5055, Train Acc: 0.5766\n",
      "Val Loss: 1.5633, Val Acc: 0.5736\n"
     ]
    },
    {
     "name": "stderr",
     "output_type": "stream",
     "text": [
      "100%|██████████| 315/315 [01:08<00:00,  4.60it/s]\n",
      "100%|██████████| 35/35 [00:10<00:00,  3.37it/s]\n"
     ]
    },
    {
     "name": "stdout",
     "output_type": "stream",
     "text": [
      "Epoch 17/100:\n",
      "Train Loss: 1.4503, Train Acc: 0.5865\n",
      "Val Loss: 1.5514, Val Acc: 0.5657\n"
     ]
    },
    {
     "name": "stderr",
     "output_type": "stream",
     "text": [
      "100%|██████████| 315/315 [01:21<00:00,  3.85it/s]\n",
      "100%|██████████| 35/35 [00:18<00:00,  1.93it/s]\n"
     ]
    },
    {
     "name": "stdout",
     "output_type": "stream",
     "text": [
      "Epoch 18/100:\n",
      "Train Loss: 1.3827, Train Acc: 0.6051\n",
      "Val Loss: 1.5022, Val Acc: 0.5929\n"
     ]
    },
    {
     "name": "stderr",
     "output_type": "stream",
     "text": [
      "100%|██████████| 315/315 [01:31<00:00,  3.45it/s]\n",
      "100%|██████████| 35/35 [00:08<00:00,  3.99it/s]\n"
     ]
    },
    {
     "name": "stdout",
     "output_type": "stream",
     "text": [
      "Epoch 19/100:\n",
      "Train Loss: 1.3243, Train Acc: 0.6256\n",
      "Val Loss: 1.4102, Val Acc: 0.6036\n"
     ]
    },
    {
     "name": "stderr",
     "output_type": "stream",
     "text": [
      "100%|██████████| 315/315 [01:02<00:00,  5.03it/s]\n",
      "100%|██████████| 35/35 [00:10<00:00,  3.31it/s]\n"
     ]
    },
    {
     "name": "stdout",
     "output_type": "stream",
     "text": [
      "Epoch 20/100:\n",
      "Train Loss: 1.2828, Train Acc: 0.6315\n",
      "Val Loss: 1.4110, Val Acc: 0.6071\n"
     ]
    },
    {
     "name": "stderr",
     "output_type": "stream",
     "text": [
      "100%|██████████| 315/315 [01:08<00:00,  4.57it/s]\n",
      "100%|██████████| 35/35 [00:09<00:00,  3.51it/s]\n"
     ]
    },
    {
     "name": "stdout",
     "output_type": "stream",
     "text": [
      "Epoch 21/100:\n",
      "Train Loss: 1.2148, Train Acc: 0.6521\n",
      "Val Loss: 1.4131, Val Acc: 0.6114\n"
     ]
    },
    {
     "name": "stderr",
     "output_type": "stream",
     "text": [
      "100%|██████████| 315/315 [01:04<00:00,  4.87it/s]\n",
      "100%|██████████| 35/35 [00:09<00:00,  3.73it/s]\n"
     ]
    },
    {
     "name": "stdout",
     "output_type": "stream",
     "text": [
      "Epoch 22/100:\n",
      "Train Loss: 1.1836, Train Acc: 0.6554\n",
      "Val Loss: 1.3561, Val Acc: 0.6250\n"
     ]
    },
    {
     "name": "stderr",
     "output_type": "stream",
     "text": [
      "100%|██████████| 315/315 [01:06<00:00,  4.76it/s]\n",
      "100%|██████████| 35/35 [00:08<00:00,  3.90it/s]\n"
     ]
    },
    {
     "name": "stdout",
     "output_type": "stream",
     "text": [
      "Epoch 23/100:\n",
      "Train Loss: 1.1303, Train Acc: 0.6736\n",
      "Val Loss: 1.3622, Val Acc: 0.6200\n"
     ]
    },
    {
     "name": "stderr",
     "output_type": "stream",
     "text": [
      "100%|██████████| 315/315 [01:04<00:00,  4.87it/s]\n",
      "100%|██████████| 35/35 [00:09<00:00,  3.77it/s]\n"
     ]
    },
    {
     "name": "stdout",
     "output_type": "stream",
     "text": [
      "Epoch 24/100:\n",
      "Train Loss: 1.0916, Train Acc: 0.6806\n",
      "Val Loss: 1.2351, Val Acc: 0.6564\n"
     ]
    },
    {
     "name": "stderr",
     "output_type": "stream",
     "text": [
      "100%|██████████| 315/315 [00:59<00:00,  5.26it/s]\n",
      "100%|██████████| 35/35 [00:09<00:00,  3.85it/s]\n"
     ]
    },
    {
     "name": "stdout",
     "output_type": "stream",
     "text": [
      "Epoch 25/100:\n",
      "Train Loss: 1.0345, Train Acc: 0.6959\n",
      "Val Loss: 1.2712, Val Acc: 0.6536\n"
     ]
    },
    {
     "name": "stderr",
     "output_type": "stream",
     "text": [
      "100%|██████████| 315/315 [01:03<00:00,  4.97it/s]\n",
      "100%|██████████| 35/35 [00:09<00:00,  3.84it/s]\n"
     ]
    },
    {
     "name": "stdout",
     "output_type": "stream",
     "text": [
      "Epoch 26/100:\n",
      "Train Loss: 1.0053, Train Acc: 0.7090\n",
      "Val Loss: 1.2415, Val Acc: 0.6650\n"
     ]
    },
    {
     "name": "stderr",
     "output_type": "stream",
     "text": [
      "100%|██████████| 315/315 [01:05<00:00,  4.82it/s]\n",
      "100%|██████████| 35/35 [00:09<00:00,  3.61it/s]\n"
     ]
    },
    {
     "name": "stdout",
     "output_type": "stream",
     "text": [
      "Epoch 27/100:\n",
      "Train Loss: 0.9671, Train Acc: 0.7134\n",
      "Val Loss: 1.2328, Val Acc: 0.6571\n"
     ]
    },
    {
     "name": "stderr",
     "output_type": "stream",
     "text": [
      "100%|██████████| 315/315 [01:05<00:00,  4.84it/s]\n",
      "100%|██████████| 35/35 [00:09<00:00,  3.67it/s]\n"
     ]
    },
    {
     "name": "stdout",
     "output_type": "stream",
     "text": [
      "Epoch 28/100:\n",
      "Train Loss: 0.9254, Train Acc: 0.7240\n",
      "Val Loss: 1.1245, Val Acc: 0.6836\n"
     ]
    },
    {
     "name": "stderr",
     "output_type": "stream",
     "text": [
      "100%|██████████| 315/315 [01:03<00:00,  4.93it/s]\n",
      "100%|██████████| 35/35 [00:09<00:00,  3.86it/s]\n"
     ]
    },
    {
     "name": "stdout",
     "output_type": "stream",
     "text": [
      "Epoch 29/100:\n",
      "Train Loss: 0.9013, Train Acc: 0.7290\n",
      "Val Loss: 1.1442, Val Acc: 0.6729\n"
     ]
    },
    {
     "name": "stderr",
     "output_type": "stream",
     "text": [
      "100%|██████████| 315/315 [01:04<00:00,  4.91it/s]\n",
      "100%|██████████| 35/35 [00:10<00:00,  3.18it/s]\n"
     ]
    },
    {
     "name": "stdout",
     "output_type": "stream",
     "text": [
      "Epoch 30/100:\n",
      "Train Loss: 0.8651, Train Acc: 0.7457\n",
      "Val Loss: 1.1851, Val Acc: 0.6593\n"
     ]
    },
    {
     "name": "stderr",
     "output_type": "stream",
     "text": [
      "100%|██████████| 315/315 [01:08<00:00,  4.60it/s]\n",
      "100%|██████████| 35/35 [00:12<00:00,  2.82it/s]\n"
     ]
    },
    {
     "name": "stdout",
     "output_type": "stream",
     "text": [
      "Epoch 31/100:\n",
      "Train Loss: 0.8276, Train Acc: 0.7563\n",
      "Val Loss: 1.0720, Val Acc: 0.7014\n"
     ]
    },
    {
     "name": "stderr",
     "output_type": "stream",
     "text": [
      "100%|██████████| 315/315 [01:17<00:00,  4.05it/s]\n",
      "100%|██████████| 35/35 [00:10<00:00,  3.40it/s]\n"
     ]
    },
    {
     "name": "stdout",
     "output_type": "stream",
     "text": [
      "Epoch 32/100:\n",
      "Train Loss: 0.7903, Train Acc: 0.7670\n",
      "Val Loss: 1.2000, Val Acc: 0.6779\n"
     ]
    },
    {
     "name": "stderr",
     "output_type": "stream",
     "text": [
      "100%|██████████| 315/315 [01:11<00:00,  4.39it/s]\n",
      "100%|██████████| 35/35 [00:09<00:00,  3.61it/s]\n"
     ]
    },
    {
     "name": "stdout",
     "output_type": "stream",
     "text": [
      "Epoch 33/100:\n",
      "Train Loss: 0.7694, Train Acc: 0.7679\n",
      "Val Loss: 1.1718, Val Acc: 0.6850\n"
     ]
    },
    {
     "name": "stderr",
     "output_type": "stream",
     "text": [
      "100%|██████████| 315/315 [01:11<00:00,  4.43it/s]\n",
      "100%|██████████| 35/35 [00:09<00:00,  3.85it/s]\n"
     ]
    },
    {
     "name": "stdout",
     "output_type": "stream",
     "text": [
      "Epoch 34/100:\n",
      "Train Loss: 0.7307, Train Acc: 0.7808\n",
      "Val Loss: 1.0980, Val Acc: 0.7057\n"
     ]
    },
    {
     "name": "stderr",
     "output_type": "stream",
     "text": [
      "100%|██████████| 315/315 [00:56<00:00,  5.60it/s]\n",
      "100%|██████████| 35/35 [00:09<00:00,  3.73it/s]\n"
     ]
    },
    {
     "name": "stdout",
     "output_type": "stream",
     "text": [
      "Epoch 35/100:\n",
      "Train Loss: 0.6934, Train Acc: 0.7955\n",
      "Val Loss: 1.1302, Val Acc: 0.6771\n"
     ]
    },
    {
     "name": "stderr",
     "output_type": "stream",
     "text": [
      "100%|██████████| 315/315 [00:38<00:00,  8.14it/s]\n",
      "100%|██████████| 35/35 [00:09<00:00,  3.76it/s]\n"
     ]
    },
    {
     "name": "stdout",
     "output_type": "stream",
     "text": [
      "Epoch 36/100:\n",
      "Train Loss: 0.6780, Train Acc: 0.7941\n",
      "Val Loss: 1.0107, Val Acc: 0.7243\n"
     ]
    },
    {
     "name": "stderr",
     "output_type": "stream",
     "text": [
      "100%|██████████| 315/315 [00:38<00:00,  8.14it/s]\n",
      "100%|██████████| 35/35 [00:09<00:00,  3.77it/s]\n"
     ]
    },
    {
     "name": "stdout",
     "output_type": "stream",
     "text": [
      "Epoch 37/100:\n",
      "Train Loss: 0.6435, Train Acc: 0.8041\n",
      "Val Loss: 1.0337, Val Acc: 0.7236\n"
     ]
    },
    {
     "name": "stderr",
     "output_type": "stream",
     "text": [
      "100%|██████████| 315/315 [00:38<00:00,  8.15it/s]\n",
      "100%|██████████| 35/35 [00:09<00:00,  3.70it/s]\n"
     ]
    },
    {
     "name": "stdout",
     "output_type": "stream",
     "text": [
      "Epoch 38/100:\n",
      "Train Loss: 0.6313, Train Acc: 0.8071\n",
      "Val Loss: 1.0615, Val Acc: 0.7150\n"
     ]
    },
    {
     "name": "stderr",
     "output_type": "stream",
     "text": [
      "100%|██████████| 315/315 [00:38<00:00,  8.15it/s]\n",
      "100%|██████████| 35/35 [00:09<00:00,  3.73it/s]\n"
     ]
    },
    {
     "name": "stdout",
     "output_type": "stream",
     "text": [
      "Epoch 39/100:\n",
      "Train Loss: 0.6128, Train Acc: 0.8139\n",
      "Val Loss: 1.0086, Val Acc: 0.7136\n"
     ]
    },
    {
     "name": "stderr",
     "output_type": "stream",
     "text": [
      "100%|██████████| 315/315 [00:38<00:00,  8.11it/s]\n",
      "100%|██████████| 35/35 [00:10<00:00,  3.48it/s]\n"
     ]
    },
    {
     "name": "stdout",
     "output_type": "stream",
     "text": [
      "Epoch 40/100:\n",
      "Train Loss: 0.5719, Train Acc: 0.8246\n",
      "Val Loss: 1.0847, Val Acc: 0.7079\n"
     ]
    },
    {
     "name": "stderr",
     "output_type": "stream",
     "text": [
      "100%|██████████| 315/315 [00:38<00:00,  8.09it/s]\n",
      "100%|██████████| 35/35 [00:09<00:00,  3.51it/s]\n"
     ]
    },
    {
     "name": "stdout",
     "output_type": "stream",
     "text": [
      "Epoch 41/100:\n",
      "Train Loss: 0.5596, Train Acc: 0.8278\n",
      "Val Loss: 1.0172, Val Acc: 0.7057\n"
     ]
    },
    {
     "name": "stderr",
     "output_type": "stream",
     "text": [
      "100%|██████████| 315/315 [00:39<00:00,  7.99it/s]\n",
      "100%|██████████| 35/35 [00:10<00:00,  3.44it/s]\n"
     ]
    },
    {
     "name": "stdout",
     "output_type": "stream",
     "text": [
      "Epoch 42/100:\n",
      "Train Loss: 0.5311, Train Acc: 0.8354\n",
      "Val Loss: 1.0447, Val Acc: 0.7171\n"
     ]
    },
    {
     "name": "stderr",
     "output_type": "stream",
     "text": [
      "100%|██████████| 315/315 [00:39<00:00,  8.00it/s]\n",
      "100%|██████████| 35/35 [00:09<00:00,  3.50it/s]\n"
     ]
    },
    {
     "name": "stdout",
     "output_type": "stream",
     "text": [
      "Epoch 43/100:\n",
      "Train Loss: 0.5161, Train Acc: 0.8403\n",
      "Val Loss: 0.9534, Val Acc: 0.7279\n"
     ]
    },
    {
     "name": "stderr",
     "output_type": "stream",
     "text": [
      "100%|██████████| 315/315 [00:39<00:00,  7.99it/s]\n",
      "100%|██████████| 35/35 [00:10<00:00,  3.43it/s]\n"
     ]
    },
    {
     "name": "stdout",
     "output_type": "stream",
     "text": [
      "Epoch 44/100:\n",
      "Train Loss: 0.4729, Train Acc: 0.8541\n",
      "Val Loss: 0.9900, Val Acc: 0.7264\n"
     ]
    },
    {
     "name": "stderr",
     "output_type": "stream",
     "text": [
      "100%|██████████| 315/315 [00:39<00:00,  7.96it/s]\n",
      "100%|██████████| 35/35 [00:09<00:00,  3.51it/s]\n"
     ]
    },
    {
     "name": "stdout",
     "output_type": "stream",
     "text": [
      "Epoch 45/100:\n",
      "Train Loss: 0.4692, Train Acc: 0.8568\n",
      "Val Loss: 0.9618, Val Acc: 0.7393\n"
     ]
    },
    {
     "name": "stderr",
     "output_type": "stream",
     "text": [
      "100%|██████████| 315/315 [00:39<00:00,  8.03it/s]\n",
      "100%|██████████| 35/35 [00:10<00:00,  3.46it/s]\n"
     ]
    },
    {
     "name": "stdout",
     "output_type": "stream",
     "text": [
      "Epoch 46/100:\n",
      "Train Loss: 0.4503, Train Acc: 0.8604\n",
      "Val Loss: 1.0013, Val Acc: 0.7393\n"
     ]
    },
    {
     "name": "stderr",
     "output_type": "stream",
     "text": [
      "100%|██████████| 315/315 [00:39<00:00,  8.03it/s]\n",
      "100%|██████████| 35/35 [00:10<00:00,  3.42it/s]\n"
     ]
    },
    {
     "name": "stdout",
     "output_type": "stream",
     "text": [
      "Epoch 47/100:\n",
      "Train Loss: 0.4399, Train Acc: 0.8631\n",
      "Val Loss: 1.0317, Val Acc: 0.7357\n"
     ]
    },
    {
     "name": "stderr",
     "output_type": "stream",
     "text": [
      "100%|██████████| 315/315 [00:39<00:00,  8.02it/s]\n",
      "100%|██████████| 35/35 [00:10<00:00,  3.27it/s]\n"
     ]
    },
    {
     "name": "stdout",
     "output_type": "stream",
     "text": [
      "Epoch 48/100:\n",
      "Train Loss: 0.4322, Train Acc: 0.8686\n",
      "Val Loss: 1.0139, Val Acc: 0.7271\n"
     ]
    },
    {
     "name": "stderr",
     "output_type": "stream",
     "text": [
      "100%|██████████| 315/315 [00:40<00:00,  7.78it/s]\n",
      "100%|██████████| 35/35 [00:09<00:00,  3.57it/s]\n"
     ]
    },
    {
     "name": "stdout",
     "output_type": "stream",
     "text": [
      "Epoch 49/100:\n",
      "Train Loss: 0.3969, Train Acc: 0.8755\n",
      "Val Loss: 0.9466, Val Acc: 0.7450\n"
     ]
    },
    {
     "name": "stderr",
     "output_type": "stream",
     "text": [
      "100%|██████████| 315/315 [00:55<00:00,  5.69it/s]\n",
      "100%|██████████| 35/35 [00:09<00:00,  3.85it/s]\n"
     ]
    },
    {
     "name": "stdout",
     "output_type": "stream",
     "text": [
      "Epoch 50/100:\n",
      "Train Loss: 0.3708, Train Acc: 0.8848\n",
      "Val Loss: 0.9449, Val Acc: 0.7386\n"
     ]
    },
    {
     "name": "stderr",
     "output_type": "stream",
     "text": [
      "100%|██████████| 315/315 [00:38<00:00,  8.21it/s]\n",
      "100%|██████████| 35/35 [00:09<00:00,  3.76it/s]\n"
     ]
    },
    {
     "name": "stdout",
     "output_type": "stream",
     "text": [
      "Epoch 51/100:\n",
      "Train Loss: 0.3675, Train Acc: 0.8846\n",
      "Val Loss: 0.9474, Val Acc: 0.7529\n"
     ]
    },
    {
     "name": "stderr",
     "output_type": "stream",
     "text": [
      "100%|██████████| 315/315 [00:38<00:00,  8.18it/s]\n",
      "100%|██████████| 35/35 [00:09<00:00,  3.55it/s]\n"
     ]
    },
    {
     "name": "stdout",
     "output_type": "stream",
     "text": [
      "Epoch 52/100:\n",
      "Train Loss: 0.3453, Train Acc: 0.8954\n",
      "Val Loss: 0.9267, Val Acc: 0.7550\n"
     ]
    },
    {
     "name": "stderr",
     "output_type": "stream",
     "text": [
      "100%|██████████| 315/315 [00:38<00:00,  8.16it/s]\n",
      "100%|██████████| 35/35 [00:09<00:00,  3.79it/s]\n"
     ]
    },
    {
     "name": "stdout",
     "output_type": "stream",
     "text": [
      "Epoch 53/100:\n",
      "Train Loss: 0.3211, Train Acc: 0.9010\n",
      "Val Loss: 0.9713, Val Acc: 0.7521\n"
     ]
    },
    {
     "name": "stderr",
     "output_type": "stream",
     "text": [
      "100%|██████████| 315/315 [00:38<00:00,  8.17it/s]\n",
      "100%|██████████| 35/35 [00:09<00:00,  3.81it/s]\n"
     ]
    },
    {
     "name": "stdout",
     "output_type": "stream",
     "text": [
      "Epoch 54/100:\n",
      "Train Loss: 0.3071, Train Acc: 0.9046\n",
      "Val Loss: 1.0079, Val Acc: 0.7386\n"
     ]
    },
    {
     "name": "stderr",
     "output_type": "stream",
     "text": [
      "100%|██████████| 315/315 [00:38<00:00,  8.19it/s]\n",
      "100%|██████████| 35/35 [00:09<00:00,  3.78it/s]\n"
     ]
    },
    {
     "name": "stdout",
     "output_type": "stream",
     "text": [
      "Epoch 55/100:\n",
      "Train Loss: 0.2951, Train Acc: 0.9122\n",
      "Val Loss: 0.9388, Val Acc: 0.7657\n"
     ]
    },
    {
     "name": "stderr",
     "output_type": "stream",
     "text": [
      "100%|██████████| 315/315 [00:38<00:00,  8.18it/s]\n",
      "100%|██████████| 35/35 [00:09<00:00,  3.76it/s]\n"
     ]
    },
    {
     "name": "stdout",
     "output_type": "stream",
     "text": [
      "Epoch 56/100:\n",
      "Train Loss: 0.2871, Train Acc: 0.9126\n",
      "Val Loss: 0.9456, Val Acc: 0.7464\n"
     ]
    },
    {
     "name": "stderr",
     "output_type": "stream",
     "text": [
      "100%|██████████| 315/315 [00:38<00:00,  8.22it/s]\n",
      "100%|██████████| 35/35 [00:09<00:00,  3.76it/s]\n"
     ]
    },
    {
     "name": "stdout",
     "output_type": "stream",
     "text": [
      "Epoch 57/100:\n",
      "Train Loss: 0.2603, Train Acc: 0.9190\n",
      "Val Loss: 0.9175, Val Acc: 0.7593\n"
     ]
    },
    {
     "name": "stderr",
     "output_type": "stream",
     "text": [
      "100%|██████████| 315/315 [00:38<00:00,  8.19it/s]\n",
      "100%|██████████| 35/35 [00:09<00:00,  3.81it/s]\n"
     ]
    },
    {
     "name": "stdout",
     "output_type": "stream",
     "text": [
      "Epoch 58/100:\n",
      "Train Loss: 0.2500, Train Acc: 0.9252\n",
      "Val Loss: 0.9132, Val Acc: 0.7586\n"
     ]
    },
    {
     "name": "stderr",
     "output_type": "stream",
     "text": [
      "100%|██████████| 315/315 [00:38<00:00,  8.20it/s]\n",
      "100%|██████████| 35/35 [00:09<00:00,  3.83it/s]\n"
     ]
    },
    {
     "name": "stdout",
     "output_type": "stream",
     "text": [
      "Epoch 59/100:\n",
      "Train Loss: 0.2592, Train Acc: 0.9196\n",
      "Val Loss: 0.9352, Val Acc: 0.7536\n"
     ]
    },
    {
     "name": "stderr",
     "output_type": "stream",
     "text": [
      "100%|██████████| 315/315 [00:38<00:00,  8.23it/s]\n",
      "100%|██████████| 35/35 [00:09<00:00,  3.81it/s]\n"
     ]
    },
    {
     "name": "stdout",
     "output_type": "stream",
     "text": [
      "Epoch 60/100:\n",
      "Train Loss: 0.2284, Train Acc: 0.9305\n",
      "Val Loss: 0.9167, Val Acc: 0.7607\n"
     ]
    },
    {
     "name": "stderr",
     "output_type": "stream",
     "text": [
      "100%|██████████| 315/315 [00:38<00:00,  8.24it/s]\n",
      "100%|██████████| 35/35 [00:09<00:00,  3.80it/s]\n"
     ]
    },
    {
     "name": "stdout",
     "output_type": "stream",
     "text": [
      "Epoch 61/100:\n",
      "Train Loss: 0.2131, Train Acc: 0.9375\n",
      "Val Loss: 0.9425, Val Acc: 0.7421\n"
     ]
    },
    {
     "name": "stderr",
     "output_type": "stream",
     "text": [
      "100%|██████████| 315/315 [00:38<00:00,  8.27it/s]\n",
      "100%|██████████| 35/35 [00:09<00:00,  3.80it/s]\n"
     ]
    },
    {
     "name": "stdout",
     "output_type": "stream",
     "text": [
      "Epoch 62/100:\n",
      "Train Loss: 0.2093, Train Acc: 0.9358\n",
      "Val Loss: 0.9332, Val Acc: 0.7579\n"
     ]
    },
    {
     "name": "stderr",
     "output_type": "stream",
     "text": [
      "100%|██████████| 315/315 [00:38<00:00,  8.21it/s]\n",
      "100%|██████████| 35/35 [00:10<00:00,  3.49it/s]\n"
     ]
    },
    {
     "name": "stdout",
     "output_type": "stream",
     "text": [
      "Epoch 63/100:\n",
      "Train Loss: 0.1976, Train Acc: 0.9397\n",
      "Val Loss: 0.8931, Val Acc: 0.7629\n"
     ]
    },
    {
     "name": "stderr",
     "output_type": "stream",
     "text": [
      "100%|██████████| 315/315 [00:38<00:00,  8.17it/s]\n",
      "100%|██████████| 35/35 [00:09<00:00,  3.84it/s]\n"
     ]
    },
    {
     "name": "stdout",
     "output_type": "stream",
     "text": [
      "Epoch 64/100:\n",
      "Train Loss: 0.1945, Train Acc: 0.9422\n",
      "Val Loss: 0.9580, Val Acc: 0.7636\n"
     ]
    },
    {
     "name": "stderr",
     "output_type": "stream",
     "text": [
      "100%|██████████| 315/315 [00:38<00:00,  8.23it/s]\n",
      "100%|██████████| 35/35 [00:09<00:00,  3.85it/s]\n"
     ]
    },
    {
     "name": "stdout",
     "output_type": "stream",
     "text": [
      "Epoch 65/100:\n",
      "Train Loss: 0.1756, Train Acc: 0.9508\n",
      "Val Loss: 0.9249, Val Acc: 0.7679\n"
     ]
    },
    {
     "name": "stderr",
     "output_type": "stream",
     "text": [
      "100%|██████████| 315/315 [00:38<00:00,  8.26it/s]\n",
      "100%|██████████| 35/35 [00:09<00:00,  3.81it/s]\n"
     ]
    },
    {
     "name": "stdout",
     "output_type": "stream",
     "text": [
      "Epoch 66/100:\n",
      "Train Loss: 0.1695, Train Acc: 0.9489\n",
      "Val Loss: 0.9236, Val Acc: 0.7679\n"
     ]
    },
    {
     "name": "stderr",
     "output_type": "stream",
     "text": [
      "100%|██████████| 315/315 [00:38<00:00,  8.21it/s]\n",
      "100%|██████████| 35/35 [00:09<00:00,  3.58it/s]\n"
     ]
    },
    {
     "name": "stdout",
     "output_type": "stream",
     "text": [
      "Epoch 67/100:\n",
      "Train Loss: 0.1677, Train Acc: 0.9536\n",
      "Val Loss: 0.8815, Val Acc: 0.7743\n"
     ]
    },
    {
     "name": "stderr",
     "output_type": "stream",
     "text": [
      "100%|██████████| 315/315 [00:39<00:00,  8.07it/s]\n",
      "100%|██████████| 35/35 [00:09<00:00,  3.80it/s]\n"
     ]
    },
    {
     "name": "stdout",
     "output_type": "stream",
     "text": [
      "Epoch 68/100:\n",
      "Train Loss: 0.1432, Train Acc: 0.9591\n",
      "Val Loss: 0.8742, Val Acc: 0.7764\n"
     ]
    },
    {
     "name": "stderr",
     "output_type": "stream",
     "text": [
      "100%|██████████| 315/315 [00:38<00:00,  8.22it/s]\n",
      "100%|██████████| 35/35 [00:09<00:00,  3.77it/s]\n"
     ]
    },
    {
     "name": "stdout",
     "output_type": "stream",
     "text": [
      "Epoch 69/100:\n",
      "Train Loss: 0.1411, Train Acc: 0.9609\n",
      "Val Loss: 0.8931, Val Acc: 0.7650\n"
     ]
    },
    {
     "name": "stderr",
     "output_type": "stream",
     "text": [
      "100%|██████████| 315/315 [00:38<00:00,  8.17it/s]\n",
      "100%|██████████| 35/35 [00:09<00:00,  3.81it/s]\n"
     ]
    },
    {
     "name": "stdout",
     "output_type": "stream",
     "text": [
      "Epoch 70/100:\n",
      "Train Loss: 0.1359, Train Acc: 0.9635\n",
      "Val Loss: 0.8874, Val Acc: 0.7607\n"
     ]
    },
    {
     "name": "stderr",
     "output_type": "stream",
     "text": [
      "100%|██████████| 315/315 [00:38<00:00,  8.22it/s]\n",
      "100%|██████████| 35/35 [00:09<00:00,  3.77it/s]\n"
     ]
    },
    {
     "name": "stdout",
     "output_type": "stream",
     "text": [
      "Epoch 71/100:\n",
      "Train Loss: 0.1240, Train Acc: 0.9669\n",
      "Val Loss: 0.8573, Val Acc: 0.7750\n"
     ]
    },
    {
     "name": "stderr",
     "output_type": "stream",
     "text": [
      "100%|██████████| 315/315 [00:38<00:00,  8.26it/s]\n",
      "100%|██████████| 35/35 [00:09<00:00,  3.81it/s]\n"
     ]
    },
    {
     "name": "stdout",
     "output_type": "stream",
     "text": [
      "Epoch 72/100:\n",
      "Train Loss: 0.1231, Train Acc: 0.9670\n",
      "Val Loss: 0.8533, Val Acc: 0.7700\n"
     ]
    },
    {
     "name": "stderr",
     "output_type": "stream",
     "text": [
      "100%|██████████| 315/315 [00:38<00:00,  8.26it/s]\n",
      "100%|██████████| 35/35 [00:09<00:00,  3.79it/s]\n"
     ]
    },
    {
     "name": "stdout",
     "output_type": "stream",
     "text": [
      "Epoch 73/100:\n",
      "Train Loss: 0.1166, Train Acc: 0.9686\n",
      "Val Loss: 0.8603, Val Acc: 0.7821\n"
     ]
    },
    {
     "name": "stderr",
     "output_type": "stream",
     "text": [
      "100%|██████████| 315/315 [00:38<00:00,  8.25it/s]\n",
      "100%|██████████| 35/35 [00:09<00:00,  3.86it/s]\n"
     ]
    },
    {
     "name": "stdout",
     "output_type": "stream",
     "text": [
      "Epoch 74/100:\n",
      "Train Loss: 0.1088, Train Acc: 0.9711\n",
      "Val Loss: 0.8917, Val Acc: 0.7807\n"
     ]
    },
    {
     "name": "stderr",
     "output_type": "stream",
     "text": [
      "100%|██████████| 315/315 [00:38<00:00,  8.22it/s]\n",
      "100%|██████████| 35/35 [00:09<00:00,  3.78it/s]\n"
     ]
    },
    {
     "name": "stdout",
     "output_type": "stream",
     "text": [
      "Epoch 75/100:\n",
      "Train Loss: 0.1095, Train Acc: 0.9709\n",
      "Val Loss: 0.8474, Val Acc: 0.7864\n"
     ]
    },
    {
     "name": "stderr",
     "output_type": "stream",
     "text": [
      "100%|██████████| 315/315 [00:38<00:00,  8.28it/s]\n",
      "100%|██████████| 35/35 [00:09<00:00,  3.83it/s]\n"
     ]
    },
    {
     "name": "stdout",
     "output_type": "stream",
     "text": [
      "Epoch 76/100:\n",
      "Train Loss: 0.1051, Train Acc: 0.9724\n",
      "Val Loss: 0.8743, Val Acc: 0.7864\n"
     ]
    },
    {
     "name": "stderr",
     "output_type": "stream",
     "text": [
      "100%|██████████| 315/315 [00:37<00:00,  8.29it/s]\n",
      "100%|██████████| 35/35 [00:09<00:00,  3.71it/s]\n"
     ]
    },
    {
     "name": "stdout",
     "output_type": "stream",
     "text": [
      "Epoch 77/100:\n",
      "Train Loss: 0.0972, Train Acc: 0.9745\n",
      "Val Loss: 0.8951, Val Acc: 0.7857\n"
     ]
    },
    {
     "name": "stderr",
     "output_type": "stream",
     "text": [
      "100%|██████████| 315/315 [00:37<00:00,  8.34it/s]\n",
      "100%|██████████| 35/35 [00:09<00:00,  3.77it/s]\n"
     ]
    },
    {
     "name": "stdout",
     "output_type": "stream",
     "text": [
      "Epoch 78/100:\n",
      "Train Loss: 0.0981, Train Acc: 0.9750\n",
      "Val Loss: 0.8665, Val Acc: 0.7764\n"
     ]
    },
    {
     "name": "stderr",
     "output_type": "stream",
     "text": [
      "100%|██████████| 315/315 [00:37<00:00,  8.31it/s]\n",
      "100%|██████████| 35/35 [00:09<00:00,  3.82it/s]\n"
     ]
    },
    {
     "name": "stdout",
     "output_type": "stream",
     "text": [
      "Epoch 79/100:\n",
      "Train Loss: 0.0876, Train Acc: 0.9767\n",
      "Val Loss: 0.8145, Val Acc: 0.7900\n"
     ]
    },
    {
     "name": "stderr",
     "output_type": "stream",
     "text": [
      "100%|██████████| 315/315 [00:37<00:00,  8.29it/s]\n",
      "100%|██████████| 35/35 [00:09<00:00,  3.70it/s]\n"
     ]
    },
    {
     "name": "stdout",
     "output_type": "stream",
     "text": [
      "Epoch 80/100:\n",
      "Train Loss: 0.0904, Train Acc: 0.9762\n",
      "Val Loss: 0.8173, Val Acc: 0.7971\n"
     ]
    },
    {
     "name": "stderr",
     "output_type": "stream",
     "text": [
      "100%|██████████| 315/315 [00:37<00:00,  8.32it/s]\n",
      "100%|██████████| 35/35 [00:09<00:00,  3.84it/s]\n"
     ]
    },
    {
     "name": "stdout",
     "output_type": "stream",
     "text": [
      "Epoch 81/100:\n",
      "Train Loss: 0.0839, Train Acc: 0.9789\n",
      "Val Loss: 0.9222, Val Acc: 0.7757\n"
     ]
    },
    {
     "name": "stderr",
     "output_type": "stream",
     "text": [
      "100%|██████████| 315/315 [00:37<00:00,  8.30it/s]\n",
      "100%|██████████| 35/35 [00:09<00:00,  3.79it/s]\n"
     ]
    },
    {
     "name": "stdout",
     "output_type": "stream",
     "text": [
      "Epoch 82/100:\n",
      "Train Loss: 0.0818, Train Acc: 0.9801\n",
      "Val Loss: 0.8210, Val Acc: 0.7893\n"
     ]
    },
    {
     "name": "stderr",
     "output_type": "stream",
     "text": [
      "100%|██████████| 315/315 [00:38<00:00,  8.28it/s]\n",
      "100%|██████████| 35/35 [00:09<00:00,  3.79it/s]\n"
     ]
    },
    {
     "name": "stdout",
     "output_type": "stream",
     "text": [
      "Epoch 83/100:\n",
      "Train Loss: 0.0734, Train Acc: 0.9844\n",
      "Val Loss: 0.8458, Val Acc: 0.7879\n"
     ]
    },
    {
     "name": "stderr",
     "output_type": "stream",
     "text": [
      "100%|██████████| 315/315 [00:37<00:00,  8.33it/s]\n",
      "100%|██████████| 35/35 [00:09<00:00,  3.79it/s]\n"
     ]
    },
    {
     "name": "stdout",
     "output_type": "stream",
     "text": [
      "Epoch 84/100:\n",
      "Train Loss: 0.0725, Train Acc: 0.9840\n",
      "Val Loss: 0.9380, Val Acc: 0.7821\n"
     ]
    },
    {
     "name": "stderr",
     "output_type": "stream",
     "text": [
      "100%|██████████| 315/315 [00:38<00:00,  8.29it/s]\n",
      "100%|██████████| 35/35 [00:09<00:00,  3.58it/s]\n"
     ]
    },
    {
     "name": "stdout",
     "output_type": "stream",
     "text": [
      "Epoch 85/100:\n",
      "Train Loss: 0.0705, Train Acc: 0.9836\n",
      "Val Loss: 0.8779, Val Acc: 0.7871\n"
     ]
    },
    {
     "name": "stderr",
     "output_type": "stream",
     "text": [
      "100%|██████████| 315/315 [00:55<00:00,  5.65it/s]\n",
      "100%|██████████| 35/35 [00:11<00:00,  3.00it/s]"
     ]
    },
    {
     "name": "stdout",
     "output_type": "stream",
     "text": [
      "Epoch 86/100:\n",
      "Train Loss: 0.0685, Train Acc: 0.9858\n",
      "Val Loss: 0.8348, Val Acc: 0.7936\n",
      "Early stopping\n"
     ]
    },
    {
     "name": "stderr",
     "output_type": "stream",
     "text": [
      "\n"
     ]
    }
   ],
   "source": [
    "\n",
    "loss_fn = nn.CrossEntropyLoss()\n",
    "optimizer = optim.Adam(model.parameters(), lr=0.001, betas=(0.9, 0.999), eps=1e-08, weight_decay=1e-4, amsgrad=False)\n",
    "scheduler = torch.optim.lr_scheduler.CosineAnnealingLR(optimizer, T_max=n_epochs, eta_min=1e-6)\n",
    "\n",
    "# Early stopping class\n",
    "class EarlyStopper:\n",
    "    def __init__(self, patience=7, min_delta=0):\n",
    "        self.patience = patience\n",
    "        self.min_delta = min_delta\n",
    "        self.counter = 0\n",
    "        self.min_validation_loss = np.inf\n",
    "\n",
    "    def early_stop(self, validation_loss):\n",
    "        if validation_loss < self.min_validation_loss:\n",
    "            self.min_validation_loss = validation_loss\n",
    "            self.counter = 0\n",
    "        elif validation_loss > (self.min_validation_loss + self.min_delta):\n",
    "            self.counter += 1\n",
    "            if self.counter >= self.patience:\n",
    "                return True\n",
    "        return False\n",
    "\n",
    "# Train function\n",
    "def train(model, train_loader, optimizer, loss_fn):\n",
    "    model.train()\n",
    "    running_loss = 0.0\n",
    "    correct = 0\n",
    "    total = 0\n",
    "    for images, labels in tqdm(train_loader):\n",
    "        images, labels = images.to(device), labels.to(device)\n",
    "        \n",
    "        optimizer.zero_grad()\n",
    "        outputs = model(images)\n",
    "        loss = loss_fn(outputs, labels)\n",
    "        loss.backward()\n",
    "        optimizer.step()\n",
    "        \n",
    "        running_loss += loss.item() * images.size(0)\n",
    "        _, predicted = outputs.max(1)\n",
    "        correct += predicted.eq(labels).sum().item()\n",
    "        total += labels.size(0)\n",
    "        \n",
    "    epoch_loss = running_loss / len(train_loader.dataset)\n",
    "    accuracy = correct / total\n",
    "    return epoch_loss, accuracy\n",
    "\n",
    "# Validation function\n",
    "@torch.no_grad()\n",
    "def validate(model, val_loader, loss_fn):\n",
    "    model.eval()\n",
    "    val_loss = 0.0\n",
    "    correct = 0\n",
    "    total = 0\n",
    "    for images, labels in tqdm(val_loader):\n",
    "        images, labels = images.to(device), labels.to(device)\n",
    "        \n",
    "        outputs = model(images)\n",
    "        loss = loss_fn(outputs, labels)\n",
    "        val_loss += loss.item() * images.size(0)\n",
    "        \n",
    "        _, predicted = outputs.max(1)\n",
    "        correct += predicted.eq(labels).sum().item()\n",
    "        total += labels.size(0)\n",
    "        \n",
    "    avg_loss = val_loss / len(val_loader.dataset)\n",
    "    accuracy = correct / total\n",
    "    return avg_loss, accuracy\n",
    "\n",
    "# Training loop\n",
    "train_loss_list = []\n",
    "valid_loss_list = []\n",
    "early_stopper = EarlyStopper(patience=7)\n",
    "\n",
    "best_val_acc = 0.0\n",
    "\n",
    "for epoch in range(n_epochs):\n",
    "    train_loss, train_acc = train(model, train_loader, optimizer, loss_fn)\n",
    "    val_loss, val_acc = validate(model, val_loader, loss_fn)\n",
    "    \n",
    "    train_loss_list.append(train_loss)\n",
    "    valid_loss_list.append(val_loss)\n",
    "    \n",
    "    print(f\"Epoch {epoch+1}/{n_epochs}:\")\n",
    "    print(f\"Train Loss: {train_loss:.4f}, Train Acc: {train_acc:.4f}\")\n",
    "    print(f\"Val Loss: {val_loss:.4f}, Val Acc: {val_acc:.4f}\")\n",
    "    \n",
    "    # Step the learning rate scheduler\n",
    "    scheduler.step()\n",
    "    \n",
    "    # Early stopping check\n",
    "    if early_stopper.early_stop(val_loss):\n",
    "        print(\"Early stopping\")\n",
    "        break\n",
    "    if val_acc > best_val_acc:\n",
    "        best_val_acc = val_acc\n",
    "        torch.save(model.state_dict(), \"best_model.pth\")\n",
    "\n",
    "# Save the final model\n",
    "torch.save(model.state_dict(), \"final_model.pth\")"
   ]
  }
 ],
 "metadata": {
  "kernelspec": {
   "display_name": "DeepLearning",
   "language": "python",
   "name": "python3"
  },
  "language_info": {
   "codemirror_mode": {
    "name": "ipython",
    "version": 3
   },
   "file_extension": ".py",
   "mimetype": "text/x-python",
   "name": "python",
   "nbconvert_exporter": "python",
   "pygments_lexer": "ipython3",
   "version": "3.11.5"
  }
 },
 "nbformat": 4,
 "nbformat_minor": 2
}
