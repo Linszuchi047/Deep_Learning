{
 "cells": [
  {
   "cell_type": "code",
   "execution_count": 2,
   "metadata": {},
   "outputs": [],
   "source": [
    "import torch\n",
    "from torch import nn, optim\n",
    "from torch.utils.data import DataLoader,random_split\n",
    "from torchvision import transforms, datasets, models\n",
    "import numpy as np\n",
    "from PIL import Image\n",
    "import matplotlib.pyplot as plt\n",
    "from tqdm import tqdm\n",
    "import torch.nn.functional as F"
   ]
  },
  {
   "cell_type": "code",
   "execution_count": 8,
   "metadata": {},
   "outputs": [],
   "source": [
    "device = torch.device(\"cuda\" if torch.cuda.is_available() else \"cpu\")\n",
    "\n",
    "mean = [0.4914, 0.4822, 0.4465] \n",
    "std = [0.2470, 0.2435, 0.2616] \n",
    "batch_size = 40\n",
    "n_epochs = 50\n",
    "\n",
    "train_transform = transforms.Compose([\n",
    "    transforms.Resize((224, 224)),  # Resize all images to 224x224\n",
    "    # Random augmentations\n",
    "    transforms.RandomRotation(40),  # Randomly rotate images by 40 degrees\n",
    "    transforms.RandomHorizontalFlip(),  # Random horizontal flip\n",
    "    transforms.ColorJitter(brightness=0.15, contrast=0.15, saturation=0.15, hue=0.05),  # Random color jitter\n",
    "    transforms.ToTensor(),  # Convert to tensor\n",
    "    transforms.Normalize(mean=mean, std=std)  # Normalize with mean and std\n",
    "])\n",
    "\n",
    "path='train'\n",
    "all_train = datasets.ImageFolder(root = path, transform = train_transform)\n",
    "train_size = int(0.9 * len(all_train))\n",
    "validation_size = len(all_train) - train_size\n",
    "train_dataset, validation_dataset = random_split(all_train , [train_size, validation_size])\n",
    "train_loader = DataLoader(\n",
    "    train_dataset,\n",
    "    batch_size=batch_size,\n",
    "    shuffle=True,\n",
    "    num_workers=3\n",
    ")\n",
    "val_loader = DataLoader(\n",
    "    validation_dataset,\n",
    "    batch_size=batch_size,\n",
    "    shuffle=True,\n",
    "    num_workers=3\n",
    ")"
   ]
  },
  {
   "cell_type": "code",
   "execution_count": 6,
   "metadata": {},
   "outputs": [],
   "source": [
    "image_size = (3, 224, 224)  # Example: 3 channels, 32x32 pixels\n",
    "num_classes = 100"
   ]
  },
  {
   "cell_type": "code",
   "execution_count": 10,
   "metadata": {},
   "outputs": [],
   "source": [
    "class ClassificationModel(nn.Module):\n",
    "    def __init__(self, image_size, num_classes):\n",
    "        super(ClassificationModel, self).__init__()\n",
    "        # Convolutional layers\n",
    "        self.conv1 = nn.Conv2d(image_size[0], 32, kernel_size=3, stride=1, padding='same') # (224x224x3) -> (224x224x16)\n",
    "        self.conv2 = nn.Conv2d(32, 32, kernel_size=3, stride=1, padding='same') # (112x112x16) -> (112x112x32)\n",
    "        self.conv3 = nn.Conv2d(32, 64, kernel_size=3, stride=1, padding='same')\n",
    "        self.conv4 = nn.Conv2d(64, 128, kernel_size=3, stride=1, padding='same')  # (56x56x32) -> (56x56x64)\n",
    "        \n",
    "        # Pooling layer\n",
    "        self.pool = nn.MaxPool2d(2, 2) # Halves the input dimensions\n",
    "        self.dropout = nn.Dropout(0.5)\n",
    "        \n",
    "        # Fully connected layers\n",
    "        self.fc1 = nn.Linear(14 * 14 * 128, 256) # 64 * 28 * 28 is the flattened feature map size after pooling\n",
    "        self.fc2 = nn.Linear(256, 100) # 100 categories (classes)\n",
    "        \n",
    "    def forward(self, x):\n",
    "        # Apply convolution layers with ReLU and pooling\n",
    "        x = self.pool(F.relu(self.conv1(x)))\n",
    "        x = self.pool(F.relu(self.conv2(x)))\n",
    "        x = self.pool(F.relu(self.conv3(x)))\n",
    "        x = self.pool(F.relu(self.conv4(x)))\n",
    "        \n",
    "        # Flatten the feature maps for the fully connected layer\n",
    "        x = x.view(-1, 128 * 14 * 14)\n",
    "        \n",
    "        # Fully connected layers\n",
    "        x = F.relu(self.fc1(x))\n",
    "        x = self.dropout(x)\n",
    "        x = self.fc2(x)\n",
    "        \n",
    "        return x"
   ]
  },
  {
   "cell_type": "code",
   "execution_count": 11,
   "metadata": {},
   "outputs": [
    {
     "name": "stdout",
     "output_type": "stream",
     "text": [
      "ClassificationModel(\n",
      "  (conv1): Conv2d(3, 32, kernel_size=(3, 3), stride=(1, 1), padding=same)\n",
      "  (conv2): Conv2d(32, 32, kernel_size=(3, 3), stride=(1, 1), padding=same)\n",
      "  (conv3): Conv2d(32, 64, kernel_size=(3, 3), stride=(1, 1), padding=same)\n",
      "  (conv4): Conv2d(64, 128, kernel_size=(3, 3), stride=(1, 1), padding=same)\n",
      "  (pool): MaxPool2d(kernel_size=2, stride=2, padding=0, dilation=1, ceil_mode=False)\n",
      "  (dropout): Dropout(p=0.5, inplace=False)\n",
      "  (fc1): Linear(in_features=25088, out_features=256, bias=True)\n",
      "  (fc2): Linear(in_features=256, out_features=100, bias=True)\n",
      ")\n"
     ]
    }
   ],
   "source": [
    "\n",
    "model = ClassificationModel(image_size, num_classes)\n",
    "print(model)"
   ]
  },
  {
   "cell_type": "code",
   "execution_count": 12,
   "metadata": {},
   "outputs": [
    {
     "name": "stderr",
     "output_type": "stream",
     "text": [
      "100%|██████████| 315/315 [00:31<00:00,  9.86it/s]\n",
      "100%|██████████| 35/35 [00:09<00:00,  3.87it/s]\n"
     ]
    },
    {
     "name": "stdout",
     "output_type": "stream",
     "text": [
      "Epoch 1/50: training accuracy: 0.027636594663278273, valid accuracy: 0.07928571428571428,train loss: 4.342366316721431,valid loss:3.978481354032244\n"
     ]
    },
    {
     "name": "stderr",
     "output_type": "stream",
     "text": [
      "100%|██████████| 315/315 [00:30<00:00, 10.48it/s]\n",
      "100%|██████████| 35/35 [00:09<00:00,  3.89it/s]\n"
     ]
    },
    {
     "name": "stdout",
     "output_type": "stream",
     "text": [
      "Epoch 2/50: training accuracy: 0.07870076238881829, valid accuracy: 0.12714285714285714,train loss: 3.9117657111287873,valid loss:3.7028652599879672\n"
     ]
    },
    {
     "name": "stderr",
     "output_type": "stream",
     "text": [
      "100%|██████████| 315/315 [00:32<00:00,  9.78it/s]\n",
      "100%|██████████| 35/35 [00:09<00:00,  3.79it/s]\n"
     ]
    },
    {
     "name": "stdout",
     "output_type": "stream",
     "text": [
      "Epoch 3/50: training accuracy: 0.12603240152477763, valid accuracy: 0.1992857142857143,train loss: 3.625241061026441,valid loss:3.3356186526162284\n"
     ]
    },
    {
     "name": "stderr",
     "output_type": "stream",
     "text": [
      "100%|██████████| 315/315 [00:32<00:00,  9.58it/s]\n",
      "100%|██████████| 35/35 [00:09<00:00,  3.76it/s]\n"
     ]
    },
    {
     "name": "stdout",
     "output_type": "stream",
     "text": [
      "Epoch 4/50: training accuracy: 0.16311944091486658, valid accuracy: 0.21,train loss: 3.4224784798361596,valid loss:3.2237917695726668\n"
     ]
    },
    {
     "name": "stderr",
     "output_type": "stream",
     "text": [
      "100%|██████████| 315/315 [00:33<00:00,  9.50it/s]\n",
      "100%|██████████| 35/35 [00:09<00:00,  3.74it/s]\n"
     ]
    },
    {
     "name": "stdout",
     "output_type": "stream",
     "text": [
      "Epoch 5/50: training accuracy: 0.1929002541296061, valid accuracy: 0.2592857142857143,train loss: 3.2731865597498313,valid loss:3.033678640638079\n"
     ]
    },
    {
     "name": "stderr",
     "output_type": "stream",
     "text": [
      "100%|██████████| 315/315 [00:32<00:00,  9.55it/s]\n",
      "100%|██████████| 35/35 [00:09<00:00,  3.78it/s]\n"
     ]
    },
    {
     "name": "stdout",
     "output_type": "stream",
     "text": [
      "Epoch 6/50: training accuracy: 0.21767789072426938, valid accuracy: 0.2764285714285714,train loss: 3.120636497398192,valid loss:2.881066908155169\n"
     ]
    },
    {
     "name": "stderr",
     "output_type": "stream",
     "text": [
      "100%|██████████| 315/315 [00:33<00:00,  9.42it/s]\n",
      "100%|██████████| 35/35 [00:09<00:00,  3.75it/s]\n"
     ]
    },
    {
     "name": "stdout",
     "output_type": "stream",
     "text": [
      "Epoch 7/50: training accuracy: 0.2411848792884371, valid accuracy: 0.30214285714285716,train loss: 3.0087867376916444,valid loss:2.7777296338762554\n"
     ]
    },
    {
     "name": "stderr",
     "output_type": "stream",
     "text": [
      "100%|██████████| 315/315 [00:33<00:00,  9.50it/s]\n",
      "100%|██████████| 35/35 [00:09<00:00,  3.75it/s]\n"
     ]
    },
    {
     "name": "stdout",
     "output_type": "stream",
     "text": [
      "Epoch 8/50: training accuracy: 0.2604828462515883, valid accuracy: 0.32285714285714284,train loss: 2.909923650258075,valid loss:2.6949444975171772\n"
     ]
    },
    {
     "name": "stderr",
     "output_type": "stream",
     "text": [
      "100%|██████████| 315/315 [00:33<00:00,  9.45it/s]\n",
      "100%|██████████| 35/35 [00:09<00:00,  3.78it/s]\n"
     ]
    },
    {
     "name": "stdout",
     "output_type": "stream",
     "text": [
      "Epoch 9/50: training accuracy: 0.27493646759847523, valid accuracy: 0.32357142857142857,train loss: 2.827548075055531,valid loss:2.601852546419416\n"
     ]
    },
    {
     "name": "stderr",
     "output_type": "stream",
     "text": [
      "100%|██████████| 315/315 [00:33<00:00,  9.38it/s]\n",
      "100%|██████████| 35/35 [00:09<00:00,  3.76it/s]\n"
     ]
    },
    {
     "name": "stdout",
     "output_type": "stream",
     "text": [
      "Epoch 10/50: training accuracy: 0.2959815756035578, valid accuracy: 0.3485714285714286,train loss: 2.736334128179877,valid loss:2.586338084084647\n"
     ]
    },
    {
     "name": "stderr",
     "output_type": "stream",
     "text": [
      "100%|██████████| 315/315 [00:32<00:00,  9.56it/s]\n",
      "100%|██████████| 35/35 [00:09<00:00,  3.76it/s]\n"
     ]
    },
    {
     "name": "stdout",
     "output_type": "stream",
     "text": [
      "Epoch 11/50: training accuracy: 0.312420584498094, valid accuracy: 0.3557142857142857,train loss: 2.6623628469707095,valid loss:2.4867869751794\n"
     ]
    },
    {
     "name": "stderr",
     "output_type": "stream",
     "text": [
      "100%|██████████| 315/315 [00:33<00:00,  9.45it/s]\n",
      "100%|██████████| 35/35 [00:09<00:00,  3.73it/s]\n"
     ]
    },
    {
     "name": "stdout",
     "output_type": "stream",
     "text": [
      "Epoch 12/50: training accuracy: 0.3226651842439644, valid accuracy: 0.37142857142857144,train loss: 2.600199598975224,valid loss:2.4475639717919484\n"
     ]
    },
    {
     "name": "stderr",
     "output_type": "stream",
     "text": [
      "100%|██████████| 315/315 [00:33<00:00,  9.52it/s]\n",
      "100%|██████████| 35/35 [00:09<00:00,  3.75it/s]\n"
     ]
    },
    {
     "name": "stdout",
     "output_type": "stream",
     "text": [
      "Epoch 13/50: training accuracy: 0.3395806861499365, valid accuracy: 0.39285714285714285,train loss: 2.5366192163172943,valid loss:2.392030327660697\n"
     ]
    },
    {
     "name": "stderr",
     "output_type": "stream",
     "text": [
      "100%|██████████| 315/315 [00:32<00:00,  9.56it/s]\n",
      "100%|██████████| 35/35 [00:09<00:00,  3.78it/s]\n"
     ]
    },
    {
     "name": "stdout",
     "output_type": "stream",
     "text": [
      "Epoch 14/50: training accuracy: 0.3509371029224905, valid accuracy: 0.3678571428571429,train loss: 2.4780854899365234,valid loss:2.3988462959017074\n"
     ]
    },
    {
     "name": "stderr",
     "output_type": "stream",
     "text": [
      "100%|██████████| 315/315 [00:32<00:00,  9.56it/s]\n",
      "100%|██████████| 35/35 [00:09<00:00,  3.72it/s]\n"
     ]
    },
    {
     "name": "stdout",
     "output_type": "stream",
     "text": [
      "Epoch 15/50: training accuracy: 0.36030813214739515, valid accuracy: 0.4064285714285714,train loss: 2.4215741858851954,valid loss:2.338465121814183\n"
     ]
    },
    {
     "name": "stderr",
     "output_type": "stream",
     "text": [
      "100%|██████████| 315/315 [00:33<00:00,  9.51it/s]\n",
      "100%|██████████| 35/35 [00:09<00:00,  3.78it/s]\n"
     ]
    },
    {
     "name": "stdout",
     "output_type": "stream",
     "text": [
      "Epoch 16/50: training accuracy: 0.36554955527318933, valid accuracy: 0.38571428571428573,train loss: 2.389010532914153,valid loss:2.3202560867582047\n"
     ]
    },
    {
     "name": "stderr",
     "output_type": "stream",
     "text": [
      "100%|██████████| 315/315 [00:33<00:00,  9.52it/s]\n",
      "100%|██████████| 35/35 [00:09<00:00,  3.76it/s]\n"
     ]
    },
    {
     "name": "stdout",
     "output_type": "stream",
     "text": [
      "Epoch 17/50: training accuracy: 0.37809720457433293, valid accuracy: 0.40214285714285714,train loss: 2.363918770828877,valid loss:2.2941518715449742\n"
     ]
    },
    {
     "name": "stderr",
     "output_type": "stream",
     "text": [
      "100%|██████████| 315/315 [00:33<00:00,  9.52it/s]\n",
      "100%|██████████| 35/35 [00:09<00:00,  3.76it/s]\n"
     ]
    },
    {
     "name": "stdout",
     "output_type": "stream",
     "text": [
      "Epoch 18/50: training accuracy: 0.37817662007623887, valid accuracy: 0.4142857142857143,train loss: 2.340009098358954,valid loss:2.2753103460584367\n"
     ]
    },
    {
     "name": "stderr",
     "output_type": "stream",
     "text": [
      "100%|██████████| 315/315 [00:33<00:00,  9.50it/s]\n",
      "100%|██████████| 35/35 [00:09<00:00,  3.75it/s]\n"
     ]
    },
    {
     "name": "stdout",
     "output_type": "stream",
     "text": [
      "Epoch 19/50: training accuracy: 0.38349745870393903, valid accuracy: 0.3992857142857143,train loss: 2.3248777891659524,valid loss:2.2663555996758595\n"
     ]
    },
    {
     "name": "stderr",
     "output_type": "stream",
     "text": [
      "100%|██████████| 315/315 [00:33<00:00,  9.52it/s]\n",
      "100%|██████████| 35/35 [00:09<00:00,  3.78it/s]\n"
     ]
    },
    {
     "name": "stdout",
     "output_type": "stream",
     "text": [
      "Epoch 20/50: training accuracy: 0.3883418043202033, valid accuracy: 0.4014285714285714,train loss: 2.3199632517718904,valid loss:2.2868741171700613\n"
     ]
    },
    {
     "name": "stderr",
     "output_type": "stream",
     "text": [
      "100%|██████████| 315/315 [00:32<00:00,  9.63it/s]\n",
      "100%|██████████| 35/35 [00:09<00:00,  3.76it/s]\n"
     ]
    },
    {
     "name": "stdout",
     "output_type": "stream",
     "text": [
      "Epoch 21/50: training accuracy: 0.38254447268106734, valid accuracy: 0.405,train loss: 2.334538931767853,valid loss:2.283663548742022\n"
     ]
    },
    {
     "name": "stderr",
     "output_type": "stream",
     "text": [
      "100%|██████████| 315/315 [00:33<00:00,  9.40it/s]\n",
      "100%|██████████| 35/35 [00:09<00:00,  3.78it/s]\n"
     ]
    },
    {
     "name": "stdout",
     "output_type": "stream",
     "text": [
      "Epoch 22/50: training accuracy: 0.38476810673443457, valid accuracy: 0.4057142857142857,train loss: 2.3252043218140077,valid loss:2.2471834897994993\n"
     ]
    },
    {
     "name": "stderr",
     "output_type": "stream",
     "text": [
      "100%|██████████| 315/315 [00:33<00:00,  9.51it/s]\n",
      "100%|██████████| 35/35 [00:09<00:00,  3.76it/s]\n"
     ]
    },
    {
     "name": "stdout",
     "output_type": "stream",
     "text": [
      "Epoch 23/50: training accuracy: 0.38897712833545106, valid accuracy: 0.4207142857142857,train loss: 2.3171558465709228,valid loss:2.2571198190961566\n"
     ]
    },
    {
     "name": "stderr",
     "output_type": "stream",
     "text": [
      "100%|██████████| 315/315 [00:33<00:00,  9.47it/s]\n",
      "100%|██████████| 35/35 [00:09<00:00,  3.71it/s]\n"
     ]
    },
    {
     "name": "stdout",
     "output_type": "stream",
     "text": [
      "Epoch 24/50: training accuracy: 0.3861181702668361, valid accuracy: 0.4142857142857143,train loss: 2.3170890665720805,valid loss:2.2523079701832365\n"
     ]
    },
    {
     "name": "stderr",
     "output_type": "stream",
     "text": [
      "100%|██████████| 315/315 [00:32<00:00,  9.58it/s]\n",
      "100%|██████████| 35/35 [00:09<00:00,  3.78it/s]\n"
     ]
    },
    {
     "name": "stdout",
     "output_type": "stream",
     "text": [
      "Epoch 25/50: training accuracy: 0.3808767471410419, valid accuracy: 0.41,train loss: 2.333855867234391,valid loss:2.2692483970097133\n"
     ]
    },
    {
     "name": "stderr",
     "output_type": "stream",
     "text": [
      "100%|██████████| 315/315 [00:32<00:00,  9.58it/s]\n",
      "100%|██████████| 35/35 [00:09<00:00,  3.75it/s]\n"
     ]
    },
    {
     "name": "stdout",
     "output_type": "stream",
     "text": [
      "Epoch 26/50: training accuracy: 0.38889771283354513, valid accuracy: 0.415,train loss: 2.322862460016447,valid loss:2.2835524456841605\n"
     ]
    },
    {
     "name": "stderr",
     "output_type": "stream",
     "text": [
      "100%|██████████| 315/315 [00:33<00:00,  9.53it/s]\n",
      "100%|██████████| 35/35 [00:09<00:00,  3.73it/s]\n"
     ]
    },
    {
     "name": "stdout",
     "output_type": "stream",
     "text": [
      "Epoch 27/50: training accuracy: 0.38254447268106734, valid accuracy: 0.4007142857142857,train loss: 2.3366404117441237,valid loss:2.290838418688093\n"
     ]
    },
    {
     "name": "stderr",
     "output_type": "stream",
     "text": [
      "100%|██████████| 315/315 [00:33<00:00,  9.44it/s]\n",
      "100%|██████████| 35/35 [00:09<00:00,  3.66it/s]\n"
     ]
    },
    {
     "name": "stdout",
     "output_type": "stream",
     "text": [
      "Epoch 28/50: training accuracy: 0.38405336721728084, valid accuracy: 0.3914285714285714,train loss: 2.3280746750486245,valid loss:2.2721448489597864\n"
     ]
    },
    {
     "name": "stderr",
     "output_type": "stream",
     "text": [
      "100%|██████████| 315/315 [00:32<00:00,  9.59it/s]\n",
      "100%|██████████| 35/35 [00:09<00:00,  3.76it/s]\n"
     ]
    },
    {
     "name": "stdout",
     "output_type": "stream",
     "text": [
      "Epoch 29/50: training accuracy: 0.37738246505717915, valid accuracy: 0.4164285714285714,train loss: 2.3345300943757556,valid loss:2.2397203172956193\n"
     ]
    },
    {
     "name": "stderr",
     "output_type": "stream",
     "text": [
      "100%|██████████| 315/315 [00:33<00:00,  9.50it/s]\n",
      "100%|██████████| 35/35 [00:09<00:00,  3.76it/s]\n"
     ]
    },
    {
     "name": "stdout",
     "output_type": "stream",
     "text": [
      "Epoch 30/50: training accuracy: 0.3799237611181703, valid accuracy: 0.3942857142857143,train loss: 2.337926914231447,valid loss:2.277556913239615\n"
     ]
    },
    {
     "name": "stderr",
     "output_type": "stream",
     "text": [
      "100%|██████████| 315/315 [00:32<00:00,  9.55it/s]\n",
      "100%|██████████| 35/35 [00:09<00:00,  3.75it/s]\n"
     ]
    },
    {
     "name": "stdout",
     "output_type": "stream",
     "text": [
      "Epoch 31/50: training accuracy: 0.3798443456162643, valid accuracy: 0.39571428571428574,train loss: 2.3443639958525857,valid loss:2.284338126863752\n"
     ]
    },
    {
     "name": "stderr",
     "output_type": "stream",
     "text": [
      "100%|██████████| 315/315 [00:33<00:00,  9.53it/s]\n",
      "100%|██████████| 35/35 [00:09<00:00,  3.75it/s]\n"
     ]
    },
    {
     "name": "stdout",
     "output_type": "stream",
     "text": [
      "Epoch 32/50: training accuracy: 0.3815914866581957, valid accuracy: 0.42,train loss: 2.333309951398091,valid loss:2.2563478299549646\n"
     ]
    },
    {
     "name": "stderr",
     "output_type": "stream",
     "text": [
      "100%|██████████| 315/315 [00:32<00:00,  9.55it/s]\n",
      "100%|██████████| 35/35 [00:09<00:00,  3.74it/s]\n"
     ]
    },
    {
     "name": "stdout",
     "output_type": "stream",
     "text": [
      "Epoch 33/50: training accuracy: 0.3733322744599746, valid accuracy: 0.42428571428571427,train loss: 2.3437374131955218,valid loss:2.2517054319381713\n"
     ]
    },
    {
     "name": "stderr",
     "output_type": "stream",
     "text": [
      "100%|██████████| 315/315 [00:33<00:00,  9.50it/s]\n",
      "100%|██████████| 35/35 [00:09<00:00,  3.75it/s]\n"
     ]
    },
    {
     "name": "stdout",
     "output_type": "stream",
     "text": [
      "Epoch 34/50: training accuracy: 0.3880241423125794, valid accuracy: 0.42428571428571427,train loss: 2.312911292346339,valid loss:2.2801330259868076\n"
     ]
    },
    {
     "name": "stderr",
     "output_type": "stream",
     "text": [
      "100%|██████████| 315/315 [00:33<00:00,  9.53it/s]\n",
      "100%|██████████| 35/35 [00:09<00:00,  3.78it/s]\n"
     ]
    },
    {
     "name": "stdout",
     "output_type": "stream",
     "text": [
      "Epoch 35/50: training accuracy: 0.38985069885641677, valid accuracy: 0.40714285714285714,train loss: 2.290673085058811,valid loss:2.31590291091374\n"
     ]
    },
    {
     "name": "stderr",
     "output_type": "stream",
     "text": [
      "100%|██████████| 315/315 [00:32<00:00,  9.60it/s]\n",
      "100%|██████████| 35/35 [00:09<00:00,  3.79it/s]\n"
     ]
    },
    {
     "name": "stdout",
     "output_type": "stream",
     "text": [
      "Epoch 36/50: training accuracy: 0.38445044472681067, valid accuracy: 0.42428571428571427,train loss: 2.3025953448560976,valid loss:2.194482949801854\n"
     ]
    },
    {
     "name": "stderr",
     "output_type": "stream",
     "text": [
      "100%|██████████| 315/315 [00:33<00:00,  9.54it/s]\n",
      "100%|██████████| 35/35 [00:09<00:00,  3.78it/s]\n"
     ]
    },
    {
     "name": "stdout",
     "output_type": "stream",
     "text": [
      "Epoch 37/50: training accuracy: 0.3922331639135959, valid accuracy: 0.4328571428571429,train loss: 2.278757439710891,valid loss:2.236445413316999\n"
     ]
    },
    {
     "name": "stderr",
     "output_type": "stream",
     "text": [
      "100%|██████████| 315/315 [00:32<00:00,  9.56it/s]\n",
      "100%|██████████| 35/35 [00:09<00:00,  3.74it/s]\n"
     ]
    },
    {
     "name": "stdout",
     "output_type": "stream",
     "text": [
      "Epoch 38/50: training accuracy: 0.39580686149936467, valid accuracy: 0.4471428571428571,train loss: 2.2617812386158915,valid loss:2.185441953795297\n"
     ]
    },
    {
     "name": "stderr",
     "output_type": "stream",
     "text": [
      "100%|██████████| 315/315 [00:32<00:00,  9.59it/s]\n",
      "100%|██████████| 35/35 [00:09<00:00,  3.75it/s]\n"
     ]
    },
    {
     "name": "stdout",
     "output_type": "stream",
     "text": [
      "Epoch 39/50: training accuracy: 0.40493964421855144, valid accuracy: 0.4342857142857143,train loss: 2.235459166681903,valid loss:2.158867692947388\n"
     ]
    },
    {
     "name": "stderr",
     "output_type": "stream",
     "text": [
      "100%|██████████| 315/315 [00:33<00:00,  9.51it/s]\n",
      "100%|██████████| 35/35 [00:09<00:00,  3.75it/s]\n"
     ]
    },
    {
     "name": "stdout",
     "output_type": "stream",
     "text": [
      "Epoch 40/50: training accuracy: 0.4014453621346887, valid accuracy: 0.42857142857142855,train loss: 2.2343364679071165,valid loss:2.1880770104272025\n"
     ]
    },
    {
     "name": "stderr",
     "output_type": "stream",
     "text": [
      "100%|██████████| 315/315 [00:33<00:00,  9.50it/s]\n",
      "100%|██████████| 35/35 [00:09<00:00,  3.77it/s]\n"
     ]
    },
    {
     "name": "stdout",
     "output_type": "stream",
     "text": [
      "Epoch 41/50: training accuracy: 0.4145489199491741, valid accuracy: 0.41714285714285715,train loss: 2.1965094763108706,valid loss:2.202158420426505\n"
     ]
    },
    {
     "name": "stderr",
     "output_type": "stream",
     "text": [
      "100%|██████████| 315/315 [00:32<00:00,  9.56it/s]\n",
      "100%|██████████| 35/35 [00:09<00:00,  3.78it/s]\n"
     ]
    },
    {
     "name": "stdout",
     "output_type": "stream",
     "text": [
      "Epoch 42/50: training accuracy: 0.4022395171537484, valid accuracy: 0.44642857142857145,train loss: 2.187842357416165,valid loss:2.102991281236921\n"
     ]
    },
    {
     "name": "stderr",
     "output_type": "stream",
     "text": [
      "100%|██████████| 315/315 [00:32<00:00,  9.56it/s]\n",
      "100%|██████████| 35/35 [00:09<00:00,  3.75it/s]\n"
     ]
    },
    {
     "name": "stdout",
     "output_type": "stream",
     "text": [
      "Epoch 43/50: training accuracy: 0.41836086404066075, valid accuracy: 0.4357142857142857,train loss: 2.1533664442229603,valid loss:2.1795766592025756\n"
     ]
    },
    {
     "name": "stderr",
     "output_type": "stream",
     "text": [
      "100%|██████████| 315/315 [00:33<00:00,  9.51it/s]\n",
      "100%|██████████| 35/35 [00:09<00:00,  3.74it/s]\n"
     ]
    },
    {
     "name": "stdout",
     "output_type": "stream",
     "text": [
      "Epoch 44/50: training accuracy: 0.4322585768742058, valid accuracy: 0.45285714285714285,train loss: 2.098863360766686,valid loss:2.0752781867980956\n"
     ]
    },
    {
     "name": "stderr",
     "output_type": "stream",
     "text": [
      "100%|██████████| 315/315 [00:32<00:00,  9.56it/s]\n",
      "100%|██████████| 35/35 [00:09<00:00,  3.70it/s]\n"
     ]
    },
    {
     "name": "stdout",
     "output_type": "stream",
     "text": [
      "Epoch 45/50: training accuracy: 0.4412325285895807, valid accuracy: 0.4492857142857143,train loss: 2.0601976976612772,valid loss:2.058924344607762\n"
     ]
    },
    {
     "name": "stderr",
     "output_type": "stream",
     "text": [
      "100%|██████████| 315/315 [00:33<00:00,  9.51it/s]\n",
      "100%|██████████| 35/35 [00:09<00:00,  3.75it/s]\n"
     ]
    },
    {
     "name": "stdout",
     "output_type": "stream",
     "text": [
      "Epoch 46/50: training accuracy: 0.4485387547649301, valid accuracy: 0.4564285714285714,train loss: 2.0287029355423574,valid loss:2.058990730558123\n"
     ]
    },
    {
     "name": "stderr",
     "output_type": "stream",
     "text": [
      "100%|██████████| 315/315 [00:32<00:00,  9.57it/s]\n",
      "100%|██████████| 35/35 [00:09<00:00,  3.75it/s]\n"
     ]
    },
    {
     "name": "stdout",
     "output_type": "stream",
     "text": [
      "Epoch 47/50: training accuracy: 0.4537007623888183, valid accuracy: 0.45785714285714285,train loss: 1.997055680051995,valid loss:2.059941063608442\n"
     ]
    },
    {
     "name": "stderr",
     "output_type": "stream",
     "text": [
      "100%|██████████| 315/315 [00:32<00:00,  9.57it/s]\n",
      "100%|██████████| 35/35 [00:09<00:00,  3.77it/s]\n"
     ]
    },
    {
     "name": "stdout",
     "output_type": "stream",
     "text": [
      "Epoch 48/50: training accuracy: 0.4645806861499365, valid accuracy: 0.4714285714285714,train loss: 1.9463670505198924,valid loss:2.011249954359872\n"
     ]
    },
    {
     "name": "stderr",
     "output_type": "stream",
     "text": [
      "100%|██████████| 315/315 [00:33<00:00,  9.52it/s]\n",
      "100%|██████████| 35/35 [00:09<00:00,  3.74it/s]\n"
     ]
    },
    {
     "name": "stdout",
     "output_type": "stream",
     "text": [
      "Epoch 49/50: training accuracy: 0.4760959339263024, valid accuracy: 0.4835714285714286,train loss: 1.9186404156563697,valid loss:2.0255509206226896\n"
     ]
    },
    {
     "name": "stderr",
     "output_type": "stream",
     "text": [
      "100%|██████████| 315/315 [00:33<00:00,  9.49it/s]\n",
      "100%|██████████| 35/35 [00:09<00:00,  3.75it/s]"
     ]
    },
    {
     "name": "stdout",
     "output_type": "stream",
     "text": [
      "Epoch 50/50: training accuracy: 0.4934879288437103, valid accuracy: 0.48428571428571426,train loss: 1.8588161433667059,valid loss:1.9562922171183994\n"
     ]
    },
    {
     "name": "stderr",
     "output_type": "stream",
     "text": [
      "\n"
     ]
    }
   ],
   "source": [
    "model = model.to(device)\n",
    "loss_fn = nn.CrossEntropyLoss()\n",
    "optimizer = torch.optim.Adam(model.parameters(), lr=1e-3)\n",
    "scheduler = torch.optim.lr_scheduler.CosineAnnealingLR(optimizer=optimizer,T_max=20,eta_min=1e-9)\n",
    "\n",
    "class EarlyStopper:\n",
    "    def __init__(self, patience=1, min_delta=0):\n",
    "        self.patience = patience\n",
    "        self.min_delta = min_delta\n",
    "        self.counter = 0\n",
    "        self.min_validation_loss = np.inf\n",
    "\n",
    "    def early_stop(self, validation_loss):\n",
    "        if validation_loss < self.min_validation_loss:\n",
    "            self.min_validation_loss = validation_loss\n",
    "            self.counter = 0\n",
    "        elif validation_loss > (self.min_validation_loss + self.min_delta):\n",
    "            self.counter += 1\n",
    "            if self.counter >= self.patience:\n",
    "                return True\n",
    "        return False\n",
    "    \n",
    "def train(model, train_loader, optimizer, loss_fn):\n",
    "    model.train()\n",
    "    train_loss = 0.\n",
    "    corrects=0\n",
    "    total = 0\n",
    "    for images, labels in tqdm(train_loader):\n",
    "        optimizer.zero_grad() # step 1\n",
    "        images = images.to(device)\n",
    "        labels = labels.to(device)\n",
    "        \n",
    "\n",
    "        logits = model(images) # step 2 (forward pass)\n",
    "        loss = loss_fn(logits, labels) # step 3 (compute loss)\n",
    "        _, predictions = torch.max(logits, dim=1)\n",
    "        corrects += predictions.eq(labels).sum().item()\n",
    "        total += labels.size(0)\n",
    "        \n",
    "        loss.backward() # step 4 (backpropagation)\n",
    "        optimizer.step()\n",
    "\n",
    "        train_loss += loss.item()*images.size(0)\n",
    "       \n",
    "        \n",
    "    train_loss = train_loss/len(train_loader.sampler)\n",
    "    \n",
    "    return train_loss, corrects/total    \n",
    "\n",
    "\n",
    "@torch.no_grad()\n",
    "def validate(model, valid_loader, loss_fn):\n",
    "    model.eval()\n",
    "    losses=0.\n",
    "    corrects=0\n",
    "    total = 0\n",
    "    with torch.no_grad():\n",
    "        for images, labels in tqdm(val_loader):\n",
    "            images = images.to(device)\n",
    "            labels = labels.to(device)\n",
    "            \n",
    "                \n",
    "            logits = model(images) # step 2 (forward pass)\n",
    "            loss = loss_fn(logits, labels) # step 3 (compute loss)\n",
    "            total += labels.size(0)\n",
    "            \n",
    "            _, predictions = torch.max(logits, dim=1)\n",
    "            corrects += predictions.eq(labels).sum().item()\n",
    "            \n",
    "            losses += loss.item()*images.size(0)    \n",
    "            \n",
    "        valid_loss = losses/len(valid_loader.sampler)\n",
    "    return valid_loss, corrects / total\n",
    "\n",
    "train_loss_list = []\n",
    "valid_loss_list = []\n",
    "\n",
    "early_stopper = EarlyStopper(patience=7)\n",
    "\n",
    "for epoch in range(n_epochs):\n",
    "    training_loss, training_accuracy = train(model, train_loader, optimizer, loss_fn)\n",
    "    valid_loss, valid_accuracy = validate(model, val_loader, loss_fn)\n",
    "    \n",
    "    train_loss_list.append(training_loss)\n",
    "    valid_loss_list.append(valid_loss)\n",
    "\n",
    "    # if scheduler is not None and is_valid_available:\n",
    "    #     scheduler.step(valid_loss)\n",
    "    # elif scheduler is not None:\n",
    "    print(f\"Epoch {epoch+1}/{n_epochs}: training accuracy: {training_accuracy}, valid accuracy: {valid_accuracy},train loss: {training_loss},valid loss:{valid_loss}\") \n",
    "    scheduler.step()"
   ]
  }
 ],
 "metadata": {
  "kernelspec": {
   "display_name": "DeepLearning",
   "language": "python",
   "name": "python3"
  },
  "language_info": {
   "codemirror_mode": {
    "name": "ipython",
    "version": 3
   },
   "file_extension": ".py",
   "mimetype": "text/x-python",
   "name": "python",
   "nbconvert_exporter": "python",
   "pygments_lexer": "ipython3",
   "version": "3.11.5"
  }
 },
 "nbformat": 4,
 "nbformat_minor": 2
}
