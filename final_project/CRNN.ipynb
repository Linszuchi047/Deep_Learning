{
 "cells": [
  {
   "cell_type": "code",
   "execution_count": 1,
   "metadata": {},
   "outputs": [],
   "source": [
    "# Main\n",
    "import os\n",
    "import gc\n",
    "import shutil\n",
    "import time\n",
    "import random\n",
    "import cv2\n",
    "import numpy as np \n",
    "import pandas as pd\n",
    "import glob\n",
    "from tqdm import tqdm\n",
    "tqdm.pandas()\n",
    "import re\n",
    "\n",
    "# Data Visualization\n",
    "import matplotlib\n",
    "import matplotlib.pyplot as plt\n",
    "import matplotlib.image as mpimg\n",
    "import plotly\n",
    "import plotly.graph_objects as go\n",
    "import plotly.express as px\n",
    "from plotly.subplots import make_subplots\n",
    "from IPython.display import Image, display\n",
    "\n",
    "import torch\n",
    "import torch.nn as nn\n",
    "import torch.nn.functional as F\n",
    "import torch.optim as optim\n",
    "from torch.utils.data import Dataset, DataLoader\n",
    "from torchvision import transforms\n",
    "from torchvision.models import resnet18\n",
    "\n",
    "import string\n",
    "from tqdm.notebook import tqdm\n",
    "import cv2\n",
    "from PIL import Image\n",
    "from sklearn.model_selection import train_test_split\n",
    "from sklearn.metrics import accuracy_score\n",
    "import multiprocessing as mp\n"
   ]
  },
  {
   "cell_type": "code",
   "execution_count": 2,
   "metadata": {},
   "outputs": [],
   "source": [
    "provinces = [\"皖\", \"沪\", \"津\", \"渝\", \"冀\", \"晋\", \"蒙\", \"辽\", \"吉\", \"黑\", \"苏\", \"浙\", \"京\", \"闽\", \"赣\", \"鲁\", \"豫\", \"鄂\", \"湘\", \"粤\", \"桂\", \"琼\", \"川\", \"贵\", \"云\", \"藏\", \"陕\", \"甘\", \"青\", \"宁\", \"新\", \"警\", \"学\", \"O\"]\n",
    "alphabets = ['A', 'B', 'C', 'D', 'E', 'F', 'G', 'H', 'J', 'K', 'L', 'M', 'N', 'P', 'Q', 'R', 'S', 'T', 'U', 'V', 'W',\n",
    "             'X', 'Y', 'Z', 'O']\n",
    "ads = ['A', 'B', 'C', 'D', 'E', 'F', 'G', 'H', 'J', 'K', 'L', 'M', 'N', 'P', 'Q', 'R', 'S', 'T', 'U', 'V', 'W', 'X',\n",
    "       'Y', 'Z', '0', '1', '2', '3', '4', '5', '6', '7', '8', '9', 'O']\n",
    "\n",
    "# list_sub = [\"ccpd_base\", \"ccpd_fn\", \"ccpd_db\", \"ccpd_rotate\", \"ccpd_weather\", \"ccpd_blur\"]\n",
    "list_sub = [\"ccpd_weather\"]\n",
    "BASE_PATH = \"C:/Users/User/DeepLearning/Deep_Learning/final_project\""
   ]
  },
  {
   "cell_type": "code",
   "execution_count": 3,
   "metadata": {},
   "outputs": [
    {
     "data": {
      "text/html": [
       "<div>\n",
       "<style scoped>\n",
       "    .dataframe tbody tr th:only-of-type {\n",
       "        vertical-align: middle;\n",
       "    }\n",
       "\n",
       "    .dataframe tbody tr th {\n",
       "        vertical-align: top;\n",
       "    }\n",
       "\n",
       "    .dataframe thead th {\n",
       "        text-align: right;\n",
       "    }\n",
       "</style>\n",
       "<table border=\"1\" class=\"dataframe\">\n",
       "  <thead>\n",
       "    <tr style=\"text-align: right;\">\n",
       "      <th></th>\n",
       "      <th>img_path</th>\n",
       "      <th>x1</th>\n",
       "      <th>y1</th>\n",
       "      <th>x2</th>\n",
       "      <th>y2</th>\n",
       "      <th>decode_plate</th>\n",
       "    </tr>\n",
       "  </thead>\n",
       "  <tbody>\n",
       "    <tr>\n",
       "      <th>0</th>\n",
       "      <td>C:/Users/User/DeepLearning/Deep_Learning/final...</td>\n",
       "      <td>294</td>\n",
       "      <td>496</td>\n",
       "      <td>374</td>\n",
       "      <td>540</td>\n",
       "      <td>皖AD130W</td>\n",
       "    </tr>\n",
       "    <tr>\n",
       "      <th>1</th>\n",
       "      <td>C:/Users/User/DeepLearning/Deep_Learning/final...</td>\n",
       "      <td>304</td>\n",
       "      <td>542</td>\n",
       "      <td>411</td>\n",
       "      <td>577</td>\n",
       "      <td>皖AUT267</td>\n",
       "    </tr>\n",
       "    <tr>\n",
       "      <th>2</th>\n",
       "      <td>C:/Users/User/DeepLearning/Deep_Learning/final...</td>\n",
       "      <td>339</td>\n",
       "      <td>547</td>\n",
       "      <td>444</td>\n",
       "      <td>583</td>\n",
       "      <td>皖MZ4882</td>\n",
       "    </tr>\n",
       "    <tr>\n",
       "      <th>3</th>\n",
       "      <td>C:/Users/User/DeepLearning/Deep_Learning/final...</td>\n",
       "      <td>177</td>\n",
       "      <td>511</td>\n",
       "      <td>268</td>\n",
       "      <td>553</td>\n",
       "      <td>皖AVD028</td>\n",
       "    </tr>\n",
       "    <tr>\n",
       "      <th>4</th>\n",
       "      <td>C:/Users/User/DeepLearning/Deep_Learning/final...</td>\n",
       "      <td>402</td>\n",
       "      <td>426</td>\n",
       "      <td>497</td>\n",
       "      <td>467</td>\n",
       "      <td>皖RL222P</td>\n",
       "    </tr>\n",
       "    <tr>\n",
       "      <th>...</th>\n",
       "      <td>...</td>\n",
       "      <td>...</td>\n",
       "      <td>...</td>\n",
       "      <td>...</td>\n",
       "      <td>...</td>\n",
       "      <td>...</td>\n",
       "    </tr>\n",
       "    <tr>\n",
       "      <th>9994</th>\n",
       "      <td>C:/Users/User/DeepLearning/Deep_Learning/final...</td>\n",
       "      <td>89</td>\n",
       "      <td>832</td>\n",
       "      <td>500</td>\n",
       "      <td>1159</td>\n",
       "      <td>皖AK927W</td>\n",
       "    </tr>\n",
       "    <tr>\n",
       "      <th>9995</th>\n",
       "      <td>C:/Users/User/DeepLearning/Deep_Learning/final...</td>\n",
       "      <td>81</td>\n",
       "      <td>357</td>\n",
       "      <td>572</td>\n",
       "      <td>632</td>\n",
       "      <td>皖A22T99</td>\n",
       "    </tr>\n",
       "    <tr>\n",
       "      <th>9996</th>\n",
       "      <td>C:/Users/User/DeepLearning/Deep_Learning/final...</td>\n",
       "      <td>245</td>\n",
       "      <td>391</td>\n",
       "      <td>703</td>\n",
       "      <td>692</td>\n",
       "      <td>皖NRX399</td>\n",
       "    </tr>\n",
       "    <tr>\n",
       "      <th>9997</th>\n",
       "      <td>C:/Users/User/DeepLearning/Deep_Learning/final...</td>\n",
       "      <td>69</td>\n",
       "      <td>394</td>\n",
       "      <td>681</td>\n",
       "      <td>620</td>\n",
       "      <td>皖EW666K</td>\n",
       "    </tr>\n",
       "    <tr>\n",
       "      <th>9998</th>\n",
       "      <td>C:/Users/User/DeepLearning/Deep_Learning/final...</td>\n",
       "      <td>31</td>\n",
       "      <td>397</td>\n",
       "      <td>673</td>\n",
       "      <td>624</td>\n",
       "      <td>皖AWP202</td>\n",
       "    </tr>\n",
       "  </tbody>\n",
       "</table>\n",
       "<p>9999 rows × 6 columns</p>\n",
       "</div>"
      ],
      "text/plain": [
       "                                               img_path   x1   y1   x2    y2  \\\n",
       "0     C:/Users/User/DeepLearning/Deep_Learning/final...  294  496  374   540   \n",
       "1     C:/Users/User/DeepLearning/Deep_Learning/final...  304  542  411   577   \n",
       "2     C:/Users/User/DeepLearning/Deep_Learning/final...  339  547  444   583   \n",
       "3     C:/Users/User/DeepLearning/Deep_Learning/final...  177  511  268   553   \n",
       "4     C:/Users/User/DeepLearning/Deep_Learning/final...  402  426  497   467   \n",
       "...                                                 ...  ...  ...  ...   ...   \n",
       "9994  C:/Users/User/DeepLearning/Deep_Learning/final...   89  832  500  1159   \n",
       "9995  C:/Users/User/DeepLearning/Deep_Learning/final...   81  357  572   632   \n",
       "9996  C:/Users/User/DeepLearning/Deep_Learning/final...  245  391  703   692   \n",
       "9997  C:/Users/User/DeepLearning/Deep_Learning/final...   69  394  681   620   \n",
       "9998  C:/Users/User/DeepLearning/Deep_Learning/final...   31  397  673   624   \n",
       "\n",
       "     decode_plate  \n",
       "0         皖AD130W  \n",
       "1         皖AUT267  \n",
       "2         皖MZ4882  \n",
       "3         皖AVD028  \n",
       "4         皖RL222P  \n",
       "...           ...  \n",
       "9994      皖AK927W  \n",
       "9995      皖A22T99  \n",
       "9996      皖NRX399  \n",
       "9997      皖EW666K  \n",
       "9998      皖AWP202  \n",
       "\n",
       "[9999 rows x 6 columns]"
      ]
     },
     "execution_count": 3,
     "metadata": {},
     "output_type": "execute_result"
    }
   ],
   "source": [
    "img_path = []\n",
    "left_up_x = []\n",
    "left_up_y = []\n",
    "right_down_x = []\n",
    "right_down_y = []\n",
    "decoded_plate = []\n",
    "location = []\n",
    "license_images = []\n",
    "for sub in list_sub:\n",
    "    sub_path = os.path.join(BASE_PATH, sub)\n",
    "    sub_files = glob.glob(os.path.join(sub_path, \"*\"))\n",
    "\n",
    "    for file in sub_files:\n",
    "\n",
    "        img_path.append(file)\n",
    "\n",
    "        file_no_jpg = file.split(\"/\")[-1][:-4]\n",
    "\n",
    "        boundind_box = file_no_jpg.split(\"-\")[2]\n",
    "        left_up_bbox = boundind_box.split(\"_\")[0]\n",
    "        right_down_bbox = boundind_box.split(\"_\")[1]\n",
    "        left_up_x .append(left_up_bbox.split(\",\")[0])\n",
    "        left_up_y .append(left_up_bbox.split(\",\")[1])\n",
    "        right_down_x .append(right_down_bbox.split(\",\")[0])\n",
    "        right_down_y .append(right_down_bbox.split(\",\")[1])\n",
    "\n",
    "\n",
    "\n",
    "        temp = []\n",
    "        plate_number =  file_no_jpg.split(\"-\")[-3]\n",
    "        plate_number_split =  plate_number.split('_')\n",
    "        city = provinces[int(plate_number_split[0])]\n",
    "        alp = alphabets[int(plate_number_split[1])]\n",
    "        temp.append(city)\n",
    "        temp.append(alp)\n",
    "        \n",
    "        for i in range(len(plate_number_split)-2):\n",
    "            temp.append(ads[int(plate_number_split[i+2])])\n",
    "        k = \"\".join(temp)\n",
    "        decoded_plate.append(k)\n",
    "\n",
    "\n",
    "        # exver_img = cv2.imread(file)\n",
    "        # vertices = file_no_jpg.split(\"-\")[3]\n",
    "        # split = vertices.split(\"_\")\n",
    "\n",
    "        # x= (split[0].split(','))\n",
    "        # y= (split[1].split(','))\n",
    "        # z= (split[2].split(','))\n",
    "        # w= (split[3].split(','))\n",
    "        # coordinates= [int(x[0]), int(x[1]),int(y[0]),int(y[1]),int(z[0]),int(z[1]),int(w[0]),int(w[1])]\n",
    "        # location.append(coordinates)\n",
    "        # p1 = np.float32([[coordinates[4], coordinates[5]],\n",
    "        #                 [coordinates[6], coordinates[7]],\n",
    "        #                 [coordinates[2], coordinates[3]], \n",
    "        #                 [coordinates[0], coordinates[1]]])\n",
    "        # p2 = np.float32([[0, 0],[exver_img.shape[1],0],[0,exver_img.shape[0]],[exver_img.shape[1],exver_img.shape[0]]])\n",
    "        # M = cv2.getPerspectiveTransform(p1, p2)\n",
    "        # outimg = cv2.warpPerspective(exver_img, M, exver_img.shape[1::-1])\n",
    "        # resized = cv2.resize(outimg, (120,24), interpolation = cv2.INTER_AREA)\n",
    "        # no_chinese_img = resized[:,width//8:]\n",
    "        # license_images.append(resized)\n",
    "        \n",
    "\n",
    "\n",
    "        \n",
    "\n",
    "r = [img_path,left_up_x,left_up_y,right_down_x,right_down_y,decoded_plate]\n",
    "all_data = pd.DataFrame(r)\n",
    "all_data = all_data.T\n",
    "all_data.columns = ['img_path','x1','y1','x2','y2','decode_plate']\n",
    "all_data                "
   ]
  },
  {
   "cell_type": "code",
   "execution_count": 4,
   "metadata": {},
   "outputs": [
    {
     "data": {
      "text/html": [
       "<div>\n",
       "<style scoped>\n",
       "    .dataframe tbody tr th:only-of-type {\n",
       "        vertical-align: middle;\n",
       "    }\n",
       "\n",
       "    .dataframe tbody tr th {\n",
       "        vertical-align: top;\n",
       "    }\n",
       "\n",
       "    .dataframe thead th {\n",
       "        text-align: right;\n",
       "    }\n",
       "</style>\n",
       "<table border=\"1\" class=\"dataframe\">\n",
       "  <thead>\n",
       "    <tr style=\"text-align: right;\">\n",
       "      <th></th>\n",
       "      <th>img_path</th>\n",
       "      <th>x1</th>\n",
       "      <th>y1</th>\n",
       "      <th>x2</th>\n",
       "      <th>y2</th>\n",
       "      <th>decode_plate</th>\n",
       "      <th>split</th>\n",
       "    </tr>\n",
       "  </thead>\n",
       "  <tbody>\n",
       "    <tr>\n",
       "      <th>0</th>\n",
       "      <td>C:/Users/User/DeepLearning/Deep_Learning/final...</td>\n",
       "      <td>294</td>\n",
       "      <td>496</td>\n",
       "      <td>374</td>\n",
       "      <td>540</td>\n",
       "      <td>皖AD130W</td>\n",
       "      <td>train</td>\n",
       "    </tr>\n",
       "    <tr>\n",
       "      <th>1</th>\n",
       "      <td>C:/Users/User/DeepLearning/Deep_Learning/final...</td>\n",
       "      <td>304</td>\n",
       "      <td>542</td>\n",
       "      <td>411</td>\n",
       "      <td>577</td>\n",
       "      <td>皖AUT267</td>\n",
       "      <td>train</td>\n",
       "    </tr>\n",
       "    <tr>\n",
       "      <th>2</th>\n",
       "      <td>C:/Users/User/DeepLearning/Deep_Learning/final...</td>\n",
       "      <td>339</td>\n",
       "      <td>547</td>\n",
       "      <td>444</td>\n",
       "      <td>583</td>\n",
       "      <td>皖MZ4882</td>\n",
       "      <td>train</td>\n",
       "    </tr>\n",
       "    <tr>\n",
       "      <th>3</th>\n",
       "      <td>C:/Users/User/DeepLearning/Deep_Learning/final...</td>\n",
       "      <td>177</td>\n",
       "      <td>511</td>\n",
       "      <td>268</td>\n",
       "      <td>553</td>\n",
       "      <td>皖AVD028</td>\n",
       "      <td>train</td>\n",
       "    </tr>\n",
       "    <tr>\n",
       "      <th>4</th>\n",
       "      <td>C:/Users/User/DeepLearning/Deep_Learning/final...</td>\n",
       "      <td>402</td>\n",
       "      <td>426</td>\n",
       "      <td>497</td>\n",
       "      <td>467</td>\n",
       "      <td>皖RL222P</td>\n",
       "      <td>train</td>\n",
       "    </tr>\n",
       "    <tr>\n",
       "      <th>...</th>\n",
       "      <td>...</td>\n",
       "      <td>...</td>\n",
       "      <td>...</td>\n",
       "      <td>...</td>\n",
       "      <td>...</td>\n",
       "      <td>...</td>\n",
       "      <td>...</td>\n",
       "    </tr>\n",
       "    <tr>\n",
       "      <th>9994</th>\n",
       "      <td>C:/Users/User/DeepLearning/Deep_Learning/final...</td>\n",
       "      <td>89</td>\n",
       "      <td>832</td>\n",
       "      <td>500</td>\n",
       "      <td>1159</td>\n",
       "      <td>皖AK927W</td>\n",
       "      <td>test</td>\n",
       "    </tr>\n",
       "    <tr>\n",
       "      <th>9995</th>\n",
       "      <td>C:/Users/User/DeepLearning/Deep_Learning/final...</td>\n",
       "      <td>81</td>\n",
       "      <td>357</td>\n",
       "      <td>572</td>\n",
       "      <td>632</td>\n",
       "      <td>皖A22T99</td>\n",
       "      <td>test</td>\n",
       "    </tr>\n",
       "    <tr>\n",
       "      <th>9996</th>\n",
       "      <td>C:/Users/User/DeepLearning/Deep_Learning/final...</td>\n",
       "      <td>245</td>\n",
       "      <td>391</td>\n",
       "      <td>703</td>\n",
       "      <td>692</td>\n",
       "      <td>皖NRX399</td>\n",
       "      <td>test</td>\n",
       "    </tr>\n",
       "    <tr>\n",
       "      <th>9997</th>\n",
       "      <td>C:/Users/User/DeepLearning/Deep_Learning/final...</td>\n",
       "      <td>69</td>\n",
       "      <td>394</td>\n",
       "      <td>681</td>\n",
       "      <td>620</td>\n",
       "      <td>皖EW666K</td>\n",
       "      <td>test</td>\n",
       "    </tr>\n",
       "    <tr>\n",
       "      <th>9998</th>\n",
       "      <td>C:/Users/User/DeepLearning/Deep_Learning/final...</td>\n",
       "      <td>31</td>\n",
       "      <td>397</td>\n",
       "      <td>673</td>\n",
       "      <td>624</td>\n",
       "      <td>皖AWP202</td>\n",
       "      <td>test</td>\n",
       "    </tr>\n",
       "  </tbody>\n",
       "</table>\n",
       "<p>9999 rows × 7 columns</p>\n",
       "</div>"
      ],
      "text/plain": [
       "                                               img_path   x1   y1   x2    y2  \\\n",
       "0     C:/Users/User/DeepLearning/Deep_Learning/final...  294  496  374   540   \n",
       "1     C:/Users/User/DeepLearning/Deep_Learning/final...  304  542  411   577   \n",
       "2     C:/Users/User/DeepLearning/Deep_Learning/final...  339  547  444   583   \n",
       "3     C:/Users/User/DeepLearning/Deep_Learning/final...  177  511  268   553   \n",
       "4     C:/Users/User/DeepLearning/Deep_Learning/final...  402  426  497   467   \n",
       "...                                                 ...  ...  ...  ...   ...   \n",
       "9994  C:/Users/User/DeepLearning/Deep_Learning/final...   89  832  500  1159   \n",
       "9995  C:/Users/User/DeepLearning/Deep_Learning/final...   81  357  572   632   \n",
       "9996  C:/Users/User/DeepLearning/Deep_Learning/final...  245  391  703   692   \n",
       "9997  C:/Users/User/DeepLearning/Deep_Learning/final...   69  394  681   620   \n",
       "9998  C:/Users/User/DeepLearning/Deep_Learning/final...   31  397  673   624   \n",
       "\n",
       "     decode_plate  split  \n",
       "0         皖AD130W  train  \n",
       "1         皖AUT267  train  \n",
       "2         皖MZ4882  train  \n",
       "3         皖AVD028  train  \n",
       "4         皖RL222P  train  \n",
       "...           ...    ...  \n",
       "9994      皖AK927W   test  \n",
       "9995      皖A22T99   test  \n",
       "9996      皖NRX399   test  \n",
       "9997      皖EW666K   test  \n",
       "9998      皖AWP202   test  \n",
       "\n",
       "[9999 rows x 7 columns]"
      ]
     },
     "execution_count": 4,
     "metadata": {},
     "output_type": "execute_result"
    }
   ],
   "source": [
    "list_split = [\"train\"] * 9499\n",
    "for i in range(5):\n",
    "    list_split.extend([\"val\"]*50)\n",
    "    list_split.extend([\"test\"]*50)\n",
    "all_data [\"split\"] = list_split\n",
    "all_data "
   ]
  },
  {
   "cell_type": "code",
   "execution_count": 5,
   "metadata": {},
   "outputs": [
    {
     "data": {
      "text/html": [
       "<div>\n",
       "<style scoped>\n",
       "    .dataframe tbody tr th:only-of-type {\n",
       "        vertical-align: middle;\n",
       "    }\n",
       "\n",
       "    .dataframe tbody tr th {\n",
       "        vertical-align: top;\n",
       "    }\n",
       "\n",
       "    .dataframe thead th {\n",
       "        text-align: right;\n",
       "    }\n",
       "</style>\n",
       "<table border=\"1\" class=\"dataframe\">\n",
       "  <thead>\n",
       "    <tr style=\"text-align: right;\">\n",
       "      <th></th>\n",
       "      <th>img_path</th>\n",
       "      <th>x1</th>\n",
       "      <th>y1</th>\n",
       "      <th>x2</th>\n",
       "      <th>y2</th>\n",
       "      <th>decode_plate</th>\n",
       "      <th>split</th>\n",
       "      <th>no_chinese</th>\n",
       "    </tr>\n",
       "  </thead>\n",
       "  <tbody>\n",
       "    <tr>\n",
       "      <th>0</th>\n",
       "      <td>C:/Users/User/DeepLearning/Deep_Learning/final...</td>\n",
       "      <td>294</td>\n",
       "      <td>496</td>\n",
       "      <td>374</td>\n",
       "      <td>540</td>\n",
       "      <td>皖AD130W</td>\n",
       "      <td>train</td>\n",
       "      <td>AD130W</td>\n",
       "    </tr>\n",
       "    <tr>\n",
       "      <th>1</th>\n",
       "      <td>C:/Users/User/DeepLearning/Deep_Learning/final...</td>\n",
       "      <td>304</td>\n",
       "      <td>542</td>\n",
       "      <td>411</td>\n",
       "      <td>577</td>\n",
       "      <td>皖AUT267</td>\n",
       "      <td>train</td>\n",
       "      <td>AUT267</td>\n",
       "    </tr>\n",
       "    <tr>\n",
       "      <th>2</th>\n",
       "      <td>C:/Users/User/DeepLearning/Deep_Learning/final...</td>\n",
       "      <td>339</td>\n",
       "      <td>547</td>\n",
       "      <td>444</td>\n",
       "      <td>583</td>\n",
       "      <td>皖MZ4882</td>\n",
       "      <td>train</td>\n",
       "      <td>MZ4882</td>\n",
       "    </tr>\n",
       "    <tr>\n",
       "      <th>3</th>\n",
       "      <td>C:/Users/User/DeepLearning/Deep_Learning/final...</td>\n",
       "      <td>177</td>\n",
       "      <td>511</td>\n",
       "      <td>268</td>\n",
       "      <td>553</td>\n",
       "      <td>皖AVD028</td>\n",
       "      <td>train</td>\n",
       "      <td>AVD028</td>\n",
       "    </tr>\n",
       "    <tr>\n",
       "      <th>4</th>\n",
       "      <td>C:/Users/User/DeepLearning/Deep_Learning/final...</td>\n",
       "      <td>402</td>\n",
       "      <td>426</td>\n",
       "      <td>497</td>\n",
       "      <td>467</td>\n",
       "      <td>皖RL222P</td>\n",
       "      <td>train</td>\n",
       "      <td>RL222P</td>\n",
       "    </tr>\n",
       "    <tr>\n",
       "      <th>...</th>\n",
       "      <td>...</td>\n",
       "      <td>...</td>\n",
       "      <td>...</td>\n",
       "      <td>...</td>\n",
       "      <td>...</td>\n",
       "      <td>...</td>\n",
       "      <td>...</td>\n",
       "      <td>...</td>\n",
       "    </tr>\n",
       "    <tr>\n",
       "      <th>9994</th>\n",
       "      <td>C:/Users/User/DeepLearning/Deep_Learning/final...</td>\n",
       "      <td>89</td>\n",
       "      <td>832</td>\n",
       "      <td>500</td>\n",
       "      <td>1159</td>\n",
       "      <td>皖AK927W</td>\n",
       "      <td>test</td>\n",
       "      <td>AK927W</td>\n",
       "    </tr>\n",
       "    <tr>\n",
       "      <th>9995</th>\n",
       "      <td>C:/Users/User/DeepLearning/Deep_Learning/final...</td>\n",
       "      <td>81</td>\n",
       "      <td>357</td>\n",
       "      <td>572</td>\n",
       "      <td>632</td>\n",
       "      <td>皖A22T99</td>\n",
       "      <td>test</td>\n",
       "      <td>A22T99</td>\n",
       "    </tr>\n",
       "    <tr>\n",
       "      <th>9996</th>\n",
       "      <td>C:/Users/User/DeepLearning/Deep_Learning/final...</td>\n",
       "      <td>245</td>\n",
       "      <td>391</td>\n",
       "      <td>703</td>\n",
       "      <td>692</td>\n",
       "      <td>皖NRX399</td>\n",
       "      <td>test</td>\n",
       "      <td>NRX399</td>\n",
       "    </tr>\n",
       "    <tr>\n",
       "      <th>9997</th>\n",
       "      <td>C:/Users/User/DeepLearning/Deep_Learning/final...</td>\n",
       "      <td>69</td>\n",
       "      <td>394</td>\n",
       "      <td>681</td>\n",
       "      <td>620</td>\n",
       "      <td>皖EW666K</td>\n",
       "      <td>test</td>\n",
       "      <td>EW666K</td>\n",
       "    </tr>\n",
       "    <tr>\n",
       "      <th>9998</th>\n",
       "      <td>C:/Users/User/DeepLearning/Deep_Learning/final...</td>\n",
       "      <td>31</td>\n",
       "      <td>397</td>\n",
       "      <td>673</td>\n",
       "      <td>624</td>\n",
       "      <td>皖AWP202</td>\n",
       "      <td>test</td>\n",
       "      <td>AWP202</td>\n",
       "    </tr>\n",
       "  </tbody>\n",
       "</table>\n",
       "<p>9999 rows × 8 columns</p>\n",
       "</div>"
      ],
      "text/plain": [
       "                                               img_path   x1   y1   x2    y2  \\\n",
       "0     C:/Users/User/DeepLearning/Deep_Learning/final...  294  496  374   540   \n",
       "1     C:/Users/User/DeepLearning/Deep_Learning/final...  304  542  411   577   \n",
       "2     C:/Users/User/DeepLearning/Deep_Learning/final...  339  547  444   583   \n",
       "3     C:/Users/User/DeepLearning/Deep_Learning/final...  177  511  268   553   \n",
       "4     C:/Users/User/DeepLearning/Deep_Learning/final...  402  426  497   467   \n",
       "...                                                 ...  ...  ...  ...   ...   \n",
       "9994  C:/Users/User/DeepLearning/Deep_Learning/final...   89  832  500  1159   \n",
       "9995  C:/Users/User/DeepLearning/Deep_Learning/final...   81  357  572   632   \n",
       "9996  C:/Users/User/DeepLearning/Deep_Learning/final...  245  391  703   692   \n",
       "9997  C:/Users/User/DeepLearning/Deep_Learning/final...   69  394  681   620   \n",
       "9998  C:/Users/User/DeepLearning/Deep_Learning/final...   31  397  673   624   \n",
       "\n",
       "     decode_plate  split no_chinese  \n",
       "0         皖AD130W  train     AD130W  \n",
       "1         皖AUT267  train     AUT267  \n",
       "2         皖MZ4882  train     MZ4882  \n",
       "3         皖AVD028  train     AVD028  \n",
       "4         皖RL222P  train     RL222P  \n",
       "...           ...    ...        ...  \n",
       "9994      皖AK927W   test     AK927W  \n",
       "9995      皖A22T99   test     A22T99  \n",
       "9996      皖NRX399   test     NRX399  \n",
       "9997      皖EW666K   test     EW666K  \n",
       "9998      皖AWP202   test     AWP202  \n",
       "\n",
       "[9999 rows x 8 columns]"
      ]
     },
     "execution_count": 5,
     "metadata": {},
     "output_type": "execute_result"
    }
   ],
   "source": [
    "no_chinese = []\n",
    "for i in range(9999):\n",
    "    no_chinese.append(all_data['decode_plate'][i][1:])\n",
    "\n",
    "all_data['no_chinese'] = no_chinese\n",
    "all_data "
   ]
  },
  {
   "cell_type": "code",
   "execution_count": 6,
   "metadata": {},
   "outputs": [
    {
     "data": {
      "text/html": [
       "<div>\n",
       "<style scoped>\n",
       "    .dataframe tbody tr th:only-of-type {\n",
       "        vertical-align: middle;\n",
       "    }\n",
       "\n",
       "    .dataframe tbody tr th {\n",
       "        vertical-align: top;\n",
       "    }\n",
       "\n",
       "    .dataframe thead th {\n",
       "        text-align: right;\n",
       "    }\n",
       "</style>\n",
       "<table border=\"1\" class=\"dataframe\">\n",
       "  <thead>\n",
       "    <tr style=\"text-align: right;\">\n",
       "      <th></th>\n",
       "      <th>img_path</th>\n",
       "      <th>x1</th>\n",
       "      <th>y1</th>\n",
       "      <th>x2</th>\n",
       "      <th>y2</th>\n",
       "      <th>decode_plate</th>\n",
       "      <th>no_chinese</th>\n",
       "    </tr>\n",
       "  </thead>\n",
       "  <tbody>\n",
       "    <tr>\n",
       "      <th>0</th>\n",
       "      <td>C:/Users/User/DeepLearning/Deep_Learning/final...</td>\n",
       "      <td>294</td>\n",
       "      <td>496</td>\n",
       "      <td>374</td>\n",
       "      <td>540</td>\n",
       "      <td>皖AD130W</td>\n",
       "      <td>AD130W</td>\n",
       "    </tr>\n",
       "    <tr>\n",
       "      <th>1</th>\n",
       "      <td>C:/Users/User/DeepLearning/Deep_Learning/final...</td>\n",
       "      <td>304</td>\n",
       "      <td>542</td>\n",
       "      <td>411</td>\n",
       "      <td>577</td>\n",
       "      <td>皖AUT267</td>\n",
       "      <td>AUT267</td>\n",
       "    </tr>\n",
       "    <tr>\n",
       "      <th>2</th>\n",
       "      <td>C:/Users/User/DeepLearning/Deep_Learning/final...</td>\n",
       "      <td>339</td>\n",
       "      <td>547</td>\n",
       "      <td>444</td>\n",
       "      <td>583</td>\n",
       "      <td>皖MZ4882</td>\n",
       "      <td>MZ4882</td>\n",
       "    </tr>\n",
       "    <tr>\n",
       "      <th>3</th>\n",
       "      <td>C:/Users/User/DeepLearning/Deep_Learning/final...</td>\n",
       "      <td>177</td>\n",
       "      <td>511</td>\n",
       "      <td>268</td>\n",
       "      <td>553</td>\n",
       "      <td>皖AVD028</td>\n",
       "      <td>AVD028</td>\n",
       "    </tr>\n",
       "    <tr>\n",
       "      <th>4</th>\n",
       "      <td>C:/Users/User/DeepLearning/Deep_Learning/final...</td>\n",
       "      <td>402</td>\n",
       "      <td>426</td>\n",
       "      <td>497</td>\n",
       "      <td>467</td>\n",
       "      <td>皖RL222P</td>\n",
       "      <td>RL222P</td>\n",
       "    </tr>\n",
       "    <tr>\n",
       "      <th>...</th>\n",
       "      <td>...</td>\n",
       "      <td>...</td>\n",
       "      <td>...</td>\n",
       "      <td>...</td>\n",
       "      <td>...</td>\n",
       "      <td>...</td>\n",
       "      <td>...</td>\n",
       "    </tr>\n",
       "    <tr>\n",
       "      <th>9494</th>\n",
       "      <td>C:/Users/User/DeepLearning/Deep_Learning/final...</td>\n",
       "      <td>179</td>\n",
       "      <td>440</td>\n",
       "      <td>595</td>\n",
       "      <td>575</td>\n",
       "      <td>皖AR8647</td>\n",
       "      <td>AR8647</td>\n",
       "    </tr>\n",
       "    <tr>\n",
       "      <th>9495</th>\n",
       "      <td>C:/Users/User/DeepLearning/Deep_Learning/final...</td>\n",
       "      <td>190</td>\n",
       "      <td>506</td>\n",
       "      <td>572</td>\n",
       "      <td>653</td>\n",
       "      <td>皖A47039</td>\n",
       "      <td>A47039</td>\n",
       "    </tr>\n",
       "    <tr>\n",
       "      <th>9496</th>\n",
       "      <td>C:/Users/User/DeepLearning/Deep_Learning/final...</td>\n",
       "      <td>125</td>\n",
       "      <td>405</td>\n",
       "      <td>526</td>\n",
       "      <td>545</td>\n",
       "      <td>皖A4U877</td>\n",
       "      <td>A4U877</td>\n",
       "    </tr>\n",
       "    <tr>\n",
       "      <th>9497</th>\n",
       "      <td>C:/Users/User/DeepLearning/Deep_Learning/final...</td>\n",
       "      <td>290</td>\n",
       "      <td>482</td>\n",
       "      <td>680</td>\n",
       "      <td>626</td>\n",
       "      <td>皖AH790W</td>\n",
       "      <td>AH790W</td>\n",
       "    </tr>\n",
       "    <tr>\n",
       "      <th>9498</th>\n",
       "      <td>C:/Users/User/DeepLearning/Deep_Learning/final...</td>\n",
       "      <td>189</td>\n",
       "      <td>470</td>\n",
       "      <td>591</td>\n",
       "      <td>610</td>\n",
       "      <td>皖A3R197</td>\n",
       "      <td>A3R197</td>\n",
       "    </tr>\n",
       "  </tbody>\n",
       "</table>\n",
       "<p>9499 rows × 7 columns</p>\n",
       "</div>"
      ],
      "text/plain": [
       "                                               img_path   x1   y1   x2   y2  \\\n",
       "0     C:/Users/User/DeepLearning/Deep_Learning/final...  294  496  374  540   \n",
       "1     C:/Users/User/DeepLearning/Deep_Learning/final...  304  542  411  577   \n",
       "2     C:/Users/User/DeepLearning/Deep_Learning/final...  339  547  444  583   \n",
       "3     C:/Users/User/DeepLearning/Deep_Learning/final...  177  511  268  553   \n",
       "4     C:/Users/User/DeepLearning/Deep_Learning/final...  402  426  497  467   \n",
       "...                                                 ...  ...  ...  ...  ...   \n",
       "9494  C:/Users/User/DeepLearning/Deep_Learning/final...  179  440  595  575   \n",
       "9495  C:/Users/User/DeepLearning/Deep_Learning/final...  190  506  572  653   \n",
       "9496  C:/Users/User/DeepLearning/Deep_Learning/final...  125  405  526  545   \n",
       "9497  C:/Users/User/DeepLearning/Deep_Learning/final...  290  482  680  626   \n",
       "9498  C:/Users/User/DeepLearning/Deep_Learning/final...  189  470  591  610   \n",
       "\n",
       "     decode_plate no_chinese  \n",
       "0         皖AD130W     AD130W  \n",
       "1         皖AUT267     AUT267  \n",
       "2         皖MZ4882     MZ4882  \n",
       "3         皖AVD028     AVD028  \n",
       "4         皖RL222P     RL222P  \n",
       "...           ...        ...  \n",
       "9494      皖AR8647     AR8647  \n",
       "9495      皖A47039     A47039  \n",
       "9496      皖A4U877     A4U877  \n",
       "9497      皖AH790W     AH790W  \n",
       "9498      皖A3R197     A3R197  \n",
       "\n",
       "[9499 rows x 7 columns]"
      ]
     },
     "execution_count": 6,
     "metadata": {},
     "output_type": "execute_result"
    }
   ],
   "source": [
    "df_train = all_data [all_data[\"split\"]==\"train\"].reset_index(drop=True)\n",
    "df_train = df_train[[\"img_path\", \"x1\", \"y1\", \"x2\", \"y2\",\"decode_plate\",'no_chinese']]\n",
    "df_train"
   ]
  },
  {
   "cell_type": "code",
   "execution_count": 7,
   "metadata": {},
   "outputs": [
    {
     "data": {
      "text/html": [
       "<div>\n",
       "<style scoped>\n",
       "    .dataframe tbody tr th:only-of-type {\n",
       "        vertical-align: middle;\n",
       "    }\n",
       "\n",
       "    .dataframe tbody tr th {\n",
       "        vertical-align: top;\n",
       "    }\n",
       "\n",
       "    .dataframe thead th {\n",
       "        text-align: right;\n",
       "    }\n",
       "</style>\n",
       "<table border=\"1\" class=\"dataframe\">\n",
       "  <thead>\n",
       "    <tr style=\"text-align: right;\">\n",
       "      <th></th>\n",
       "      <th>img_path</th>\n",
       "      <th>x1</th>\n",
       "      <th>y1</th>\n",
       "      <th>x2</th>\n",
       "      <th>y2</th>\n",
       "      <th>decode_plate</th>\n",
       "      <th>no_chinese</th>\n",
       "    </tr>\n",
       "  </thead>\n",
       "  <tbody>\n",
       "    <tr>\n",
       "      <th>0</th>\n",
       "      <td>C:/Users/User/DeepLearning/Deep_Learning/final...</td>\n",
       "      <td>217</td>\n",
       "      <td>448</td>\n",
       "      <td>475</td>\n",
       "      <td>666</td>\n",
       "      <td>皖AY6F46</td>\n",
       "      <td>AY6F46</td>\n",
       "    </tr>\n",
       "    <tr>\n",
       "      <th>1</th>\n",
       "      <td>C:/Users/User/DeepLearning/Deep_Learning/final...</td>\n",
       "      <td>134</td>\n",
       "      <td>424</td>\n",
       "      <td>504</td>\n",
       "      <td>576</td>\n",
       "      <td>浙C096FU</td>\n",
       "      <td>C096FU</td>\n",
       "    </tr>\n",
       "    <tr>\n",
       "      <th>2</th>\n",
       "      <td>C:/Users/User/DeepLearning/Deep_Learning/final...</td>\n",
       "      <td>54</td>\n",
       "      <td>394</td>\n",
       "      <td>380</td>\n",
       "      <td>567</td>\n",
       "      <td>沪C0C9U1</td>\n",
       "      <td>C0C9U1</td>\n",
       "    </tr>\n",
       "    <tr>\n",
       "      <th>3</th>\n",
       "      <td>C:/Users/User/DeepLearning/Deep_Learning/final...</td>\n",
       "      <td>281</td>\n",
       "      <td>536</td>\n",
       "      <td>662</td>\n",
       "      <td>684</td>\n",
       "      <td>皖AY060V</td>\n",
       "      <td>AY060V</td>\n",
       "    </tr>\n",
       "    <tr>\n",
       "      <th>4</th>\n",
       "      <td>C:/Users/User/DeepLearning/Deep_Learning/final...</td>\n",
       "      <td>162</td>\n",
       "      <td>445</td>\n",
       "      <td>586</td>\n",
       "      <td>578</td>\n",
       "      <td>皖ADB398</td>\n",
       "      <td>ADB398</td>\n",
       "    </tr>\n",
       "    <tr>\n",
       "      <th>...</th>\n",
       "      <td>...</td>\n",
       "      <td>...</td>\n",
       "      <td>...</td>\n",
       "      <td>...</td>\n",
       "      <td>...</td>\n",
       "      <td>...</td>\n",
       "      <td>...</td>\n",
       "    </tr>\n",
       "    <tr>\n",
       "      <th>245</th>\n",
       "      <td>C:/Users/User/DeepLearning/Deep_Learning/final...</td>\n",
       "      <td>147</td>\n",
       "      <td>426</td>\n",
       "      <td>643</td>\n",
       "      <td>595</td>\n",
       "      <td>皖AL1U67</td>\n",
       "      <td>AL1U67</td>\n",
       "    </tr>\n",
       "    <tr>\n",
       "      <th>246</th>\n",
       "      <td>C:/Users/User/DeepLearning/Deep_Learning/final...</td>\n",
       "      <td>199</td>\n",
       "      <td>362</td>\n",
       "      <td>533</td>\n",
       "      <td>613</td>\n",
       "      <td>皖AUL132</td>\n",
       "      <td>AUL132</td>\n",
       "    </tr>\n",
       "    <tr>\n",
       "      <th>247</th>\n",
       "      <td>C:/Users/User/DeepLearning/Deep_Learning/final...</td>\n",
       "      <td>233</td>\n",
       "      <td>338</td>\n",
       "      <td>589</td>\n",
       "      <td>574</td>\n",
       "      <td>皖AFJ956</td>\n",
       "      <td>AFJ956</td>\n",
       "    </tr>\n",
       "    <tr>\n",
       "      <th>248</th>\n",
       "      <td>C:/Users/User/DeepLearning/Deep_Learning/final...</td>\n",
       "      <td>94</td>\n",
       "      <td>424</td>\n",
       "      <td>601</td>\n",
       "      <td>592</td>\n",
       "      <td>皖AS661Z</td>\n",
       "      <td>AS661Z</td>\n",
       "    </tr>\n",
       "    <tr>\n",
       "      <th>249</th>\n",
       "      <td>C:/Users/User/DeepLearning/Deep_Learning/final...</td>\n",
       "      <td>105</td>\n",
       "      <td>412</td>\n",
       "      <td>719</td>\n",
       "      <td>551</td>\n",
       "      <td>吉BTW976</td>\n",
       "      <td>BTW976</td>\n",
       "    </tr>\n",
       "  </tbody>\n",
       "</table>\n",
       "<p>250 rows × 7 columns</p>\n",
       "</div>"
      ],
      "text/plain": [
       "                                              img_path   x1   y1   x2   y2  \\\n",
       "0    C:/Users/User/DeepLearning/Deep_Learning/final...  217  448  475  666   \n",
       "1    C:/Users/User/DeepLearning/Deep_Learning/final...  134  424  504  576   \n",
       "2    C:/Users/User/DeepLearning/Deep_Learning/final...   54  394  380  567   \n",
       "3    C:/Users/User/DeepLearning/Deep_Learning/final...  281  536  662  684   \n",
       "4    C:/Users/User/DeepLearning/Deep_Learning/final...  162  445  586  578   \n",
       "..                                                 ...  ...  ...  ...  ...   \n",
       "245  C:/Users/User/DeepLearning/Deep_Learning/final...  147  426  643  595   \n",
       "246  C:/Users/User/DeepLearning/Deep_Learning/final...  199  362  533  613   \n",
       "247  C:/Users/User/DeepLearning/Deep_Learning/final...  233  338  589  574   \n",
       "248  C:/Users/User/DeepLearning/Deep_Learning/final...   94  424  601  592   \n",
       "249  C:/Users/User/DeepLearning/Deep_Learning/final...  105  412  719  551   \n",
       "\n",
       "    decode_plate no_chinese  \n",
       "0        皖AY6F46     AY6F46  \n",
       "1        浙C096FU     C096FU  \n",
       "2        沪C0C9U1     C0C9U1  \n",
       "3        皖AY060V     AY060V  \n",
       "4        皖ADB398     ADB398  \n",
       "..           ...        ...  \n",
       "245      皖AL1U67     AL1U67  \n",
       "246      皖AUL132     AUL132  \n",
       "247      皖AFJ956     AFJ956  \n",
       "248      皖AS661Z     AS661Z  \n",
       "249      吉BTW976     BTW976  \n",
       "\n",
       "[250 rows x 7 columns]"
      ]
     },
     "execution_count": 7,
     "metadata": {},
     "output_type": "execute_result"
    }
   ],
   "source": [
    "df_val = all_data [all_data[\"split\"]==\"val\"].reset_index(drop=True)\n",
    "df_val = df_val[[\"img_path\", \"x1\", \"y1\", \"x2\", \"y2\",\"decode_plate\",'no_chinese']]\n",
    "df_val"
   ]
  },
  {
   "cell_type": "code",
   "execution_count": 8,
   "metadata": {},
   "outputs": [
    {
     "name": "stdout",
     "output_type": "stream",
     "text": [
      "Initial GPU Usage\n",
      "| ID | GPU | MEM |\n",
      "------------------\n",
      "|  0 |  0% |  0% |\n",
      "GPU Usage after emptying the cache\n",
      "| ID | GPU | MEM |\n",
      "------------------\n",
      "|  0 |  0% |  2% |\n"
     ]
    }
   ],
   "source": [
    "from numba import cuda\n",
    "from GPUtil import showUtilization as gpu_usage\n",
    "\n",
    "def free_gpu_cache():\n",
    "    print(\"Initial GPU Usage\")\n",
    "    gpu_usage()                             \n",
    "\n",
    "    torch.cuda.empty_cache()\n",
    "\n",
    "    cuda.select_device(0)\n",
    "    cuda.close()\n",
    "    cuda.select_device(0)\n",
    "\n",
    "    print(\"GPU Usage after emptying the cache\")\n",
    "    gpu_usage()\n",
    "\n",
    "free_gpu_cache()"
   ]
  },
  {
   "cell_type": "code",
   "execution_count": 10,
   "metadata": {},
   "outputs": [
    {
     "name": "stderr",
     "output_type": "stream",
     "text": [
      "Using cache found in C:\\Users\\User/.cache\\torch\\hub\\pytorch_vision_v0.10.0\n",
      "c:\\Users\\User\\anaconda3\\envs\\DeepLearning\\Lib\\site-packages\\torchvision\\models\\_utils.py:208: UserWarning: The parameter 'pretrained' is deprecated since 0.13 and may be removed in the future, please use 'weights' instead.\n",
      "  warnings.warn(\n",
      "c:\\Users\\User\\anaconda3\\envs\\DeepLearning\\Lib\\site-packages\\torchvision\\models\\_utils.py:223: UserWarning: Arguments other than a weight enum or `None` for 'weights' are deprecated since 0.13 and may be removed in the future. The current behavior is equivalent to passing `weights=MobileNet_V2_Weights.IMAGENET1K_V1`. You can also use `weights=MobileNet_V2_Weights.DEFAULT` to get the most up-to-date weights.\n",
      "  warnings.warn(msg)\n"
     ]
    }
   ],
   "source": [
    "model = torch.hub.load('pytorch/vision:v0.10.0', 'mobilenet_v2', pretrained=True)"
   ]
  },
  {
   "cell_type": "code",
   "execution_count": 11,
   "metadata": {},
   "outputs": [],
   "source": [
    "\n",
    "class Dataset(Dataset):\n",
    "    def __init__(self, dataframe):\n",
    "        self.df_train = dataframe\n",
    "\n",
    "    def __len__(self):\n",
    "        return len(self.df_train)\n",
    "\n",
    "    def __getitem__(self, index):\n",
    "        train_path = self.df_train[\"img_path\"][index]\n",
    "        file_no_jpg = train_path.split(\"/\")[-1][:-4]\n",
    "\n",
    "        exver_img = cv2.imread(train_path)\n",
    "        vertices = file_no_jpg.split(\"-\")[3]\n",
    "        split = vertices.split(\"_\")\n",
    "\n",
    "        x= (split[0].split(','))\n",
    "        y= (split[1].split(','))\n",
    "        z= (split[2].split(','))\n",
    "        w= (split[3].split(','))\n",
    "        coordinates= [int(x[0]), int(x[1]),int(y[0]),int(y[1]),int(z[0]),int(z[1]),int(w[0]),int(w[1])]\n",
    "        location.append(coordinates)\n",
    "        p1 = np.float32([[coordinates[4], coordinates[5]],\n",
    "                        [coordinates[6], coordinates[7]],\n",
    "                        [coordinates[2], coordinates[3]], \n",
    "                        [coordinates[0], coordinates[1]]])\n",
    "        p2 = np.float32([[0, 0],[exver_img.shape[1],0],[0,exver_img.shape[0]],[exver_img.shape[1],exver_img.shape[0]]])\n",
    "        M = cv2.getPerspectiveTransform(p1, p2)\n",
    "        outimg = cv2.warpPerspective(exver_img, M, exver_img.shape[1::-1])\n",
    "        resized = cv2.resize(outimg, (120,24), interpolation = cv2.INTER_AREA)\n",
    "        \n",
    "        no_chinese_img = resized[:,120//7:]\n",
    "\n",
    "        text = self.df_train[\"no_chinese\"][index]\n",
    "\n",
    "        # Apply transformations\n",
    "        transformed_image = self.transform(no_chinese_img)\n",
    "\n",
    "        return transformed_image, text\n",
    "\n",
    "    def transform(self, image):\n",
    "        transform_ops = transforms.Compose([\n",
    "            transforms.ToPILImage(),\n",
    "            transforms.Resize((50, 200)),\n",
    "            transforms.ToTensor(),\n",
    "            transforms.Normalize(mean=(0.485, 0.456, 0.406), std=(0.229, 0.224, 0.225))\n",
    "        ])\n",
    "        return transform_ops(image)"
   ]
  },
  {
   "cell_type": "code",
   "execution_count": 13,
   "metadata": {},
   "outputs": [
    {
     "name": "stdout",
     "output_type": "stream",
     "text": [
      "594\n"
     ]
    }
   ],
   "source": [
    "trainset = Dataset(df_train)\n",
    "valset =  Dataset(df_val)\n",
    "\n",
    "train_loader = DataLoader(trainset, batch_size=16, num_workers=0, shuffle=False)\n",
    "test_loader = DataLoader(valset, batch_size=16, num_workers=0, shuffle=False)\n",
    "print(len(train_loader))"
   ]
  },
  {
   "cell_type": "code",
   "execution_count": 14,
   "metadata": {},
   "outputs": [
    {
     "name": "stdout",
     "output_type": "stream",
     "text": [
      "torch.Size([16, 3, 50, 200]) ('AD130W', 'AUT267', 'MZ4882', 'AVD028', 'RL222P', 'AGC276', 'AU0194', 'AC880Y', 'ATG568', 'A41476', 'AH8V95', 'ATV235', 'AJ7532', 'AE0901', 'QSW808', 'A93853')\n"
     ]
    }
   ],
   "source": [
    "image_batch, text_batch = next(iter(train_loader))\n",
    "print(image_batch.size(), text_batch)"
   ]
  },
  {
   "cell_type": "code",
   "execution_count": 15,
   "metadata": {},
   "outputs": [
    {
     "name": "stdout",
     "output_type": "stream",
     "text": [
      "{0: 'A', 1: 'B', 2: 'C', 3: 'D', 4: 'E', 5: 'F', 6: 'G', 7: 'H', 8: 'J', 9: 'K', 10: 'L', 11: 'M', 12: 'N', 13: 'P', 14: 'Q', 15: 'R', 16: 'S', 17: 'T', 18: 'U', 19: 'V', 20: 'W', 21: 'X', 22: 'Y', 23: 'Z', 24: 'O', 25: '0', 26: '1', 27: '2', 28: '3', 29: '4', 30: '5', 31: '6', 32: '7', 33: '8', 34: '9'}\n",
      "{'A': 0, 'B': 1, 'C': 2, 'D': 3, 'E': 4, 'F': 5, 'G': 6, 'H': 7, 'J': 8, 'K': 9, 'L': 10, 'M': 11, 'N': 12, 'P': 13, 'Q': 14, 'R': 15, 'S': 16, 'T': 17, 'U': 18, 'V': 19, 'W': 20, 'X': 21, 'Y': 22, 'Z': 23, 'O': 24, '0': 25, '1': 26, '2': 27, '3': 28, '4': 29, '5': 30, '6': 31, '7': 32, '8': 33, '9': 34}\n"
     ]
    }
   ],
   "source": [
    "alphabets = ['A', 'B', 'C', 'D', 'E', 'F', 'G', 'H', 'J', 'K', 'L', 'M', 'N', 'P', 'Q', 'R', 'S', 'T', 'U', 'V', 'W',\n",
    "             'X', 'Y', 'Z', 'O','0', '1', '2', '3', '4', '5', '6', '7', '8', '9']\n",
    "idx2char = {k:v for k,v in enumerate(alphabets, start=0)}\n",
    "print(idx2char)\n",
    "char2idx = {v:k for k,v in idx2char.items()}\n",
    "print(char2idx)"
   ]
  },
  {
   "cell_type": "code",
   "execution_count": 16,
   "metadata": {},
   "outputs": [
    {
     "name": "stdout",
     "output_type": "stream",
     "text": [
      "35\n"
     ]
    }
   ],
   "source": [
    "num_chars = len(char2idx)\n",
    "print(num_chars)\n",
    "rnn_hidden_size = 256"
   ]
  },
  {
   "cell_type": "code",
   "execution_count": 17,
   "metadata": {},
   "outputs": [
    {
     "name": "stdout",
     "output_type": "stream",
     "text": [
      "cuda\n"
     ]
    }
   ],
   "source": [
    "device = torch.device('cuda' if torch.cuda.is_available() else 'cpu')\n",
    "print(device)"
   ]
  },
  {
   "cell_type": "code",
   "execution_count": 18,
   "metadata": {},
   "outputs": [
    {
     "name": "stderr",
     "output_type": "stream",
     "text": [
      "c:\\Users\\User\\anaconda3\\envs\\DeepLearning\\Lib\\site-packages\\torchvision\\models\\_utils.py:223: UserWarning: Arguments other than a weight enum or `None` for 'weights' are deprecated since 0.13 and may be removed in the future. The current behavior is equivalent to passing `weights=ResNet18_Weights.IMAGENET1K_V1`. You can also use `weights=ResNet18_Weights.DEFAULT` to get the most up-to-date weights.\n",
      "  warnings.warn(msg)\n"
     ]
    }
   ],
   "source": [
    "resnet = resnet18(pretrained=True)"
   ]
  },
  {
   "cell_type": "code",
   "execution_count": 23,
   "metadata": {},
   "outputs": [
    {
     "name": "stdout",
     "output_type": "stream",
     "text": [
      "cuda\n"
     ]
    }
   ],
   "source": [
    "device = torch.device('cuda' if torch.cuda.is_available() else 'cpu')\n",
    "print(device)\n",
    "\n",
    "class CRNN(nn.Module):\n",
    "    \n",
    "    def __init__(self, num_chars, rnn_hidden_size=256, dropout=0.4):\n",
    "        \n",
    "        super(CRNN, self).__init__()\n",
    "        self.num_chars = num_chars\n",
    "        self.rnn_hidden_size = rnn_hidden_size\n",
    "        self.dropout = dropout\n",
    "\n",
    "        # CNN\n",
    "        resnet_modules = list(resnet.children())[:-3]\n",
    "        \n",
    "        self.cnn = nn.Sequential(*resnet_modules)\n",
    "        self.conv =  nn.Conv2d(256, 256, kernel_size=(3,6), stride=1, padding=1) # Adjusted kernel_size\n",
    "        self.batch_norm = nn.BatchNorm2d(256)\n",
    "        self.relu = nn.ReLU(inplace=True)\n",
    "        \n",
    "        # CNN Part 2\n",
    "        \n",
    "        self.linear1 = nn.Linear(1024, 256)\n",
    "        \n",
    "        # RNN\n",
    "        self.rnn = nn.GRU(input_size=256, hidden_size=rnn_hidden_size, bidirectional=True, batch_first=True)\n",
    "        self.linear2 = nn.Linear(self.rnn_hidden_size*2, num_chars)\n",
    "        \n",
    "        \n",
    "    def forward(self, batch):\n",
    "        \n",
    "        batch = self.cnn(batch)\n",
    "        batch = self.conv(batch)\n",
    "        batch = self.batch_norm(batch)\n",
    "        batch = self.relu(batch)\n",
    "        \n",
    "        \n",
    "        batch = batch.permute(0, 3, 1, 2) \n",
    "         \n",
    "        batch_size = batch.size(0)\n",
    "        T = batch.size(1)\n",
    "        batch = batch.view(batch_size, T, -1) \n",
    "        batch = self.linear1(batch)\n",
    "        \n",
    "        \n",
    "        batch, hidden = self.rnn(batch)\n",
    "        feature_size = batch.size(2)\n",
    "        batch = batch[:, :, :feature_size//2] + batch[:, :, feature_size//2:]\n",
    "       \n",
    "        batch, hidden = self.rnn(batch)\n",
    "        \n",
    "        \n",
    "        batch = self.linear2(batch)\n",
    "        # print(batch.shape)\n",
    "        \n",
    "        \n",
    "        batch = batch.permute(1, 0, 2)\n",
    "        # print(batch.shape)\n",
    "        return batch\n",
    "        \n",
    "def weights_init(m):\n",
    "    classname = m.__class__.__name__\n",
    "    if type(m) in [nn.Linear, nn.Conv2d, nn.Conv1d]:\n",
    "        torch.nn.init.xavier_uniform_(m.weight)\n",
    "        if m.bias is not None:\n",
    "            m.bias.data.fill_(0.01)\n",
    "    elif classname.find('BatchNorm') != -1:\n",
    "        m.weight.data.normal_(1.0, 0.02)\n",
    "        m.bias.data.fill_(0)\n",
    "\n",
    "crnn = CRNN(num_chars, rnn_hidden_size=rnn_hidden_size)\n",
    "crnn.apply(weights_init)\n",
    "crnn = crnn.to(device)            "
   ]
  },
  {
   "cell_type": "code",
   "execution_count": 29,
   "metadata": {},
   "outputs": [
    {
     "name": "stdout",
     "output_type": "stream",
     "text": [
      "CRNN(\n",
      "  (cnn): Sequential(\n",
      "    (0): Conv2d(3, 64, kernel_size=(7, 7), stride=(2, 2), padding=(3, 3), bias=False)\n",
      "    (1): BatchNorm2d(64, eps=1e-05, momentum=0.1, affine=True, track_running_stats=True)\n",
      "    (2): ReLU(inplace=True)\n",
      "    (3): MaxPool2d(kernel_size=3, stride=2, padding=1, dilation=1, ceil_mode=False)\n",
      "    (4): Sequential(\n",
      "      (0): BasicBlock(\n",
      "        (conv1): Conv2d(64, 64, kernel_size=(3, 3), stride=(1, 1), padding=(1, 1), bias=False)\n",
      "        (bn1): BatchNorm2d(64, eps=1e-05, momentum=0.1, affine=True, track_running_stats=True)\n",
      "        (relu): ReLU(inplace=True)\n",
      "        (conv2): Conv2d(64, 64, kernel_size=(3, 3), stride=(1, 1), padding=(1, 1), bias=False)\n",
      "        (bn2): BatchNorm2d(64, eps=1e-05, momentum=0.1, affine=True, track_running_stats=True)\n",
      "      )\n",
      "      (1): BasicBlock(\n",
      "        (conv1): Conv2d(64, 64, kernel_size=(3, 3), stride=(1, 1), padding=(1, 1), bias=False)\n",
      "        (bn1): BatchNorm2d(64, eps=1e-05, momentum=0.1, affine=True, track_running_stats=True)\n",
      "        (relu): ReLU(inplace=True)\n",
      "        (conv2): Conv2d(64, 64, kernel_size=(3, 3), stride=(1, 1), padding=(1, 1), bias=False)\n",
      "        (bn2): BatchNorm2d(64, eps=1e-05, momentum=0.1, affine=True, track_running_stats=True)\n",
      "      )\n",
      "    )\n",
      "    (5): Sequential(\n",
      "      (0): BasicBlock(\n",
      "        (conv1): Conv2d(64, 128, kernel_size=(3, 3), stride=(2, 2), padding=(1, 1), bias=False)\n",
      "        (bn1): BatchNorm2d(128, eps=1e-05, momentum=0.1, affine=True, track_running_stats=True)\n",
      "        (relu): ReLU(inplace=True)\n",
      "        (conv2): Conv2d(128, 128, kernel_size=(3, 3), stride=(1, 1), padding=(1, 1), bias=False)\n",
      "        (bn2): BatchNorm2d(128, eps=1e-05, momentum=0.1, affine=True, track_running_stats=True)\n",
      "        (downsample): Sequential(\n",
      "          (0): Conv2d(64, 128, kernel_size=(1, 1), stride=(2, 2), bias=False)\n",
      "          (1): BatchNorm2d(128, eps=1e-05, momentum=0.1, affine=True, track_running_stats=True)\n",
      "        )\n",
      "      )\n",
      "      (1): BasicBlock(\n",
      "        (conv1): Conv2d(128, 128, kernel_size=(3, 3), stride=(1, 1), padding=(1, 1), bias=False)\n",
      "        (bn1): BatchNorm2d(128, eps=1e-05, momentum=0.1, affine=True, track_running_stats=True)\n",
      "        (relu): ReLU(inplace=True)\n",
      "        (conv2): Conv2d(128, 128, kernel_size=(3, 3), stride=(1, 1), padding=(1, 1), bias=False)\n",
      "        (bn2): BatchNorm2d(128, eps=1e-05, momentum=0.1, affine=True, track_running_stats=True)\n",
      "      )\n",
      "    )\n",
      "    (6): Sequential(\n",
      "      (0): BasicBlock(\n",
      "        (conv1): Conv2d(128, 256, kernel_size=(3, 3), stride=(2, 2), padding=(1, 1), bias=False)\n",
      "        (bn1): BatchNorm2d(256, eps=1e-05, momentum=0.1, affine=True, track_running_stats=True)\n",
      "        (relu): ReLU(inplace=True)\n",
      "        (conv2): Conv2d(256, 256, kernel_size=(3, 3), stride=(1, 1), padding=(1, 1), bias=False)\n",
      "        (bn2): BatchNorm2d(256, eps=1e-05, momentum=0.1, affine=True, track_running_stats=True)\n",
      "        (downsample): Sequential(\n",
      "          (0): Conv2d(128, 256, kernel_size=(1, 1), stride=(2, 2), bias=False)\n",
      "          (1): BatchNorm2d(256, eps=1e-05, momentum=0.1, affine=True, track_running_stats=True)\n",
      "        )\n",
      "      )\n",
      "      (1): BasicBlock(\n",
      "        (conv1): Conv2d(256, 256, kernel_size=(3, 3), stride=(1, 1), padding=(1, 1), bias=False)\n",
      "        (bn1): BatchNorm2d(256, eps=1e-05, momentum=0.1, affine=True, track_running_stats=True)\n",
      "        (relu): ReLU(inplace=True)\n",
      "        (conv2): Conv2d(256, 256, kernel_size=(3, 3), stride=(1, 1), padding=(1, 1), bias=False)\n",
      "        (bn2): BatchNorm2d(256, eps=1e-05, momentum=0.1, affine=True, track_running_stats=True)\n",
      "      )\n",
      "    )\n",
      "  )\n",
      "  (conv): Conv2d(256, 256, kernel_size=(3, 6), stride=(1, 1), padding=(1, 1))\n",
      "  (batch_norm): BatchNorm2d(256, eps=1e-05, momentum=0.1, affine=True, track_running_stats=True)\n",
      "  (relu): ReLU(inplace=True)\n",
      "  (linear1): Linear(in_features=1024, out_features=256, bias=True)\n",
      "  (rnn): GRU(256, 256, batch_first=True, bidirectional=True)\n",
      "  (linear2): Linear(in_features=512, out_features=35, bias=True)\n",
      ")\n"
     ]
    }
   ],
   "source": [
    "print(crnn)"
   ]
  },
  {
   "cell_type": "code",
   "execution_count": 24,
   "metadata": {},
   "outputs": [
    {
     "name": "stdout",
     "output_type": "stream",
     "text": [
      "('AD130W', 'AUT267', 'MZ4882', 'AVD028', 'RL222P', 'AGC276', 'AU0194', 'AC880Y', 'ATG568', 'A41476', 'AH8V95', 'ATV235', 'AJ7532', 'AE0901', 'QSW808', 'A93853')\n",
      "torch.Size([10, 16, 35])\n"
     ]
    }
   ],
   "source": [
    "text_batch_logits = crnn(image_batch.to(device))\n",
    "print(text_batch)\n",
    "print(text_batch_logits.shape)"
   ]
  },
  {
   "cell_type": "code",
   "execution_count": 25,
   "metadata": {},
   "outputs": [],
   "source": [
    "criterion = nn.CTCLoss(blank=0)"
   ]
  },
  {
   "cell_type": "code",
   "execution_count": 26,
   "metadata": {},
   "outputs": [
    {
     "data": {
      "text/plain": [
       "tensor(4.7456, device='cuda:0', grad_fn=<MeanBackward0>)"
      ]
     },
     "execution_count": 26,
     "metadata": {},
     "output_type": "execute_result"
    }
   ],
   "source": [
    "def encode_text_batch(text_batch):\n",
    "    \n",
    "    text_batch_targets_lens = [len(text) for text in text_batch]\n",
    "    text_batch_targets_lens = torch.IntTensor(text_batch_targets_lens)\n",
    "    \n",
    "    text_batch_concat = \"\".join(text_batch)\n",
    "    text_batch_targets = [char2idx[c] for c in text_batch_concat]\n",
    "    text_batch_targets = torch.IntTensor(text_batch_targets)\n",
    "    \n",
    "    return text_batch_targets, text_batch_targets_lens\n",
    "def compute_loss(text_batch, text_batch_logits):\n",
    "    \"\"\"\n",
    "    text_batch: list of strings of length equal to batch size\n",
    "    text_batch_logits: Tensor of size([T, batch_size, num_classes])\n",
    "    \"\"\"\n",
    "    text_batch_logps = F.log_softmax(text_batch_logits, 2) # [T, batch_size, num_classes]  \n",
    "    text_batch_logps_lens = torch.full(size=(text_batch_logps.size(1),), \n",
    "                                       fill_value=text_batch_logps.size(0), \n",
    "                                       dtype=torch.int32).to(device) # [batch_size] \n",
    "    \n",
    "    text_batch_targets, text_batch_targets_lens = encode_text_batch(text_batch)\n",
    "    \n",
    "    loss = criterion(text_batch_logps, text_batch_targets, text_batch_logps_lens, text_batch_targets_lens)\n",
    "\n",
    "    return loss\n",
    "\n",
    "compute_loss(text_batch, text_batch_logits)"
   ]
  },
  {
   "cell_type": "code",
   "execution_count": 27,
   "metadata": {},
   "outputs": [],
   "source": [
    "num_epochs = 50\n",
    "lr = 0.001\n",
    "weight_decay = 1e-3\n",
    "clip_norm = 5\n",
    "\n",
    "optimizer = optim.Adam(crnn.parameters(), lr=lr, weight_decay=weight_decay)\n",
    "lr_scheduler = optim.lr_scheduler.ReduceLROnPlateau(optimizer, verbose=True, patience=5)\n",
    "\n",
    "\n",
    "crnn = CRNN(num_chars, rnn_hidden_size=rnn_hidden_size)\n",
    "crnn.apply(weights_init)\n",
    "crnn = crnn.to(device)"
   ]
  },
  {
   "cell_type": "code",
   "execution_count": 28,
   "metadata": {},
   "outputs": [
    {
     "data": {
      "application/vnd.jupyter.widget-view+json": {
       "model_id": "3d5d06d560ac46c79a4ff3aca2b9016e",
       "version_major": 2,
       "version_minor": 0
      },
      "text/plain": [
       "  0%|          | 0/50 [00:00<?, ?it/s]"
      ]
     },
     "metadata": {},
     "output_type": "display_data"
    },
    {
     "data": {
      "application/vnd.jupyter.widget-view+json": {
       "model_id": "15f744b487df4f5fb816e1de2ff84216",
       "version_major": 2,
       "version_minor": 0
      },
      "text/plain": [
       "  0%|          | 0/594 [00:00<?, ?it/s]"
      ]
     },
     "metadata": {},
     "output_type": "display_data"
    },
    {
     "name": "stdout",
     "output_type": "stream",
     "text": [
      "Epoch:1    Loss:1.882941895462447    NumUpdates:594\n"
     ]
    },
    {
     "data": {
      "application/vnd.jupyter.widget-view+json": {
       "model_id": "58c6478c2eec4add9dbd997a6ff8ee0d",
       "version_major": 2,
       "version_minor": 0
      },
      "text/plain": [
       "  0%|          | 0/594 [00:00<?, ?it/s]"
      ]
     },
     "metadata": {},
     "output_type": "display_data"
    },
    {
     "ename": "KeyboardInterrupt",
     "evalue": "",
     "output_type": "error",
     "traceback": [
      "\u001b[1;31m---------------------------------------------------------------------------\u001b[0m",
      "\u001b[1;31mKeyboardInterrupt\u001b[0m                         Traceback (most recent call last)",
      "Cell \u001b[1;32mIn[28], line 7\u001b[0m\n\u001b[0;32m      5\u001b[0m epoch_loss_list \u001b[38;5;241m=\u001b[39m [] \n\u001b[0;32m      6\u001b[0m num_updates_epoch \u001b[38;5;241m=\u001b[39m \u001b[38;5;241m0\u001b[39m\n\u001b[1;32m----> 7\u001b[0m \u001b[38;5;28;01mfor\u001b[39;00m image_batch, text_batch \u001b[38;5;129;01min\u001b[39;00m tqdm(train_loader, leave\u001b[38;5;241m=\u001b[39m\u001b[38;5;28;01mFalse\u001b[39;00m):\n\u001b[0;32m      8\u001b[0m     optimizer\u001b[38;5;241m.\u001b[39mzero_grad()\n\u001b[0;32m      9\u001b[0m     text_batch_logits \u001b[38;5;241m=\u001b[39m crnn(image_batch\u001b[38;5;241m.\u001b[39mto(device))\n",
      "File \u001b[1;32mc:\\Users\\User\\anaconda3\\envs\\DeepLearning\\Lib\\site-packages\\tqdm\\notebook.py:249\u001b[0m, in \u001b[0;36mtqdm_notebook.__iter__\u001b[1;34m(self)\u001b[0m\n\u001b[0;32m    247\u001b[0m \u001b[38;5;28;01mtry\u001b[39;00m:\n\u001b[0;32m    248\u001b[0m     it \u001b[38;5;241m=\u001b[39m \u001b[38;5;28msuper\u001b[39m(tqdm_notebook, \u001b[38;5;28mself\u001b[39m)\u001b[38;5;241m.\u001b[39m\u001b[38;5;21m__iter__\u001b[39m()\n\u001b[1;32m--> 249\u001b[0m     \u001b[38;5;28;01mfor\u001b[39;00m obj \u001b[38;5;129;01min\u001b[39;00m it:\n\u001b[0;32m    250\u001b[0m         \u001b[38;5;66;03m# return super(tqdm...) will not catch exception\u001b[39;00m\n\u001b[0;32m    251\u001b[0m         \u001b[38;5;28;01myield\u001b[39;00m obj\n\u001b[0;32m    252\u001b[0m \u001b[38;5;66;03m# NB: except ... [ as ...] breaks IPython async KeyboardInterrupt\u001b[39;00m\n",
      "File \u001b[1;32mc:\\Users\\User\\anaconda3\\envs\\DeepLearning\\Lib\\site-packages\\tqdm\\std.py:1182\u001b[0m, in \u001b[0;36mtqdm.__iter__\u001b[1;34m(self)\u001b[0m\n\u001b[0;32m   1179\u001b[0m time \u001b[38;5;241m=\u001b[39m \u001b[38;5;28mself\u001b[39m\u001b[38;5;241m.\u001b[39m_time\n\u001b[0;32m   1181\u001b[0m \u001b[38;5;28;01mtry\u001b[39;00m:\n\u001b[1;32m-> 1182\u001b[0m     \u001b[38;5;28;01mfor\u001b[39;00m obj \u001b[38;5;129;01min\u001b[39;00m iterable:\n\u001b[0;32m   1183\u001b[0m         \u001b[38;5;28;01myield\u001b[39;00m obj\n\u001b[0;32m   1184\u001b[0m         \u001b[38;5;66;03m# Update and possibly print the progressbar.\u001b[39;00m\n\u001b[0;32m   1185\u001b[0m         \u001b[38;5;66;03m# Note: does not call self.update(1) for speed optimisation.\u001b[39;00m\n",
      "File \u001b[1;32mc:\\Users\\User\\anaconda3\\envs\\DeepLearning\\Lib\\site-packages\\torch\\utils\\data\\dataloader.py:630\u001b[0m, in \u001b[0;36m_BaseDataLoaderIter.__next__\u001b[1;34m(self)\u001b[0m\n\u001b[0;32m    627\u001b[0m \u001b[38;5;28;01mif\u001b[39;00m \u001b[38;5;28mself\u001b[39m\u001b[38;5;241m.\u001b[39m_sampler_iter \u001b[38;5;129;01mis\u001b[39;00m \u001b[38;5;28;01mNone\u001b[39;00m:\n\u001b[0;32m    628\u001b[0m     \u001b[38;5;66;03m# TODO(https://github.com/pytorch/pytorch/issues/76750)\u001b[39;00m\n\u001b[0;32m    629\u001b[0m     \u001b[38;5;28mself\u001b[39m\u001b[38;5;241m.\u001b[39m_reset()  \u001b[38;5;66;03m# type: ignore[call-arg]\u001b[39;00m\n\u001b[1;32m--> 630\u001b[0m data \u001b[38;5;241m=\u001b[39m \u001b[38;5;28;43mself\u001b[39;49m\u001b[38;5;241;43m.\u001b[39;49m\u001b[43m_next_data\u001b[49m\u001b[43m(\u001b[49m\u001b[43m)\u001b[49m\n\u001b[0;32m    631\u001b[0m \u001b[38;5;28mself\u001b[39m\u001b[38;5;241m.\u001b[39m_num_yielded \u001b[38;5;241m+\u001b[39m\u001b[38;5;241m=\u001b[39m \u001b[38;5;241m1\u001b[39m\n\u001b[0;32m    632\u001b[0m \u001b[38;5;28;01mif\u001b[39;00m \u001b[38;5;28mself\u001b[39m\u001b[38;5;241m.\u001b[39m_dataset_kind \u001b[38;5;241m==\u001b[39m _DatasetKind\u001b[38;5;241m.\u001b[39mIterable \u001b[38;5;129;01mand\u001b[39;00m \\\n\u001b[0;32m    633\u001b[0m         \u001b[38;5;28mself\u001b[39m\u001b[38;5;241m.\u001b[39m_IterableDataset_len_called \u001b[38;5;129;01mis\u001b[39;00m \u001b[38;5;129;01mnot\u001b[39;00m \u001b[38;5;28;01mNone\u001b[39;00m \u001b[38;5;129;01mand\u001b[39;00m \\\n\u001b[0;32m    634\u001b[0m         \u001b[38;5;28mself\u001b[39m\u001b[38;5;241m.\u001b[39m_num_yielded \u001b[38;5;241m>\u001b[39m \u001b[38;5;28mself\u001b[39m\u001b[38;5;241m.\u001b[39m_IterableDataset_len_called:\n",
      "File \u001b[1;32mc:\\Users\\User\\anaconda3\\envs\\DeepLearning\\Lib\\site-packages\\torch\\utils\\data\\dataloader.py:674\u001b[0m, in \u001b[0;36m_SingleProcessDataLoaderIter._next_data\u001b[1;34m(self)\u001b[0m\n\u001b[0;32m    672\u001b[0m \u001b[38;5;28;01mdef\u001b[39;00m \u001b[38;5;21m_next_data\u001b[39m(\u001b[38;5;28mself\u001b[39m):\n\u001b[0;32m    673\u001b[0m     index \u001b[38;5;241m=\u001b[39m \u001b[38;5;28mself\u001b[39m\u001b[38;5;241m.\u001b[39m_next_index()  \u001b[38;5;66;03m# may raise StopIteration\u001b[39;00m\n\u001b[1;32m--> 674\u001b[0m     data \u001b[38;5;241m=\u001b[39m \u001b[38;5;28;43mself\u001b[39;49m\u001b[38;5;241;43m.\u001b[39;49m\u001b[43m_dataset_fetcher\u001b[49m\u001b[38;5;241;43m.\u001b[39;49m\u001b[43mfetch\u001b[49m\u001b[43m(\u001b[49m\u001b[43mindex\u001b[49m\u001b[43m)\u001b[49m  \u001b[38;5;66;03m# may raise StopIteration\u001b[39;00m\n\u001b[0;32m    675\u001b[0m     \u001b[38;5;28;01mif\u001b[39;00m \u001b[38;5;28mself\u001b[39m\u001b[38;5;241m.\u001b[39m_pin_memory:\n\u001b[0;32m    676\u001b[0m         data \u001b[38;5;241m=\u001b[39m _utils\u001b[38;5;241m.\u001b[39mpin_memory\u001b[38;5;241m.\u001b[39mpin_memory(data, \u001b[38;5;28mself\u001b[39m\u001b[38;5;241m.\u001b[39m_pin_memory_device)\n",
      "File \u001b[1;32mc:\\Users\\User\\anaconda3\\envs\\DeepLearning\\Lib\\site-packages\\torch\\utils\\data\\_utils\\fetch.py:51\u001b[0m, in \u001b[0;36m_MapDatasetFetcher.fetch\u001b[1;34m(self, possibly_batched_index)\u001b[0m\n\u001b[0;32m     49\u001b[0m         data \u001b[38;5;241m=\u001b[39m \u001b[38;5;28mself\u001b[39m\u001b[38;5;241m.\u001b[39mdataset\u001b[38;5;241m.\u001b[39m__getitems__(possibly_batched_index)\n\u001b[0;32m     50\u001b[0m     \u001b[38;5;28;01melse\u001b[39;00m:\n\u001b[1;32m---> 51\u001b[0m         data \u001b[38;5;241m=\u001b[39m \u001b[43m[\u001b[49m\u001b[38;5;28;43mself\u001b[39;49m\u001b[38;5;241;43m.\u001b[39;49m\u001b[43mdataset\u001b[49m\u001b[43m[\u001b[49m\u001b[43midx\u001b[49m\u001b[43m]\u001b[49m\u001b[43m \u001b[49m\u001b[38;5;28;43;01mfor\u001b[39;49;00m\u001b[43m \u001b[49m\u001b[43midx\u001b[49m\u001b[43m \u001b[49m\u001b[38;5;129;43;01min\u001b[39;49;00m\u001b[43m \u001b[49m\u001b[43mpossibly_batched_index\u001b[49m\u001b[43m]\u001b[49m\n\u001b[0;32m     52\u001b[0m \u001b[38;5;28;01melse\u001b[39;00m:\n\u001b[0;32m     53\u001b[0m     data \u001b[38;5;241m=\u001b[39m \u001b[38;5;28mself\u001b[39m\u001b[38;5;241m.\u001b[39mdataset[possibly_batched_index]\n",
      "File \u001b[1;32mc:\\Users\\User\\anaconda3\\envs\\DeepLearning\\Lib\\site-packages\\torch\\utils\\data\\_utils\\fetch.py:51\u001b[0m, in \u001b[0;36m<listcomp>\u001b[1;34m(.0)\u001b[0m\n\u001b[0;32m     49\u001b[0m         data \u001b[38;5;241m=\u001b[39m \u001b[38;5;28mself\u001b[39m\u001b[38;5;241m.\u001b[39mdataset\u001b[38;5;241m.\u001b[39m__getitems__(possibly_batched_index)\n\u001b[0;32m     50\u001b[0m     \u001b[38;5;28;01melse\u001b[39;00m:\n\u001b[1;32m---> 51\u001b[0m         data \u001b[38;5;241m=\u001b[39m [\u001b[38;5;28;43mself\u001b[39;49m\u001b[38;5;241;43m.\u001b[39;49m\u001b[43mdataset\u001b[49m\u001b[43m[\u001b[49m\u001b[43midx\u001b[49m\u001b[43m]\u001b[49m \u001b[38;5;28;01mfor\u001b[39;00m idx \u001b[38;5;129;01min\u001b[39;00m possibly_batched_index]\n\u001b[0;32m     52\u001b[0m \u001b[38;5;28;01melse\u001b[39;00m:\n\u001b[0;32m     53\u001b[0m     data \u001b[38;5;241m=\u001b[39m \u001b[38;5;28mself\u001b[39m\u001b[38;5;241m.\u001b[39mdataset[possibly_batched_index]\n",
      "Cell \u001b[1;32mIn[11], line 36\u001b[0m, in \u001b[0;36mDataset.__getitem__\u001b[1;34m(self, index)\u001b[0m\n\u001b[0;32m     33\u001b[0m text \u001b[38;5;241m=\u001b[39m \u001b[38;5;28mself\u001b[39m\u001b[38;5;241m.\u001b[39mdf_train[\u001b[38;5;124m\"\u001b[39m\u001b[38;5;124mno_chinese\u001b[39m\u001b[38;5;124m\"\u001b[39m][index]\n\u001b[0;32m     35\u001b[0m \u001b[38;5;66;03m# Apply transformations\u001b[39;00m\n\u001b[1;32m---> 36\u001b[0m transformed_image \u001b[38;5;241m=\u001b[39m \u001b[38;5;28;43mself\u001b[39;49m\u001b[38;5;241;43m.\u001b[39;49m\u001b[43mtransform\u001b[49m\u001b[43m(\u001b[49m\u001b[43mno_chinese_img\u001b[49m\u001b[43m)\u001b[49m\n\u001b[0;32m     38\u001b[0m \u001b[38;5;28;01mreturn\u001b[39;00m transformed_image, text\n",
      "Cell \u001b[1;32mIn[11], line 47\u001b[0m, in \u001b[0;36mDataset.transform\u001b[1;34m(self, image)\u001b[0m\n\u001b[0;32m     40\u001b[0m \u001b[38;5;28;01mdef\u001b[39;00m \u001b[38;5;21mtransform\u001b[39m(\u001b[38;5;28mself\u001b[39m, image):\n\u001b[0;32m     41\u001b[0m     transform_ops \u001b[38;5;241m=\u001b[39m transforms\u001b[38;5;241m.\u001b[39mCompose([\n\u001b[0;32m     42\u001b[0m         transforms\u001b[38;5;241m.\u001b[39mToPILImage(),\n\u001b[0;32m     43\u001b[0m         transforms\u001b[38;5;241m.\u001b[39mResize((\u001b[38;5;241m50\u001b[39m, \u001b[38;5;241m200\u001b[39m)),\n\u001b[0;32m     44\u001b[0m         transforms\u001b[38;5;241m.\u001b[39mToTensor(),\n\u001b[0;32m     45\u001b[0m         transforms\u001b[38;5;241m.\u001b[39mNormalize(mean\u001b[38;5;241m=\u001b[39m(\u001b[38;5;241m0.485\u001b[39m, \u001b[38;5;241m0.456\u001b[39m, \u001b[38;5;241m0.406\u001b[39m), std\u001b[38;5;241m=\u001b[39m(\u001b[38;5;241m0.229\u001b[39m, \u001b[38;5;241m0.224\u001b[39m, \u001b[38;5;241m0.225\u001b[39m))\n\u001b[0;32m     46\u001b[0m     ])\n\u001b[1;32m---> 47\u001b[0m     \u001b[38;5;28;01mreturn\u001b[39;00m \u001b[43mtransform_ops\u001b[49m\u001b[43m(\u001b[49m\u001b[43mimage\u001b[49m\u001b[43m)\u001b[49m\n",
      "File \u001b[1;32mc:\\Users\\User\\anaconda3\\envs\\DeepLearning\\Lib\\site-packages\\torchvision\\transforms\\transforms.py:95\u001b[0m, in \u001b[0;36mCompose.__call__\u001b[1;34m(self, img)\u001b[0m\n\u001b[0;32m     93\u001b[0m \u001b[38;5;28;01mdef\u001b[39;00m \u001b[38;5;21m__call__\u001b[39m(\u001b[38;5;28mself\u001b[39m, img):\n\u001b[0;32m     94\u001b[0m     \u001b[38;5;28;01mfor\u001b[39;00m t \u001b[38;5;129;01min\u001b[39;00m \u001b[38;5;28mself\u001b[39m\u001b[38;5;241m.\u001b[39mtransforms:\n\u001b[1;32m---> 95\u001b[0m         img \u001b[38;5;241m=\u001b[39m \u001b[43mt\u001b[49m\u001b[43m(\u001b[49m\u001b[43mimg\u001b[49m\u001b[43m)\u001b[49m\n\u001b[0;32m     96\u001b[0m     \u001b[38;5;28;01mreturn\u001b[39;00m img\n",
      "File \u001b[1;32mc:\\Users\\User\\anaconda3\\envs\\DeepLearning\\Lib\\site-packages\\torchvision\\transforms\\transforms.py:234\u001b[0m, in \u001b[0;36mToPILImage.__call__\u001b[1;34m(self, pic)\u001b[0m\n\u001b[0;32m    225\u001b[0m \u001b[38;5;28;01mdef\u001b[39;00m \u001b[38;5;21m__call__\u001b[39m(\u001b[38;5;28mself\u001b[39m, pic):\n\u001b[0;32m    226\u001b[0m \u001b[38;5;250m    \u001b[39m\u001b[38;5;124;03m\"\"\"\u001b[39;00m\n\u001b[0;32m    227\u001b[0m \u001b[38;5;124;03m    Args:\u001b[39;00m\n\u001b[0;32m    228\u001b[0m \u001b[38;5;124;03m        pic (Tensor or numpy.ndarray): Image to be converted to PIL Image.\u001b[39;00m\n\u001b[1;32m   (...)\u001b[0m\n\u001b[0;32m    232\u001b[0m \n\u001b[0;32m    233\u001b[0m \u001b[38;5;124;03m    \"\"\"\u001b[39;00m\n\u001b[1;32m--> 234\u001b[0m     \u001b[38;5;28;01mreturn\u001b[39;00m \u001b[43mF\u001b[49m\u001b[38;5;241;43m.\u001b[39;49m\u001b[43mto_pil_image\u001b[49m\u001b[43m(\u001b[49m\u001b[43mpic\u001b[49m\u001b[43m,\u001b[49m\u001b[43m \u001b[49m\u001b[38;5;28;43mself\u001b[39;49m\u001b[38;5;241;43m.\u001b[39;49m\u001b[43mmode\u001b[49m\u001b[43m)\u001b[49m\n",
      "File \u001b[1;32mc:\\Users\\User\\anaconda3\\envs\\DeepLearning\\Lib\\site-packages\\torchvision\\transforms\\functional.py:337\u001b[0m, in \u001b[0;36mto_pil_image\u001b[1;34m(pic, mode)\u001b[0m\n\u001b[0;32m    334\u001b[0m \u001b[38;5;28;01mif\u001b[39;00m mode \u001b[38;5;129;01mis\u001b[39;00m \u001b[38;5;28;01mNone\u001b[39;00m:\n\u001b[0;32m    335\u001b[0m     \u001b[38;5;28;01mraise\u001b[39;00m \u001b[38;5;167;01mTypeError\u001b[39;00m(\u001b[38;5;124mf\u001b[39m\u001b[38;5;124m\"\u001b[39m\u001b[38;5;124mInput type \u001b[39m\u001b[38;5;132;01m{\u001b[39;00mnpimg\u001b[38;5;241m.\u001b[39mdtype\u001b[38;5;132;01m}\u001b[39;00m\u001b[38;5;124m is not supported\u001b[39m\u001b[38;5;124m\"\u001b[39m)\n\u001b[1;32m--> 337\u001b[0m \u001b[38;5;28;01mreturn\u001b[39;00m \u001b[43mImage\u001b[49m\u001b[38;5;241;43m.\u001b[39;49m\u001b[43mfromarray\u001b[49m\u001b[43m(\u001b[49m\u001b[43mnpimg\u001b[49m\u001b[43m,\u001b[49m\u001b[43m \u001b[49m\u001b[43mmode\u001b[49m\u001b[38;5;241;43m=\u001b[39;49m\u001b[43mmode\u001b[49m\u001b[43m)\u001b[49m\n",
      "File \u001b[1;32mc:\\Users\\User\\anaconda3\\envs\\DeepLearning\\Lib\\site-packages\\PIL\\Image.py:3118\u001b[0m, in \u001b[0;36mfromarray\u001b[1;34m(obj, mode)\u001b[0m\n\u001b[0;32m   3115\u001b[0m     \u001b[38;5;28;01melse\u001b[39;00m:\n\u001b[0;32m   3116\u001b[0m         obj \u001b[38;5;241m=\u001b[39m obj\u001b[38;5;241m.\u001b[39mtostring()\n\u001b[1;32m-> 3118\u001b[0m \u001b[38;5;28;01mreturn\u001b[39;00m \u001b[43mfrombuffer\u001b[49m\u001b[43m(\u001b[49m\u001b[43mmode\u001b[49m\u001b[43m,\u001b[49m\u001b[43m \u001b[49m\u001b[43msize\u001b[49m\u001b[43m,\u001b[49m\u001b[43m \u001b[49m\u001b[43mobj\u001b[49m\u001b[43m,\u001b[49m\u001b[43m \u001b[49m\u001b[38;5;124;43m\"\u001b[39;49m\u001b[38;5;124;43mraw\u001b[39;49m\u001b[38;5;124;43m\"\u001b[39;49m\u001b[43m,\u001b[49m\u001b[43m \u001b[49m\u001b[43mrawmode\u001b[49m\u001b[43m,\u001b[49m\u001b[43m \u001b[49m\u001b[38;5;241;43m0\u001b[39;49m\u001b[43m,\u001b[49m\u001b[43m \u001b[49m\u001b[38;5;241;43m1\u001b[39;49m\u001b[43m)\u001b[49m\n",
      "File \u001b[1;32mc:\\Users\\User\\anaconda3\\envs\\DeepLearning\\Lib\\site-packages\\PIL\\Image.py:3034\u001b[0m, in \u001b[0;36mfrombuffer\u001b[1;34m(mode, size, data, decoder_name, *args)\u001b[0m\n\u001b[0;32m   3031\u001b[0m         im\u001b[38;5;241m.\u001b[39mreadonly \u001b[38;5;241m=\u001b[39m \u001b[38;5;241m1\u001b[39m\n\u001b[0;32m   3032\u001b[0m         \u001b[38;5;28;01mreturn\u001b[39;00m im\n\u001b[1;32m-> 3034\u001b[0m \u001b[38;5;28;01mreturn\u001b[39;00m \u001b[43mfrombytes\u001b[49m\u001b[43m(\u001b[49m\u001b[43mmode\u001b[49m\u001b[43m,\u001b[49m\u001b[43m \u001b[49m\u001b[43msize\u001b[49m\u001b[43m,\u001b[49m\u001b[43m \u001b[49m\u001b[43mdata\u001b[49m\u001b[43m,\u001b[49m\u001b[43m \u001b[49m\u001b[43mdecoder_name\u001b[49m\u001b[43m,\u001b[49m\u001b[43m \u001b[49m\u001b[43margs\u001b[49m\u001b[43m)\u001b[49m\n",
      "File \u001b[1;32mc:\\Users\\User\\anaconda3\\envs\\DeepLearning\\Lib\\site-packages\\PIL\\Image.py:2975\u001b[0m, in \u001b[0;36mfrombytes\u001b[1;34m(mode, size, data, decoder_name, *args)\u001b[0m\n\u001b[0;32m   2972\u001b[0m \u001b[38;5;28;01mif\u001b[39;00m decoder_name \u001b[38;5;241m==\u001b[39m \u001b[38;5;124m\"\u001b[39m\u001b[38;5;124mraw\u001b[39m\u001b[38;5;124m\"\u001b[39m \u001b[38;5;129;01mand\u001b[39;00m args \u001b[38;5;241m==\u001b[39m ():\n\u001b[0;32m   2973\u001b[0m     args \u001b[38;5;241m=\u001b[39m mode\n\u001b[1;32m-> 2975\u001b[0m im \u001b[38;5;241m=\u001b[39m \u001b[43mnew\u001b[49m\u001b[43m(\u001b[49m\u001b[43mmode\u001b[49m\u001b[43m,\u001b[49m\u001b[43m \u001b[49m\u001b[43msize\u001b[49m\u001b[43m)\u001b[49m\n\u001b[0;32m   2976\u001b[0m im\u001b[38;5;241m.\u001b[39mfrombytes(data, decoder_name, args)\n\u001b[0;32m   2977\u001b[0m \u001b[38;5;28;01mreturn\u001b[39;00m im\n",
      "File \u001b[1;32mc:\\Users\\User\\anaconda3\\envs\\DeepLearning\\Lib\\site-packages\\PIL\\Image.py:2939\u001b[0m, in \u001b[0;36mnew\u001b[1;34m(mode, size, color)\u001b[0m\n\u001b[0;32m   2937\u001b[0m     im\u001b[38;5;241m.\u001b[39mpalette \u001b[38;5;241m=\u001b[39m ImagePalette\u001b[38;5;241m.\u001b[39mImagePalette()\n\u001b[0;32m   2938\u001b[0m     color \u001b[38;5;241m=\u001b[39m im\u001b[38;5;241m.\u001b[39mpalette\u001b[38;5;241m.\u001b[39mgetcolor(color)\n\u001b[1;32m-> 2939\u001b[0m \u001b[38;5;28;01mreturn\u001b[39;00m im\u001b[38;5;241m.\u001b[39m_new(\u001b[43mcore\u001b[49m\u001b[38;5;241;43m.\u001b[39;49m\u001b[43mfill\u001b[49m\u001b[43m(\u001b[49m\u001b[43mmode\u001b[49m\u001b[43m,\u001b[49m\u001b[43m \u001b[49m\u001b[43msize\u001b[49m\u001b[43m,\u001b[49m\u001b[43m \u001b[49m\u001b[43mcolor\u001b[49m\u001b[43m)\u001b[49m)\n",
      "\u001b[1;31mKeyboardInterrupt\u001b[0m: "
     ]
    }
   ],
   "source": [
    "epoch_losses = []\n",
    "iteration_losses = []\n",
    "num_updates_epochs = []\n",
    "for epoch in tqdm(range(1, num_epochs+1)):\n",
    "    epoch_loss_list = [] \n",
    "    num_updates_epoch = 0\n",
    "    for image_batch, text_batch in tqdm(train_loader, leave=False):\n",
    "        optimizer.zero_grad()\n",
    "        text_batch_logits = crnn(image_batch.to(device))\n",
    "        loss = compute_loss(text_batch, text_batch_logits)\n",
    "        iteration_loss = loss.item()\n",
    "\n",
    "        if np.isnan(iteration_loss) or np.isinf(iteration_loss):\n",
    "            continue\n",
    "          \n",
    "        num_updates_epoch += 1\n",
    "        iteration_losses.append(iteration_loss)\n",
    "        epoch_loss_list.append(iteration_loss)\n",
    "        loss.backward()\n",
    "        nn.utils.clip_grad_norm_(crnn.parameters(), clip_norm)\n",
    "        optimizer.step()\n",
    "\n",
    "    epoch_loss = np.mean(epoch_loss_list)\n",
    "    print(\"Epoch:{}    Loss:{}    NumUpdates:{}\".format(epoch, epoch_loss, num_updates_epoch))\n",
    "    epoch_losses.append(epoch_loss)\n",
    "    num_updates_epochs.append(num_updates_epoch)\n",
    "    lr_scheduler.step(epoch_loss)"
   ]
  },
  {
   "cell_type": "code",
   "execution_count": 104,
   "metadata": {},
   "outputs": [],
   "source": [
    "FILE = 'CRNN_NO_CHINESE.pt'\n",
    "torch.save(crnn, FILE)"
   ]
  },
  {
   "cell_type": "code",
   "execution_count": 109,
   "metadata": {},
   "outputs": [],
   "source": [
    "model = torch.load('CRNN_NO_CHINESE.pt')"
   ]
  },
  {
   "cell_type": "code",
   "execution_count": 110,
   "metadata": {},
   "outputs": [],
   "source": [
    "torch.save(crnn.state_dict(), 'crnn_no_chinese_model.pth')"
   ]
  },
  {
   "cell_type": "code",
   "execution_count": 261,
   "metadata": {},
   "outputs": [
    {
     "data": {
      "text/plain": [
       "CRNN(\n",
       "  (cnn_p1): Sequential(\n",
       "    (0): Conv2d(3, 64, kernel_size=(7, 7), stride=(2, 2), padding=(3, 3), bias=False)\n",
       "    (1): BatchNorm2d(64, eps=1e-05, momentum=0.1, affine=True, track_running_stats=True)\n",
       "    (2): ReLU(inplace=True)\n",
       "    (3): MaxPool2d(kernel_size=3, stride=2, padding=1, dilation=1, ceil_mode=False)\n",
       "    (4): Sequential(\n",
       "      (0): BasicBlock(\n",
       "        (conv1): Conv2d(64, 64, kernel_size=(3, 3), stride=(1, 1), padding=(1, 1), bias=False)\n",
       "        (bn1): BatchNorm2d(64, eps=1e-05, momentum=0.1, affine=True, track_running_stats=True)\n",
       "        (relu): ReLU(inplace=True)\n",
       "        (conv2): Conv2d(64, 64, kernel_size=(3, 3), stride=(1, 1), padding=(1, 1), bias=False)\n",
       "        (bn2): BatchNorm2d(64, eps=1e-05, momentum=0.1, affine=True, track_running_stats=True)\n",
       "      )\n",
       "      (1): BasicBlock(\n",
       "        (conv1): Conv2d(64, 64, kernel_size=(3, 3), stride=(1, 1), padding=(1, 1), bias=False)\n",
       "        (bn1): BatchNorm2d(64, eps=1e-05, momentum=0.1, affine=True, track_running_stats=True)\n",
       "        (relu): ReLU(inplace=True)\n",
       "        (conv2): Conv2d(64, 64, kernel_size=(3, 3), stride=(1, 1), padding=(1, 1), bias=False)\n",
       "        (bn2): BatchNorm2d(64, eps=1e-05, momentum=0.1, affine=True, track_running_stats=True)\n",
       "      )\n",
       "    )\n",
       "    (5): Sequential(\n",
       "      (0): BasicBlock(\n",
       "        (conv1): Conv2d(64, 128, kernel_size=(3, 3), stride=(2, 2), padding=(1, 1), bias=False)\n",
       "        (bn1): BatchNorm2d(128, eps=1e-05, momentum=0.1, affine=True, track_running_stats=True)\n",
       "        (relu): ReLU(inplace=True)\n",
       "        (conv2): Conv2d(128, 128, kernel_size=(3, 3), stride=(1, 1), padding=(1, 1), bias=False)\n",
       "        (bn2): BatchNorm2d(128, eps=1e-05, momentum=0.1, affine=True, track_running_stats=True)\n",
       "        (downsample): Sequential(\n",
       "          (0): Conv2d(64, 128, kernel_size=(1, 1), stride=(2, 2), bias=False)\n",
       "          (1): BatchNorm2d(128, eps=1e-05, momentum=0.1, affine=True, track_running_stats=True)\n",
       "        )\n",
       "      )\n",
       "      (1): BasicBlock(\n",
       "        (conv1): Conv2d(128, 128, kernel_size=(3, 3), stride=(1, 1), padding=(1, 1), bias=False)\n",
       "        (bn1): BatchNorm2d(128, eps=1e-05, momentum=0.1, affine=True, track_running_stats=True)\n",
       "        (relu): ReLU(inplace=True)\n",
       "        (conv2): Conv2d(128, 128, kernel_size=(3, 3), stride=(1, 1), padding=(1, 1), bias=False)\n",
       "        (bn2): BatchNorm2d(128, eps=1e-05, momentum=0.1, affine=True, track_running_stats=True)\n",
       "      )\n",
       "    )\n",
       "    (6): Sequential(\n",
       "      (0): BasicBlock(\n",
       "        (conv1): Conv2d(128, 256, kernel_size=(3, 3), stride=(2, 2), padding=(1, 1), bias=False)\n",
       "        (bn1): BatchNorm2d(256, eps=1e-05, momentum=0.1, affine=True, track_running_stats=True)\n",
       "        (relu): ReLU(inplace=True)\n",
       "        (conv2): Conv2d(256, 256, kernel_size=(3, 3), stride=(1, 1), padding=(1, 1), bias=False)\n",
       "        (bn2): BatchNorm2d(256, eps=1e-05, momentum=0.1, affine=True, track_running_stats=True)\n",
       "        (downsample): Sequential(\n",
       "          (0): Conv2d(128, 256, kernel_size=(1, 1), stride=(2, 2), bias=False)\n",
       "          (1): BatchNorm2d(256, eps=1e-05, momentum=0.1, affine=True, track_running_stats=True)\n",
       "        )\n",
       "      )\n",
       "      (1): BasicBlock(\n",
       "        (conv1): Conv2d(256, 256, kernel_size=(3, 3), stride=(1, 1), padding=(1, 1), bias=False)\n",
       "        (bn1): BatchNorm2d(256, eps=1e-05, momentum=0.1, affine=True, track_running_stats=True)\n",
       "        (relu): ReLU(inplace=True)\n",
       "        (conv2): Conv2d(256, 256, kernel_size=(3, 3), stride=(1, 1), padding=(1, 1), bias=False)\n",
       "        (bn2): BatchNorm2d(256, eps=1e-05, momentum=0.1, affine=True, track_running_stats=True)\n",
       "      )\n",
       "    )\n",
       "  )\n",
       "  (cnn_p2): Sequential(\n",
       "    (0): Conv2d(256, 256, kernel_size=(3, 6), stride=(1, 1), padding=(1, 1))\n",
       "    (1): BatchNorm2d(256, eps=1e-05, momentum=0.1, affine=True, track_running_stats=True)\n",
       "    (2): ReLU(inplace=True)\n",
       "  )\n",
       "  (linear1): Linear(in_features=1024, out_features=256, bias=True)\n",
       "  (rnn1): GRU(256, 256, batch_first=True, bidirectional=True)\n",
       "  (rnn2): GRU(256, 256, batch_first=True, bidirectional=True)\n",
       "  (linear2): Linear(in_features=512, out_features=35, bias=True)\n",
       ")"
      ]
     },
     "execution_count": 261,
     "metadata": {},
     "output_type": "execute_result"
    }
   ],
   "source": [
    "model = CRNN(num_chars=len(char2idx), rnn_hidden_size=256, dropout=0.1)\n",
    "\n",
    "model.load_state_dict(torch.load('crnn_no_chinese_model.pth'))\n",
    "model.to('cpu')"
   ]
  },
  {
   "cell_type": "code",
   "execution_count": 262,
   "metadata": {},
   "outputs": [
    {
     "data": {
      "application/vnd.jupyter.widget-view+json": {
       "model_id": "4b8a4cbb4c264b1492e3e1705608919d",
       "version_major": 2,
       "version_minor": 0
      },
      "text/plain": [
       "  0%|          | 0/16 [00:00<?, ?it/s]"
      ]
     },
     "metadata": {},
     "output_type": "display_data"
    },
    {
     "name": "stdout",
     "output_type": "stream",
     "text": [
      "torch.Size([16, 256, 4, 13])\n",
      "torch.Size([16, 10, 35])\n",
      "torch.Size([10, 16, 35])\n",
      "torch.Size([16, 256, 4, 13])\n",
      "torch.Size([16, 10, 35])\n",
      "torch.Size([10, 16, 35])\n",
      "torch.Size([16, 256, 4, 13])\n",
      "torch.Size([16, 10, 35])\n",
      "torch.Size([10, 16, 35])\n",
      "torch.Size([16, 256, 4, 13])\n",
      "torch.Size([16, 10, 35])\n",
      "torch.Size([10, 16, 35])\n",
      "torch.Size([16, 256, 4, 13])\n",
      "torch.Size([16, 10, 35])\n",
      "torch.Size([10, 16, 35])\n",
      "torch.Size([16, 256, 4, 13])\n",
      "torch.Size([16, 10, 35])\n",
      "torch.Size([10, 16, 35])\n",
      "torch.Size([16, 256, 4, 13])\n",
      "torch.Size([16, 10, 35])\n",
      "torch.Size([10, 16, 35])\n",
      "torch.Size([16, 256, 4, 13])\n",
      "torch.Size([16, 10, 35])\n",
      "torch.Size([10, 16, 35])\n",
      "torch.Size([16, 256, 4, 13])\n",
      "torch.Size([16, 10, 35])\n",
      "torch.Size([10, 16, 35])\n",
      "torch.Size([16, 256, 4, 13])\n",
      "torch.Size([16, 10, 35])\n",
      "torch.Size([10, 16, 35])\n",
      "torch.Size([16, 256, 4, 13])\n",
      "torch.Size([16, 10, 35])\n",
      "torch.Size([10, 16, 35])\n",
      "torch.Size([16, 256, 4, 13])\n",
      "torch.Size([16, 10, 35])\n",
      "torch.Size([10, 16, 35])\n",
      "torch.Size([16, 256, 4, 13])\n",
      "torch.Size([16, 10, 35])\n",
      "torch.Size([10, 16, 35])\n",
      "torch.Size([16, 256, 4, 13])\n",
      "torch.Size([16, 10, 35])\n",
      "torch.Size([10, 16, 35])\n",
      "torch.Size([16, 256, 4, 13])\n",
      "torch.Size([16, 10, 35])\n",
      "torch.Size([10, 16, 35])\n",
      "torch.Size([10, 256, 4, 13])\n",
      "torch.Size([10, 10, 35])\n",
      "torch.Size([10, 10, 35])\n"
     ]
    },
    {
     "data": {
      "text/html": [
       "<div>\n",
       "<style scoped>\n",
       "    .dataframe tbody tr th:only-of-type {\n",
       "        vertical-align: middle;\n",
       "    }\n",
       "\n",
       "    .dataframe tbody tr th {\n",
       "        vertical-align: top;\n",
       "    }\n",
       "\n",
       "    .dataframe thead th {\n",
       "        text-align: right;\n",
       "    }\n",
       "</style>\n",
       "<table border=\"1\" class=\"dataframe\">\n",
       "  <thead>\n",
       "    <tr style=\"text-align: right;\">\n",
       "      <th></th>\n",
       "      <th>actual</th>\n",
       "      <th>prediction</th>\n",
       "      <th>prediction_corrected</th>\n",
       "    </tr>\n",
       "  </thead>\n",
       "  <tbody>\n",
       "    <tr>\n",
       "      <th>0</th>\n",
       "      <td>AY6F46</td>\n",
       "      <td>YYY66FF446</td>\n",
       "      <td>Y6F46</td>\n",
       "    </tr>\n",
       "    <tr>\n",
       "      <th>1</th>\n",
       "      <td>C096FU</td>\n",
       "      <td>0009966FFU</td>\n",
       "      <td>096FU</td>\n",
       "    </tr>\n",
       "    <tr>\n",
       "      <th>2</th>\n",
       "      <td>C0C9U1</td>\n",
       "      <td>CCCCC99UU1</td>\n",
       "      <td>C9U1</td>\n",
       "    </tr>\n",
       "    <tr>\n",
       "      <th>3</th>\n",
       "      <td>AY060V</td>\n",
       "      <td>YYY006600V</td>\n",
       "      <td>Y060V</td>\n",
       "    </tr>\n",
       "    <tr>\n",
       "      <th>4</th>\n",
       "      <td>ADB398</td>\n",
       "      <td>DDDBB33998</td>\n",
       "      <td>DB398</td>\n",
       "    </tr>\n",
       "  </tbody>\n",
       "</table>\n",
       "</div>"
      ],
      "text/plain": [
       "   actual  prediction prediction_corrected\n",
       "0  AY6F46  YYY66FF446                Y6F46\n",
       "1  C096FU  0009966FFU                096FU\n",
       "2  C0C9U1  CCCCC99UU1                 C9U1\n",
       "3  AY060V  YYY006600V                Y060V\n",
       "4  ADB398  DDDBB33998                DB398"
      ]
     },
     "execution_count": 262,
     "metadata": {},
     "output_type": "execute_result"
    },
    {
     "ename": "",
     "evalue": "",
     "output_type": "error",
     "traceback": [
      "\u001b[1;31mThe Kernel crashed while executing code in the the current cell or a previous cell. Please review the code in the cell(s) to identify a possible cause of the failure. Click <a href='https://aka.ms/vscodeJupyterKernelCrash'>here</a> for more info. View Jupyter <a href='command:jupyter.viewOutput'>log</a> for further details."
     ]
    }
   ],
   "source": [
    "def decode_predictions(text_batch_logits):\n",
    "\n",
    "    text_batch_tokens = F.softmax(text_batch_logits, 2).argmax(2) # [T, batch_size]\n",
    "    text_batch_tokens = text_batch_tokens.numpy().T # [batch_size, T]\n",
    "\n",
    "    text_batch_tokens_new = []\n",
    "    for text_tokens in text_batch_tokens:\n",
    "        text = [idx2char[idx] for idx in text_tokens]\n",
    "        text = \"\".join(text)\n",
    "        text_batch_tokens_new.append(text)\n",
    "\n",
    "    return text_batch_tokens_new\n",
    "\n",
    "def remove_duplicates(text):\n",
    "    if len(text) > 1:\n",
    "        letters = [text[0]] + [letter for idx, letter in enumerate(text[1:], start=1) if text[idx] != text[idx-1]]\n",
    "    elif len(text) == 1:\n",
    "        letters = [text[0]]\n",
    "    else:\n",
    "        return \"\"\n",
    "    return \"\".join(letters)\n",
    "\n",
    "def correct_prediction(word):\n",
    "    parts = word.split(\"-\")\n",
    "    parts = [remove_duplicates(part) for part in parts]\n",
    "    corrected_word = \"\".join(parts)\n",
    "    return corrected_word\n",
    "\n",
    "results_val = pd.DataFrame(columns=['actual', 'prediction'])\n",
    "val_loader = DataLoader(valset, batch_size=16, num_workers=0, shuffle=False)\n",
    "with torch.no_grad():\n",
    "    for image_batch, text_batch in tqdm(val_loader, leave=True):\n",
    "        text_batch_logits = model(image_batch) # [T, batch_size, num_classes==num_features]\n",
    "        text_batch_pred = decode_predictions(text_batch_logits.cpu())\n",
    "        #print(text_batch, text_batch_pred)\n",
    "        df = pd.DataFrame(columns=['actual', 'prediction'])\n",
    "        df['actual'] = text_batch\n",
    "        df['prediction'] = text_batch_pred\n",
    "        results_val = pd.concat([results_val, df])\n",
    "results_val = results_val.reset_index(drop=True)\n",
    "results_val['prediction_corrected'] = results_val['prediction'].apply(correct_prediction)\n",
    "results_val.head()"
   ]
  },
  {
   "cell_type": "code",
   "execution_count": 117,
   "metadata": {},
   "outputs": [
    {
     "name": "stdout",
     "output_type": "stream",
     "text": [
      "0.044\n"
     ]
    }
   ],
   "source": [
    "train_accuracy = accuracy_score(results_val['actual'], results_val['prediction_corrected'])\n",
    "print(train_accuracy)"
   ]
  },
  {
   "cell_type": "code",
   "execution_count": 132,
   "metadata": {},
   "outputs": [
    {
     "data": {
      "text/plain": [
       "0       Y6F46\n",
       "1       096FU\n",
       "2        C9U1\n",
       "3       Y060V\n",
       "4       DB398\n",
       "        ...  \n",
       "245     L1U67\n",
       "246     UL132\n",
       "247     FJ956\n",
       "248    S6A61Z\n",
       "249     TW976\n",
       "Name: prediction_corrected, Length: 250, dtype: object"
      ]
     },
     "execution_count": 132,
     "metadata": {},
     "output_type": "execute_result"
    }
   ],
   "source": [
    "results_val['prediction_corrected']"
   ]
  },
  {
   "cell_type": "code",
   "execution_count": 127,
   "metadata": {},
   "outputs": [
    {
     "name": "stdout",
     "output_type": "stream",
     "text": [
      "yes\n"
     ]
    }
   ],
   "source": [
    "if (results_val['prediction_corrected'][0][0] == results_val['actual'][0][1]):\n",
    "    print(\"yes\")"
   ]
  },
  {
   "cell_type": "code",
   "execution_count": 131,
   "metadata": {},
   "outputs": [
    {
     "name": "stdout",
     "output_type": "stream",
     "text": [
      "0.8748571428571429\n"
     ]
    }
   ],
   "source": [
    "count = 0\n",
    "for i in range(250):\n",
    "    for j in range(6):\n",
    "    \n",
    "        for k in range(len(results_val['prediction_corrected'][i])):\n",
    "        \n",
    "            if(results_val['actual'][i][j] == results_val['prediction_corrected'][i][k]):\n",
    "                count = count + 1\n",
    "print(count/1750)                \n"
   ]
  },
  {
   "cell_type": "code",
   "execution_count": 9,
   "metadata": {},
   "outputs": [],
   "source": [
    "class Dataset(Dataset):\n",
    "    def __init__(self, dataframe):\n",
    "        self.df_train = dataframe\n",
    "\n",
    "    def __len__(self):\n",
    "        return len(self.df_train)\n",
    "\n",
    "    def __getitem__(self, index):\n",
    "        train_path = self.df_train[\"img_path\"][index]\n",
    "        train_image = cv2.imread(train_path)\n",
    "        train_image = cv2.cvtColor(train_image, cv2.COLOR_BGR2RGB)\n",
    "\n",
    "        # Crop Image with Bounding Box\n",
    "        y1 = int(self.df_train[\"y1\"][index])\n",
    "        y2 = int(self.df_train[\"y2\"][index])\n",
    "        x1 = int(self.df_train[\"x1\"][index])\n",
    "        x2 = int(self.df_train[\"x2\"][index])\n",
    "\n",
    "        # Crop Image with Bounding Box\n",
    "        image = train_image[y1:y2, x1:x2]\n",
    "\n",
    "        text = self.df_train[\"decode_plate\"][index]\n",
    "\n",
    "        # Apply transformations\n",
    "        transformed_image = self.transform(image)\n",
    "\n",
    "        return transformed_image, text\n",
    "\n",
    "    def transform(self, image):\n",
    "        transform_ops = transforms.Compose([\n",
    "            transforms.ToPILImage(),\n",
    "            transforms.Resize((50, 200)),\n",
    "            transforms.ToTensor(),\n",
    "            transforms.Normalize(mean=(0.485, 0.456, 0.406), std=(0.229, 0.224, 0.225))\n",
    "        ])\n",
    "        return transform_ops(image)"
   ]
  },
  {
   "cell_type": "code",
   "execution_count": 10,
   "metadata": {},
   "outputs": [
    {
     "name": "stdout",
     "output_type": "stream",
     "text": [
      "594\n"
     ]
    }
   ],
   "source": [
    "trainset = Dataset(df_train)\n",
    "valset =  Dataset(df_val)\n",
    "\n",
    "train_loader = DataLoader(trainset, batch_size=16, num_workers=0, shuffle=False)\n",
    "test_loader = DataLoader(valset, batch_size=16, num_workers=0, shuffle=False)\n",
    "print(len(train_loader))"
   ]
  },
  {
   "cell_type": "code",
   "execution_count": 11,
   "metadata": {},
   "outputs": [
    {
     "name": "stdout",
     "output_type": "stream",
     "text": [
      "torch.Size([16, 3, 50, 200]) ('皖AD130W', '皖AUT267', '皖MZ4882', '皖AVD028', '皖RL222P', '皖AGC276', '皖AU0194', '皖AC880Y', '皖ATG568', '皖A41476', '皖AH8V95', '皖ATV235', '皖AJ7532', '皖AE0901', '皖QSW808', '皖A93853')\n"
     ]
    }
   ],
   "source": [
    "image_batch, text_batch = next(iter(train_loader))\n",
    "print(image_batch.size(), text_batch)"
   ]
  },
  {
   "cell_type": "code",
   "execution_count": 15,
   "metadata": {},
   "outputs": [],
   "source": [
    "torch.save(crnn.state_dict(), 'chinese_model.pth')"
   ]
  },
  {
   "cell_type": "code",
   "execution_count": 14,
   "metadata": {},
   "outputs": [
    {
     "name": "stdout",
     "output_type": "stream",
     "text": [
      "{0: '皖', 1: '沪', 2: '津', 3: '渝', 4: '冀', 5: '晋', 6: '蒙', 7: '辽', 8: '吉', 9: '黑', 10: '苏', 11: '浙', 12: '京', 13: '闽', 14: '赣', 15: '鲁', 16: '豫', 17: '鄂', 18: '湘', 19: '粤', 20: '桂', 21: '琼', 22: '川', 23: '贵', 24: '云', 25: '藏', 26: '陕', 27: '甘', 28: '青', 29: '宁', 30: '新', 31: '警', 32: '学', 33: 'A', 34: 'B', 35: 'C', 36: 'D', 37: 'E', 38: 'F', 39: 'G', 40: 'H', 41: 'J', 42: 'K', 43: 'L', 44: 'M', 45: 'N', 46: 'P', 47: 'Q', 48: 'R', 49: 'S', 50: 'T', 51: 'U', 52: 'V', 53: 'W', 54: 'X', 55: 'Y', 56: 'Z', 57: 'O', 58: '0', 59: '1', 60: '2', 61: '3', 62: '4', 63: '5', 64: '6', 65: '7', 66: '8', 67: '9'}\n",
      "{'皖': 0, '沪': 1, '津': 2, '渝': 3, '冀': 4, '晋': 5, '蒙': 6, '辽': 7, '吉': 8, '黑': 9, '苏': 10, '浙': 11, '京': 12, '闽': 13, '赣': 14, '鲁': 15, '豫': 16, '鄂': 17, '湘': 18, '粤': 19, '桂': 20, '琼': 21, '川': 22, '贵': 23, '云': 24, '藏': 25, '陕': 26, '甘': 27, '青': 28, '宁': 29, '新': 30, '警': 31, '学': 32, 'A': 33, 'B': 34, 'C': 35, 'D': 36, 'E': 37, 'F': 38, 'G': 39, 'H': 40, 'J': 41, 'K': 42, 'L': 43, 'M': 44, 'N': 45, 'P': 46, 'Q': 47, 'R': 48, 'S': 49, 'T': 50, 'U': 51, 'V': 52, 'W': 53, 'X': 54, 'Y': 55, 'Z': 56, 'O': 57, '0': 58, '1': 59, '2': 60, '3': 61, '4': 62, '5': 63, '6': 64, '7': 65, '8': 66, '9': 67}\n",
      "68\n",
      "cuda\n",
      "('皖AD130W', '皖AUT267', '皖MZ4882', '皖AVD028', '皖RL222P', '皖AGC276', '皖AU0194', '皖AC880Y', '皖ATG568', '皖A41476', '皖AH8V95', '皖ATV235', '皖AJ7532', '皖AE0901', '皖QSW808', '皖A93853')\n",
      "torch.Size([10, 16, 68])\n"
     ]
    },
    {
     "data": {
      "application/vnd.jupyter.widget-view+json": {
       "model_id": "e9a2c86c99f2433c968329150342d1a2",
       "version_major": 2,
       "version_minor": 0
      },
      "text/plain": [
       "  0%|          | 0/100 [00:00<?, ?it/s]"
      ]
     },
     "metadata": {},
     "output_type": "display_data"
    },
    {
     "data": {
      "application/vnd.jupyter.widget-view+json": {
       "model_id": "51e42522fc984b4689e1b9c93556a490",
       "version_major": 2,
       "version_minor": 0
      },
      "text/plain": [
       "  0%|          | 0/594 [00:00<?, ?it/s]"
      ]
     },
     "metadata": {},
     "output_type": "display_data"
    },
    {
     "name": "stdout",
     "output_type": "stream",
     "text": [
      "Epoch:1    Loss:2.9660615102209227    NumUpdates:594\n"
     ]
    },
    {
     "data": {
      "application/vnd.jupyter.widget-view+json": {
       "model_id": "1c0b0be64ecc4982a2d8f09fdb820a33",
       "version_major": 2,
       "version_minor": 0
      },
      "text/plain": [
       "  0%|          | 0/594 [00:00<?, ?it/s]"
      ]
     },
     "metadata": {},
     "output_type": "display_data"
    },
    {
     "name": "stdout",
     "output_type": "stream",
     "text": [
      "Epoch:2    Loss:2.356742450283834    NumUpdates:594\n"
     ]
    },
    {
     "data": {
      "application/vnd.jupyter.widget-view+json": {
       "model_id": "0bdbe0202f364cfdb639035e9770fd81",
       "version_major": 2,
       "version_minor": 0
      },
      "text/plain": [
       "  0%|          | 0/594 [00:00<?, ?it/s]"
      ]
     },
     "metadata": {},
     "output_type": "display_data"
    },
    {
     "name": "stdout",
     "output_type": "stream",
     "text": [
      "Epoch:3    Loss:2.1971948889369517    NumUpdates:594\n"
     ]
    },
    {
     "data": {
      "application/vnd.jupyter.widget-view+json": {
       "model_id": "d08dd3eb315241f1b684bb7f4ea3c9a9",
       "version_major": 2,
       "version_minor": 0
      },
      "text/plain": [
       "  0%|          | 0/594 [00:00<?, ?it/s]"
      ]
     },
     "metadata": {},
     "output_type": "display_data"
    },
    {
     "name": "stdout",
     "output_type": "stream",
     "text": [
      "Epoch:4    Loss:2.133397568556596    NumUpdates:594\n"
     ]
    },
    {
     "data": {
      "application/vnd.jupyter.widget-view+json": {
       "model_id": "3ee24436c73c4e97ae30fc7331aff7cd",
       "version_major": 2,
       "version_minor": 0
      },
      "text/plain": [
       "  0%|          | 0/594 [00:00<?, ?it/s]"
      ]
     },
     "metadata": {},
     "output_type": "display_data"
    },
    {
     "name": "stdout",
     "output_type": "stream",
     "text": [
      "Epoch:5    Loss:2.1073490276882545    NumUpdates:594\n"
     ]
    },
    {
     "data": {
      "application/vnd.jupyter.widget-view+json": {
       "model_id": "ee3e194f14574e0195db8c5f87bd2dcc",
       "version_major": 2,
       "version_minor": 0
      },
      "text/plain": [
       "  0%|          | 0/594 [00:00<?, ?it/s]"
      ]
     },
     "metadata": {},
     "output_type": "display_data"
    },
    {
     "name": "stdout",
     "output_type": "stream",
     "text": [
      "Epoch:6    Loss:2.0826127886370775    NumUpdates:594\n"
     ]
    },
    {
     "data": {
      "application/vnd.jupyter.widget-view+json": {
       "model_id": "af9e3795f0904b09af9b5c0417a59847",
       "version_major": 2,
       "version_minor": 0
      },
      "text/plain": [
       "  0%|          | 0/594 [00:00<?, ?it/s]"
      ]
     },
     "metadata": {},
     "output_type": "display_data"
    },
    {
     "name": "stdout",
     "output_type": "stream",
     "text": [
      "Epoch:7    Loss:2.0703125487674368    NumUpdates:594\n"
     ]
    },
    {
     "data": {
      "application/vnd.jupyter.widget-view+json": {
       "model_id": "fa8d51352d9d42408dff089459d130bc",
       "version_major": 2,
       "version_minor": 0
      },
      "text/plain": [
       "  0%|          | 0/594 [00:00<?, ?it/s]"
      ]
     },
     "metadata": {},
     "output_type": "display_data"
    },
    {
     "name": "stdout",
     "output_type": "stream",
     "text": [
      "Epoch:8    Loss:2.0560766217684505    NumUpdates:594\n"
     ]
    },
    {
     "data": {
      "application/vnd.jupyter.widget-view+json": {
       "model_id": "b15d2495cdf74958835f7a6fe26e3cd5",
       "version_major": 2,
       "version_minor": 0
      },
      "text/plain": [
       "  0%|          | 0/594 [00:00<?, ?it/s]"
      ]
     },
     "metadata": {},
     "output_type": "display_data"
    },
    {
     "name": "stdout",
     "output_type": "stream",
     "text": [
      "Epoch:9    Loss:2.046544494853678    NumUpdates:594\n"
     ]
    },
    {
     "data": {
      "application/vnd.jupyter.widget-view+json": {
       "model_id": "15ececcf237c431cb1ed531557d544eb",
       "version_major": 2,
       "version_minor": 0
      },
      "text/plain": [
       "  0%|          | 0/594 [00:00<?, ?it/s]"
      ]
     },
     "metadata": {},
     "output_type": "display_data"
    },
    {
     "name": "stdout",
     "output_type": "stream",
     "text": [
      "Epoch:10    Loss:2.042959152046679    NumUpdates:594\n"
     ]
    },
    {
     "data": {
      "application/vnd.jupyter.widget-view+json": {
       "model_id": "1923cce8665d4d7ca3ae5f454aa6120a",
       "version_major": 2,
       "version_minor": 0
      },
      "text/plain": [
       "  0%|          | 0/594 [00:00<?, ?it/s]"
      ]
     },
     "metadata": {},
     "output_type": "display_data"
    },
    {
     "name": "stdout",
     "output_type": "stream",
     "text": [
      "Epoch:11    Loss:2.03397796451042    NumUpdates:594\n"
     ]
    },
    {
     "data": {
      "application/vnd.jupyter.widget-view+json": {
       "model_id": "a5ef441064a44ea68a5226bb8c39e983",
       "version_major": 2,
       "version_minor": 0
      },
      "text/plain": [
       "  0%|          | 0/594 [00:00<?, ?it/s]"
      ]
     },
     "metadata": {},
     "output_type": "display_data"
    },
    {
     "name": "stdout",
     "output_type": "stream",
     "text": [
      "Epoch:12    Loss:2.035123778312696    NumUpdates:594\n"
     ]
    },
    {
     "data": {
      "application/vnd.jupyter.widget-view+json": {
       "model_id": "568adbe7c76148c3b5ba2c664ee23c64",
       "version_major": 2,
       "version_minor": 0
      },
      "text/plain": [
       "  0%|          | 0/594 [00:00<?, ?it/s]"
      ]
     },
     "metadata": {},
     "output_type": "display_data"
    },
    {
     "name": "stdout",
     "output_type": "stream",
     "text": [
      "Epoch:13    Loss:2.027360599049013    NumUpdates:594\n"
     ]
    },
    {
     "data": {
      "application/vnd.jupyter.widget-view+json": {
       "model_id": "670697e21b3649c189248913b4b34f91",
       "version_major": 2,
       "version_minor": 0
      },
      "text/plain": [
       "  0%|          | 0/594 [00:00<?, ?it/s]"
      ]
     },
     "metadata": {},
     "output_type": "display_data"
    },
    {
     "name": "stdout",
     "output_type": "stream",
     "text": [
      "Epoch:14    Loss:2.0268125339389247    NumUpdates:594\n"
     ]
    },
    {
     "data": {
      "application/vnd.jupyter.widget-view+json": {
       "model_id": "78afa8c3daa1490cb48db969525ee20f",
       "version_major": 2,
       "version_minor": 0
      },
      "text/plain": [
       "  0%|          | 0/594 [00:00<?, ?it/s]"
      ]
     },
     "metadata": {},
     "output_type": "display_data"
    },
    {
     "name": "stdout",
     "output_type": "stream",
     "text": [
      "Epoch:15    Loss:2.0243055318742487    NumUpdates:594\n"
     ]
    },
    {
     "data": {
      "application/vnd.jupyter.widget-view+json": {
       "model_id": "4de2e77e780c431faaa4c0897a6e5ea5",
       "version_major": 2,
       "version_minor": 0
      },
      "text/plain": [
       "  0%|          | 0/594 [00:00<?, ?it/s]"
      ]
     },
     "metadata": {},
     "output_type": "display_data"
    },
    {
     "name": "stdout",
     "output_type": "stream",
     "text": [
      "Epoch:16    Loss:2.022150629497939    NumUpdates:594\n"
     ]
    },
    {
     "data": {
      "application/vnd.jupyter.widget-view+json": {
       "model_id": "8de32cc9f48f46b1b37c458895f5949f",
       "version_major": 2,
       "version_minor": 0
      },
      "text/plain": [
       "  0%|          | 0/594 [00:00<?, ?it/s]"
      ]
     },
     "metadata": {},
     "output_type": "display_data"
    },
    {
     "name": "stdout",
     "output_type": "stream",
     "text": [
      "Epoch:17    Loss:2.0238744423847006    NumUpdates:594\n"
     ]
    },
    {
     "data": {
      "application/vnd.jupyter.widget-view+json": {
       "model_id": "28fbcd8562c54bbeb8631b4e571cbec9",
       "version_major": 2,
       "version_minor": 0
      },
      "text/plain": [
       "  0%|          | 0/594 [00:00<?, ?it/s]"
      ]
     },
     "metadata": {},
     "output_type": "display_data"
    },
    {
     "name": "stdout",
     "output_type": "stream",
     "text": [
      "Epoch:18    Loss:2.0202987739935465    NumUpdates:594\n"
     ]
    },
    {
     "data": {
      "application/vnd.jupyter.widget-view+json": {
       "model_id": "ff749a3d41484c50aef6aef4a7c507c2",
       "version_major": 2,
       "version_minor": 0
      },
      "text/plain": [
       "  0%|          | 0/594 [00:00<?, ?it/s]"
      ]
     },
     "metadata": {},
     "output_type": "display_data"
    },
    {
     "name": "stdout",
     "output_type": "stream",
     "text": [
      "Epoch:19    Loss:2.0162851114064355    NumUpdates:594\n"
     ]
    },
    {
     "data": {
      "application/vnd.jupyter.widget-view+json": {
       "model_id": "c1e1e3bb42d74f8aa8d17d9db8826aa5",
       "version_major": 2,
       "version_minor": 0
      },
      "text/plain": [
       "  0%|          | 0/594 [00:00<?, ?it/s]"
      ]
     },
     "metadata": {},
     "output_type": "display_data"
    },
    {
     "name": "stdout",
     "output_type": "stream",
     "text": [
      "Epoch:20    Loss:2.015074221172718    NumUpdates:594\n"
     ]
    },
    {
     "data": {
      "application/vnd.jupyter.widget-view+json": {
       "model_id": "c5bf3720de52427b8d5701d37fb73f85",
       "version_major": 2,
       "version_minor": 0
      },
      "text/plain": [
       "  0%|          | 0/594 [00:00<?, ?it/s]"
      ]
     },
     "metadata": {},
     "output_type": "display_data"
    },
    {
     "name": "stdout",
     "output_type": "stream",
     "text": [
      "Epoch:21    Loss:2.0242197288808597    NumUpdates:594\n"
     ]
    },
    {
     "data": {
      "application/vnd.jupyter.widget-view+json": {
       "model_id": "7ad1d825366a4a24aea350f487bfdf4c",
       "version_major": 2,
       "version_minor": 0
      },
      "text/plain": [
       "  0%|          | 0/594 [00:00<?, ?it/s]"
      ]
     },
     "metadata": {},
     "output_type": "display_data"
    },
    {
     "name": "stdout",
     "output_type": "stream",
     "text": [
      "Epoch:22    Loss:2.015114614658484    NumUpdates:594\n"
     ]
    },
    {
     "data": {
      "application/vnd.jupyter.widget-view+json": {
       "model_id": "b19c538bf0574e338589f8a476f9aa22",
       "version_major": 2,
       "version_minor": 0
      },
      "text/plain": [
       "  0%|          | 0/594 [00:00<?, ?it/s]"
      ]
     },
     "metadata": {},
     "output_type": "display_data"
    },
    {
     "name": "stdout",
     "output_type": "stream",
     "text": [
      "Epoch:23    Loss:2.014951927694006    NumUpdates:594\n"
     ]
    },
    {
     "data": {
      "application/vnd.jupyter.widget-view+json": {
       "model_id": "3fe7852e618a4415bfca3e587fa71465",
       "version_major": 2,
       "version_minor": 0
      },
      "text/plain": [
       "  0%|          | 0/594 [00:00<?, ?it/s]"
      ]
     },
     "metadata": {},
     "output_type": "display_data"
    },
    {
     "name": "stdout",
     "output_type": "stream",
     "text": [
      "Epoch:24    Loss:2.0165801066340823    NumUpdates:594\n"
     ]
    },
    {
     "data": {
      "application/vnd.jupyter.widget-view+json": {
       "model_id": "f7555f013ec7495ea862bdbd7f380ea9",
       "version_major": 2,
       "version_minor": 0
      },
      "text/plain": [
       "  0%|          | 0/594 [00:00<?, ?it/s]"
      ]
     },
     "metadata": {},
     "output_type": "display_data"
    },
    {
     "name": "stdout",
     "output_type": "stream",
     "text": [
      "Epoch:25    Loss:2.010471978572884    NumUpdates:594\n"
     ]
    },
    {
     "data": {
      "application/vnd.jupyter.widget-view+json": {
       "model_id": "7734080fbc3b4cac9fe80cefbe6a42b9",
       "version_major": 2,
       "version_minor": 0
      },
      "text/plain": [
       "  0%|          | 0/594 [00:00<?, ?it/s]"
      ]
     },
     "metadata": {},
     "output_type": "display_data"
    },
    {
     "name": "stdout",
     "output_type": "stream",
     "text": [
      "Epoch:26    Loss:2.0155315569755605    NumUpdates:594\n"
     ]
    },
    {
     "data": {
      "application/vnd.jupyter.widget-view+json": {
       "model_id": "c0ff531097304659afef0d9b865d5e6e",
       "version_major": 2,
       "version_minor": 0
      },
      "text/plain": [
       "  0%|          | 0/594 [00:00<?, ?it/s]"
      ]
     },
     "metadata": {},
     "output_type": "display_data"
    },
    {
     "name": "stdout",
     "output_type": "stream",
     "text": [
      "Epoch:27    Loss:2.0130124549673063    NumUpdates:594\n"
     ]
    },
    {
     "data": {
      "application/vnd.jupyter.widget-view+json": {
       "model_id": "b8c2dca19aaa482ea29377da55829a4e",
       "version_major": 2,
       "version_minor": 0
      },
      "text/plain": [
       "  0%|          | 0/594 [00:00<?, ?it/s]"
      ]
     },
     "metadata": {},
     "output_type": "display_data"
    },
    {
     "name": "stdout",
     "output_type": "stream",
     "text": [
      "Epoch:28    Loss:2.0150035599666816    NumUpdates:594\n"
     ]
    },
    {
     "data": {
      "application/vnd.jupyter.widget-view+json": {
       "model_id": "6a334e59c02b42e897dda3686e254dd0",
       "version_major": 2,
       "version_minor": 0
      },
      "text/plain": [
       "  0%|          | 0/594 [00:00<?, ?it/s]"
      ]
     },
     "metadata": {},
     "output_type": "display_data"
    },
    {
     "name": "stdout",
     "output_type": "stream",
     "text": [
      "Epoch:29    Loss:2.0080165692451426    NumUpdates:594\n"
     ]
    },
    {
     "data": {
      "application/vnd.jupyter.widget-view+json": {
       "model_id": "e61a5c0766e049ac8ed2a616652bb79f",
       "version_major": 2,
       "version_minor": 0
      },
      "text/plain": [
       "  0%|          | 0/594 [00:00<?, ?it/s]"
      ]
     },
     "metadata": {},
     "output_type": "display_data"
    },
    {
     "name": "stdout",
     "output_type": "stream",
     "text": [
      "Epoch:30    Loss:2.0140113973055622    NumUpdates:594\n"
     ]
    },
    {
     "data": {
      "application/vnd.jupyter.widget-view+json": {
       "model_id": "d2e53b93858945a5803df0e34ef9f8df",
       "version_major": 2,
       "version_minor": 0
      },
      "text/plain": [
       "  0%|          | 0/594 [00:00<?, ?it/s]"
      ]
     },
     "metadata": {},
     "output_type": "display_data"
    },
    {
     "name": "stdout",
     "output_type": "stream",
     "text": [
      "Epoch:31    Loss:2.0123722824183377    NumUpdates:594\n"
     ]
    },
    {
     "data": {
      "application/vnd.jupyter.widget-view+json": {
       "model_id": "f41dc0bf0e0546cca67ed8251d1a7e17",
       "version_major": 2,
       "version_minor": 0
      },
      "text/plain": [
       "  0%|          | 0/594 [00:00<?, ?it/s]"
      ]
     },
     "metadata": {},
     "output_type": "display_data"
    },
    {
     "name": "stdout",
     "output_type": "stream",
     "text": [
      "Epoch:32    Loss:2.0074246557874713    NumUpdates:594\n"
     ]
    },
    {
     "data": {
      "application/vnd.jupyter.widget-view+json": {
       "model_id": "ed015ec74dcb42b2a353b4cd31ef7230",
       "version_major": 2,
       "version_minor": 0
      },
      "text/plain": [
       "  0%|          | 0/594 [00:00<?, ?it/s]"
      ]
     },
     "metadata": {},
     "output_type": "display_data"
    },
    {
     "name": "stdout",
     "output_type": "stream",
     "text": [
      "Epoch:33    Loss:2.012966624614767    NumUpdates:594\n"
     ]
    },
    {
     "data": {
      "application/vnd.jupyter.widget-view+json": {
       "model_id": "075e593a27904187831efe896d8a30db",
       "version_major": 2,
       "version_minor": 0
      },
      "text/plain": [
       "  0%|          | 0/594 [00:00<?, ?it/s]"
      ]
     },
     "metadata": {},
     "output_type": "display_data"
    },
    {
     "name": "stdout",
     "output_type": "stream",
     "text": [
      "Epoch:34    Loss:2.0122713436582673    NumUpdates:594\n"
     ]
    },
    {
     "data": {
      "application/vnd.jupyter.widget-view+json": {
       "model_id": "b8a32addb78343fda373d389f1f027dd",
       "version_major": 2,
       "version_minor": 0
      },
      "text/plain": [
       "  0%|          | 0/594 [00:00<?, ?it/s]"
      ]
     },
     "metadata": {},
     "output_type": "display_data"
    },
    {
     "name": "stdout",
     "output_type": "stream",
     "text": [
      "Epoch:35    Loss:2.0111122829745516    NumUpdates:594\n"
     ]
    },
    {
     "data": {
      "application/vnd.jupyter.widget-view+json": {
       "model_id": "29b3fa0d7205467c91985ba94005e0ac",
       "version_major": 2,
       "version_minor": 0
      },
      "text/plain": [
       "  0%|          | 0/594 [00:00<?, ?it/s]"
      ]
     },
     "metadata": {},
     "output_type": "display_data"
    },
    {
     "name": "stdout",
     "output_type": "stream",
     "text": [
      "Epoch:36    Loss:2.0122861055412677    NumUpdates:594\n"
     ]
    },
    {
     "data": {
      "application/vnd.jupyter.widget-view+json": {
       "model_id": "d74c9e21f66f483494d30c5c524a26c6",
       "version_major": 2,
       "version_minor": 0
      },
      "text/plain": [
       "  0%|          | 0/594 [00:00<?, ?it/s]"
      ]
     },
     "metadata": {},
     "output_type": "display_data"
    },
    {
     "name": "stdout",
     "output_type": "stream",
     "text": [
      "Epoch:37    Loss:2.0086626270001986    NumUpdates:594\n"
     ]
    },
    {
     "data": {
      "application/vnd.jupyter.widget-view+json": {
       "model_id": "84db1ded78e841a3bba8b0f8a0dda1d9",
       "version_major": 2,
       "version_minor": 0
      },
      "text/plain": [
       "  0%|          | 0/594 [00:00<?, ?it/s]"
      ]
     },
     "metadata": {},
     "output_type": "display_data"
    },
    {
     "name": "stdout",
     "output_type": "stream",
     "text": [
      "Epoch:38    Loss:2.0112607420895636    NumUpdates:594\n",
      "Epoch 00038: reducing learning rate of group 0 to 1.0000e-04.\n"
     ]
    },
    {
     "data": {
      "application/vnd.jupyter.widget-view+json": {
       "model_id": "0a2136817bc14fa38235e2489d709c5b",
       "version_major": 2,
       "version_minor": 0
      },
      "text/plain": [
       "  0%|          | 0/594 [00:00<?, ?it/s]"
      ]
     },
     "metadata": {},
     "output_type": "display_data"
    },
    {
     "name": "stdout",
     "output_type": "stream",
     "text": [
      "Epoch:39    Loss:1.9216759321264145    NumUpdates:594\n"
     ]
    },
    {
     "data": {
      "application/vnd.jupyter.widget-view+json": {
       "model_id": "31b364ae405f43e89713165f6e8648d2",
       "version_major": 2,
       "version_minor": 0
      },
      "text/plain": [
       "  0%|          | 0/594 [00:00<?, ?it/s]"
      ]
     },
     "metadata": {},
     "output_type": "display_data"
    },
    {
     "name": "stdout",
     "output_type": "stream",
     "text": [
      "Epoch:40    Loss:1.8920113233604816    NumUpdates:594\n"
     ]
    },
    {
     "data": {
      "application/vnd.jupyter.widget-view+json": {
       "model_id": "3702267467d84b1087ea19e98d261d35",
       "version_major": 2,
       "version_minor": 0
      },
      "text/plain": [
       "  0%|          | 0/594 [00:00<?, ?it/s]"
      ]
     },
     "metadata": {},
     "output_type": "display_data"
    },
    {
     "name": "stdout",
     "output_type": "stream",
     "text": [
      "Epoch:41    Loss:1.8839250178850862    NumUpdates:594\n"
     ]
    },
    {
     "data": {
      "application/vnd.jupyter.widget-view+json": {
       "model_id": "abc8a9bc3fba4810a3e062ac5b1cb341",
       "version_major": 2,
       "version_minor": 0
      },
      "text/plain": [
       "  0%|          | 0/594 [00:00<?, ?it/s]"
      ]
     },
     "metadata": {},
     "output_type": "display_data"
    },
    {
     "name": "stdout",
     "output_type": "stream",
     "text": [
      "Epoch:42    Loss:1.8795726036383247    NumUpdates:594\n"
     ]
    },
    {
     "data": {
      "application/vnd.jupyter.widget-view+json": {
       "model_id": "ebe0f422a0474e8bb20aebc15f114b93",
       "version_major": 2,
       "version_minor": 0
      },
      "text/plain": [
       "  0%|          | 0/594 [00:00<?, ?it/s]"
      ]
     },
     "metadata": {},
     "output_type": "display_data"
    },
    {
     "name": "stdout",
     "output_type": "stream",
     "text": [
      "Epoch:43    Loss:1.8764832092053962    NumUpdates:594\n"
     ]
    },
    {
     "data": {
      "application/vnd.jupyter.widget-view+json": {
       "model_id": "6162442aeee0457da0d3e7be832388eb",
       "version_major": 2,
       "version_minor": 0
      },
      "text/plain": [
       "  0%|          | 0/594 [00:00<?, ?it/s]"
      ]
     },
     "metadata": {},
     "output_type": "display_data"
    },
    {
     "name": "stdout",
     "output_type": "stream",
     "text": [
      "Epoch:44    Loss:1.8742056535149263    NumUpdates:594\n"
     ]
    },
    {
     "data": {
      "application/vnd.jupyter.widget-view+json": {
       "model_id": "6664627bf6bf4308b9d594847382c136",
       "version_major": 2,
       "version_minor": 0
      },
      "text/plain": [
       "  0%|          | 0/594 [00:00<?, ?it/s]"
      ]
     },
     "metadata": {},
     "output_type": "display_data"
    },
    {
     "name": "stdout",
     "output_type": "stream",
     "text": [
      "Epoch:45    Loss:1.8727667169137434    NumUpdates:594\n"
     ]
    },
    {
     "data": {
      "application/vnd.jupyter.widget-view+json": {
       "model_id": "05bf91c738b54071ab7c9e2bcfc5835b",
       "version_major": 2,
       "version_minor": 0
      },
      "text/plain": [
       "  0%|          | 0/594 [00:00<?, ?it/s]"
      ]
     },
     "metadata": {},
     "output_type": "display_data"
    },
    {
     "name": "stdout",
     "output_type": "stream",
     "text": [
      "Epoch:46    Loss:1.8709044251779112    NumUpdates:594\n"
     ]
    },
    {
     "data": {
      "application/vnd.jupyter.widget-view+json": {
       "model_id": "a2307361105644e2ac487907e212c0eb",
       "version_major": 2,
       "version_minor": 0
      },
      "text/plain": [
       "  0%|          | 0/594 [00:00<?, ?it/s]"
      ]
     },
     "metadata": {},
     "output_type": "display_data"
    },
    {
     "name": "stdout",
     "output_type": "stream",
     "text": [
      "Epoch:47    Loss:1.8690514684927584    NumUpdates:594\n"
     ]
    },
    {
     "data": {
      "application/vnd.jupyter.widget-view+json": {
       "model_id": "ef809f2c42eb468cb379135dbc56b93c",
       "version_major": 2,
       "version_minor": 0
      },
      "text/plain": [
       "  0%|          | 0/594 [00:00<?, ?it/s]"
      ]
     },
     "metadata": {},
     "output_type": "display_data"
    },
    {
     "name": "stdout",
     "output_type": "stream",
     "text": [
      "Epoch:48    Loss:1.8680950437330637    NumUpdates:594\n"
     ]
    },
    {
     "data": {
      "application/vnd.jupyter.widget-view+json": {
       "model_id": "6d0bcaf11ec6425ab6162a813313d3ce",
       "version_major": 2,
       "version_minor": 0
      },
      "text/plain": [
       "  0%|          | 0/594 [00:00<?, ?it/s]"
      ]
     },
     "metadata": {},
     "output_type": "display_data"
    },
    {
     "name": "stdout",
     "output_type": "stream",
     "text": [
      "Epoch:49    Loss:1.8671377810966285    NumUpdates:594\n"
     ]
    },
    {
     "data": {
      "application/vnd.jupyter.widget-view+json": {
       "model_id": "a95db12973e941b0bfefa0940cbbc4a5",
       "version_major": 2,
       "version_minor": 0
      },
      "text/plain": [
       "  0%|          | 0/594 [00:00<?, ?it/s]"
      ]
     },
     "metadata": {},
     "output_type": "display_data"
    },
    {
     "name": "stdout",
     "output_type": "stream",
     "text": [
      "Epoch:50    Loss:1.8675407247511224    NumUpdates:594\n"
     ]
    },
    {
     "data": {
      "application/vnd.jupyter.widget-view+json": {
       "model_id": "62a49c42b6074c1c996c1e7402cd2de7",
       "version_major": 2,
       "version_minor": 0
      },
      "text/plain": [
       "  0%|          | 0/594 [00:00<?, ?it/s]"
      ]
     },
     "metadata": {},
     "output_type": "display_data"
    },
    {
     "name": "stdout",
     "output_type": "stream",
     "text": [
      "Epoch:51    Loss:1.865567764649889    NumUpdates:594\n"
     ]
    },
    {
     "data": {
      "application/vnd.jupyter.widget-view+json": {
       "model_id": "682b7c71e85b43bcb7ffd2c6ae7592e1",
       "version_major": 2,
       "version_minor": 0
      },
      "text/plain": [
       "  0%|          | 0/594 [00:00<?, ?it/s]"
      ]
     },
     "metadata": {},
     "output_type": "display_data"
    },
    {
     "name": "stdout",
     "output_type": "stream",
     "text": [
      "Epoch:52    Loss:1.8643837201876272    NumUpdates:594\n"
     ]
    },
    {
     "data": {
      "application/vnd.jupyter.widget-view+json": {
       "model_id": "135cfd503852426cb4468d605063e53f",
       "version_major": 2,
       "version_minor": 0
      },
      "text/plain": [
       "  0%|          | 0/594 [00:00<?, ?it/s]"
      ]
     },
     "metadata": {},
     "output_type": "display_data"
    },
    {
     "name": "stdout",
     "output_type": "stream",
     "text": [
      "Epoch:53    Loss:1.8657406516348072    NumUpdates:594\n"
     ]
    },
    {
     "data": {
      "application/vnd.jupyter.widget-view+json": {
       "model_id": "bc4e95ed91a549eaacf7dc21c21eb1f6",
       "version_major": 2,
       "version_minor": 0
      },
      "text/plain": [
       "  0%|          | 0/594 [00:00<?, ?it/s]"
      ]
     },
     "metadata": {},
     "output_type": "display_data"
    },
    {
     "name": "stdout",
     "output_type": "stream",
     "text": [
      "Epoch:54    Loss:1.863673534056153    NumUpdates:594\n"
     ]
    },
    {
     "data": {
      "application/vnd.jupyter.widget-view+json": {
       "model_id": "082b1cf5726246d2a99046ea33dd7947",
       "version_major": 2,
       "version_minor": 0
      },
      "text/plain": [
       "  0%|          | 0/594 [00:00<?, ?it/s]"
      ]
     },
     "metadata": {},
     "output_type": "display_data"
    },
    {
     "name": "stdout",
     "output_type": "stream",
     "text": [
      "Epoch:55    Loss:1.8616784853164596    NumUpdates:594\n"
     ]
    },
    {
     "data": {
      "application/vnd.jupyter.widget-view+json": {
       "model_id": "23a8c6c4d67a473ca61747f6adb7ee19",
       "version_major": 2,
       "version_minor": 0
      },
      "text/plain": [
       "  0%|          | 0/594 [00:00<?, ?it/s]"
      ]
     },
     "metadata": {},
     "output_type": "display_data"
    },
    {
     "name": "stdout",
     "output_type": "stream",
     "text": [
      "Epoch:56    Loss:1.8606963655362627    NumUpdates:594\n"
     ]
    },
    {
     "data": {
      "application/vnd.jupyter.widget-view+json": {
       "model_id": "efe91f155a3b4be58cd4161e57513528",
       "version_major": 2,
       "version_minor": 0
      },
      "text/plain": [
       "  0%|          | 0/594 [00:00<?, ?it/s]"
      ]
     },
     "metadata": {},
     "output_type": "display_data"
    },
    {
     "name": "stdout",
     "output_type": "stream",
     "text": [
      "Epoch:57    Loss:1.8602795057023815    NumUpdates:594\n"
     ]
    },
    {
     "data": {
      "application/vnd.jupyter.widget-view+json": {
       "model_id": "035d6f9bcacb4eaeb22c28f7859bf277",
       "version_major": 2,
       "version_minor": 0
      },
      "text/plain": [
       "  0%|          | 0/594 [00:00<?, ?it/s]"
      ]
     },
     "metadata": {},
     "output_type": "display_data"
    },
    {
     "name": "stdout",
     "output_type": "stream",
     "text": [
      "Epoch:58    Loss:1.8624203919561624    NumUpdates:594\n"
     ]
    },
    {
     "data": {
      "application/vnd.jupyter.widget-view+json": {
       "model_id": "845dbdf4f5fa464482f2a671a1079353",
       "version_major": 2,
       "version_minor": 0
      },
      "text/plain": [
       "  0%|          | 0/594 [00:00<?, ?it/s]"
      ]
     },
     "metadata": {},
     "output_type": "display_data"
    },
    {
     "name": "stdout",
     "output_type": "stream",
     "text": [
      "Epoch:59    Loss:1.86423896719711    NumUpdates:594\n"
     ]
    },
    {
     "data": {
      "application/vnd.jupyter.widget-view+json": {
       "model_id": "f15cf1fb0cc043eba79a93d0e9d81634",
       "version_major": 2,
       "version_minor": 0
      },
      "text/plain": [
       "  0%|          | 0/594 [00:00<?, ?it/s]"
      ]
     },
     "metadata": {},
     "output_type": "display_data"
    },
    {
     "name": "stdout",
     "output_type": "stream",
     "text": [
      "Epoch:60    Loss:1.8607576734289175    NumUpdates:594\n"
     ]
    },
    {
     "data": {
      "application/vnd.jupyter.widget-view+json": {
       "model_id": "44d898800f7f45bea36640e1db9e2768",
       "version_major": 2,
       "version_minor": 0
      },
      "text/plain": [
       "  0%|          | 0/594 [00:00<?, ?it/s]"
      ]
     },
     "metadata": {},
     "output_type": "display_data"
    },
    {
     "name": "stdout",
     "output_type": "stream",
     "text": [
      "Epoch:61    Loss:1.8583322909945992    NumUpdates:594\n"
     ]
    },
    {
     "data": {
      "application/vnd.jupyter.widget-view+json": {
       "model_id": "434e3107639e4482b116d21f0358e2a2",
       "version_major": 2,
       "version_minor": 0
      },
      "text/plain": [
       "  0%|          | 0/594 [00:00<?, ?it/s]"
      ]
     },
     "metadata": {},
     "output_type": "display_data"
    },
    {
     "name": "stdout",
     "output_type": "stream",
     "text": [
      "Epoch:62    Loss:1.8573307746187204    NumUpdates:594\n"
     ]
    },
    {
     "data": {
      "application/vnd.jupyter.widget-view+json": {
       "model_id": "e96514a4aeb04363887e0d816d3def6e",
       "version_major": 2,
       "version_minor": 0
      },
      "text/plain": [
       "  0%|          | 0/594 [00:00<?, ?it/s]"
      ]
     },
     "metadata": {},
     "output_type": "display_data"
    },
    {
     "name": "stdout",
     "output_type": "stream",
     "text": [
      "Epoch:63    Loss:1.8580334804676197    NumUpdates:594\n"
     ]
    },
    {
     "data": {
      "application/vnd.jupyter.widget-view+json": {
       "model_id": "56e934a75f014b3ab82313508eb3045e",
       "version_major": 2,
       "version_minor": 0
      },
      "text/plain": [
       "  0%|          | 0/594 [00:00<?, ?it/s]"
      ]
     },
     "metadata": {},
     "output_type": "display_data"
    },
    {
     "name": "stdout",
     "output_type": "stream",
     "text": [
      "Epoch:64    Loss:1.8628399574796761    NumUpdates:594\n"
     ]
    },
    {
     "data": {
      "application/vnd.jupyter.widget-view+json": {
       "model_id": "0d4e36d2e12749168281c72826ed6ff7",
       "version_major": 2,
       "version_minor": 0
      },
      "text/plain": [
       "  0%|          | 0/594 [00:00<?, ?it/s]"
      ]
     },
     "metadata": {},
     "output_type": "display_data"
    },
    {
     "name": "stdout",
     "output_type": "stream",
     "text": [
      "Epoch:65    Loss:1.8586843346907234    NumUpdates:594\n"
     ]
    },
    {
     "data": {
      "application/vnd.jupyter.widget-view+json": {
       "model_id": "9906e8603cc54ef6ae1a258072013d0e",
       "version_major": 2,
       "version_minor": 0
      },
      "text/plain": [
       "  0%|          | 0/594 [00:00<?, ?it/s]"
      ]
     },
     "metadata": {},
     "output_type": "display_data"
    },
    {
     "name": "stdout",
     "output_type": "stream",
     "text": [
      "Epoch:66    Loss:1.8564215155964348    NumUpdates:594\n"
     ]
    },
    {
     "data": {
      "application/vnd.jupyter.widget-view+json": {
       "model_id": "a8a340578ac8491291918ded5ac3135e",
       "version_major": 2,
       "version_minor": 0
      },
      "text/plain": [
       "  0%|          | 0/594 [00:00<?, ?it/s]"
      ]
     },
     "metadata": {},
     "output_type": "display_data"
    },
    {
     "name": "stdout",
     "output_type": "stream",
     "text": [
      "Epoch:67    Loss:1.8552506178717822    NumUpdates:594\n"
     ]
    },
    {
     "data": {
      "application/vnd.jupyter.widget-view+json": {
       "model_id": "64a66455a7ce4d46b8a9630ed61825ba",
       "version_major": 2,
       "version_minor": 0
      },
      "text/plain": [
       "  0%|          | 0/594 [00:00<?, ?it/s]"
      ]
     },
     "metadata": {},
     "output_type": "display_data"
    },
    {
     "name": "stdout",
     "output_type": "stream",
     "text": [
      "Epoch:68    Loss:1.85509303282407    NumUpdates:594\n"
     ]
    },
    {
     "data": {
      "application/vnd.jupyter.widget-view+json": {
       "model_id": "8dc6d5f406b1440db4c0561c8370ca1b",
       "version_major": 2,
       "version_minor": 0
      },
      "text/plain": [
       "  0%|          | 0/594 [00:00<?, ?it/s]"
      ]
     },
     "metadata": {},
     "output_type": "display_data"
    },
    {
     "name": "stdout",
     "output_type": "stream",
     "text": [
      "Epoch:69    Loss:1.8580477564824551    NumUpdates:594\n"
     ]
    },
    {
     "data": {
      "application/vnd.jupyter.widget-view+json": {
       "model_id": "ec30b473f0cf439a83f0d4e793b8e489",
       "version_major": 2,
       "version_minor": 0
      },
      "text/plain": [
       "  0%|          | 0/594 [00:00<?, ?it/s]"
      ]
     },
     "metadata": {},
     "output_type": "display_data"
    },
    {
     "name": "stdout",
     "output_type": "stream",
     "text": [
      "Epoch:70    Loss:1.8619506166438864    NumUpdates:594\n"
     ]
    },
    {
     "data": {
      "application/vnd.jupyter.widget-view+json": {
       "model_id": "f04ab9171ace407b86a23f020eba0fc4",
       "version_major": 2,
       "version_minor": 0
      },
      "text/plain": [
       "  0%|          | 0/594 [00:00<?, ?it/s]"
      ]
     },
     "metadata": {},
     "output_type": "display_data"
    },
    {
     "name": "stdout",
     "output_type": "stream",
     "text": [
      "Epoch:71    Loss:1.8561871338773657    NumUpdates:594\n"
     ]
    },
    {
     "data": {
      "application/vnd.jupyter.widget-view+json": {
       "model_id": "e773fab62df34a619fbdee34aa7a136e",
       "version_major": 2,
       "version_minor": 0
      },
      "text/plain": [
       "  0%|          | 0/594 [00:00<?, ?it/s]"
      ]
     },
     "metadata": {},
     "output_type": "display_data"
    },
    {
     "name": "stdout",
     "output_type": "stream",
     "text": [
      "Epoch:72    Loss:1.8558518254395686    NumUpdates:594\n"
     ]
    },
    {
     "data": {
      "application/vnd.jupyter.widget-view+json": {
       "model_id": "998666ca2d954e4da5099a7e924df98e",
       "version_major": 2,
       "version_minor": 0
      },
      "text/plain": [
       "  0%|          | 0/594 [00:00<?, ?it/s]"
      ]
     },
     "metadata": {},
     "output_type": "display_data"
    },
    {
     "name": "stdout",
     "output_type": "stream",
     "text": [
      "Epoch:73    Loss:1.857078820968718    NumUpdates:594\n",
      "Epoch 00073: reducing learning rate of group 0 to 1.0000e-05.\n"
     ]
    },
    {
     "data": {
      "application/vnd.jupyter.widget-view+json": {
       "model_id": "99e02d229baf4d01ad5c5e034066c2a6",
       "version_major": 2,
       "version_minor": 0
      },
      "text/plain": [
       "  0%|          | 0/594 [00:00<?, ?it/s]"
      ]
     },
     "metadata": {},
     "output_type": "display_data"
    },
    {
     "name": "stdout",
     "output_type": "stream",
     "text": [
      "Epoch:74    Loss:1.8387809008460254    NumUpdates:594\n"
     ]
    },
    {
     "data": {
      "application/vnd.jupyter.widget-view+json": {
       "model_id": "ed0da247fd18494a867c40a5977f5b62",
       "version_major": 2,
       "version_minor": 0
      },
      "text/plain": [
       "  0%|          | 0/594 [00:00<?, ?it/s]"
      ]
     },
     "metadata": {},
     "output_type": "display_data"
    },
    {
     "name": "stdout",
     "output_type": "stream",
     "text": [
      "Epoch:75    Loss:1.8345171610514324    NumUpdates:594\n"
     ]
    },
    {
     "data": {
      "application/vnd.jupyter.widget-view+json": {
       "model_id": "876ae617aa434451916213920f39f9b3",
       "version_major": 2,
       "version_minor": 0
      },
      "text/plain": [
       "  0%|          | 0/594 [00:00<?, ?it/s]"
      ]
     },
     "metadata": {},
     "output_type": "display_data"
    },
    {
     "name": "stdout",
     "output_type": "stream",
     "text": [
      "Epoch:76    Loss:1.8333715792456862    NumUpdates:594\n"
     ]
    },
    {
     "data": {
      "application/vnd.jupyter.widget-view+json": {
       "model_id": "7128932b2c6241d7b4bef1e531247a37",
       "version_major": 2,
       "version_minor": 0
      },
      "text/plain": [
       "  0%|          | 0/594 [00:00<?, ?it/s]"
      ]
     },
     "metadata": {},
     "output_type": "display_data"
    },
    {
     "name": "stdout",
     "output_type": "stream",
     "text": [
      "Epoch:77    Loss:1.8326753243452771    NumUpdates:594\n"
     ]
    },
    {
     "data": {
      "application/vnd.jupyter.widget-view+json": {
       "model_id": "d31fcb9207604bc3bbcfe6604685d75c",
       "version_major": 2,
       "version_minor": 0
      },
      "text/plain": [
       "  0%|          | 0/594 [00:00<?, ?it/s]"
      ]
     },
     "metadata": {},
     "output_type": "display_data"
    },
    {
     "name": "stdout",
     "output_type": "stream",
     "text": [
      "Epoch:78    Loss:1.8321569690399298    NumUpdates:594\n"
     ]
    },
    {
     "data": {
      "application/vnd.jupyter.widget-view+json": {
       "model_id": "97107aca20c94d3e8972ea6d464bde1f",
       "version_major": 2,
       "version_minor": 0
      },
      "text/plain": [
       "  0%|          | 0/594 [00:00<?, ?it/s]"
      ]
     },
     "metadata": {},
     "output_type": "display_data"
    },
    {
     "name": "stdout",
     "output_type": "stream",
     "text": [
      "Epoch:79    Loss:1.8317182445365572    NumUpdates:594\n"
     ]
    },
    {
     "data": {
      "application/vnd.jupyter.widget-view+json": {
       "model_id": "358ed993e8c54d4783cc86fd66272079",
       "version_major": 2,
       "version_minor": 0
      },
      "text/plain": [
       "  0%|          | 0/594 [00:00<?, ?it/s]"
      ]
     },
     "metadata": {},
     "output_type": "display_data"
    },
    {
     "name": "stdout",
     "output_type": "stream",
     "text": [
      "Epoch:80    Loss:1.8313533258357835    NumUpdates:594\n"
     ]
    },
    {
     "data": {
      "application/vnd.jupyter.widget-view+json": {
       "model_id": "0a4c5603fd994573800a1d5b5a4577e4",
       "version_major": 2,
       "version_minor": 0
      },
      "text/plain": [
       "  0%|          | 0/594 [00:00<?, ?it/s]"
      ]
     },
     "metadata": {},
     "output_type": "display_data"
    },
    {
     "name": "stdout",
     "output_type": "stream",
     "text": [
      "Epoch:81    Loss:1.8310261404875554    NumUpdates:594\n"
     ]
    },
    {
     "data": {
      "application/vnd.jupyter.widget-view+json": {
       "model_id": "86a89d81570747c898ad180ec96e0c6d",
       "version_major": 2,
       "version_minor": 0
      },
      "text/plain": [
       "  0%|          | 0/594 [00:00<?, ?it/s]"
      ]
     },
     "metadata": {},
     "output_type": "display_data"
    },
    {
     "name": "stdout",
     "output_type": "stream",
     "text": [
      "Epoch:82    Loss:1.830736351534975    NumUpdates:594\n"
     ]
    },
    {
     "data": {
      "application/vnd.jupyter.widget-view+json": {
       "model_id": "386f78fa8e9a49429c6f4bc37a1555a2",
       "version_major": 2,
       "version_minor": 0
      },
      "text/plain": [
       "  0%|          | 0/594 [00:00<?, ?it/s]"
      ]
     },
     "metadata": {},
     "output_type": "display_data"
    },
    {
     "name": "stdout",
     "output_type": "stream",
     "text": [
      "Epoch:83    Loss:1.83046577253727    NumUpdates:594\n"
     ]
    },
    {
     "data": {
      "application/vnd.jupyter.widget-view+json": {
       "model_id": "8e8903f5423249df94c7583a2c5c0a93",
       "version_major": 2,
       "version_minor": 0
      },
      "text/plain": [
       "  0%|          | 0/594 [00:00<?, ?it/s]"
      ]
     },
     "metadata": {},
     "output_type": "display_data"
    },
    {
     "name": "stdout",
     "output_type": "stream",
     "text": [
      "Epoch:84    Loss:1.8302279963637844    NumUpdates:594\n"
     ]
    },
    {
     "data": {
      "application/vnd.jupyter.widget-view+json": {
       "model_id": "9ef43071664943ce89983cd46095a875",
       "version_major": 2,
       "version_minor": 0
      },
      "text/plain": [
       "  0%|          | 0/594 [00:00<?, ?it/s]"
      ]
     },
     "metadata": {},
     "output_type": "display_data"
    },
    {
     "name": "stdout",
     "output_type": "stream",
     "text": [
      "Epoch:85    Loss:1.8299958780157044    NumUpdates:594\n"
     ]
    },
    {
     "data": {
      "application/vnd.jupyter.widget-view+json": {
       "model_id": "1ed852cfbd3b456b8fd92fd1b983b1c9",
       "version_major": 2,
       "version_minor": 0
      },
      "text/plain": [
       "  0%|          | 0/594 [00:00<?, ?it/s]"
      ]
     },
     "metadata": {},
     "output_type": "display_data"
    },
    {
     "name": "stdout",
     "output_type": "stream",
     "text": [
      "Epoch:86    Loss:1.8297970196614763    NumUpdates:594\n"
     ]
    },
    {
     "data": {
      "application/vnd.jupyter.widget-view+json": {
       "model_id": "eba12b3bc90b44b7886ff7f51b635087",
       "version_major": 2,
       "version_minor": 0
      },
      "text/plain": [
       "  0%|          | 0/594 [00:00<?, ?it/s]"
      ]
     },
     "metadata": {},
     "output_type": "display_data"
    },
    {
     "name": "stdout",
     "output_type": "stream",
     "text": [
      "Epoch:87    Loss:1.8295988524803009    NumUpdates:594\n"
     ]
    },
    {
     "data": {
      "application/vnd.jupyter.widget-view+json": {
       "model_id": "efa7d7d2288245498dc3971b3520ba6d",
       "version_major": 2,
       "version_minor": 0
      },
      "text/plain": [
       "  0%|          | 0/594 [00:00<?, ?it/s]"
      ]
     },
     "metadata": {},
     "output_type": "display_data"
    },
    {
     "name": "stdout",
     "output_type": "stream",
     "text": [
      "Epoch:88    Loss:1.829432644426622    NumUpdates:594\n"
     ]
    },
    {
     "data": {
      "application/vnd.jupyter.widget-view+json": {
       "model_id": "b365f64b594948b4aa7d26bb06ade29b",
       "version_major": 2,
       "version_minor": 0
      },
      "text/plain": [
       "  0%|          | 0/594 [00:00<?, ?it/s]"
      ]
     },
     "metadata": {},
     "output_type": "display_data"
    },
    {
     "name": "stdout",
     "output_type": "stream",
     "text": [
      "Epoch:89    Loss:1.8292309599693375    NumUpdates:594\n"
     ]
    },
    {
     "data": {
      "application/vnd.jupyter.widget-view+json": {
       "model_id": "46530e81f4d24fefb267e371c2e92e97",
       "version_major": 2,
       "version_minor": 0
      },
      "text/plain": [
       "  0%|          | 0/594 [00:00<?, ?it/s]"
      ]
     },
     "metadata": {},
     "output_type": "display_data"
    },
    {
     "name": "stdout",
     "output_type": "stream",
     "text": [
      "Epoch:90    Loss:1.8290836066509337    NumUpdates:594\n"
     ]
    },
    {
     "data": {
      "application/vnd.jupyter.widget-view+json": {
       "model_id": "9ba77c4792c3437aa3b5146f3d85a6d5",
       "version_major": 2,
       "version_minor": 0
      },
      "text/plain": [
       "  0%|          | 0/594 [00:00<?, ?it/s]"
      ]
     },
     "metadata": {},
     "output_type": "display_data"
    },
    {
     "name": "stdout",
     "output_type": "stream",
     "text": [
      "Epoch:91    Loss:1.8289193613360626    NumUpdates:594\n"
     ]
    },
    {
     "data": {
      "application/vnd.jupyter.widget-view+json": {
       "model_id": "8e16a900c0c54513a746a8ccd1a78b21",
       "version_major": 2,
       "version_minor": 0
      },
      "text/plain": [
       "  0%|          | 0/594 [00:00<?, ?it/s]"
      ]
     },
     "metadata": {},
     "output_type": "display_data"
    },
    {
     "name": "stdout",
     "output_type": "stream",
     "text": [
      "Epoch:92    Loss:1.8287622575406675    NumUpdates:594\n"
     ]
    },
    {
     "data": {
      "application/vnd.jupyter.widget-view+json": {
       "model_id": "3f5dee7523664ab7b61e3b858b9a17cf",
       "version_major": 2,
       "version_minor": 0
      },
      "text/plain": [
       "  0%|          | 0/594 [00:00<?, ?it/s]"
      ]
     },
     "metadata": {},
     "output_type": "display_data"
    },
    {
     "name": "stdout",
     "output_type": "stream",
     "text": [
      "Epoch:93    Loss:1.8286229241576661    NumUpdates:594\n"
     ]
    },
    {
     "data": {
      "application/vnd.jupyter.widget-view+json": {
       "model_id": "11bdf9742ef844e88abf213dd8c5f42e",
       "version_major": 2,
       "version_minor": 0
      },
      "text/plain": [
       "  0%|          | 0/594 [00:00<?, ?it/s]"
      ]
     },
     "metadata": {},
     "output_type": "display_data"
    },
    {
     "name": "stdout",
     "output_type": "stream",
     "text": [
      "Epoch:94    Loss:1.8284743335913327    NumUpdates:594\n"
     ]
    },
    {
     "data": {
      "application/vnd.jupyter.widget-view+json": {
       "model_id": "829dbaa0001c4ff48d643b6a0a396d35",
       "version_major": 2,
       "version_minor": 0
      },
      "text/plain": [
       "  0%|          | 0/594 [00:00<?, ?it/s]"
      ]
     },
     "metadata": {},
     "output_type": "display_data"
    },
    {
     "name": "stdout",
     "output_type": "stream",
     "text": [
      "Epoch:95    Loss:1.828339944985579    NumUpdates:594\n"
     ]
    },
    {
     "data": {
      "application/vnd.jupyter.widget-view+json": {
       "model_id": "f136062ae5984ebeaa96a3f3cb9a5664",
       "version_major": 2,
       "version_minor": 0
      },
      "text/plain": [
       "  0%|          | 0/594 [00:00<?, ?it/s]"
      ]
     },
     "metadata": {},
     "output_type": "display_data"
    },
    {
     "name": "stdout",
     "output_type": "stream",
     "text": [
      "Epoch:96    Loss:1.8282086116697651    NumUpdates:594\n"
     ]
    },
    {
     "data": {
      "application/vnd.jupyter.widget-view+json": {
       "model_id": "ac9ad0ff142c4885b89f33c27aa9c45a",
       "version_major": 2,
       "version_minor": 0
      },
      "text/plain": [
       "  0%|          | 0/594 [00:00<?, ?it/s]"
      ]
     },
     "metadata": {},
     "output_type": "display_data"
    },
    {
     "name": "stdout",
     "output_type": "stream",
     "text": [
      "Epoch:97    Loss:1.8280762259406274    NumUpdates:594\n"
     ]
    },
    {
     "data": {
      "application/vnd.jupyter.widget-view+json": {
       "model_id": "809c98850bea42ae8b46072503cd05b9",
       "version_major": 2,
       "version_minor": 0
      },
      "text/plain": [
       "  0%|          | 0/594 [00:00<?, ?it/s]"
      ]
     },
     "metadata": {},
     "output_type": "display_data"
    },
    {
     "name": "stdout",
     "output_type": "stream",
     "text": [
      "Epoch:98    Loss:1.827948884931879    NumUpdates:594\n"
     ]
    },
    {
     "data": {
      "application/vnd.jupyter.widget-view+json": {
       "model_id": "5695d5df8da14440adcd988c39acfd9f",
       "version_major": 2,
       "version_minor": 0
      },
      "text/plain": [
       "  0%|          | 0/594 [00:00<?, ?it/s]"
      ]
     },
     "metadata": {},
     "output_type": "display_data"
    },
    {
     "name": "stdout",
     "output_type": "stream",
     "text": [
      "Epoch:99    Loss:1.8278249245300036    NumUpdates:594\n"
     ]
    },
    {
     "data": {
      "application/vnd.jupyter.widget-view+json": {
       "model_id": "b3c448c40671491cb5da5520a428ef09",
       "version_major": 2,
       "version_minor": 0
      },
      "text/plain": [
       "  0%|          | 0/594 [00:00<?, ?it/s]"
      ]
     },
     "metadata": {},
     "output_type": "display_data"
    },
    {
     "name": "stdout",
     "output_type": "stream",
     "text": [
      "Epoch:100    Loss:1.8277001643823052    NumUpdates:594\n"
     ]
    }
   ],
   "source": [
    "alphabets = [\"皖\", \"沪\", \"津\", \"渝\", \"冀\", \"晋\", \"蒙\", \"辽\", \"吉\", \"黑\", \"苏\", \"浙\", \"京\", \"闽\", \"赣\", \"鲁\", \"豫\", \"鄂\", \"湘\", \"粤\", \"桂\", \"琼\", \"川\", \"贵\", \"云\", \"藏\", \"陕\", \"甘\", \"青\", \"宁\", \"新\", \"警\", \"学\",\n",
    "             'A', 'B', 'C', 'D', 'E', 'F', 'G', 'H', 'J', 'K', 'L', 'M', 'N', 'P', 'Q', 'R', 'S', 'T', 'U', 'V', 'W',\n",
    "             'X', 'Y', 'Z', 'O','0', '1', '2', '3', '4', '5', '6', '7', '8', '9']\n",
    "idx2char = {k:v for k,v in enumerate(alphabets, start=0)}\n",
    "print(idx2char)\n",
    "char2idx = {v:k for k,v in idx2char.items()}\n",
    "print(char2idx)\n",
    "\n",
    "num_chars = len(char2idx)\n",
    "print(num_chars)\n",
    "rnn_hidden_size = 256\n",
    "\n",
    "device = torch.device('cuda' if torch.cuda.is_available() else 'cpu')\n",
    "print(device)\n",
    "resnet = resnet18(pretrained=True)\n",
    "\n",
    "class CRNN(nn.Module):\n",
    "    \n",
    "    def __init__(self, num_chars, rnn_hidden_size=256, dropout=0.1):\n",
    "        \n",
    "        super(CRNN, self).__init__()\n",
    "        self.num_chars = num_chars\n",
    "        self.rnn_hidden_size = rnn_hidden_size\n",
    "        self.dropout = dropout\n",
    "        \n",
    "        # CNN Part 1\n",
    "        resnet_modules = list(resnet.children())[:-3]\n",
    "        self.cnn_p1 = nn.Sequential(*resnet_modules)\n",
    "        \n",
    "        # CNN Part 2\n",
    "        self.cnn_p2 = nn.Sequential(\n",
    "            nn.Conv2d(256, 256, kernel_size=(3,6), stride=1, padding=1),\n",
    "            nn.BatchNorm2d(256),\n",
    "            nn.ReLU(inplace=True)\n",
    "        )\n",
    "        self.linear1 = nn.Linear(1024, 256)\n",
    "        \n",
    "        # RNN\n",
    "        self.rnn1 = nn.GRU(input_size=rnn_hidden_size, \n",
    "                            hidden_size=rnn_hidden_size,\n",
    "                            bidirectional=True, \n",
    "                            batch_first=True)\n",
    "        self.rnn2 = nn.GRU(input_size=rnn_hidden_size, \n",
    "                            hidden_size=rnn_hidden_size,\n",
    "                            bidirectional=True, \n",
    "                            batch_first=True)\n",
    "        self.linear2 = nn.Linear(self.rnn_hidden_size*2, num_chars)\n",
    "        \n",
    "        \n",
    "    def forward(self, batch):\n",
    "        \n",
    "        batch = self.cnn_p1(batch)\n",
    "        # print(batch.size()) # torch.Size([-1, 256, 4, 13])\n",
    "        \n",
    "        batch = self.cnn_p2(batch) # [batch_size, channels, height, width]\n",
    "        # print(batch.size())# torch.Size([-1, 256, 4, 10])\n",
    "        \n",
    "        batch = batch.permute(0, 3, 1, 2) # [batch_size, width, channels, height]\n",
    "        # print(batch.size()) # torch.Size([-1, 10, 256, 4])\n",
    "         \n",
    "        batch_size = batch.size(0)\n",
    "        T = batch.size(1)\n",
    "        batch = batch.view(batch_size, T, -1) # [batch_size, T==width, num_features==channels*height]\n",
    "        # print(batch.size()) # torch.Size([-1, 10, 1024])\n",
    "        \n",
    "        batch = self.linear1(batch)\n",
    "        # print(batch.size()) # torch.Size([-1, 10, 256])\n",
    "        \n",
    "        batch, hidden = self.rnn1(batch)\n",
    "        feature_size = batch.size(2)\n",
    "        batch = batch[:, :, :feature_size//2] + batch[:, :, feature_size//2:]\n",
    "        # print(batch.size()) # torch.Size([-1, 10, 256])\n",
    "        \n",
    "        batch, hidden = self.rnn2(batch)\n",
    "        # print(batch.size()) # torch.Size([-1, 10, 512])\n",
    "        \n",
    "        batch = self.linear2(batch)\n",
    "        # print(batch.size()) # torch.Size([-1, 10, 20])\n",
    "        \n",
    "        batch = batch.permute(1, 0, 2) # [T==10, batch_size, num_classes==num_features]\n",
    "        # print(batch.size()) # torch.Size([10, -1, 20])\n",
    "        \n",
    "        return batch\n",
    "        \n",
    "def weights_init(m):\n",
    "    classname = m.__class__.__name__\n",
    "    if type(m) in [nn.Linear, nn.Conv2d, nn.Conv1d]:\n",
    "        torch.nn.init.xavier_uniform_(m.weight)\n",
    "        if m.bias is not None:\n",
    "            m.bias.data.fill_(0.01)\n",
    "    elif classname.find('BatchNorm') != -1:\n",
    "        m.weight.data.normal_(1.0, 0.02)\n",
    "        m.bias.data.fill_(0)    \n",
    "\n",
    "crnn = CRNN(num_chars, rnn_hidden_size=rnn_hidden_size)\n",
    "crnn.apply(weights_init)\n",
    "crnn = crnn.to(device)\n",
    "\n",
    "text_batch_logits = crnn(image_batch.to(device))\n",
    "print(text_batch)\n",
    "print(text_batch_logits.shape)\n",
    "\n",
    "criterion = nn.CTCLoss(blank=0)\n",
    "\n",
    "def encode_text_batch(text_batch):\n",
    "    \n",
    "    text_batch_targets_lens = [len(text) for text in text_batch]\n",
    "    text_batch_targets_lens = torch.IntTensor(text_batch_targets_lens)\n",
    "    \n",
    "    text_batch_concat = \"\".join(text_batch)\n",
    "    text_batch_targets = [char2idx[c] for c in text_batch_concat]\n",
    "    text_batch_targets = torch.IntTensor(text_batch_targets)\n",
    "    \n",
    "    return text_batch_targets, text_batch_targets_lens\n",
    "def compute_loss(text_batch, text_batch_logits):\n",
    "    \"\"\"\n",
    "    text_batch: list of strings of length equal to batch size\n",
    "    text_batch_logits: Tensor of size([T, batch_size, num_classes])\n",
    "    \"\"\"\n",
    "    text_batch_logps = F.log_softmax(text_batch_logits, 2) # [T, batch_size, num_classes]  \n",
    "    text_batch_logps_lens = torch.full(size=(text_batch_logps.size(1),), \n",
    "                                       fill_value=text_batch_logps.size(0), \n",
    "                                       dtype=torch.int32).to(device) # [batch_size] \n",
    "    \n",
    "    text_batch_targets, text_batch_targets_lens = encode_text_batch(text_batch)\n",
    "    \n",
    "    loss = criterion(text_batch_logps, text_batch_targets, text_batch_logps_lens, text_batch_targets_lens)\n",
    "\n",
    "    return loss\n",
    "\n",
    "compute_loss(text_batch, text_batch_logits)\n",
    "\n",
    "num_epochs = 100\n",
    "lr = 0.001\n",
    "weight_decay = 1e-3\n",
    "clip_norm = 5\n",
    "\n",
    "optimizer = optim.Adam(crnn.parameters(), lr=lr, weight_decay=weight_decay)\n",
    "lr_scheduler = optim.lr_scheduler.ReduceLROnPlateau(optimizer, verbose=True, patience=5)\n",
    "\n",
    "crnn = CRNN(num_chars, rnn_hidden_size=rnn_hidden_size)\n",
    "crnn.apply(weights_init)\n",
    "crnn = crnn.to(device)\n",
    "\n",
    "epoch_losses = []\n",
    "iteration_losses = []\n",
    "num_updates_epochs = []\n",
    "for epoch in tqdm(range(1, num_epochs+1)):\n",
    "    epoch_loss_list = [] \n",
    "    num_updates_epoch = 0\n",
    "    for image_batch, text_batch in tqdm(train_loader, leave=False):\n",
    "        optimizer.zero_grad()\n",
    "        text_batch_logits = crnn(image_batch.to(device))\n",
    "        loss = compute_loss(text_batch, text_batch_logits)\n",
    "        iteration_loss = loss.item()\n",
    "\n",
    "        if np.isnan(iteration_loss) or np.isinf(iteration_loss):\n",
    "            continue\n",
    "          \n",
    "        num_updates_epoch += 1\n",
    "        iteration_losses.append(iteration_loss)\n",
    "        epoch_loss_list.append(iteration_loss)\n",
    "        loss.backward()\n",
    "        nn.utils.clip_grad_norm_(crnn.parameters(), clip_norm)\n",
    "        optimizer.step()\n",
    "\n",
    "    epoch_loss = np.mean(epoch_loss_list)\n",
    "    print(\"Epoch:{}    Loss:{}    NumUpdates:{}\".format(epoch, epoch_loss, num_updates_epoch))\n",
    "    epoch_losses.append(epoch_loss)\n",
    "    num_updates_epochs.append(num_updates_epoch)\n",
    "    lr_scheduler.step(epoch_loss)"
   ]
  },
  {
   "cell_type": "code",
   "execution_count": 16,
   "metadata": {},
   "outputs": [
    {
     "data": {
      "text/plain": [
       "CRNN(\n",
       "  (cnn_p1): Sequential(\n",
       "    (0): Conv2d(3, 64, kernel_size=(7, 7), stride=(2, 2), padding=(3, 3), bias=False)\n",
       "    (1): BatchNorm2d(64, eps=1e-05, momentum=0.1, affine=True, track_running_stats=True)\n",
       "    (2): ReLU(inplace=True)\n",
       "    (3): MaxPool2d(kernel_size=3, stride=2, padding=1, dilation=1, ceil_mode=False)\n",
       "    (4): Sequential(\n",
       "      (0): BasicBlock(\n",
       "        (conv1): Conv2d(64, 64, kernel_size=(3, 3), stride=(1, 1), padding=(1, 1), bias=False)\n",
       "        (bn1): BatchNorm2d(64, eps=1e-05, momentum=0.1, affine=True, track_running_stats=True)\n",
       "        (relu): ReLU(inplace=True)\n",
       "        (conv2): Conv2d(64, 64, kernel_size=(3, 3), stride=(1, 1), padding=(1, 1), bias=False)\n",
       "        (bn2): BatchNorm2d(64, eps=1e-05, momentum=0.1, affine=True, track_running_stats=True)\n",
       "      )\n",
       "      (1): BasicBlock(\n",
       "        (conv1): Conv2d(64, 64, kernel_size=(3, 3), stride=(1, 1), padding=(1, 1), bias=False)\n",
       "        (bn1): BatchNorm2d(64, eps=1e-05, momentum=0.1, affine=True, track_running_stats=True)\n",
       "        (relu): ReLU(inplace=True)\n",
       "        (conv2): Conv2d(64, 64, kernel_size=(3, 3), stride=(1, 1), padding=(1, 1), bias=False)\n",
       "        (bn2): BatchNorm2d(64, eps=1e-05, momentum=0.1, affine=True, track_running_stats=True)\n",
       "      )\n",
       "    )\n",
       "    (5): Sequential(\n",
       "      (0): BasicBlock(\n",
       "        (conv1): Conv2d(64, 128, kernel_size=(3, 3), stride=(2, 2), padding=(1, 1), bias=False)\n",
       "        (bn1): BatchNorm2d(128, eps=1e-05, momentum=0.1, affine=True, track_running_stats=True)\n",
       "        (relu): ReLU(inplace=True)\n",
       "        (conv2): Conv2d(128, 128, kernel_size=(3, 3), stride=(1, 1), padding=(1, 1), bias=False)\n",
       "        (bn2): BatchNorm2d(128, eps=1e-05, momentum=0.1, affine=True, track_running_stats=True)\n",
       "        (downsample): Sequential(\n",
       "          (0): Conv2d(64, 128, kernel_size=(1, 1), stride=(2, 2), bias=False)\n",
       "          (1): BatchNorm2d(128, eps=1e-05, momentum=0.1, affine=True, track_running_stats=True)\n",
       "        )\n",
       "      )\n",
       "      (1): BasicBlock(\n",
       "        (conv1): Conv2d(128, 128, kernel_size=(3, 3), stride=(1, 1), padding=(1, 1), bias=False)\n",
       "        (bn1): BatchNorm2d(128, eps=1e-05, momentum=0.1, affine=True, track_running_stats=True)\n",
       "        (relu): ReLU(inplace=True)\n",
       "        (conv2): Conv2d(128, 128, kernel_size=(3, 3), stride=(1, 1), padding=(1, 1), bias=False)\n",
       "        (bn2): BatchNorm2d(128, eps=1e-05, momentum=0.1, affine=True, track_running_stats=True)\n",
       "      )\n",
       "    )\n",
       "    (6): Sequential(\n",
       "      (0): BasicBlock(\n",
       "        (conv1): Conv2d(128, 256, kernel_size=(3, 3), stride=(2, 2), padding=(1, 1), bias=False)\n",
       "        (bn1): BatchNorm2d(256, eps=1e-05, momentum=0.1, affine=True, track_running_stats=True)\n",
       "        (relu): ReLU(inplace=True)\n",
       "        (conv2): Conv2d(256, 256, kernel_size=(3, 3), stride=(1, 1), padding=(1, 1), bias=False)\n",
       "        (bn2): BatchNorm2d(256, eps=1e-05, momentum=0.1, affine=True, track_running_stats=True)\n",
       "        (downsample): Sequential(\n",
       "          (0): Conv2d(128, 256, kernel_size=(1, 1), stride=(2, 2), bias=False)\n",
       "          (1): BatchNorm2d(256, eps=1e-05, momentum=0.1, affine=True, track_running_stats=True)\n",
       "        )\n",
       "      )\n",
       "      (1): BasicBlock(\n",
       "        (conv1): Conv2d(256, 256, kernel_size=(3, 3), stride=(1, 1), padding=(1, 1), bias=False)\n",
       "        (bn1): BatchNorm2d(256, eps=1e-05, momentum=0.1, affine=True, track_running_stats=True)\n",
       "        (relu): ReLU(inplace=True)\n",
       "        (conv2): Conv2d(256, 256, kernel_size=(3, 3), stride=(1, 1), padding=(1, 1), bias=False)\n",
       "        (bn2): BatchNorm2d(256, eps=1e-05, momentum=0.1, affine=True, track_running_stats=True)\n",
       "      )\n",
       "    )\n",
       "  )\n",
       "  (cnn_p2): Sequential(\n",
       "    (0): Conv2d(256, 256, kernel_size=(3, 6), stride=(1, 1), padding=(1, 1))\n",
       "    (1): BatchNorm2d(256, eps=1e-05, momentum=0.1, affine=True, track_running_stats=True)\n",
       "    (2): ReLU(inplace=True)\n",
       "  )\n",
       "  (linear1): Linear(in_features=1024, out_features=256, bias=True)\n",
       "  (rnn1): GRU(256, 256, batch_first=True, bidirectional=True)\n",
       "  (rnn2): GRU(256, 256, batch_first=True, bidirectional=True)\n",
       "  (linear2): Linear(in_features=512, out_features=68, bias=True)\n",
       ")"
      ]
     },
     "execution_count": 16,
     "metadata": {},
     "output_type": "execute_result"
    }
   ],
   "source": [
    "model = CRNN(num_chars=len(char2idx), rnn_hidden_size=256, dropout=0.1)\n",
    "\n",
    "model.load_state_dict(torch.load('chinese_model.pth'))\n",
    "model.to('cpu')"
   ]
  },
  {
   "cell_type": "code",
   "execution_count": 17,
   "metadata": {},
   "outputs": [
    {
     "data": {
      "application/vnd.jupyter.widget-view+json": {
       "model_id": "b25741c7746f4655b59b5bfc182f7e81",
       "version_major": 2,
       "version_minor": 0
      },
      "text/plain": [
       "  0%|          | 0/16 [00:00<?, ?it/s]"
      ]
     },
     "metadata": {},
     "output_type": "display_data"
    },
    {
     "data": {
      "text/html": [
       "<div>\n",
       "<style scoped>\n",
       "    .dataframe tbody tr th:only-of-type {\n",
       "        vertical-align: middle;\n",
       "    }\n",
       "\n",
       "    .dataframe tbody tr th {\n",
       "        vertical-align: top;\n",
       "    }\n",
       "\n",
       "    .dataframe thead th {\n",
       "        text-align: right;\n",
       "    }\n",
       "</style>\n",
       "<table border=\"1\" class=\"dataframe\">\n",
       "  <thead>\n",
       "    <tr style=\"text-align: right;\">\n",
       "      <th></th>\n",
       "      <th>actual</th>\n",
       "      <th>prediction</th>\n",
       "      <th>prediction_corrected</th>\n",
       "    </tr>\n",
       "  </thead>\n",
       "  <tbody>\n",
       "    <tr>\n",
       "      <th>0</th>\n",
       "      <td>皖AY6F46</td>\n",
       "      <td>AAAY66F446</td>\n",
       "      <td>AY6F46</td>\n",
       "    </tr>\n",
       "    <tr>\n",
       "      <th>1</th>\n",
       "      <td>浙C096FU</td>\n",
       "      <td>CCC9996FFF</td>\n",
       "      <td>C96F</td>\n",
       "    </tr>\n",
       "    <tr>\n",
       "      <th>2</th>\n",
       "      <td>沪C0C9U1</td>\n",
       "      <td>CCCCC99UU1</td>\n",
       "      <td>C9U1</td>\n",
       "    </tr>\n",
       "    <tr>\n",
       "      <th>3</th>\n",
       "      <td>皖AY060V</td>\n",
       "      <td>AAAY00000V</td>\n",
       "      <td>AY0V</td>\n",
       "    </tr>\n",
       "    <tr>\n",
       "      <th>4</th>\n",
       "      <td>皖ADB398</td>\n",
       "      <td>AAADBB3998</td>\n",
       "      <td>ADB398</td>\n",
       "    </tr>\n",
       "  </tbody>\n",
       "</table>\n",
       "</div>"
      ],
      "text/plain": [
       "    actual  prediction prediction_corrected\n",
       "0  皖AY6F46  AAAY66F446               AY6F46\n",
       "1  浙C096FU  CCC9996FFF                 C96F\n",
       "2  沪C0C9U1  CCCCC99UU1                 C9U1\n",
       "3  皖AY060V  AAAY00000V                 AY0V\n",
       "4  皖ADB398  AAADBB3998               ADB398"
      ]
     },
     "execution_count": 17,
     "metadata": {},
     "output_type": "execute_result"
    }
   ],
   "source": [
    "def decode_predictions(text_batch_logits):\n",
    "\n",
    "    text_batch_tokens = F.softmax(text_batch_logits, 2).argmax(2) # [T, batch_size]\n",
    "    text_batch_tokens = text_batch_tokens.numpy().T # [batch_size, T]\n",
    "\n",
    "    text_batch_tokens_new = []\n",
    "    for text_tokens in text_batch_tokens:\n",
    "        text = [idx2char[idx] for idx in text_tokens]\n",
    "        text = \"\".join(text)\n",
    "        text_batch_tokens_new.append(text)\n",
    "\n",
    "    return text_batch_tokens_new\n",
    "\n",
    "def remove_duplicates(text):\n",
    "    if len(text) > 1:\n",
    "        letters = [text[0]] + [letter for idx, letter in enumerate(text[1:], start=1) if text[idx] != text[idx-1]]\n",
    "    elif len(text) == 1:\n",
    "        letters = [text[0]]\n",
    "    else:\n",
    "        return \"\"\n",
    "    return \"\".join(letters)\n",
    "\n",
    "def correct_prediction(word):\n",
    "    parts = word.split(\"-\")\n",
    "    parts = [remove_duplicates(part) for part in parts]\n",
    "    corrected_word = \"\".join(parts)\n",
    "    return corrected_word\n",
    "\n",
    "results_val = pd.DataFrame(columns=['actual', 'prediction'])\n",
    "val_loader = DataLoader(valset, batch_size=16, num_workers=0, shuffle=False)\n",
    "with torch.no_grad():\n",
    "    for image_batch, text_batch in tqdm(val_loader, leave=True):\n",
    "        text_batch_logits = model(image_batch) # [T, batch_size, num_classes==num_features]\n",
    "        text_batch_pred = decode_predictions(text_batch_logits.cpu())\n",
    "        #print(text_batch, text_batch_pred)\n",
    "        df = pd.DataFrame(columns=['actual', 'prediction'])\n",
    "        df['actual'] = text_batch\n",
    "        df['prediction'] = text_batch_pred\n",
    "        results_val = pd.concat([results_val, df])\n",
    "results_val = results_val.reset_index(drop=True)\n",
    "results_val['prediction_corrected'] = results_val['prediction'].apply(correct_prediction)\n",
    "results_val.head()"
   ]
  },
  {
   "cell_type": "code",
   "execution_count": 4,
   "metadata": {},
   "outputs": [
    {
     "ename": "NameError",
     "evalue": "name 'results_val' is not defined",
     "output_type": "error",
     "traceback": [
      "\u001b[1;31m---------------------------------------------------------------------------\u001b[0m",
      "\u001b[1;31mNameError\u001b[0m                                 Traceback (most recent call last)",
      "Cell \u001b[1;32mIn[4], line 1\u001b[0m\n\u001b[1;32m----> 1\u001b[0m train_accuracy \u001b[38;5;241m=\u001b[39m accuracy_score(\u001b[43mresults_val\u001b[49m[\u001b[38;5;124m'\u001b[39m\u001b[38;5;124mactual\u001b[39m\u001b[38;5;124m'\u001b[39m], results_val[\u001b[38;5;124m'\u001b[39m\u001b[38;5;124mprediction_corrected\u001b[39m\u001b[38;5;124m'\u001b[39m])\n\u001b[0;32m      2\u001b[0m \u001b[38;5;28mprint\u001b[39m(train_accuracy)\n",
      "\u001b[1;31mNameError\u001b[0m: name 'results_val' is not defined"
     ]
    }
   ],
   "source": [
    "train_accuracy = accuracy_score(results_val['actual'], results_val['prediction_corrected'])\n",
    "print(train_accuracy)"
   ]
  }
 ],
 "metadata": {
  "kernelspec": {
   "display_name": "DeepLearning",
   "language": "python",
   "name": "python3"
  },
  "language_info": {
   "codemirror_mode": {
    "name": "ipython",
    "version": 3
   },
   "file_extension": ".py",
   "mimetype": "text/x-python",
   "name": "python",
   "nbconvert_exporter": "python",
   "pygments_lexer": "ipython3",
   "version": "3.11.5"
  }
 },
 "nbformat": 4,
 "nbformat_minor": 2
}
