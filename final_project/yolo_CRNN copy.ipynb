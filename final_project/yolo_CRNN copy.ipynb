{
 "cells": [
  {
   "cell_type": "code",
   "execution_count": 18,
   "metadata": {},
   "outputs": [],
   "source": [
    "# Main\n",
    "import os\n",
    "import gc\n",
    "import shutil\n",
    "import time\n",
    "import random\n",
    "import cv2\n",
    "import numpy as np \n",
    "import pandas as pd\n",
    "import glob\n",
    "from tqdm import tqdm\n",
    "tqdm.pandas()\n",
    "import re\n",
    "\n",
    "# Data Visualization\n",
    "import matplotlib\n",
    "import matplotlib.pyplot as plt\n",
    "import matplotlib.image as mpimg\n",
    "import plotly\n",
    "import plotly.graph_objects as go\n",
    "import plotly.express as px\n",
    "from plotly.subplots import make_subplots\n",
    "from IPython.display import Image, display\n",
    "\n",
    "import torch\n",
    "import torch.nn as nn\n",
    "import torch.nn.functional as F\n",
    "import torch.optim as optim\n",
    "from torch.utils.data import Dataset, DataLoader\n",
    "from torchvision import transforms\n",
    "from torchvision.models import resnet18\n",
    "\n",
    "import string\n",
    "from tqdm.notebook import tqdm\n",
    "import cv2\n",
    "from PIL import Image\n",
    "from sklearn.model_selection import train_test_split\n",
    "from sklearn.metrics import accuracy_score\n",
    "import multiprocessing as mp\n"
   ]
  },
  {
   "cell_type": "code",
   "execution_count": 2,
   "metadata": {},
   "outputs": [],
   "source": [
    "provinces = [\"皖\", \"沪\", \"津\", \"渝\", \"冀\", \"晋\", \"蒙\", \"辽\", \"吉\", \"黑\", \"苏\", \"浙\", \"京\", \"闽\", \"赣\", \"鲁\", \"豫\", \"鄂\", \"湘\", \"粤\", \"桂\", \"琼\", \"川\", \"贵\", \"云\", \"藏\", \"陕\", \"甘\", \"青\", \"宁\", \"新\", \"警\", \"学\", \"O\"]\n",
    "alphabets = ['A', 'B', 'C', 'D', 'E', 'F', 'G', 'H', 'J', 'K', 'L', 'M', 'N', 'P', 'Q', 'R', 'S', 'T', 'U', 'V', 'W',\n",
    "             'X', 'Y', 'Z', 'O']\n",
    "ads = ['A', 'B', 'C', 'D', 'E', 'F', 'G', 'H', 'J', 'K', 'L', 'M', 'N', 'P', 'Q', 'R', 'S', 'T', 'U', 'V', 'W', 'X',\n",
    "       'Y', 'Z', '0', '1', '2', '3', '4', '5', '6', '7', '8', '9', 'O']\n",
    "\n",
    "# list_sub = [\"ccpd_base\", \"ccpd_fn\", \"ccpd_db\", \"ccpd_rotate\", \"ccpd_weather\", \"ccpd_blur\"]\n",
    "list_sub = [\"ccpd_weather\"]\n",
    "BASE_PATH = \"C:/Users/User/DeepLearning/Deep_Learning/final_project\""
   ]
  },
  {
   "cell_type": "code",
   "execution_count": 3,
   "metadata": {},
   "outputs": [
    {
     "data": {
      "text/html": [
       "<div>\n",
       "<style scoped>\n",
       "    .dataframe tbody tr th:only-of-type {\n",
       "        vertical-align: middle;\n",
       "    }\n",
       "\n",
       "    .dataframe tbody tr th {\n",
       "        vertical-align: top;\n",
       "    }\n",
       "\n",
       "    .dataframe thead th {\n",
       "        text-align: right;\n",
       "    }\n",
       "</style>\n",
       "<table border=\"1\" class=\"dataframe\">\n",
       "  <thead>\n",
       "    <tr style=\"text-align: right;\">\n",
       "      <th></th>\n",
       "      <th>image_path</th>\n",
       "      <th>sub</th>\n",
       "      <th>x1_bbox</th>\n",
       "      <th>y1_bbox</th>\n",
       "      <th>x2_bbox</th>\n",
       "      <th>y2_bbox</th>\n",
       "      <th>decoded_plate_number</th>\n",
       "    </tr>\n",
       "  </thead>\n",
       "  <tbody>\n",
       "    <tr>\n",
       "      <th>0</th>\n",
       "      <td>C:/Users/User/DeepLearning/Deep_Learning/final...</td>\n",
       "      <td>ccpd_weather</td>\n",
       "      <td>294</td>\n",
       "      <td>496</td>\n",
       "      <td>374</td>\n",
       "      <td>540</td>\n",
       "      <td>皖AD130W</td>\n",
       "    </tr>\n",
       "    <tr>\n",
       "      <th>1</th>\n",
       "      <td>C:/Users/User/DeepLearning/Deep_Learning/final...</td>\n",
       "      <td>ccpd_weather</td>\n",
       "      <td>304</td>\n",
       "      <td>542</td>\n",
       "      <td>411</td>\n",
       "      <td>577</td>\n",
       "      <td>皖AUT267</td>\n",
       "    </tr>\n",
       "    <tr>\n",
       "      <th>2</th>\n",
       "      <td>C:/Users/User/DeepLearning/Deep_Learning/final...</td>\n",
       "      <td>ccpd_weather</td>\n",
       "      <td>339</td>\n",
       "      <td>547</td>\n",
       "      <td>444</td>\n",
       "      <td>583</td>\n",
       "      <td>皖MZ4882</td>\n",
       "    </tr>\n",
       "    <tr>\n",
       "      <th>3</th>\n",
       "      <td>C:/Users/User/DeepLearning/Deep_Learning/final...</td>\n",
       "      <td>ccpd_weather</td>\n",
       "      <td>177</td>\n",
       "      <td>511</td>\n",
       "      <td>268</td>\n",
       "      <td>553</td>\n",
       "      <td>皖AVD028</td>\n",
       "    </tr>\n",
       "    <tr>\n",
       "      <th>4</th>\n",
       "      <td>C:/Users/User/DeepLearning/Deep_Learning/final...</td>\n",
       "      <td>ccpd_weather</td>\n",
       "      <td>402</td>\n",
       "      <td>426</td>\n",
       "      <td>497</td>\n",
       "      <td>467</td>\n",
       "      <td>皖RL222P</td>\n",
       "    </tr>\n",
       "    <tr>\n",
       "      <th>...</th>\n",
       "      <td>...</td>\n",
       "      <td>...</td>\n",
       "      <td>...</td>\n",
       "      <td>...</td>\n",
       "      <td>...</td>\n",
       "      <td>...</td>\n",
       "      <td>...</td>\n",
       "    </tr>\n",
       "    <tr>\n",
       "      <th>5495</th>\n",
       "      <td>C:/Users/User/DeepLearning/Deep_Learning/final...</td>\n",
       "      <td>ccpd_weather</td>\n",
       "      <td>96</td>\n",
       "      <td>584</td>\n",
       "      <td>372</td>\n",
       "      <td>688</td>\n",
       "      <td>皖AR8T97</td>\n",
       "    </tr>\n",
       "    <tr>\n",
       "      <th>5496</th>\n",
       "      <td>C:/Users/User/DeepLearning/Deep_Learning/final...</td>\n",
       "      <td>ccpd_weather</td>\n",
       "      <td>265</td>\n",
       "      <td>514</td>\n",
       "      <td>533</td>\n",
       "      <td>621</td>\n",
       "      <td>皖AL6M60</td>\n",
       "    </tr>\n",
       "    <tr>\n",
       "      <th>5497</th>\n",
       "      <td>C:/Users/User/DeepLearning/Deep_Learning/final...</td>\n",
       "      <td>ccpd_weather</td>\n",
       "      <td>282</td>\n",
       "      <td>536</td>\n",
       "      <td>566</td>\n",
       "      <td>637</td>\n",
       "      <td>皖A576X9</td>\n",
       "    </tr>\n",
       "    <tr>\n",
       "      <th>5498</th>\n",
       "      <td>C:/Users/User/DeepLearning/Deep_Learning/final...</td>\n",
       "      <td>ccpd_weather</td>\n",
       "      <td>64</td>\n",
       "      <td>606</td>\n",
       "      <td>309</td>\n",
       "      <td>723</td>\n",
       "      <td>皖ALF155</td>\n",
       "    </tr>\n",
       "    <tr>\n",
       "      <th>5499</th>\n",
       "      <td>C:/Users/User/DeepLearning/Deep_Learning/final...</td>\n",
       "      <td>ccpd_weather</td>\n",
       "      <td>124</td>\n",
       "      <td>496</td>\n",
       "      <td>378</td>\n",
       "      <td>609</td>\n",
       "      <td>皖A3M336</td>\n",
       "    </tr>\n",
       "  </tbody>\n",
       "</table>\n",
       "<p>5500 rows × 7 columns</p>\n",
       "</div>"
      ],
      "text/plain": [
       "                                             image_path           sub  \\\n",
       "0     C:/Users/User/DeepLearning/Deep_Learning/final...  ccpd_weather   \n",
       "1     C:/Users/User/DeepLearning/Deep_Learning/final...  ccpd_weather   \n",
       "2     C:/Users/User/DeepLearning/Deep_Learning/final...  ccpd_weather   \n",
       "3     C:/Users/User/DeepLearning/Deep_Learning/final...  ccpd_weather   \n",
       "4     C:/Users/User/DeepLearning/Deep_Learning/final...  ccpd_weather   \n",
       "...                                                 ...           ...   \n",
       "5495  C:/Users/User/DeepLearning/Deep_Learning/final...  ccpd_weather   \n",
       "5496  C:/Users/User/DeepLearning/Deep_Learning/final...  ccpd_weather   \n",
       "5497  C:/Users/User/DeepLearning/Deep_Learning/final...  ccpd_weather   \n",
       "5498  C:/Users/User/DeepLearning/Deep_Learning/final...  ccpd_weather   \n",
       "5499  C:/Users/User/DeepLearning/Deep_Learning/final...  ccpd_weather   \n",
       "\n",
       "      x1_bbox  y1_bbox  x2_bbox  y2_bbox decoded_plate_number  \n",
       "0         294      496      374      540              皖AD130W  \n",
       "1         304      542      411      577              皖AUT267  \n",
       "2         339      547      444      583              皖MZ4882  \n",
       "3         177      511      268      553              皖AVD028  \n",
       "4         402      426      497      467              皖RL222P  \n",
       "...       ...      ...      ...      ...                  ...  \n",
       "5495       96      584      372      688              皖AR8T97  \n",
       "5496      265      514      533      621              皖AL6M60  \n",
       "5497      282      536      566      637              皖A576X9  \n",
       "5498       64      606      309      723              皖ALF155  \n",
       "5499      124      496      378      609              皖A3M336  \n",
       "\n",
       "[5500 rows x 7 columns]"
      ]
     },
     "execution_count": 3,
     "metadata": {},
     "output_type": "execute_result"
    }
   ],
   "source": [
    "# Create Metadata\n",
    "def extract_plate_number(plate_number):\n",
    "    chi_let = provinces[int(plate_number.split(\"_\")[0])]\n",
    "    alp_let = alphabets[int(plate_number.split(\"_\")[1])]\n",
    "    alp_num_let = plate_number.split(\"_\")[2:]\n",
    "    alp_num_let = \"\".join([ads[int(char)] for char in alp_num_let])\n",
    "    all_let = chi_let + alp_let + alp_num_let\n",
    "    return all_let\n",
    "metadata_list = []\n",
    "\n",
    "# Iterate over subdirectories\n",
    "for sub in list_sub:\n",
    "    sub_path = os.path.join(BASE_PATH, sub)\n",
    "    sub_files = glob.glob(os.path.join(sub_path, \"*\"))\n",
    "\n",
    "    # Append a dictionary for each file in the subdirectory\n",
    "    for file_path in sub_files:\n",
    "        # Extracting values\n",
    "        detail = file_path.split(\"/\")[-1].split(\"-\")[2]\n",
    "        bbox = detail.split(\"_\")[0]\n",
    "        x1_bbox, y1_bbox = map(int, bbox.split(\",\"))\n",
    "        x2_bbox, y2_bbox = map(int, detail.split(\"_\")[1].split(\",\"))\n",
    "\n",
    "      \n",
    "\n",
    "        # Extracting plate number\n",
    "        plate_number = file_path.split(\"-\")[4]\n",
    "\n",
    "        # Create a dictionary for each file\n",
    "        metadata_dict = {\n",
    "            \"image_path\": file_path,\n",
    "            \"sub\": sub,\n",
    "            \"x1_bbox\": x1_bbox,\n",
    "            \"y1_bbox\": y1_bbox,\n",
    "            \"x2_bbox\": x2_bbox,\n",
    "            \"y2_bbox\": y2_bbox,\n",
    "            \n",
    "        }\n",
    "\n",
    "        # Add more columns to metadata_dict if needed\n",
    "        metadata_dict[\"decoded_plate_number\"] = extract_plate_number(plate_number)\n",
    "\n",
    "        # Append the dictionary to the list\n",
    "        metadata_list.append(metadata_dict)\n",
    "\n",
    "# Create DataFrame from the list of dictionaries\n",
    "df_metadata = pd.DataFrame(metadata_list)\n",
    "\n",
    "# Display the DataFrame\n",
    "df_metadata = df_metadata[:5500] \n",
    "df_metadata"
   ]
  },
  {
   "cell_type": "code",
   "execution_count": 4,
   "metadata": {},
   "outputs": [
    {
     "data": {
      "text/html": [
       "<div>\n",
       "<style scoped>\n",
       "    .dataframe tbody tr th:only-of-type {\n",
       "        vertical-align: middle;\n",
       "    }\n",
       "\n",
       "    .dataframe tbody tr th {\n",
       "        vertical-align: top;\n",
       "    }\n",
       "\n",
       "    .dataframe thead th {\n",
       "        text-align: right;\n",
       "    }\n",
       "</style>\n",
       "<table border=\"1\" class=\"dataframe\">\n",
       "  <thead>\n",
       "    <tr style=\"text-align: right;\">\n",
       "      <th></th>\n",
       "      <th>image_path</th>\n",
       "      <th>sub</th>\n",
       "      <th>x1_bbox</th>\n",
       "      <th>y1_bbox</th>\n",
       "      <th>x2_bbox</th>\n",
       "      <th>y2_bbox</th>\n",
       "      <th>decoded_plate_number</th>\n",
       "      <th>xmid</th>\n",
       "      <th>ymid</th>\n",
       "      <th>bb_width</th>\n",
       "      <th>bb_height</th>\n",
       "    </tr>\n",
       "  </thead>\n",
       "  <tbody>\n",
       "    <tr>\n",
       "      <th>0</th>\n",
       "      <td>C:/Users/User/DeepLearning/Deep_Learning/final...</td>\n",
       "      <td>ccpd_weather</td>\n",
       "      <td>294</td>\n",
       "      <td>496</td>\n",
       "      <td>374</td>\n",
       "      <td>540</td>\n",
       "      <td>皖AD130W</td>\n",
       "      <td>0.463889</td>\n",
       "      <td>0.446552</td>\n",
       "      <td>0.111111</td>\n",
       "      <td>0.037931</td>\n",
       "    </tr>\n",
       "    <tr>\n",
       "      <th>1</th>\n",
       "      <td>C:/Users/User/DeepLearning/Deep_Learning/final...</td>\n",
       "      <td>ccpd_weather</td>\n",
       "      <td>304</td>\n",
       "      <td>542</td>\n",
       "      <td>411</td>\n",
       "      <td>577</td>\n",
       "      <td>皖AUT267</td>\n",
       "      <td>0.496528</td>\n",
       "      <td>0.482328</td>\n",
       "      <td>0.148611</td>\n",
       "      <td>0.030172</td>\n",
       "    </tr>\n",
       "    <tr>\n",
       "      <th>2</th>\n",
       "      <td>C:/Users/User/DeepLearning/Deep_Learning/final...</td>\n",
       "      <td>ccpd_weather</td>\n",
       "      <td>339</td>\n",
       "      <td>547</td>\n",
       "      <td>444</td>\n",
       "      <td>583</td>\n",
       "      <td>皖MZ4882</td>\n",
       "      <td>0.543750</td>\n",
       "      <td>0.487069</td>\n",
       "      <td>0.145833</td>\n",
       "      <td>0.031034</td>\n",
       "    </tr>\n",
       "    <tr>\n",
       "      <th>3</th>\n",
       "      <td>C:/Users/User/DeepLearning/Deep_Learning/final...</td>\n",
       "      <td>ccpd_weather</td>\n",
       "      <td>177</td>\n",
       "      <td>511</td>\n",
       "      <td>268</td>\n",
       "      <td>553</td>\n",
       "      <td>皖AVD028</td>\n",
       "      <td>0.309028</td>\n",
       "      <td>0.458621</td>\n",
       "      <td>0.126389</td>\n",
       "      <td>0.036207</td>\n",
       "    </tr>\n",
       "    <tr>\n",
       "      <th>4</th>\n",
       "      <td>C:/Users/User/DeepLearning/Deep_Learning/final...</td>\n",
       "      <td>ccpd_weather</td>\n",
       "      <td>402</td>\n",
       "      <td>426</td>\n",
       "      <td>497</td>\n",
       "      <td>467</td>\n",
       "      <td>皖RL222P</td>\n",
       "      <td>0.624306</td>\n",
       "      <td>0.384914</td>\n",
       "      <td>0.131944</td>\n",
       "      <td>0.035345</td>\n",
       "    </tr>\n",
       "    <tr>\n",
       "      <th>...</th>\n",
       "      <td>...</td>\n",
       "      <td>...</td>\n",
       "      <td>...</td>\n",
       "      <td>...</td>\n",
       "      <td>...</td>\n",
       "      <td>...</td>\n",
       "      <td>...</td>\n",
       "      <td>...</td>\n",
       "      <td>...</td>\n",
       "      <td>...</td>\n",
       "      <td>...</td>\n",
       "    </tr>\n",
       "    <tr>\n",
       "      <th>5495</th>\n",
       "      <td>C:/Users/User/DeepLearning/Deep_Learning/final...</td>\n",
       "      <td>ccpd_weather</td>\n",
       "      <td>96</td>\n",
       "      <td>584</td>\n",
       "      <td>372</td>\n",
       "      <td>688</td>\n",
       "      <td>皖AR8T97</td>\n",
       "      <td>0.325000</td>\n",
       "      <td>0.548276</td>\n",
       "      <td>0.383333</td>\n",
       "      <td>0.089655</td>\n",
       "    </tr>\n",
       "    <tr>\n",
       "      <th>5496</th>\n",
       "      <td>C:/Users/User/DeepLearning/Deep_Learning/final...</td>\n",
       "      <td>ccpd_weather</td>\n",
       "      <td>265</td>\n",
       "      <td>514</td>\n",
       "      <td>533</td>\n",
       "      <td>621</td>\n",
       "      <td>皖AL6M60</td>\n",
       "      <td>0.554167</td>\n",
       "      <td>0.489224</td>\n",
       "      <td>0.372222</td>\n",
       "      <td>0.092241</td>\n",
       "    </tr>\n",
       "    <tr>\n",
       "      <th>5497</th>\n",
       "      <td>C:/Users/User/DeepLearning/Deep_Learning/final...</td>\n",
       "      <td>ccpd_weather</td>\n",
       "      <td>282</td>\n",
       "      <td>536</td>\n",
       "      <td>566</td>\n",
       "      <td>637</td>\n",
       "      <td>皖A576X9</td>\n",
       "      <td>0.588889</td>\n",
       "      <td>0.505603</td>\n",
       "      <td>0.394444</td>\n",
       "      <td>0.087069</td>\n",
       "    </tr>\n",
       "    <tr>\n",
       "      <th>5498</th>\n",
       "      <td>C:/Users/User/DeepLearning/Deep_Learning/final...</td>\n",
       "      <td>ccpd_weather</td>\n",
       "      <td>64</td>\n",
       "      <td>606</td>\n",
       "      <td>309</td>\n",
       "      <td>723</td>\n",
       "      <td>皖ALF155</td>\n",
       "      <td>0.259028</td>\n",
       "      <td>0.572845</td>\n",
       "      <td>0.340278</td>\n",
       "      <td>0.100862</td>\n",
       "    </tr>\n",
       "    <tr>\n",
       "      <th>5499</th>\n",
       "      <td>C:/Users/User/DeepLearning/Deep_Learning/final...</td>\n",
       "      <td>ccpd_weather</td>\n",
       "      <td>124</td>\n",
       "      <td>496</td>\n",
       "      <td>378</td>\n",
       "      <td>609</td>\n",
       "      <td>皖A3M336</td>\n",
       "      <td>0.348611</td>\n",
       "      <td>0.476293</td>\n",
       "      <td>0.352778</td>\n",
       "      <td>0.097414</td>\n",
       "    </tr>\n",
       "  </tbody>\n",
       "</table>\n",
       "<p>5500 rows × 11 columns</p>\n",
       "</div>"
      ],
      "text/plain": [
       "                                             image_path           sub  \\\n",
       "0     C:/Users/User/DeepLearning/Deep_Learning/final...  ccpd_weather   \n",
       "1     C:/Users/User/DeepLearning/Deep_Learning/final...  ccpd_weather   \n",
       "2     C:/Users/User/DeepLearning/Deep_Learning/final...  ccpd_weather   \n",
       "3     C:/Users/User/DeepLearning/Deep_Learning/final...  ccpd_weather   \n",
       "4     C:/Users/User/DeepLearning/Deep_Learning/final...  ccpd_weather   \n",
       "...                                                 ...           ...   \n",
       "5495  C:/Users/User/DeepLearning/Deep_Learning/final...  ccpd_weather   \n",
       "5496  C:/Users/User/DeepLearning/Deep_Learning/final...  ccpd_weather   \n",
       "5497  C:/Users/User/DeepLearning/Deep_Learning/final...  ccpd_weather   \n",
       "5498  C:/Users/User/DeepLearning/Deep_Learning/final...  ccpd_weather   \n",
       "5499  C:/Users/User/DeepLearning/Deep_Learning/final...  ccpd_weather   \n",
       "\n",
       "      x1_bbox  y1_bbox  x2_bbox  y2_bbox decoded_plate_number      xmid  \\\n",
       "0         294      496      374      540              皖AD130W  0.463889   \n",
       "1         304      542      411      577              皖AUT267  0.496528   \n",
       "2         339      547      444      583              皖MZ4882  0.543750   \n",
       "3         177      511      268      553              皖AVD028  0.309028   \n",
       "4         402      426      497      467              皖RL222P  0.624306   \n",
       "...       ...      ...      ...      ...                  ...       ...   \n",
       "5495       96      584      372      688              皖AR8T97  0.325000   \n",
       "5496      265      514      533      621              皖AL6M60  0.554167   \n",
       "5497      282      536      566      637              皖A576X9  0.588889   \n",
       "5498       64      606      309      723              皖ALF155  0.259028   \n",
       "5499      124      496      378      609              皖A3M336  0.348611   \n",
       "\n",
       "          ymid  bb_width  bb_height  \n",
       "0     0.446552  0.111111   0.037931  \n",
       "1     0.482328  0.148611   0.030172  \n",
       "2     0.487069  0.145833   0.031034  \n",
       "3     0.458621  0.126389   0.036207  \n",
       "4     0.384914  0.131944   0.035345  \n",
       "...        ...       ...        ...  \n",
       "5495  0.548276  0.383333   0.089655  \n",
       "5496  0.489224  0.372222   0.092241  \n",
       "5497  0.505603  0.394444   0.087069  \n",
       "5498  0.572845  0.340278   0.100862  \n",
       "5499  0.476293  0.352778   0.097414  \n",
       "\n",
       "[5500 rows x 11 columns]"
      ]
     },
     "execution_count": 4,
     "metadata": {},
     "output_type": "execute_result"
    }
   ],
   "source": [
    "df_metadata['xmid'] = (df_metadata['x1_bbox'] + df_metadata['x2_bbox']) / (2*720)\n",
    "df_metadata['ymid'] = (df_metadata['y1_bbox'] + df_metadata['y2_bbox']) / (2*1160)\n",
    "\n",
    "df_metadata['bb_width'] = (df_metadata['x2_bbox'] - df_metadata['x1_bbox']) / 720\n",
    "df_metadata['bb_height'] = (df_metadata['y2_bbox'] - df_metadata['y1_bbox']) / 1160\n",
    "\n",
    "df_metadata"
   ]
  },
  {
   "cell_type": "code",
   "execution_count": 5,
   "metadata": {},
   "outputs": [
    {
     "data": {
      "text/html": [
       "<div>\n",
       "<style scoped>\n",
       "    .dataframe tbody tr th:only-of-type {\n",
       "        vertical-align: middle;\n",
       "    }\n",
       "\n",
       "    .dataframe tbody tr th {\n",
       "        vertical-align: top;\n",
       "    }\n",
       "\n",
       "    .dataframe thead th {\n",
       "        text-align: right;\n",
       "    }\n",
       "</style>\n",
       "<table border=\"1\" class=\"dataframe\">\n",
       "  <thead>\n",
       "    <tr style=\"text-align: right;\">\n",
       "      <th></th>\n",
       "      <th>image_path</th>\n",
       "      <th>sub</th>\n",
       "      <th>x1_bbox</th>\n",
       "      <th>y1_bbox</th>\n",
       "      <th>x2_bbox</th>\n",
       "      <th>y2_bbox</th>\n",
       "      <th>decoded_plate_number</th>\n",
       "      <th>xmid</th>\n",
       "      <th>ymid</th>\n",
       "      <th>bb_width</th>\n",
       "      <th>bb_height</th>\n",
       "      <th>split</th>\n",
       "    </tr>\n",
       "  </thead>\n",
       "  <tbody>\n",
       "    <tr>\n",
       "      <th>0</th>\n",
       "      <td>C:/Users/User/DeepLearning/Deep_Learning/final...</td>\n",
       "      <td>ccpd_weather</td>\n",
       "      <td>294</td>\n",
       "      <td>496</td>\n",
       "      <td>374</td>\n",
       "      <td>540</td>\n",
       "      <td>皖AD130W</td>\n",
       "      <td>0.463889</td>\n",
       "      <td>0.446552</td>\n",
       "      <td>0.111111</td>\n",
       "      <td>0.037931</td>\n",
       "      <td>train</td>\n",
       "    </tr>\n",
       "    <tr>\n",
       "      <th>1</th>\n",
       "      <td>C:/Users/User/DeepLearning/Deep_Learning/final...</td>\n",
       "      <td>ccpd_weather</td>\n",
       "      <td>304</td>\n",
       "      <td>542</td>\n",
       "      <td>411</td>\n",
       "      <td>577</td>\n",
       "      <td>皖AUT267</td>\n",
       "      <td>0.496528</td>\n",
       "      <td>0.482328</td>\n",
       "      <td>0.148611</td>\n",
       "      <td>0.030172</td>\n",
       "      <td>train</td>\n",
       "    </tr>\n",
       "    <tr>\n",
       "      <th>2</th>\n",
       "      <td>C:/Users/User/DeepLearning/Deep_Learning/final...</td>\n",
       "      <td>ccpd_weather</td>\n",
       "      <td>339</td>\n",
       "      <td>547</td>\n",
       "      <td>444</td>\n",
       "      <td>583</td>\n",
       "      <td>皖MZ4882</td>\n",
       "      <td>0.543750</td>\n",
       "      <td>0.487069</td>\n",
       "      <td>0.145833</td>\n",
       "      <td>0.031034</td>\n",
       "      <td>train</td>\n",
       "    </tr>\n",
       "    <tr>\n",
       "      <th>3</th>\n",
       "      <td>C:/Users/User/DeepLearning/Deep_Learning/final...</td>\n",
       "      <td>ccpd_weather</td>\n",
       "      <td>177</td>\n",
       "      <td>511</td>\n",
       "      <td>268</td>\n",
       "      <td>553</td>\n",
       "      <td>皖AVD028</td>\n",
       "      <td>0.309028</td>\n",
       "      <td>0.458621</td>\n",
       "      <td>0.126389</td>\n",
       "      <td>0.036207</td>\n",
       "      <td>train</td>\n",
       "    </tr>\n",
       "    <tr>\n",
       "      <th>4</th>\n",
       "      <td>C:/Users/User/DeepLearning/Deep_Learning/final...</td>\n",
       "      <td>ccpd_weather</td>\n",
       "      <td>402</td>\n",
       "      <td>426</td>\n",
       "      <td>497</td>\n",
       "      <td>467</td>\n",
       "      <td>皖RL222P</td>\n",
       "      <td>0.624306</td>\n",
       "      <td>0.384914</td>\n",
       "      <td>0.131944</td>\n",
       "      <td>0.035345</td>\n",
       "      <td>train</td>\n",
       "    </tr>\n",
       "    <tr>\n",
       "      <th>...</th>\n",
       "      <td>...</td>\n",
       "      <td>...</td>\n",
       "      <td>...</td>\n",
       "      <td>...</td>\n",
       "      <td>...</td>\n",
       "      <td>...</td>\n",
       "      <td>...</td>\n",
       "      <td>...</td>\n",
       "      <td>...</td>\n",
       "      <td>...</td>\n",
       "      <td>...</td>\n",
       "      <td>...</td>\n",
       "    </tr>\n",
       "    <tr>\n",
       "      <th>5495</th>\n",
       "      <td>C:/Users/User/DeepLearning/Deep_Learning/final...</td>\n",
       "      <td>ccpd_weather</td>\n",
       "      <td>96</td>\n",
       "      <td>584</td>\n",
       "      <td>372</td>\n",
       "      <td>688</td>\n",
       "      <td>皖AR8T97</td>\n",
       "      <td>0.325000</td>\n",
       "      <td>0.548276</td>\n",
       "      <td>0.383333</td>\n",
       "      <td>0.089655</td>\n",
       "      <td>test</td>\n",
       "    </tr>\n",
       "    <tr>\n",
       "      <th>5496</th>\n",
       "      <td>C:/Users/User/DeepLearning/Deep_Learning/final...</td>\n",
       "      <td>ccpd_weather</td>\n",
       "      <td>265</td>\n",
       "      <td>514</td>\n",
       "      <td>533</td>\n",
       "      <td>621</td>\n",
       "      <td>皖AL6M60</td>\n",
       "      <td>0.554167</td>\n",
       "      <td>0.489224</td>\n",
       "      <td>0.372222</td>\n",
       "      <td>0.092241</td>\n",
       "      <td>test</td>\n",
       "    </tr>\n",
       "    <tr>\n",
       "      <th>5497</th>\n",
       "      <td>C:/Users/User/DeepLearning/Deep_Learning/final...</td>\n",
       "      <td>ccpd_weather</td>\n",
       "      <td>282</td>\n",
       "      <td>536</td>\n",
       "      <td>566</td>\n",
       "      <td>637</td>\n",
       "      <td>皖A576X9</td>\n",
       "      <td>0.588889</td>\n",
       "      <td>0.505603</td>\n",
       "      <td>0.394444</td>\n",
       "      <td>0.087069</td>\n",
       "      <td>test</td>\n",
       "    </tr>\n",
       "    <tr>\n",
       "      <th>5498</th>\n",
       "      <td>C:/Users/User/DeepLearning/Deep_Learning/final...</td>\n",
       "      <td>ccpd_weather</td>\n",
       "      <td>64</td>\n",
       "      <td>606</td>\n",
       "      <td>309</td>\n",
       "      <td>723</td>\n",
       "      <td>皖ALF155</td>\n",
       "      <td>0.259028</td>\n",
       "      <td>0.572845</td>\n",
       "      <td>0.340278</td>\n",
       "      <td>0.100862</td>\n",
       "      <td>test</td>\n",
       "    </tr>\n",
       "    <tr>\n",
       "      <th>5499</th>\n",
       "      <td>C:/Users/User/DeepLearning/Deep_Learning/final...</td>\n",
       "      <td>ccpd_weather</td>\n",
       "      <td>124</td>\n",
       "      <td>496</td>\n",
       "      <td>378</td>\n",
       "      <td>609</td>\n",
       "      <td>皖A3M336</td>\n",
       "      <td>0.348611</td>\n",
       "      <td>0.476293</td>\n",
       "      <td>0.352778</td>\n",
       "      <td>0.097414</td>\n",
       "      <td>test</td>\n",
       "    </tr>\n",
       "  </tbody>\n",
       "</table>\n",
       "<p>5500 rows × 12 columns</p>\n",
       "</div>"
      ],
      "text/plain": [
       "                                             image_path           sub  \\\n",
       "0     C:/Users/User/DeepLearning/Deep_Learning/final...  ccpd_weather   \n",
       "1     C:/Users/User/DeepLearning/Deep_Learning/final...  ccpd_weather   \n",
       "2     C:/Users/User/DeepLearning/Deep_Learning/final...  ccpd_weather   \n",
       "3     C:/Users/User/DeepLearning/Deep_Learning/final...  ccpd_weather   \n",
       "4     C:/Users/User/DeepLearning/Deep_Learning/final...  ccpd_weather   \n",
       "...                                                 ...           ...   \n",
       "5495  C:/Users/User/DeepLearning/Deep_Learning/final...  ccpd_weather   \n",
       "5496  C:/Users/User/DeepLearning/Deep_Learning/final...  ccpd_weather   \n",
       "5497  C:/Users/User/DeepLearning/Deep_Learning/final...  ccpd_weather   \n",
       "5498  C:/Users/User/DeepLearning/Deep_Learning/final...  ccpd_weather   \n",
       "5499  C:/Users/User/DeepLearning/Deep_Learning/final...  ccpd_weather   \n",
       "\n",
       "      x1_bbox  y1_bbox  x2_bbox  y2_bbox decoded_plate_number      xmid  \\\n",
       "0         294      496      374      540              皖AD130W  0.463889   \n",
       "1         304      542      411      577              皖AUT267  0.496528   \n",
       "2         339      547      444      583              皖MZ4882  0.543750   \n",
       "3         177      511      268      553              皖AVD028  0.309028   \n",
       "4         402      426      497      467              皖RL222P  0.624306   \n",
       "...       ...      ...      ...      ...                  ...       ...   \n",
       "5495       96      584      372      688              皖AR8T97  0.325000   \n",
       "5496      265      514      533      621              皖AL6M60  0.554167   \n",
       "5497      282      536      566      637              皖A576X9  0.588889   \n",
       "5498       64      606      309      723              皖ALF155  0.259028   \n",
       "5499      124      496      378      609              皖A3M336  0.348611   \n",
       "\n",
       "          ymid  bb_width  bb_height  split  \n",
       "0     0.446552  0.111111   0.037931  train  \n",
       "1     0.482328  0.148611   0.030172  train  \n",
       "2     0.487069  0.145833   0.031034  train  \n",
       "3     0.458621  0.126389   0.036207  train  \n",
       "4     0.384914  0.131944   0.035345  train  \n",
       "...        ...       ...        ...    ...  \n",
       "5495  0.548276  0.383333   0.089655   test  \n",
       "5496  0.489224  0.372222   0.092241   test  \n",
       "5497  0.505603  0.394444   0.087069   test  \n",
       "5498  0.572845  0.340278   0.100862   test  \n",
       "5499  0.476293  0.352778   0.097414   test  \n",
       "\n",
       "[5500 rows x 12 columns]"
      ]
     },
     "execution_count": 5,
     "metadata": {},
     "output_type": "execute_result"
    }
   ],
   "source": [
    "# Train : 5000 (ccpd_base), Val and Test : 50 for each sub (except ccpd_base)\n",
    "list_split = [\"train\"] * 5000\n",
    "for i in range(5):\n",
    "    list_split.extend([\"val\"]*50)\n",
    "    list_split.extend([\"test\"]*50)\n",
    "df_metadata[\"split\"] = list_split\n",
    "df_metadata"
   ]
  },
  {
   "cell_type": "code",
   "execution_count": 7,
   "metadata": {},
   "outputs": [
    {
     "name": "stdout",
     "output_type": "stream",
     "text": [
      "Initial GPU Usage\n",
      "| ID | GPU | MEM |\n",
      "------------------\n",
      "|  0 |  0% |  0% |\n",
      "GPU Usage after emptying the cache\n",
      "| ID | GPU | MEM |\n",
      "------------------\n",
      "|  0 |  0% |  2% |\n"
     ]
    }
   ],
   "source": [
    "from numba import cuda\n",
    "from GPUtil import showUtilization as gpu_usage\n",
    "\n",
    "def free_gpu_cache():\n",
    "    print(\"Initial GPU Usage\")\n",
    "    gpu_usage()                             \n",
    "\n",
    "    torch.cuda.empty_cache()\n",
    "\n",
    "    cuda.select_device(0)\n",
    "    cuda.close()\n",
    "    cuda.select_device(0)\n",
    "\n",
    "    print(\"GPU Usage after emptying the cache\")\n",
    "    gpu_usage()\n",
    "\n",
    "free_gpu_cache()"
   ]
  },
  {
   "cell_type": "code",
   "execution_count": 8,
   "metadata": {},
   "outputs": [
    {
     "data": {
      "text/html": [
       "<div>\n",
       "<style scoped>\n",
       "    .dataframe tbody tr th:only-of-type {\n",
       "        vertical-align: middle;\n",
       "    }\n",
       "\n",
       "    .dataframe tbody tr th {\n",
       "        vertical-align: top;\n",
       "    }\n",
       "\n",
       "    .dataframe thead th {\n",
       "        text-align: right;\n",
       "    }\n",
       "</style>\n",
       "<table border=\"1\" class=\"dataframe\">\n",
       "  <thead>\n",
       "    <tr style=\"text-align: right;\">\n",
       "      <th></th>\n",
       "      <th>image_path</th>\n",
       "      <th>sub</th>\n",
       "      <th>decoded_plate_number</th>\n",
       "      <th>x1_bbox</th>\n",
       "      <th>y1_bbox</th>\n",
       "      <th>x2_bbox</th>\n",
       "      <th>y2_bbox</th>\n",
       "    </tr>\n",
       "  </thead>\n",
       "  <tbody>\n",
       "    <tr>\n",
       "      <th>0</th>\n",
       "      <td>C:/Users/User/DeepLearning/Deep_Learning/final...</td>\n",
       "      <td>ccpd_weather</td>\n",
       "      <td>鄂AT2W80</td>\n",
       "      <td>176</td>\n",
       "      <td>497</td>\n",
       "      <td>455</td>\n",
       "      <td>595</td>\n",
       "    </tr>\n",
       "    <tr>\n",
       "      <th>1</th>\n",
       "      <td>C:/Users/User/DeepLearning/Deep_Learning/final...</td>\n",
       "      <td>ccpd_weather</td>\n",
       "      <td>皖AB967N</td>\n",
       "      <td>213</td>\n",
       "      <td>444</td>\n",
       "      <td>469</td>\n",
       "      <td>551</td>\n",
       "    </tr>\n",
       "    <tr>\n",
       "      <th>2</th>\n",
       "      <td>C:/Users/User/DeepLearning/Deep_Learning/final...</td>\n",
       "      <td>ccpd_weather</td>\n",
       "      <td>皖A25T29</td>\n",
       "      <td>257</td>\n",
       "      <td>384</td>\n",
       "      <td>525</td>\n",
       "      <td>486</td>\n",
       "    </tr>\n",
       "    <tr>\n",
       "      <th>3</th>\n",
       "      <td>C:/Users/User/DeepLearning/Deep_Learning/final...</td>\n",
       "      <td>ccpd_weather</td>\n",
       "      <td>皖AZW108</td>\n",
       "      <td>201</td>\n",
       "      <td>476</td>\n",
       "      <td>493</td>\n",
       "      <td>570</td>\n",
       "    </tr>\n",
       "    <tr>\n",
       "      <th>4</th>\n",
       "      <td>C:/Users/User/DeepLearning/Deep_Learning/final...</td>\n",
       "      <td>ccpd_weather</td>\n",
       "      <td>皖AZ2744</td>\n",
       "      <td>252</td>\n",
       "      <td>586</td>\n",
       "      <td>532</td>\n",
       "      <td>684</td>\n",
       "    </tr>\n",
       "    <tr>\n",
       "      <th>...</th>\n",
       "      <td>...</td>\n",
       "      <td>...</td>\n",
       "      <td>...</td>\n",
       "      <td>...</td>\n",
       "      <td>...</td>\n",
       "      <td>...</td>\n",
       "      <td>...</td>\n",
       "    </tr>\n",
       "    <tr>\n",
       "      <th>245</th>\n",
       "      <td>C:/Users/User/DeepLearning/Deep_Learning/final...</td>\n",
       "      <td>ccpd_weather</td>\n",
       "      <td>皖AR8T97</td>\n",
       "      <td>96</td>\n",
       "      <td>584</td>\n",
       "      <td>372</td>\n",
       "      <td>688</td>\n",
       "    </tr>\n",
       "    <tr>\n",
       "      <th>246</th>\n",
       "      <td>C:/Users/User/DeepLearning/Deep_Learning/final...</td>\n",
       "      <td>ccpd_weather</td>\n",
       "      <td>皖AL6M60</td>\n",
       "      <td>265</td>\n",
       "      <td>514</td>\n",
       "      <td>533</td>\n",
       "      <td>621</td>\n",
       "    </tr>\n",
       "    <tr>\n",
       "      <th>247</th>\n",
       "      <td>C:/Users/User/DeepLearning/Deep_Learning/final...</td>\n",
       "      <td>ccpd_weather</td>\n",
       "      <td>皖A576X9</td>\n",
       "      <td>282</td>\n",
       "      <td>536</td>\n",
       "      <td>566</td>\n",
       "      <td>637</td>\n",
       "    </tr>\n",
       "    <tr>\n",
       "      <th>248</th>\n",
       "      <td>C:/Users/User/DeepLearning/Deep_Learning/final...</td>\n",
       "      <td>ccpd_weather</td>\n",
       "      <td>皖ALF155</td>\n",
       "      <td>64</td>\n",
       "      <td>606</td>\n",
       "      <td>309</td>\n",
       "      <td>723</td>\n",
       "    </tr>\n",
       "    <tr>\n",
       "      <th>249</th>\n",
       "      <td>C:/Users/User/DeepLearning/Deep_Learning/final...</td>\n",
       "      <td>ccpd_weather</td>\n",
       "      <td>皖A3M336</td>\n",
       "      <td>124</td>\n",
       "      <td>496</td>\n",
       "      <td>378</td>\n",
       "      <td>609</td>\n",
       "    </tr>\n",
       "  </tbody>\n",
       "</table>\n",
       "<p>250 rows × 7 columns</p>\n",
       "</div>"
      ],
      "text/plain": [
       "                                            image_path           sub  \\\n",
       "0    C:/Users/User/DeepLearning/Deep_Learning/final...  ccpd_weather   \n",
       "1    C:/Users/User/DeepLearning/Deep_Learning/final...  ccpd_weather   \n",
       "2    C:/Users/User/DeepLearning/Deep_Learning/final...  ccpd_weather   \n",
       "3    C:/Users/User/DeepLearning/Deep_Learning/final...  ccpd_weather   \n",
       "4    C:/Users/User/DeepLearning/Deep_Learning/final...  ccpd_weather   \n",
       "..                                                 ...           ...   \n",
       "245  C:/Users/User/DeepLearning/Deep_Learning/final...  ccpd_weather   \n",
       "246  C:/Users/User/DeepLearning/Deep_Learning/final...  ccpd_weather   \n",
       "247  C:/Users/User/DeepLearning/Deep_Learning/final...  ccpd_weather   \n",
       "248  C:/Users/User/DeepLearning/Deep_Learning/final...  ccpd_weather   \n",
       "249  C:/Users/User/DeepLearning/Deep_Learning/final...  ccpd_weather   \n",
       "\n",
       "    decoded_plate_number  x1_bbox  y1_bbox  x2_bbox  y2_bbox  \n",
       "0                鄂AT2W80      176      497      455      595  \n",
       "1                皖AB967N      213      444      469      551  \n",
       "2                皖A25T29      257      384      525      486  \n",
       "3                皖AZW108      201      476      493      570  \n",
       "4                皖AZ2744      252      586      532      684  \n",
       "..                   ...      ...      ...      ...      ...  \n",
       "245              皖AR8T97       96      584      372      688  \n",
       "246              皖AL6M60      265      514      533      621  \n",
       "247              皖A576X9      282      536      566      637  \n",
       "248              皖ALF155       64      606      309      723  \n",
       "249              皖A3M336      124      496      378      609  \n",
       "\n",
       "[250 rows x 7 columns]"
      ]
     },
     "execution_count": 8,
     "metadata": {},
     "output_type": "execute_result"
    }
   ],
   "source": [
    "from ultralytics import YOLO\n",
    "df_results = df_metadata[df_metadata[\"split\"]==\"test\"].reset_index(drop=True)\n",
    "df_results = df_results[[\"image_path\", \"sub\", \"decoded_plate_number\", \"x1_bbox\", \"y1_bbox\", \"x2_bbox\", \"y2_bbox\"]]\n",
    "df_results"
   ]
  },
  {
   "cell_type": "code",
   "execution_count": 9,
   "metadata": {},
   "outputs": [
    {
     "data": {
      "text/html": [
       "<div>\n",
       "<style scoped>\n",
       "    .dataframe tbody tr th:only-of-type {\n",
       "        vertical-align: middle;\n",
       "    }\n",
       "\n",
       "    .dataframe tbody tr th {\n",
       "        vertical-align: top;\n",
       "    }\n",
       "\n",
       "    .dataframe thead th {\n",
       "        text-align: right;\n",
       "    }\n",
       "</style>\n",
       "<table border=\"1\" class=\"dataframe\">\n",
       "  <thead>\n",
       "    <tr style=\"text-align: right;\">\n",
       "      <th></th>\n",
       "      <th>image_path</th>\n",
       "      <th>sub</th>\n",
       "      <th>decoded_plate_number</th>\n",
       "      <th>x1_bbox</th>\n",
       "      <th>y1_bbox</th>\n",
       "      <th>x2_bbox</th>\n",
       "      <th>y2_bbox</th>\n",
       "      <th>pred_bbox</th>\n",
       "      <th>confidence</th>\n",
       "    </tr>\n",
       "  </thead>\n",
       "  <tbody>\n",
       "    <tr>\n",
       "      <th>0</th>\n",
       "      <td>C:/Users/User/DeepLearning/Deep_Learning/final...</td>\n",
       "      <td>ccpd_weather</td>\n",
       "      <td>鄂AT2W80</td>\n",
       "      <td>176</td>\n",
       "      <td>497</td>\n",
       "      <td>455</td>\n",
       "      <td>595</td>\n",
       "      <td>[[177, 493, 454, 597]]</td>\n",
       "      <td>[0.94]</td>\n",
       "    </tr>\n",
       "    <tr>\n",
       "      <th>1</th>\n",
       "      <td>C:/Users/User/DeepLearning/Deep_Learning/final...</td>\n",
       "      <td>ccpd_weather</td>\n",
       "      <td>皖AB967N</td>\n",
       "      <td>213</td>\n",
       "      <td>444</td>\n",
       "      <td>469</td>\n",
       "      <td>551</td>\n",
       "      <td>[[212, 443, 469, 551]]</td>\n",
       "      <td>[0.94]</td>\n",
       "    </tr>\n",
       "    <tr>\n",
       "      <th>2</th>\n",
       "      <td>C:/Users/User/DeepLearning/Deep_Learning/final...</td>\n",
       "      <td>ccpd_weather</td>\n",
       "      <td>皖A25T29</td>\n",
       "      <td>257</td>\n",
       "      <td>384</td>\n",
       "      <td>525</td>\n",
       "      <td>486</td>\n",
       "      <td>[[255, 385, 523, 487]]</td>\n",
       "      <td>[0.93]</td>\n",
       "    </tr>\n",
       "    <tr>\n",
       "      <th>3</th>\n",
       "      <td>C:/Users/User/DeepLearning/Deep_Learning/final...</td>\n",
       "      <td>ccpd_weather</td>\n",
       "      <td>皖AZW108</td>\n",
       "      <td>201</td>\n",
       "      <td>476</td>\n",
       "      <td>493</td>\n",
       "      <td>570</td>\n",
       "      <td>[[198, 476, 490, 570]]</td>\n",
       "      <td>[0.93]</td>\n",
       "    </tr>\n",
       "    <tr>\n",
       "      <th>4</th>\n",
       "      <td>C:/Users/User/DeepLearning/Deep_Learning/final...</td>\n",
       "      <td>ccpd_weather</td>\n",
       "      <td>皖AZ2744</td>\n",
       "      <td>252</td>\n",
       "      <td>586</td>\n",
       "      <td>532</td>\n",
       "      <td>684</td>\n",
       "      <td>[[255, 587, 529, 680]]</td>\n",
       "      <td>[0.95]</td>\n",
       "    </tr>\n",
       "    <tr>\n",
       "      <th>...</th>\n",
       "      <td>...</td>\n",
       "      <td>...</td>\n",
       "      <td>...</td>\n",
       "      <td>...</td>\n",
       "      <td>...</td>\n",
       "      <td>...</td>\n",
       "      <td>...</td>\n",
       "      <td>...</td>\n",
       "      <td>...</td>\n",
       "    </tr>\n",
       "    <tr>\n",
       "      <th>245</th>\n",
       "      <td>C:/Users/User/DeepLearning/Deep_Learning/final...</td>\n",
       "      <td>ccpd_weather</td>\n",
       "      <td>皖AR8T97</td>\n",
       "      <td>96</td>\n",
       "      <td>584</td>\n",
       "      <td>372</td>\n",
       "      <td>688</td>\n",
       "      <td>[[95, 584, 372, 687]]</td>\n",
       "      <td>[0.93]</td>\n",
       "    </tr>\n",
       "    <tr>\n",
       "      <th>246</th>\n",
       "      <td>C:/Users/User/DeepLearning/Deep_Learning/final...</td>\n",
       "      <td>ccpd_weather</td>\n",
       "      <td>皖AL6M60</td>\n",
       "      <td>265</td>\n",
       "      <td>514</td>\n",
       "      <td>533</td>\n",
       "      <td>621</td>\n",
       "      <td>[[268, 515, 530, 620]]</td>\n",
       "      <td>[0.95]</td>\n",
       "    </tr>\n",
       "    <tr>\n",
       "      <th>247</th>\n",
       "      <td>C:/Users/User/DeepLearning/Deep_Learning/final...</td>\n",
       "      <td>ccpd_weather</td>\n",
       "      <td>皖A576X9</td>\n",
       "      <td>282</td>\n",
       "      <td>536</td>\n",
       "      <td>566</td>\n",
       "      <td>637</td>\n",
       "      <td>[[277, 534, 570, 638]]</td>\n",
       "      <td>[0.92]</td>\n",
       "    </tr>\n",
       "    <tr>\n",
       "      <th>248</th>\n",
       "      <td>C:/Users/User/DeepLearning/Deep_Learning/final...</td>\n",
       "      <td>ccpd_weather</td>\n",
       "      <td>皖ALF155</td>\n",
       "      <td>64</td>\n",
       "      <td>606</td>\n",
       "      <td>309</td>\n",
       "      <td>723</td>\n",
       "      <td>[[62, 606, 307, 721]]</td>\n",
       "      <td>[0.94]</td>\n",
       "    </tr>\n",
       "    <tr>\n",
       "      <th>249</th>\n",
       "      <td>C:/Users/User/DeepLearning/Deep_Learning/final...</td>\n",
       "      <td>ccpd_weather</td>\n",
       "      <td>皖A3M336</td>\n",
       "      <td>124</td>\n",
       "      <td>496</td>\n",
       "      <td>378</td>\n",
       "      <td>609</td>\n",
       "      <td>[[123, 495, 377, 608]]</td>\n",
       "      <td>[0.94]</td>\n",
       "    </tr>\n",
       "  </tbody>\n",
       "</table>\n",
       "<p>250 rows × 9 columns</p>\n",
       "</div>"
      ],
      "text/plain": [
       "                                            image_path           sub  \\\n",
       "0    C:/Users/User/DeepLearning/Deep_Learning/final...  ccpd_weather   \n",
       "1    C:/Users/User/DeepLearning/Deep_Learning/final...  ccpd_weather   \n",
       "2    C:/Users/User/DeepLearning/Deep_Learning/final...  ccpd_weather   \n",
       "3    C:/Users/User/DeepLearning/Deep_Learning/final...  ccpd_weather   \n",
       "4    C:/Users/User/DeepLearning/Deep_Learning/final...  ccpd_weather   \n",
       "..                                                 ...           ...   \n",
       "245  C:/Users/User/DeepLearning/Deep_Learning/final...  ccpd_weather   \n",
       "246  C:/Users/User/DeepLearning/Deep_Learning/final...  ccpd_weather   \n",
       "247  C:/Users/User/DeepLearning/Deep_Learning/final...  ccpd_weather   \n",
       "248  C:/Users/User/DeepLearning/Deep_Learning/final...  ccpd_weather   \n",
       "249  C:/Users/User/DeepLearning/Deep_Learning/final...  ccpd_weather   \n",
       "\n",
       "    decoded_plate_number  x1_bbox  y1_bbox  x2_bbox  y2_bbox  \\\n",
       "0                鄂AT2W80      176      497      455      595   \n",
       "1                皖AB967N      213      444      469      551   \n",
       "2                皖A25T29      257      384      525      486   \n",
       "3                皖AZW108      201      476      493      570   \n",
       "4                皖AZ2744      252      586      532      684   \n",
       "..                   ...      ...      ...      ...      ...   \n",
       "245              皖AR8T97       96      584      372      688   \n",
       "246              皖AL6M60      265      514      533      621   \n",
       "247              皖A576X9      282      536      566      637   \n",
       "248              皖ALF155       64      606      309      723   \n",
       "249              皖A3M336      124      496      378      609   \n",
       "\n",
       "                  pred_bbox confidence  \n",
       "0    [[177, 493, 454, 597]]     [0.94]  \n",
       "1    [[212, 443, 469, 551]]     [0.94]  \n",
       "2    [[255, 385, 523, 487]]     [0.93]  \n",
       "3    [[198, 476, 490, 570]]     [0.93]  \n",
       "4    [[255, 587, 529, 680]]     [0.95]  \n",
       "..                      ...        ...  \n",
       "245   [[95, 584, 372, 687]]     [0.93]  \n",
       "246  [[268, 515, 530, 620]]     [0.95]  \n",
       "247  [[277, 534, 570, 638]]     [0.92]  \n",
       "248   [[62, 606, 307, 721]]     [0.94]  \n",
       "249  [[123, 495, 377, 608]]     [0.94]  \n",
       "\n",
       "[250 rows x 9 columns]"
      ]
     },
     "execution_count": 9,
     "metadata": {},
     "output_type": "execute_result"
    }
   ],
   "source": [
    "# Assuming you have already imported your YOLO class\n",
    "\n",
    "# Instantiate the YOLO model\n",
    "yolo_model = YOLO('C:/Users/User/runs/detect/train4/weights/best.pt')\n",
    "\n",
    "# Move the model to CPU\n",
    "yolo_model = yolo_model.to('cpu')\n",
    "\n",
    "# Rest of your code remains the same\n",
    "bbox_results = yolo_model.predict(list(df_results[\"image_path\"]), verbose=False)\n",
    "all_box_list = []\n",
    "all_conf_list = []\n",
    "\n",
    "for bbox_result in bbox_results:\n",
    "    boxes = bbox_result.boxes\n",
    "    box_list = []\n",
    "    conf_list = []\n",
    "\n",
    "    for box in boxes:\n",
    "        box_data = box.data[0][:4]\n",
    "        box_data = [int(x) for x in box_data]\n",
    "        conf = round(float(box.conf), 2)\n",
    "\n",
    "        if conf >= 0.5:\n",
    "            box_list.append(box_data)\n",
    "            conf_list.append(conf)\n",
    "\n",
    "    all_box_list.append(box_list)\n",
    "    all_conf_list.append(conf_list)\n",
    "\n",
    "df_results[\"pred_bbox\"] = all_box_list\n",
    "df_results[\"confidence\"] = all_conf_list\n",
    "df_results\n"
   ]
  },
  {
   "cell_type": "code",
   "execution_count": 10,
   "metadata": {},
   "outputs": [
    {
     "name": "stderr",
     "output_type": "stream",
     "text": [
      "c:\\Users\\User\\anaconda3\\envs\\DeepLearning\\Lib\\site-packages\\torchvision\\models\\_utils.py:208: UserWarning: The parameter 'pretrained' is deprecated since 0.13 and may be removed in the future, please use 'weights' instead.\n",
      "  warnings.warn(\n",
      "c:\\Users\\User\\anaconda3\\envs\\DeepLearning\\Lib\\site-packages\\torchvision\\models\\_utils.py:223: UserWarning: Arguments other than a weight enum or `None` for 'weights' are deprecated since 0.13 and may be removed in the future. The current behavior is equivalent to passing `weights=ResNet18_Weights.IMAGENET1K_V1`. You can also use `weights=ResNet18_Weights.DEFAULT` to get the most up-to-date weights.\n",
      "  warnings.warn(msg)\n"
     ]
    }
   ],
   "source": [
    "resnet = resnet18(pretrained=True)"
   ]
  },
  {
   "cell_type": "code",
   "execution_count": 13,
   "metadata": {},
   "outputs": [],
   "source": [
    "data_path = \"C:/Users/User/DeepLearning/Deep_Learning/final_project/samples\""
   ]
  },
  {
   "cell_type": "code",
   "execution_count": 14,
   "metadata": {},
   "outputs": [
    {
     "name": "stdout",
     "output_type": "stream",
     "text": [
      "1071\n",
      "[5 7]\n"
     ]
    }
   ],
   "source": [
    "image_fns = os.listdir(data_path)\n",
    "print(len(image_fns))\n",
    "print(np.unique([len(image_fn.split(\".\")[0]) for image_fn in image_fns]))"
   ]
  },
  {
   "cell_type": "code",
   "execution_count": 15,
   "metadata": {},
   "outputs": [
    {
     "name": "stdout",
     "output_type": "stream",
     "text": [
      "923 samples\n"
     ]
    }
   ],
   "source": [
    "for idx, image_fn in enumerate(image_fns):\n",
    "    if len(image_fn.split(\".\")[0]) != 5:\n",
    "           print(idx, image_fn)"
   ]
  },
  {
   "cell_type": "code",
   "execution_count": 16,
   "metadata": {},
   "outputs": [
    {
     "name": "stdout",
     "output_type": "stream",
     "text": [
      "1070\n"
     ]
    }
   ],
   "source": [
    "image_fns.remove('samples')\n",
    "print(len(image_fns))"
   ]
  },
  {
   "cell_type": "code",
   "execution_count": 19,
   "metadata": {},
   "outputs": [
    {
     "name": "stdout",
     "output_type": "stream",
     "text": [
      "802 268\n"
     ]
    }
   ],
   "source": [
    "image_fns_train, image_fns_test = train_test_split(image_fns, random_state=0)\n",
    "print(len(image_fns_train), len(image_fns_test))"
   ]
  },
  {
   "cell_type": "code",
   "execution_count": 20,
   "metadata": {},
   "outputs": [
    {
     "name": "stdout",
     "output_type": "stream",
     "text": [
      "19\n",
      "['2', '3', '4', '5', '6', '7', '8', 'b', 'c', 'd', 'e', 'f', 'g', 'm', 'n', 'p', 'w', 'x', 'y']\n"
     ]
    }
   ],
   "source": [
    "image_ns = [image_fn.split(\".\")[0] for image_fn in image_fns]\n",
    "image_ns = \"\".join(image_ns)\n",
    "letters = sorted(list(set(list(image_ns))))\n",
    "print(len(letters))\n",
    "print(letters)"
   ]
  },
  {
   "cell_type": "code",
   "execution_count": 21,
   "metadata": {},
   "outputs": [
    {
     "name": "stdout",
     "output_type": "stream",
     "text": [
      "20\n",
      "['-', '2', '3', '4', '5', '6', '7', '8', 'b', 'c', 'd', 'e', 'f', 'g', 'm', 'n', 'p', 'w', 'x', 'y']\n",
      "{0: '-', 1: '2', 2: '3', 3: '4', 4: '5', 5: '6', 6: '7', 7: '8', 8: 'b', 9: 'c', 10: 'd', 11: 'e', 12: 'f', 13: 'g', 14: 'm', 15: 'n', 16: 'p', 17: 'w', 18: 'x', 19: 'y'}\n",
      "{'-': 0, '2': 1, '3': 2, '4': 3, '5': 4, '6': 5, '7': 6, '8': 7, 'b': 8, 'c': 9, 'd': 10, 'e': 11, 'f': 12, 'g': 13, 'm': 14, 'n': 15, 'p': 16, 'w': 17, 'x': 18, 'y': 19}\n"
     ]
    }
   ],
   "source": [
    "vocabulary = [\"-\"] + letters\n",
    "print(len(vocabulary))\n",
    "print(vocabulary)\n",
    "idx2char = {k:v for k,v in enumerate(vocabulary, start=0)}\n",
    "print(idx2char)\n",
    "char2idx = {v:k for k,v in idx2char.items()}\n",
    "print(char2idx)"
   ]
  },
  {
   "cell_type": "code",
   "execution_count": 66,
   "metadata": {},
   "outputs": [],
   "source": [
    "batch_size = 1\n"
   ]
  },
  {
   "cell_type": "code",
   "execution_count": 67,
   "metadata": {},
   "outputs": [],
   "source": [
    "class CAPTCHADataset(Dataset):\n",
    "    \n",
    "    def __init__(self, data_dir, image_fns):\n",
    "        self.data_dir = data_dir\n",
    "        self.image_fns = image_fns\n",
    "        \n",
    "    def __len__(self):\n",
    "        return len(self.image_fns)\n",
    "    \n",
    "    def __getitem__(self, index):\n",
    "        image_fn = self.image_fns[index]\n",
    "        image_fp = os.path.join(self.data_dir, image_fn)\n",
    "        image = Image.open(image_fp).convert('RGB')\n",
    "        image = self.transform(image)\n",
    "        text = image_fn.split(\".\")[0]\n",
    "        return image, text\n",
    "    \n",
    "    def transform(self, image):\n",
    "        \n",
    "        transform_ops = transforms.Compose([\n",
    "            transforms.ToTensor(),\n",
    "            transforms.Normalize(mean=(0.485, 0.456, 0.406), std=(0.229, 0.224, 0.225))\n",
    "        ])\n",
    "        return transform_ops(image)"
   ]
  },
  {
   "cell_type": "code",
   "execution_count": null,
   "metadata": {},
   "outputs": [],
   "source": []
  },
  {
   "cell_type": "code",
   "execution_count": 68,
   "metadata": {},
   "outputs": [
    {
     "name": "stdout",
     "output_type": "stream",
     "text": [
      "802 268\n"
     ]
    }
   ],
   "source": [
    "# cpu_count = mp.cpu_count()\n",
    "# print(cpu_count)\n",
    "\n",
    "trainset = CAPTCHADataset(data_path, image_fns_train) \n",
    "testset = CAPTCHADataset(data_path, image_fns_test)\n",
    "train_loader = DataLoader(trainset, batch_size=batch_size, num_workers=0, shuffle=True)\n",
    "test_loader = DataLoader(testset, batch_size=batch_size, num_workers=0, shuffle=False)\n",
    "print(len(train_loader), len(test_loader))"
   ]
  },
  {
   "cell_type": "code",
   "execution_count": 69,
   "metadata": {},
   "outputs": [
    {
     "name": "stdout",
     "output_type": "stream",
     "text": [
      "torch.Size([1, 3, 50, 200]) ('8684m',)\n"
     ]
    }
   ],
   "source": [
    "image_batch, text_batch = next(iter(train_loader))\n",
    "print(image_batch.size(), text_batch)"
   ]
  },
  {
   "cell_type": "code",
   "execution_count": 70,
   "metadata": {},
   "outputs": [
    {
     "name": "stdout",
     "output_type": "stream",
     "text": [
      "20\n"
     ]
    }
   ],
   "source": [
    "num_chars = len(char2idx)\n",
    "print(num_chars)\n",
    "rnn_hidden_size = 256"
   ]
  },
  {
   "cell_type": "code",
   "execution_count": 71,
   "metadata": {},
   "outputs": [
    {
     "name": "stdout",
     "output_type": "stream",
     "text": [
      "cuda\n"
     ]
    }
   ],
   "source": [
    "device = torch.device('cuda' if torch.cuda.is_available() else 'cpu')\n",
    "print(device)"
   ]
  },
  {
   "cell_type": "code",
   "execution_count": 72,
   "metadata": {},
   "outputs": [],
   "source": [
    "class CRNN(nn.Module):\n",
    "    \n",
    "    def __init__(self, num_chars, rnn_hidden_size=256, dropout=0.1):\n",
    "        \n",
    "        super(CRNN, self).__init__()\n",
    "        self.num_chars = num_chars\n",
    "        self.rnn_hidden_size = rnn_hidden_size\n",
    "        self.dropout = dropout\n",
    "        \n",
    "        # CNN Part 1\n",
    "        resnet_modules = list(resnet.children())[:-3]\n",
    "        self.cnn_p1 = nn.Sequential(*resnet_modules)\n",
    "        \n",
    "        # CNN Part 2\n",
    "        self.cnn_p2 = nn.Sequential(\n",
    "            nn.Conv2d(256, 256, kernel_size=(3,6), stride=1, padding=1),\n",
    "            nn.BatchNorm2d(256),\n",
    "            nn.ReLU(inplace=True)\n",
    "        )\n",
    "        self.linear1 = nn.Linear(1024, 256)\n",
    "        \n",
    "        # RNN\n",
    "        self.rnn1 = nn.GRU(input_size=rnn_hidden_size, \n",
    "                            hidden_size=rnn_hidden_size,\n",
    "                            bidirectional=True, \n",
    "                            batch_first=True)\n",
    "        self.rnn2 = nn.GRU(input_size=rnn_hidden_size, \n",
    "                            hidden_size=rnn_hidden_size,\n",
    "                            bidirectional=True, \n",
    "                            batch_first=True)\n",
    "        self.linear2 = nn.Linear(self.rnn_hidden_size*2, num_chars)\n",
    "        \n",
    "        \n",
    "    def forward(self, batch):\n",
    "        \n",
    "        batch = self.cnn_p1(batch)\n",
    "        # print(batch.size()) # torch.Size([-1, 256, 4, 13])\n",
    "        \n",
    "        batch = self.cnn_p2(batch) # [batch_size, channels, height, width]\n",
    "        # print(batch.size())# torch.Size([-1, 256, 4, 10])\n",
    "        \n",
    "        batch = batch.permute(0, 3, 1, 2) # [batch_size, width, channels, height]\n",
    "        # print(batch.size()) # torch.Size([-1, 10, 256, 4])\n",
    "         \n",
    "        batch_size = batch.size(0)\n",
    "        T = batch.size(1)\n",
    "        batch = batch.view(batch_size, T, -1) # [batch_size, T==width, num_features==channels*height]\n",
    "        # print(batch.size()) # torch.Size([-1, 10, 1024])\n",
    "        \n",
    "        batch = self.linear1(batch)\n",
    "        # print(batch.size()) # torch.Size([-1, 10, 256])\n",
    "        \n",
    "        batch, hidden = self.rnn1(batch)\n",
    "        feature_size = batch.size(2)\n",
    "        batch = batch[:, :, :feature_size//2] + batch[:, :, feature_size//2:]\n",
    "        # print(batch.size()) # torch.Size([-1, 10, 256])\n",
    "        \n",
    "        batch, hidden = self.rnn2(batch)\n",
    "        # print(batch.size()) # torch.Size([-1, 10, 512])\n",
    "        \n",
    "        batch = self.linear2(batch)\n",
    "        # print(batch.size()) # torch.Size([-1, 10, 20])\n",
    "        \n",
    "        batch = batch.permute(1, 0, 2) # [T==10, batch_size, num_classes==num_features]\n",
    "        # print(batch.size()) # torch.Size([10, -1, 20])\n",
    "        \n",
    "        return batch\n",
    "    \n",
    "def weights_init(m):\n",
    "    classname = m.__class__.__name__\n",
    "    if type(m) in [nn.Linear, nn.Conv2d, nn.Conv1d]:\n",
    "        torch.nn.init.xavier_uniform_(m.weight)\n",
    "        if m.bias is not None:\n",
    "            m.bias.data.fill_(0.01)\n",
    "    elif classname.find('BatchNorm') != -1:\n",
    "        m.weight.data.normal_(1.0, 0.02)\n",
    "        m.bias.data.fill_(0)    "
   ]
  },
  {
   "cell_type": "code",
   "execution_count": 73,
   "metadata": {},
   "outputs": [],
   "source": [
    "crnn = CRNN(num_chars, rnn_hidden_size=rnn_hidden_size)\n",
    "crnn.apply(weights_init)\n",
    "crnn = crnn.to(device)"
   ]
  },
  {
   "cell_type": "code",
   "execution_count": 74,
   "metadata": {},
   "outputs": [
    {
     "name": "stdout",
     "output_type": "stream",
     "text": [
      "('8684m',)\n",
      "torch.Size([10, 1, 20])\n"
     ]
    }
   ],
   "source": [
    "text_batch_logits = crnn(image_batch.to(device))\n",
    "print(text_batch)\n",
    "print(text_batch_logits.shape)"
   ]
  },
  {
   "cell_type": "code",
   "execution_count": 75,
   "metadata": {},
   "outputs": [],
   "source": [
    "criterion = nn.CTCLoss(blank=0)"
   ]
  },
  {
   "cell_type": "code",
   "execution_count": 50,
   "metadata": {},
   "outputs": [
    {
     "data": {
      "text/plain": [
       "tensor(4.6847, device='cuda:0', grad_fn=<MeanBackward0>)"
      ]
     },
     "execution_count": 50,
     "metadata": {},
     "output_type": "execute_result"
    }
   ],
   "source": [
    "def encode_text_batch(text_batch):\n",
    "    \n",
    "    text_batch_targets_lens = [len(text) for text in text_batch]\n",
    "    text_batch_targets_lens = torch.IntTensor(text_batch_targets_lens)\n",
    "    \n",
    "    text_batch_concat = \"\".join(text_batch)\n",
    "    text_batch_targets = [char2idx[c] for c in text_batch_concat]\n",
    "    text_batch_targets = torch.IntTensor(text_batch_targets)\n",
    "    \n",
    "    return text_batch_targets, text_batch_targets_lens\n",
    "def compute_loss(text_batch, text_batch_logits):\n",
    "    \"\"\"\n",
    "    text_batch: list of strings of length equal to batch size\n",
    "    text_batch_logits: Tensor of size([T, batch_size, num_classes])\n",
    "    \"\"\"\n",
    "    text_batch_logps = F.log_softmax(text_batch_logits, 2) # [T, batch_size, num_classes]  \n",
    "    text_batch_logps_lens = torch.full(size=(text_batch_logps.size(1),), \n",
    "                                       fill_value=text_batch_logps.size(0), \n",
    "                                       dtype=torch.int32).to(device) # [batch_size] \n",
    "    #print(text_batch_logps.shape)\n",
    "    #print(text_batch_logps_lens) \n",
    "    text_batch_targets, text_batch_targets_lens = encode_text_batch(text_batch)\n",
    "    #print(text_batch_targets)\n",
    "    #print(text_batch_targets_lens)\n",
    "    loss = criterion(text_batch_logps, text_batch_targets, text_batch_logps_lens, text_batch_targets_lens)\n",
    "\n",
    "    return loss\n",
    "\n",
    "compute_loss(text_batch, text_batch_logits)"
   ]
  },
  {
   "cell_type": "code",
   "execution_count": 51,
   "metadata": {},
   "outputs": [],
   "source": [
    "num_epochs = 50\n",
    "lr = 0.001\n",
    "weight_decay = 1e-3\n",
    "clip_norm = 5\n",
    "\n",
    "optimizer = optim.Adam(crnn.parameters(), lr=lr, weight_decay=weight_decay)\n",
    "lr_scheduler = optim.lr_scheduler.ReduceLROnPlateau(optimizer, verbose=True, patience=5)\n",
    "\n",
    "crnn = CRNN(num_chars, rnn_hidden_size=rnn_hidden_size)\n",
    "crnn.apply(weights_init)\n",
    "crnn = crnn.to(device)"
   ]
  },
  {
   "cell_type": "code",
   "execution_count": 52,
   "metadata": {},
   "outputs": [
    {
     "data": {
      "application/vnd.jupyter.widget-view+json": {
       "model_id": "454a705a31c34bed9268b7b815306dd0",
       "version_major": 2,
       "version_minor": 0
      },
      "text/plain": [
       "  0%|          | 0/50 [00:00<?, ?it/s]"
      ]
     },
     "metadata": {},
     "output_type": "display_data"
    },
    {
     "data": {
      "application/vnd.jupyter.widget-view+json": {
       "model_id": "d1620c85fc9e4db3a9da2606cc6372bb",
       "version_major": 2,
       "version_minor": 0
      },
      "text/plain": [
       "  0%|          | 0/51 [00:00<?, ?it/s]"
      ]
     },
     "metadata": {},
     "output_type": "display_data"
    },
    {
     "name": "stdout",
     "output_type": "stream",
     "text": [
      "Epoch:1    Loss:2.993421900506113    NumUpdates:51\n"
     ]
    },
    {
     "data": {
      "application/vnd.jupyter.widget-view+json": {
       "model_id": "9320490a801146cba67f27b4e7c0b15d",
       "version_major": 2,
       "version_minor": 0
      },
      "text/plain": [
       "  0%|          | 0/51 [00:00<?, ?it/s]"
      ]
     },
     "metadata": {},
     "output_type": "display_data"
    },
    {
     "name": "stdout",
     "output_type": "stream",
     "text": [
      "Epoch:2    Loss:2.43895401206671    NumUpdates:51\n"
     ]
    },
    {
     "data": {
      "application/vnd.jupyter.widget-view+json": {
       "model_id": "ba157d31347545ad8d26f752eafaff40",
       "version_major": 2,
       "version_minor": 0
      },
      "text/plain": [
       "  0%|          | 0/51 [00:00<?, ?it/s]"
      ]
     },
     "metadata": {},
     "output_type": "display_data"
    },
    {
     "name": "stdout",
     "output_type": "stream",
     "text": [
      "Epoch:3    Loss:1.9775874614715576    NumUpdates:51\n"
     ]
    },
    {
     "data": {
      "application/vnd.jupyter.widget-view+json": {
       "model_id": "f90791b2cdf443bd80596bad8d209c76",
       "version_major": 2,
       "version_minor": 0
      },
      "text/plain": [
       "  0%|          | 0/51 [00:00<?, ?it/s]"
      ]
     },
     "metadata": {},
     "output_type": "display_data"
    },
    {
     "name": "stdout",
     "output_type": "stream",
     "text": [
      "Epoch:4    Loss:1.6160090717614866    NumUpdates:51\n"
     ]
    },
    {
     "data": {
      "application/vnd.jupyter.widget-view+json": {
       "model_id": "bcb08f3d87014c27bcb4ea540b13cd05",
       "version_major": 2,
       "version_minor": 0
      },
      "text/plain": [
       "  0%|          | 0/51 [00:00<?, ?it/s]"
      ]
     },
     "metadata": {},
     "output_type": "display_data"
    },
    {
     "name": "stdout",
     "output_type": "stream",
     "text": [
      "Epoch:5    Loss:1.3934848308563232    NumUpdates:51\n"
     ]
    },
    {
     "data": {
      "application/vnd.jupyter.widget-view+json": {
       "model_id": "747c0893f4c340dda4954bde2ab2a42b",
       "version_major": 2,
       "version_minor": 0
      },
      "text/plain": [
       "  0%|          | 0/51 [00:00<?, ?it/s]"
      ]
     },
     "metadata": {},
     "output_type": "display_data"
    },
    {
     "name": "stdout",
     "output_type": "stream",
     "text": [
      "Epoch:6    Loss:1.2487160271289302    NumUpdates:51\n"
     ]
    },
    {
     "data": {
      "application/vnd.jupyter.widget-view+json": {
       "model_id": "6df2a6e5c60648e3827610d20cedb4d2",
       "version_major": 2,
       "version_minor": 0
      },
      "text/plain": [
       "  0%|          | 0/51 [00:00<?, ?it/s]"
      ]
     },
     "metadata": {},
     "output_type": "display_data"
    },
    {
     "name": "stdout",
     "output_type": "stream",
     "text": [
      "Epoch:7    Loss:1.1234494774949317    NumUpdates:51\n"
     ]
    },
    {
     "data": {
      "application/vnd.jupyter.widget-view+json": {
       "model_id": "b74bb321459c4fd8be55f0ba871658e5",
       "version_major": 2,
       "version_minor": 0
      },
      "text/plain": [
       "  0%|          | 0/51 [00:00<?, ?it/s]"
      ]
     },
     "metadata": {},
     "output_type": "display_data"
    },
    {
     "name": "stdout",
     "output_type": "stream",
     "text": [
      "Epoch:8    Loss:1.04328079550874    NumUpdates:51\n"
     ]
    },
    {
     "data": {
      "application/vnd.jupyter.widget-view+json": {
       "model_id": "ffa68d03196c4481b8729c60238c4272",
       "version_major": 2,
       "version_minor": 0
      },
      "text/plain": [
       "  0%|          | 0/51 [00:00<?, ?it/s]"
      ]
     },
     "metadata": {},
     "output_type": "display_data"
    },
    {
     "name": "stdout",
     "output_type": "stream",
     "text": [
      "Epoch:9    Loss:0.9944676815294752    NumUpdates:51\n"
     ]
    },
    {
     "data": {
      "application/vnd.jupyter.widget-view+json": {
       "model_id": "838db66c73124d759de03602b8bc6492",
       "version_major": 2,
       "version_minor": 0
      },
      "text/plain": [
       "  0%|          | 0/51 [00:00<?, ?it/s]"
      ]
     },
     "metadata": {},
     "output_type": "display_data"
    },
    {
     "name": "stdout",
     "output_type": "stream",
     "text": [
      "Epoch:10    Loss:0.9287992634025275    NumUpdates:51\n"
     ]
    },
    {
     "data": {
      "application/vnd.jupyter.widget-view+json": {
       "model_id": "358a1bdac73249259f7d7c797fd13fa0",
       "version_major": 2,
       "version_minor": 0
      },
      "text/plain": [
       "  0%|          | 0/51 [00:00<?, ?it/s]"
      ]
     },
     "metadata": {},
     "output_type": "display_data"
    },
    {
     "name": "stdout",
     "output_type": "stream",
     "text": [
      "Epoch:11    Loss:0.9101822095758775    NumUpdates:51\n"
     ]
    },
    {
     "data": {
      "application/vnd.jupyter.widget-view+json": {
       "model_id": "60867ad2bfcd4eca9753a1c244bb4889",
       "version_major": 2,
       "version_minor": 0
      },
      "text/plain": [
       "  0%|          | 0/51 [00:00<?, ?it/s]"
      ]
     },
     "metadata": {},
     "output_type": "display_data"
    },
    {
     "name": "stdout",
     "output_type": "stream",
     "text": [
      "Epoch:12    Loss:0.9279180180792715    NumUpdates:51\n"
     ]
    },
    {
     "data": {
      "application/vnd.jupyter.widget-view+json": {
       "model_id": "532401529e5645e996a359233984e92d",
       "version_major": 2,
       "version_minor": 0
      },
      "text/plain": [
       "  0%|          | 0/51 [00:00<?, ?it/s]"
      ]
     },
     "metadata": {},
     "output_type": "display_data"
    },
    {
     "name": "stdout",
     "output_type": "stream",
     "text": [
      "Epoch:13    Loss:0.8869997894062716    NumUpdates:51\n"
     ]
    },
    {
     "data": {
      "application/vnd.jupyter.widget-view+json": {
       "model_id": "3ca8931a9f614db4b4f6bfc59c282c12",
       "version_major": 2,
       "version_minor": 0
      },
      "text/plain": [
       "  0%|          | 0/51 [00:00<?, ?it/s]"
      ]
     },
     "metadata": {},
     "output_type": "display_data"
    },
    {
     "name": "stdout",
     "output_type": "stream",
     "text": [
      "Epoch:14    Loss:0.8278975510129741    NumUpdates:51\n"
     ]
    },
    {
     "data": {
      "application/vnd.jupyter.widget-view+json": {
       "model_id": "14ff87fe0b2743008e0006b40175c5dc",
       "version_major": 2,
       "version_minor": 0
      },
      "text/plain": [
       "  0%|          | 0/51 [00:00<?, ?it/s]"
      ]
     },
     "metadata": {},
     "output_type": "display_data"
    },
    {
     "name": "stdout",
     "output_type": "stream",
     "text": [
      "Epoch:15    Loss:0.8070752690820133    NumUpdates:51\n"
     ]
    },
    {
     "data": {
      "application/vnd.jupyter.widget-view+json": {
       "model_id": "222337f6cf8d4ea086355d0f76137179",
       "version_major": 2,
       "version_minor": 0
      },
      "text/plain": [
       "  0%|          | 0/51 [00:00<?, ?it/s]"
      ]
     },
     "metadata": {},
     "output_type": "display_data"
    },
    {
     "name": "stdout",
     "output_type": "stream",
     "text": [
      "Epoch:16    Loss:0.8087882259312797    NumUpdates:51\n"
     ]
    },
    {
     "data": {
      "application/vnd.jupyter.widget-view+json": {
       "model_id": "7125eb9056fe46d69aaf7c864908a304",
       "version_major": 2,
       "version_minor": 0
      },
      "text/plain": [
       "  0%|          | 0/51 [00:00<?, ?it/s]"
      ]
     },
     "metadata": {},
     "output_type": "display_data"
    },
    {
     "name": "stdout",
     "output_type": "stream",
     "text": [
      "Epoch:17    Loss:0.825809470578736    NumUpdates:51\n"
     ]
    },
    {
     "data": {
      "application/vnd.jupyter.widget-view+json": {
       "model_id": "9dddd56191ac4c2a9ac7b4a72ab3239a",
       "version_major": 2,
       "version_minor": 0
      },
      "text/plain": [
       "  0%|          | 0/51 [00:00<?, ?it/s]"
      ]
     },
     "metadata": {},
     "output_type": "display_data"
    },
    {
     "name": "stdout",
     "output_type": "stream",
     "text": [
      "Epoch:18    Loss:0.8073599326844308    NumUpdates:51\n"
     ]
    },
    {
     "data": {
      "application/vnd.jupyter.widget-view+json": {
       "model_id": "dda0e3bb3e3149769f4c47f9862f2603",
       "version_major": 2,
       "version_minor": 0
      },
      "text/plain": [
       "  0%|          | 0/51 [00:00<?, ?it/s]"
      ]
     },
     "metadata": {},
     "output_type": "display_data"
    },
    {
     "name": "stdout",
     "output_type": "stream",
     "text": [
      "Epoch:19    Loss:0.7793215034054775    NumUpdates:51\n"
     ]
    },
    {
     "data": {
      "application/vnd.jupyter.widget-view+json": {
       "model_id": "2d2e9f8f5ded4f2da23062951e18be12",
       "version_major": 2,
       "version_minor": 0
      },
      "text/plain": [
       "  0%|          | 0/51 [00:00<?, ?it/s]"
      ]
     },
     "metadata": {},
     "output_type": "display_data"
    },
    {
     "name": "stdout",
     "output_type": "stream",
     "text": [
      "Epoch:20    Loss:0.7438037091610479    NumUpdates:51\n"
     ]
    },
    {
     "data": {
      "application/vnd.jupyter.widget-view+json": {
       "model_id": "ba943e5ba47d4d71b9f85591d49b78c1",
       "version_major": 2,
       "version_minor": 0
      },
      "text/plain": [
       "  0%|          | 0/51 [00:00<?, ?it/s]"
      ]
     },
     "metadata": {},
     "output_type": "display_data"
    },
    {
     "name": "stdout",
     "output_type": "stream",
     "text": [
      "Epoch:21    Loss:0.7149350958711961    NumUpdates:51\n"
     ]
    },
    {
     "data": {
      "application/vnd.jupyter.widget-view+json": {
       "model_id": "4b48714dd71a4f879f0b8078c16f49bf",
       "version_major": 2,
       "version_minor": 0
      },
      "text/plain": [
       "  0%|          | 0/51 [00:00<?, ?it/s]"
      ]
     },
     "metadata": {},
     "output_type": "display_data"
    },
    {
     "name": "stdout",
     "output_type": "stream",
     "text": [
      "Epoch:22    Loss:0.8010060506708482    NumUpdates:51\n"
     ]
    },
    {
     "data": {
      "application/vnd.jupyter.widget-view+json": {
       "model_id": "ad0932bc4ad54015a53c9c308f2d61f9",
       "version_major": 2,
       "version_minor": 0
      },
      "text/plain": [
       "  0%|          | 0/51 [00:00<?, ?it/s]"
      ]
     },
     "metadata": {},
     "output_type": "display_data"
    },
    {
     "name": "stdout",
     "output_type": "stream",
     "text": [
      "Epoch:23    Loss:0.8981167954557082    NumUpdates:51\n"
     ]
    },
    {
     "data": {
      "application/vnd.jupyter.widget-view+json": {
       "model_id": "66cfd7f9f6834da2bb325032218fa27f",
       "version_major": 2,
       "version_minor": 0
      },
      "text/plain": [
       "  0%|          | 0/51 [00:00<?, ?it/s]"
      ]
     },
     "metadata": {},
     "output_type": "display_data"
    },
    {
     "name": "stdout",
     "output_type": "stream",
     "text": [
      "Epoch:24    Loss:0.7393340398283565    NumUpdates:51\n"
     ]
    },
    {
     "data": {
      "application/vnd.jupyter.widget-view+json": {
       "model_id": "f28f5d5a9a8240d8bfd37071929d3c2d",
       "version_major": 2,
       "version_minor": 0
      },
      "text/plain": [
       "  0%|          | 0/51 [00:00<?, ?it/s]"
      ]
     },
     "metadata": {},
     "output_type": "display_data"
    },
    {
     "name": "stdout",
     "output_type": "stream",
     "text": [
      "Epoch:25    Loss:0.6803627563457862    NumUpdates:51\n"
     ]
    },
    {
     "data": {
      "application/vnd.jupyter.widget-view+json": {
       "model_id": "0a07238b327e438693df0b0d09e21b77",
       "version_major": 2,
       "version_minor": 0
      },
      "text/plain": [
       "  0%|          | 0/51 [00:00<?, ?it/s]"
      ]
     },
     "metadata": {},
     "output_type": "display_data"
    },
    {
     "name": "stdout",
     "output_type": "stream",
     "text": [
      "Epoch:26    Loss:0.688571527892468    NumUpdates:51\n"
     ]
    },
    {
     "data": {
      "application/vnd.jupyter.widget-view+json": {
       "model_id": "52beaa35db544901bb8e89c07c3bd294",
       "version_major": 2,
       "version_minor": 0
      },
      "text/plain": [
       "  0%|          | 0/51 [00:00<?, ?it/s]"
      ]
     },
     "metadata": {},
     "output_type": "display_data"
    },
    {
     "name": "stdout",
     "output_type": "stream",
     "text": [
      "Epoch:27    Loss:0.7058736845558765    NumUpdates:51\n"
     ]
    },
    {
     "data": {
      "application/vnd.jupyter.widget-view+json": {
       "model_id": "32e49b50a8b146ba8de417cb8cd050d5",
       "version_major": 2,
       "version_minor": 0
      },
      "text/plain": [
       "  0%|          | 0/51 [00:00<?, ?it/s]"
      ]
     },
     "metadata": {},
     "output_type": "display_data"
    },
    {
     "name": "stdout",
     "output_type": "stream",
     "text": [
      "Epoch:28    Loss:0.7592934054486892    NumUpdates:51\n"
     ]
    },
    {
     "data": {
      "application/vnd.jupyter.widget-view+json": {
       "model_id": "e398906c29bc40aca44855a4f27cf4ae",
       "version_major": 2,
       "version_minor": 0
      },
      "text/plain": [
       "  0%|          | 0/51 [00:00<?, ?it/s]"
      ]
     },
     "metadata": {},
     "output_type": "display_data"
    },
    {
     "name": "stdout",
     "output_type": "stream",
     "text": [
      "Epoch:29    Loss:0.7635840551525939    NumUpdates:51\n"
     ]
    },
    {
     "data": {
      "application/vnd.jupyter.widget-view+json": {
       "model_id": "3efba1199ef14dd0bdff447e4d7c2838",
       "version_major": 2,
       "version_minor": 0
      },
      "text/plain": [
       "  0%|          | 0/51 [00:00<?, ?it/s]"
      ]
     },
     "metadata": {},
     "output_type": "display_data"
    },
    {
     "name": "stdout",
     "output_type": "stream",
     "text": [
      "Epoch:30    Loss:0.6802854409404829    NumUpdates:51\n"
     ]
    },
    {
     "data": {
      "application/vnd.jupyter.widget-view+json": {
       "model_id": "e1cd07ffc5894787999282d394afe632",
       "version_major": 2,
       "version_minor": 0
      },
      "text/plain": [
       "  0%|          | 0/51 [00:00<?, ?it/s]"
      ]
     },
     "metadata": {},
     "output_type": "display_data"
    },
    {
     "name": "stdout",
     "output_type": "stream",
     "text": [
      "Epoch:31    Loss:0.6361202679428399    NumUpdates:51\n"
     ]
    },
    {
     "data": {
      "application/vnd.jupyter.widget-view+json": {
       "model_id": "eca16c378fe8466e970e21c085d6c797",
       "version_major": 2,
       "version_minor": 0
      },
      "text/plain": [
       "  0%|          | 0/51 [00:00<?, ?it/s]"
      ]
     },
     "metadata": {},
     "output_type": "display_data"
    },
    {
     "name": "stdout",
     "output_type": "stream",
     "text": [
      "Epoch:32    Loss:0.6320348604052675    NumUpdates:51\n"
     ]
    },
    {
     "data": {
      "application/vnd.jupyter.widget-view+json": {
       "model_id": "b7664e04de1d48209714ac33a2e87099",
       "version_major": 2,
       "version_minor": 0
      },
      "text/plain": [
       "  0%|          | 0/51 [00:00<?, ?it/s]"
      ]
     },
     "metadata": {},
     "output_type": "display_data"
    },
    {
     "name": "stdout",
     "output_type": "stream",
     "text": [
      "Epoch:33    Loss:0.686673576925315    NumUpdates:51\n"
     ]
    },
    {
     "data": {
      "application/vnd.jupyter.widget-view+json": {
       "model_id": "ea3945d72fc24ea3a7473c1eaf606e42",
       "version_major": 2,
       "version_minor": 0
      },
      "text/plain": [
       "  0%|          | 0/51 [00:00<?, ?it/s]"
      ]
     },
     "metadata": {},
     "output_type": "display_data"
    },
    {
     "name": "stdout",
     "output_type": "stream",
     "text": [
      "Epoch:34    Loss:0.6585158775834477    NumUpdates:51\n"
     ]
    },
    {
     "data": {
      "application/vnd.jupyter.widget-view+json": {
       "model_id": "f970feb76fa8401787b528ac71b30f40",
       "version_major": 2,
       "version_minor": 0
      },
      "text/plain": [
       "  0%|          | 0/51 [00:00<?, ?it/s]"
      ]
     },
     "metadata": {},
     "output_type": "display_data"
    },
    {
     "name": "stdout",
     "output_type": "stream",
     "text": [
      "Epoch:35    Loss:0.6324886936767429    NumUpdates:51\n"
     ]
    },
    {
     "data": {
      "application/vnd.jupyter.widget-view+json": {
       "model_id": "c124cc0e168240c69e39204b1b4ffaf0",
       "version_major": 2,
       "version_minor": 0
      },
      "text/plain": [
       "  0%|          | 0/51 [00:00<?, ?it/s]"
      ]
     },
     "metadata": {},
     "output_type": "display_data"
    },
    {
     "name": "stdout",
     "output_type": "stream",
     "text": [
      "Epoch:36    Loss:0.6294126756051007    NumUpdates:51\n"
     ]
    },
    {
     "data": {
      "application/vnd.jupyter.widget-view+json": {
       "model_id": "477d9d16384b49f69f10dfe72f8df43f",
       "version_major": 2,
       "version_minor": 0
      },
      "text/plain": [
       "  0%|          | 0/51 [00:00<?, ?it/s]"
      ]
     },
     "metadata": {},
     "output_type": "display_data"
    },
    {
     "name": "stdout",
     "output_type": "stream",
     "text": [
      "Epoch:37    Loss:0.7789441113378487    NumUpdates:51\n"
     ]
    },
    {
     "data": {
      "application/vnd.jupyter.widget-view+json": {
       "model_id": "33a5325e087c4671b48c5d6d6bf2cbd1",
       "version_major": 2,
       "version_minor": 0
      },
      "text/plain": [
       "  0%|          | 0/51 [00:00<?, ?it/s]"
      ]
     },
     "metadata": {},
     "output_type": "display_data"
    },
    {
     "name": "stdout",
     "output_type": "stream",
     "text": [
      "Epoch:38    Loss:0.7852984842132119    NumUpdates:51\n"
     ]
    },
    {
     "data": {
      "application/vnd.jupyter.widget-view+json": {
       "model_id": "45e93f34654046ca980e76f96abe210e",
       "version_major": 2,
       "version_minor": 0
      },
      "text/plain": [
       "  0%|          | 0/51 [00:00<?, ?it/s]"
      ]
     },
     "metadata": {},
     "output_type": "display_data"
    },
    {
     "name": "stdout",
     "output_type": "stream",
     "text": [
      "Epoch:39    Loss:0.659352067638846    NumUpdates:51\n"
     ]
    },
    {
     "data": {
      "application/vnd.jupyter.widget-view+json": {
       "model_id": "eb99b0b643e6414d936ee3ac4ed32540",
       "version_major": 2,
       "version_minor": 0
      },
      "text/plain": [
       "  0%|          | 0/51 [00:00<?, ?it/s]"
      ]
     },
     "metadata": {},
     "output_type": "display_data"
    },
    {
     "name": "stdout",
     "output_type": "stream",
     "text": [
      "Epoch:40    Loss:0.6329143631692026    NumUpdates:51\n"
     ]
    },
    {
     "data": {
      "application/vnd.jupyter.widget-view+json": {
       "model_id": "7bc67b6d892d42c484e6018460f3d2d3",
       "version_major": 2,
       "version_minor": 0
      },
      "text/plain": [
       "  0%|          | 0/51 [00:00<?, ?it/s]"
      ]
     },
     "metadata": {},
     "output_type": "display_data"
    },
    {
     "name": "stdout",
     "output_type": "stream",
     "text": [
      "Epoch:41    Loss:0.6174480844946468    NumUpdates:51\n"
     ]
    },
    {
     "data": {
      "application/vnd.jupyter.widget-view+json": {
       "model_id": "ca751e0fa40146c194d62912f779385e",
       "version_major": 2,
       "version_minor": 0
      },
      "text/plain": [
       "  0%|          | 0/51 [00:00<?, ?it/s]"
      ]
     },
     "metadata": {},
     "output_type": "display_data"
    },
    {
     "name": "stdout",
     "output_type": "stream",
     "text": [
      "Epoch:42    Loss:0.6337811105391559    NumUpdates:51\n"
     ]
    },
    {
     "data": {
      "application/vnd.jupyter.widget-view+json": {
       "model_id": "37834453fd79479bba7436df0cf3d7ca",
       "version_major": 2,
       "version_minor": 0
      },
      "text/plain": [
       "  0%|          | 0/51 [00:00<?, ?it/s]"
      ]
     },
     "metadata": {},
     "output_type": "display_data"
    },
    {
     "name": "stdout",
     "output_type": "stream",
     "text": [
      "Epoch:43    Loss:0.6122962949322719    NumUpdates:51\n"
     ]
    },
    {
     "data": {
      "application/vnd.jupyter.widget-view+json": {
       "model_id": "61c6bc6fa6454ef182581f6d6da5ca30",
       "version_major": 2,
       "version_minor": 0
      },
      "text/plain": [
       "  0%|          | 0/51 [00:00<?, ?it/s]"
      ]
     },
     "metadata": {},
     "output_type": "display_data"
    },
    {
     "name": "stdout",
     "output_type": "stream",
     "text": [
      "Epoch:44    Loss:0.6183691539016425    NumUpdates:51\n"
     ]
    },
    {
     "data": {
      "application/vnd.jupyter.widget-view+json": {
       "model_id": "169a62d0bb6c49769982c048296af814",
       "version_major": 2,
       "version_minor": 0
      },
      "text/plain": [
       "  0%|          | 0/51 [00:00<?, ?it/s]"
      ]
     },
     "metadata": {},
     "output_type": "display_data"
    },
    {
     "name": "stdout",
     "output_type": "stream",
     "text": [
      "Epoch:45    Loss:0.8048449123606962    NumUpdates:51\n"
     ]
    },
    {
     "data": {
      "application/vnd.jupyter.widget-view+json": {
       "model_id": "12ceb726bec040db8b948234a3f655d4",
       "version_major": 2,
       "version_minor": 0
      },
      "text/plain": [
       "  0%|          | 0/51 [00:00<?, ?it/s]"
      ]
     },
     "metadata": {},
     "output_type": "display_data"
    },
    {
     "name": "stdout",
     "output_type": "stream",
     "text": [
      "Epoch:46    Loss:0.6917042673802843    NumUpdates:51\n"
     ]
    },
    {
     "data": {
      "application/vnd.jupyter.widget-view+json": {
       "model_id": "cfe3c6dfb2184a0e96d3c880235d3903",
       "version_major": 2,
       "version_minor": 0
      },
      "text/plain": [
       "  0%|          | 0/51 [00:00<?, ?it/s]"
      ]
     },
     "metadata": {},
     "output_type": "display_data"
    },
    {
     "name": "stdout",
     "output_type": "stream",
     "text": [
      "Epoch:47    Loss:0.6157428844302308    NumUpdates:51\n"
     ]
    },
    {
     "data": {
      "application/vnd.jupyter.widget-view+json": {
       "model_id": "8f03177e24434aa6b5dd0ece02ec39b3",
       "version_major": 2,
       "version_minor": 0
      },
      "text/plain": [
       "  0%|          | 0/51 [00:00<?, ?it/s]"
      ]
     },
     "metadata": {},
     "output_type": "display_data"
    },
    {
     "name": "stdout",
     "output_type": "stream",
     "text": [
      "Epoch:48    Loss:0.5916493009118473    NumUpdates:51\n"
     ]
    },
    {
     "data": {
      "application/vnd.jupyter.widget-view+json": {
       "model_id": "0057a4d19f0c42e6852001f0b1db7ed3",
       "version_major": 2,
       "version_minor": 0
      },
      "text/plain": [
       "  0%|          | 0/51 [00:00<?, ?it/s]"
      ]
     },
     "metadata": {},
     "output_type": "display_data"
    },
    {
     "name": "stdout",
     "output_type": "stream",
     "text": [
      "Epoch:49    Loss:0.6036005697998346    NumUpdates:51\n"
     ]
    },
    {
     "data": {
      "application/vnd.jupyter.widget-view+json": {
       "model_id": "d0b5b844408646b4b2c0d56695795990",
       "version_major": 2,
       "version_minor": 0
      },
      "text/plain": [
       "  0%|          | 0/51 [00:00<?, ?it/s]"
      ]
     },
     "metadata": {},
     "output_type": "display_data"
    },
    {
     "name": "stdout",
     "output_type": "stream",
     "text": [
      "Epoch:50    Loss:0.6002239164184121    NumUpdates:51\n"
     ]
    }
   ],
   "source": [
    "epoch_losses = []\n",
    "iteration_losses = []\n",
    "num_updates_epochs = []\n",
    "for epoch in tqdm(range(1, num_epochs+1)):\n",
    "    epoch_loss_list = [] \n",
    "    num_updates_epoch = 0\n",
    "    for image_batch, text_batch in tqdm(train_loader, leave=False):\n",
    "        optimizer.zero_grad()\n",
    "        text_batch_logits = crnn(image_batch.to(device))\n",
    "        loss = compute_loss(text_batch, text_batch_logits)\n",
    "        iteration_loss = loss.item()\n",
    "\n",
    "        if np.isnan(iteration_loss) or np.isinf(iteration_loss):\n",
    "            continue\n",
    "          \n",
    "        num_updates_epoch += 1\n",
    "        iteration_losses.append(iteration_loss)\n",
    "        epoch_loss_list.append(iteration_loss)\n",
    "        loss.backward()\n",
    "        nn.utils.clip_grad_norm_(crnn.parameters(), clip_norm)\n",
    "        optimizer.step()\n",
    "\n",
    "    epoch_loss = np.mean(epoch_loss_list)\n",
    "    print(\"Epoch:{}    Loss:{}    NumUpdates:{}\".format(epoch, epoch_loss, num_updates_epoch))\n",
    "    epoch_losses.append(epoch_loss)\n",
    "    num_updates_epochs.append(num_updates_epoch)\n",
    "    lr_scheduler.step(epoch_loss)"
   ]
  },
  {
   "cell_type": "code",
   "execution_count": 53,
   "metadata": {},
   "outputs": [
    {
     "data": {
      "image/png": "[encoded data removed]",
      "text/plain": [
       "<Figure size 1000x500 with 2 Axes>"
      ]
     },
     "metadata": {},
     "output_type": "display_data"
    }
   ],
   "source": [
    "fig, (ax1, ax2) = plt.subplots(1, 2, figsize=(10, 5))\n",
    "\n",
    "ax1.plot(epoch_losses)\n",
    "ax1.set_xlabel(\"Epochs\")\n",
    "ax1.set_ylabel(\"Loss\")\n",
    "\n",
    "ax2.plot(iteration_losses)\n",
    "ax2.set_xlabel(\"Iterations\")\n",
    "ax2.set_ylabel(\"Loss\")\n",
    "\n",
    "plt.show()"
   ]
  },
  {
   "cell_type": "code",
   "execution_count": 56,
   "metadata": {},
   "outputs": [
    {
     "name": "stdout",
     "output_type": "stream",
     "text": [
      "torch.Size([16, 3, 50, 200])\n"
     ]
    }
   ],
   "source": [
    "ori_path = df_results[\"image_path\"][idx]\n",
    "ori_image = cv2.imread(ori_path)\n",
    "ori_image = cv2.cvtColor(ori_image, cv2.COLOR_BGR2RGB)\n",
    "\n",
    "text_list = []\n",
    "bboxs = df_results[\"pred_bbox\"][idx]\n",
    "\n",
    "for bbox in bboxs:\n",
    "    # Crop Image with Bounding Box\n",
    "    crop_image = ori_image[bbox[1]:bbox[3], bbox[0]:bbox[2]]\n",
    "\n",
    "    # Convert crop_image to torch tensor\n",
    "    transform = transforms.Compose([\n",
    "        transforms.ToPILImage(),\n",
    "        transforms.ToTensor(),\n",
    "        transforms.Normalize(mean=(0.485, 0.456, 0.406), std=(0.229, 0.224, 0.225))\n",
    "    ])\n",
    "    image_tensor = transform(crop_image).unsqueeze(0)\n",
    "\n",
    " # Replace this with your actual tensor\n",
    "\n",
    "    # Target size\n",
    "    target_size = (50, 200)\n",
    "\n",
    "    # Interpolate the tensor to the target size\n",
    "    resized_tensor = F.interpolate(image_tensor, size=target_size, mode='bilinear', align_corners=False)\n",
    "\n",
    "    # Change batch size from 1 to 16\n",
    "    resized_tensor = resized_tensor.expand(16, -1, -1, -1)\n",
    "\n",
    "print(resized_tensor.size())    "
   ]
  },
  {
   "cell_type": "code",
   "execution_count": 64,
   "metadata": {},
   "outputs": [],
   "source": [
    "def get_text_crnn(idx, crnn):\n",
    "    # Assuming crnn_model is an instance of your CRNN class\n",
    "    crnn.eval()\n",
    "    \n",
    "    ori_path = df_results[\"image_path\"][idx]\n",
    "    ori_image = cv2.imread(ori_path)\n",
    "    ori_image = cv2.cvtColor(ori_image, cv2.COLOR_BGR2RGB)\n",
    "\n",
    "    text_list = []\n",
    "    bboxs = df_results[\"pred_bbox\"][idx]\n",
    "\n",
    "    for bbox in bboxs:\n",
    "        # Crop Image with Bounding Box\n",
    "        crop_image = ori_image[bbox[1]:bbox[3], bbox[0]:bbox[2]]\n",
    "\n",
    "        # Convert crop_image to torch tensor\n",
    "        transform = transforms.Compose([\n",
    "            transforms.ToPILImage(),\n",
    "            transforms.ToTensor(),\n",
    "            transforms.Normalize(mean=(0.485, 0.456, 0.406), std=(0.229, 0.224, 0.225))\n",
    "        ])\n",
    "        image_tensor = transform(crop_image).unsqueeze(0)\n",
    "\n",
    "        target_size = (50, 200)\n",
    "\n",
    "        # Interpolate the tensor to the target size\n",
    "        resized_tensor = F.interpolate(image_tensor, size=target_size, mode='bilinear', align_corners=False)\n",
    "\n",
    "        # Change batch size from 1 to 16\n",
    "        resized_tensor = resized_tensor.expand(16, -1, -1, -1)\n",
    "\n",
    "        # Send the image to the specified device\n",
    "        resized_tensor = resized_tensor.to(device)\n",
    "\n",
    "        # Perform OCR using CRNN model\n",
    "        with torch.no_grad():\n",
    "            preds = crnn(resized_tensor)\n",
    "\n",
    "        # Convert the predictions to text\n",
    "        _, preds_index = preds.max(2)\n",
    "        preds_str = ''.join([chr(preds_index[0][i] + ord('0')) for i in range(preds_index.size(1))])\n",
    "\n",
    "        # Clean Text\n",
    "        del_punc_list = [\" \", \"·\", \":\", \"-\"]\n",
    "        clean_text = re.sub(r\"[ ·:-]\", \"\", preds_str)\n",
    "        clean_text = clean_text.replace(\"O\", \"0\")\n",
    "        clean_text = clean_text.replace(\"I\", \"1\")\n",
    "        clean_text = clean_text.upper()\n",
    "        text_list.append(clean_text)\n",
    "\n",
    "    return text_list\n",
    "\n",
    "# Use the modified function\n",
    "# idx = 1  # Replace with the desired index\n",
    "# text_result = get_text_crnn(idx, crnn_model, device=device)\n",
    "# print(\"Recognized Text:\", text_result)"
   ]
  },
  {
   "cell_type": "code",
   "execution_count": 65,
   "metadata": {},
   "outputs": [
    {
     "data": {
      "application/vnd.jupyter.widget-view+json": {
       "model_id": "eb9c0898289740a5bbb1486be2f77817",
       "version_major": 2,
       "version_minor": 0
      },
      "text/plain": [
       "  0%|          | 0/250 [00:00<?, ?it/s]"
      ]
     },
     "metadata": {},
     "output_type": "display_data"
    },
    {
     "data": {
      "text/html": [
       "<div>\n",
       "<style scoped>\n",
       "    .dataframe tbody tr th:only-of-type {\n",
       "        vertical-align: middle;\n",
       "    }\n",
       "\n",
       "    .dataframe tbody tr th {\n",
       "        vertical-align: top;\n",
       "    }\n",
       "\n",
       "    .dataframe thead th {\n",
       "        text-align: right;\n",
       "    }\n",
       "</style>\n",
       "<table border=\"1\" class=\"dataframe\">\n",
       "  <thead>\n",
       "    <tr style=\"text-align: right;\">\n",
       "      <th></th>\n",
       "      <th>image_path</th>\n",
       "      <th>sub</th>\n",
       "      <th>decoded_plate_number</th>\n",
       "      <th>x1_bbox</th>\n",
       "      <th>y1_bbox</th>\n",
       "      <th>x2_bbox</th>\n",
       "      <th>y2_bbox</th>\n",
       "      <th>pred_bbox</th>\n",
       "      <th>confidence</th>\n",
       "      <th>pred_plate_number</th>\n",
       "    </tr>\n",
       "  </thead>\n",
       "  <tbody>\n",
       "    <tr>\n",
       "      <th>0</th>\n",
       "      <td>C:/Users/User/DeepLearning/Deep_Learning/final...</td>\n",
       "      <td>ccpd_weather</td>\n",
       "      <td>鄂AT2W80</td>\n",
       "      <td>176</td>\n",
       "      <td>497</td>\n",
       "      <td>455</td>\n",
       "      <td>595</td>\n",
       "      <td>[[177, 493, 454, 597]]</td>\n",
       "      <td>[0.94]</td>\n",
       "      <td>1111111111111111</td>\n",
       "    </tr>\n",
       "    <tr>\n",
       "      <th>1</th>\n",
       "      <td>C:/Users/User/DeepLearning/Deep_Learning/final...</td>\n",
       "      <td>ccpd_weather</td>\n",
       "      <td>皖AB967N</td>\n",
       "      <td>213</td>\n",
       "      <td>444</td>\n",
       "      <td>469</td>\n",
       "      <td>551</td>\n",
       "      <td>[[212, 443, 469, 551]]</td>\n",
       "      <td>[0.94]</td>\n",
       "      <td>1111111111111111</td>\n",
       "    </tr>\n",
       "    <tr>\n",
       "      <th>2</th>\n",
       "      <td>C:/Users/User/DeepLearning/Deep_Learning/final...</td>\n",
       "      <td>ccpd_weather</td>\n",
       "      <td>皖A25T29</td>\n",
       "      <td>257</td>\n",
       "      <td>384</td>\n",
       "      <td>525</td>\n",
       "      <td>486</td>\n",
       "      <td>[[255, 385, 523, 487]]</td>\n",
       "      <td>[0.93]</td>\n",
       "      <td>1111111111111111</td>\n",
       "    </tr>\n",
       "    <tr>\n",
       "      <th>3</th>\n",
       "      <td>C:/Users/User/DeepLearning/Deep_Learning/final...</td>\n",
       "      <td>ccpd_weather</td>\n",
       "      <td>皖AZW108</td>\n",
       "      <td>201</td>\n",
       "      <td>476</td>\n",
       "      <td>493</td>\n",
       "      <td>570</td>\n",
       "      <td>[[198, 476, 490, 570]]</td>\n",
       "      <td>[0.93]</td>\n",
       "      <td>1111111111111111</td>\n",
       "    </tr>\n",
       "    <tr>\n",
       "      <th>4</th>\n",
       "      <td>C:/Users/User/DeepLearning/Deep_Learning/final...</td>\n",
       "      <td>ccpd_weather</td>\n",
       "      <td>皖AZ2744</td>\n",
       "      <td>252</td>\n",
       "      <td>586</td>\n",
       "      <td>532</td>\n",
       "      <td>684</td>\n",
       "      <td>[[255, 587, 529, 680]]</td>\n",
       "      <td>[0.95]</td>\n",
       "      <td>1111111111111111</td>\n",
       "    </tr>\n",
       "    <tr>\n",
       "      <th>...</th>\n",
       "      <td>...</td>\n",
       "      <td>...</td>\n",
       "      <td>...</td>\n",
       "      <td>...</td>\n",
       "      <td>...</td>\n",
       "      <td>...</td>\n",
       "      <td>...</td>\n",
       "      <td>...</td>\n",
       "      <td>...</td>\n",
       "      <td>...</td>\n",
       "    </tr>\n",
       "    <tr>\n",
       "      <th>245</th>\n",
       "      <td>C:/Users/User/DeepLearning/Deep_Learning/final...</td>\n",
       "      <td>ccpd_weather</td>\n",
       "      <td>皖AR8T97</td>\n",
       "      <td>96</td>\n",
       "      <td>584</td>\n",
       "      <td>372</td>\n",
       "      <td>688</td>\n",
       "      <td>[[95, 584, 372, 687]]</td>\n",
       "      <td>[0.93]</td>\n",
       "      <td>1111111111111111</td>\n",
       "    </tr>\n",
       "    <tr>\n",
       "      <th>246</th>\n",
       "      <td>C:/Users/User/DeepLearning/Deep_Learning/final...</td>\n",
       "      <td>ccpd_weather</td>\n",
       "      <td>皖AL6M60</td>\n",
       "      <td>265</td>\n",
       "      <td>514</td>\n",
       "      <td>533</td>\n",
       "      <td>621</td>\n",
       "      <td>[[268, 515, 530, 620]]</td>\n",
       "      <td>[0.95]</td>\n",
       "      <td>1111111111111111</td>\n",
       "    </tr>\n",
       "    <tr>\n",
       "      <th>247</th>\n",
       "      <td>C:/Users/User/DeepLearning/Deep_Learning/final...</td>\n",
       "      <td>ccpd_weather</td>\n",
       "      <td>皖A576X9</td>\n",
       "      <td>282</td>\n",
       "      <td>536</td>\n",
       "      <td>566</td>\n",
       "      <td>637</td>\n",
       "      <td>[[277, 534, 570, 638]]</td>\n",
       "      <td>[0.92]</td>\n",
       "      <td>1111111111111111</td>\n",
       "    </tr>\n",
       "    <tr>\n",
       "      <th>248</th>\n",
       "      <td>C:/Users/User/DeepLearning/Deep_Learning/final...</td>\n",
       "      <td>ccpd_weather</td>\n",
       "      <td>皖ALF155</td>\n",
       "      <td>64</td>\n",
       "      <td>606</td>\n",
       "      <td>309</td>\n",
       "      <td>723</td>\n",
       "      <td>[[62, 606, 307, 721]]</td>\n",
       "      <td>[0.94]</td>\n",
       "      <td>1111111111111111</td>\n",
       "    </tr>\n",
       "    <tr>\n",
       "      <th>249</th>\n",
       "      <td>C:/Users/User/DeepLearning/Deep_Learning/final...</td>\n",
       "      <td>ccpd_weather</td>\n",
       "      <td>皖A3M336</td>\n",
       "      <td>124</td>\n",
       "      <td>496</td>\n",
       "      <td>378</td>\n",
       "      <td>609</td>\n",
       "      <td>[[123, 495, 377, 608]]</td>\n",
       "      <td>[0.94]</td>\n",
       "      <td>1111111111111111</td>\n",
       "    </tr>\n",
       "  </tbody>\n",
       "</table>\n",
       "<p>250 rows × 10 columns</p>\n",
       "</div>"
      ],
      "text/plain": [
       "                                            image_path           sub  \\\n",
       "0    C:/Users/User/DeepLearning/Deep_Learning/final...  ccpd_weather   \n",
       "1    C:/Users/User/DeepLearning/Deep_Learning/final...  ccpd_weather   \n",
       "2    C:/Users/User/DeepLearning/Deep_Learning/final...  ccpd_weather   \n",
       "3    C:/Users/User/DeepLearning/Deep_Learning/final...  ccpd_weather   \n",
       "4    C:/Users/User/DeepLearning/Deep_Learning/final...  ccpd_weather   \n",
       "..                                                 ...           ...   \n",
       "245  C:/Users/User/DeepLearning/Deep_Learning/final...  ccpd_weather   \n",
       "246  C:/Users/User/DeepLearning/Deep_Learning/final...  ccpd_weather   \n",
       "247  C:/Users/User/DeepLearning/Deep_Learning/final...  ccpd_weather   \n",
       "248  C:/Users/User/DeepLearning/Deep_Learning/final...  ccpd_weather   \n",
       "249  C:/Users/User/DeepLearning/Deep_Learning/final...  ccpd_weather   \n",
       "\n",
       "    decoded_plate_number  x1_bbox  y1_bbox  x2_bbox  y2_bbox  \\\n",
       "0                鄂AT2W80      176      497      455      595   \n",
       "1                皖AB967N      213      444      469      551   \n",
       "2                皖A25T29      257      384      525      486   \n",
       "3                皖AZW108      201      476      493      570   \n",
       "4                皖AZ2744      252      586      532      684   \n",
       "..                   ...      ...      ...      ...      ...   \n",
       "245              皖AR8T97       96      584      372      688   \n",
       "246              皖AL6M60      265      514      533      621   \n",
       "247              皖A576X9      282      536      566      637   \n",
       "248              皖ALF155       64      606      309      723   \n",
       "249              皖A3M336      124      496      378      609   \n",
       "\n",
       "                  pred_bbox confidence pred_plate_number  \n",
       "0    [[177, 493, 454, 597]]     [0.94]  1111111111111111  \n",
       "1    [[212, 443, 469, 551]]     [0.94]  1111111111111111  \n",
       "2    [[255, 385, 523, 487]]     [0.93]  1111111111111111  \n",
       "3    [[198, 476, 490, 570]]     [0.93]  1111111111111111  \n",
       "4    [[255, 587, 529, 680]]     [0.95]  1111111111111111  \n",
       "..                      ...        ...               ...  \n",
       "245   [[95, 584, 372, 687]]     [0.93]  1111111111111111  \n",
       "246  [[268, 515, 530, 620]]     [0.95]  1111111111111111  \n",
       "247  [[277, 534, 570, 638]]     [0.92]  1111111111111111  \n",
       "248   [[62, 606, 307, 721]]     [0.94]  1111111111111111  \n",
       "249  [[123, 495, 377, 608]]     [0.94]  1111111111111111  \n",
       "\n",
       "[250 rows x 10 columns]"
      ]
     },
     "execution_count": 65,
     "metadata": {},
     "output_type": "execute_result"
    }
   ],
   "source": [
    "idxs = list(np.arange(0, 250))\n",
    "text_results = tqdm([get_text_crnn(idx,crnn) for idx in idxs])\n",
    "text_results = [text[0] if len(text)>0 else \"\" for text in text_results]\n",
    "df_results[\"pred_plate_number\"] = text_results\n",
    "df_results"
   ]
  }
 ],
 "metadata": {
  "kernelspec": {
   "display_name": "DeepLearning",
   "language": "python",
   "name": "python3"
  },
  "language_info": {
   "codemirror_mode": {
    "name": "ipython",
    "version": 3
   },
   "file_extension": ".py",
   "mimetype": "text/x-python",
   "name": "python",
   "nbconvert_exporter": "python",
   "pygments_lexer": "ipython3",
   "version": "3.11.5"
  }
 },
 "nbformat": 4,
 "nbformat_minor": 2
}
