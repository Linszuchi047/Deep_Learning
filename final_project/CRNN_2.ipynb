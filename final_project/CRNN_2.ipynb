{
 "cells": [
  {
   "cell_type": "code",
   "execution_count": 1,
   "metadata": {},
   "outputs": [],
   "source": [
    "# Main\n",
    "import os\n",
    "import gc\n",
    "import shutil\n",
    "import time\n",
    "import random\n",
    "import cv2\n",
    "import numpy as np \n",
    "import pandas as pd\n",
    "import glob\n",
    "from tqdm import tqdm\n",
    "tqdm.pandas()\n",
    "import re\n",
    "\n",
    "# Data Visualization\n",
    "import matplotlib\n",
    "import matplotlib.pyplot as plt\n",
    "import matplotlib.image as mpimg\n",
    "import plotly\n",
    "import plotly.graph_objects as go\n",
    "import plotly.express as px\n",
    "from plotly.subplots import make_subplots\n",
    "from IPython.display import Image, display\n",
    "\n",
    "import torch\n",
    "import torch.nn as nn\n",
    "import torch.nn.functional as F\n",
    "import torch.optim as optim\n",
    "from torch.utils.data import Dataset, DataLoader\n",
    "from torchvision import transforms\n",
    "from torchvision.models import resnet18\n",
    "\n",
    "import string\n",
    "from tqdm.notebook import tqdm\n",
    "import cv2\n",
    "from PIL import Image\n",
    "from sklearn.model_selection import train_test_split\n",
    "from sklearn.metrics import accuracy_score\n",
    "import multiprocessing as mp\n"
   ]
  },
  {
   "cell_type": "code",
   "execution_count": 2,
   "metadata": {},
   "outputs": [],
   "source": [
    "provinces = [\"皖\", \"沪\", \"津\", \"渝\", \"冀\", \"晋\", \"蒙\", \"辽\", \"吉\", \"黑\", \"苏\", \"浙\", \"京\", \"闽\", \"赣\", \"鲁\", \"豫\", \"鄂\", \"湘\", \"粤\", \"桂\", \"琼\", \"川\", \"贵\", \"云\", \"藏\", \"陕\", \"甘\", \"青\", \"宁\", \"新\", \"警\", \"学\", \"O\"]\n",
    "alphabets = ['A', 'B', 'C', 'D', 'E', 'F', 'G', 'H', 'J', 'K', 'L', 'M', 'N', 'P', 'Q', 'R', 'S', 'T', 'U', 'V', 'W',\n",
    "             'X', 'Y', 'Z', 'O']\n",
    "ads = ['A', 'B', 'C', 'D', 'E', 'F', 'G', 'H', 'J', 'K', 'L', 'M', 'N', 'P', 'Q', 'R', 'S', 'T', 'U', 'V', 'W', 'X',\n",
    "       'Y', 'Z', '0', '1', '2', '3', '4', '5', '6', '7', '8', '9', 'O']\n",
    "\n",
    "# list_sub = [\"ccpd_base\", \"ccpd_fn\", \"ccpd_db\", \"ccpd_rotate\", \"ccpd_weather\", \"ccpd_blur\"]\n",
    "list_sub = [\"ccpd_weather\"]\n",
    "BASE_PATH = \"C:/Users/User/DeepLearning/Deep_Learning/final_project\""
   ]
  },
  {
   "cell_type": "code",
   "execution_count": 3,
   "metadata": {},
   "outputs": [
    {
     "data": {
      "text/html": [
       "<div>\n",
       "<style scoped>\n",
       "    .dataframe tbody tr th:only-of-type {\n",
       "        vertical-align: middle;\n",
       "    }\n",
       "\n",
       "    .dataframe tbody tr th {\n",
       "        vertical-align: top;\n",
       "    }\n",
       "\n",
       "    .dataframe thead th {\n",
       "        text-align: right;\n",
       "    }\n",
       "</style>\n",
       "<table border=\"1\" class=\"dataframe\">\n",
       "  <thead>\n",
       "    <tr style=\"text-align: right;\">\n",
       "      <th></th>\n",
       "      <th>img_path</th>\n",
       "      <th>x1</th>\n",
       "      <th>y1</th>\n",
       "      <th>x2</th>\n",
       "      <th>y2</th>\n",
       "      <th>decode_plate</th>\n",
       "    </tr>\n",
       "  </thead>\n",
       "  <tbody>\n",
       "    <tr>\n",
       "      <th>0</th>\n",
       "      <td>C:/Users/User/DeepLearning/Deep_Learning/final...</td>\n",
       "      <td>294</td>\n",
       "      <td>496</td>\n",
       "      <td>374</td>\n",
       "      <td>540</td>\n",
       "      <td>皖AD130W</td>\n",
       "    </tr>\n",
       "    <tr>\n",
       "      <th>1</th>\n",
       "      <td>C:/Users/User/DeepLearning/Deep_Learning/final...</td>\n",
       "      <td>304</td>\n",
       "      <td>542</td>\n",
       "      <td>411</td>\n",
       "      <td>577</td>\n",
       "      <td>皖AUT267</td>\n",
       "    </tr>\n",
       "    <tr>\n",
       "      <th>2</th>\n",
       "      <td>C:/Users/User/DeepLearning/Deep_Learning/final...</td>\n",
       "      <td>339</td>\n",
       "      <td>547</td>\n",
       "      <td>444</td>\n",
       "      <td>583</td>\n",
       "      <td>皖MZ4882</td>\n",
       "    </tr>\n",
       "    <tr>\n",
       "      <th>3</th>\n",
       "      <td>C:/Users/User/DeepLearning/Deep_Learning/final...</td>\n",
       "      <td>177</td>\n",
       "      <td>511</td>\n",
       "      <td>268</td>\n",
       "      <td>553</td>\n",
       "      <td>皖AVD028</td>\n",
       "    </tr>\n",
       "    <tr>\n",
       "      <th>4</th>\n",
       "      <td>C:/Users/User/DeepLearning/Deep_Learning/final...</td>\n",
       "      <td>402</td>\n",
       "      <td>426</td>\n",
       "      <td>497</td>\n",
       "      <td>467</td>\n",
       "      <td>皖RL222P</td>\n",
       "    </tr>\n",
       "    <tr>\n",
       "      <th>...</th>\n",
       "      <td>...</td>\n",
       "      <td>...</td>\n",
       "      <td>...</td>\n",
       "      <td>...</td>\n",
       "      <td>...</td>\n",
       "      <td>...</td>\n",
       "    </tr>\n",
       "    <tr>\n",
       "      <th>9994</th>\n",
       "      <td>C:/Users/User/DeepLearning/Deep_Learning/final...</td>\n",
       "      <td>89</td>\n",
       "      <td>832</td>\n",
       "      <td>500</td>\n",
       "      <td>1159</td>\n",
       "      <td>皖AK927W</td>\n",
       "    </tr>\n",
       "    <tr>\n",
       "      <th>9995</th>\n",
       "      <td>C:/Users/User/DeepLearning/Deep_Learning/final...</td>\n",
       "      <td>81</td>\n",
       "      <td>357</td>\n",
       "      <td>572</td>\n",
       "      <td>632</td>\n",
       "      <td>皖A22T99</td>\n",
       "    </tr>\n",
       "    <tr>\n",
       "      <th>9996</th>\n",
       "      <td>C:/Users/User/DeepLearning/Deep_Learning/final...</td>\n",
       "      <td>245</td>\n",
       "      <td>391</td>\n",
       "      <td>703</td>\n",
       "      <td>692</td>\n",
       "      <td>皖NRX399</td>\n",
       "    </tr>\n",
       "    <tr>\n",
       "      <th>9997</th>\n",
       "      <td>C:/Users/User/DeepLearning/Deep_Learning/final...</td>\n",
       "      <td>69</td>\n",
       "      <td>394</td>\n",
       "      <td>681</td>\n",
       "      <td>620</td>\n",
       "      <td>皖EW666K</td>\n",
       "    </tr>\n",
       "    <tr>\n",
       "      <th>9998</th>\n",
       "      <td>C:/Users/User/DeepLearning/Deep_Learning/final...</td>\n",
       "      <td>31</td>\n",
       "      <td>397</td>\n",
       "      <td>673</td>\n",
       "      <td>624</td>\n",
       "      <td>皖AWP202</td>\n",
       "    </tr>\n",
       "  </tbody>\n",
       "</table>\n",
       "<p>9999 rows × 6 columns</p>\n",
       "</div>"
      ],
      "text/plain": [
       "                                               img_path   x1   y1   x2    y2  \\\n",
       "0     C:/Users/User/DeepLearning/Deep_Learning/final...  294  496  374   540   \n",
       "1     C:/Users/User/DeepLearning/Deep_Learning/final...  304  542  411   577   \n",
       "2     C:/Users/User/DeepLearning/Deep_Learning/final...  339  547  444   583   \n",
       "3     C:/Users/User/DeepLearning/Deep_Learning/final...  177  511  268   553   \n",
       "4     C:/Users/User/DeepLearning/Deep_Learning/final...  402  426  497   467   \n",
       "...                                                 ...  ...  ...  ...   ...   \n",
       "9994  C:/Users/User/DeepLearning/Deep_Learning/final...   89  832  500  1159   \n",
       "9995  C:/Users/User/DeepLearning/Deep_Learning/final...   81  357  572   632   \n",
       "9996  C:/Users/User/DeepLearning/Deep_Learning/final...  245  391  703   692   \n",
       "9997  C:/Users/User/DeepLearning/Deep_Learning/final...   69  394  681   620   \n",
       "9998  C:/Users/User/DeepLearning/Deep_Learning/final...   31  397  673   624   \n",
       "\n",
       "     decode_plate  \n",
       "0         皖AD130W  \n",
       "1         皖AUT267  \n",
       "2         皖MZ4882  \n",
       "3         皖AVD028  \n",
       "4         皖RL222P  \n",
       "...           ...  \n",
       "9994      皖AK927W  \n",
       "9995      皖A22T99  \n",
       "9996      皖NRX399  \n",
       "9997      皖EW666K  \n",
       "9998      皖AWP202  \n",
       "\n",
       "[9999 rows x 6 columns]"
      ]
     },
     "execution_count": 3,
     "metadata": {},
     "output_type": "execute_result"
    }
   ],
   "source": [
    "img_path = []\n",
    "left_up_x = []\n",
    "left_up_y = []\n",
    "right_down_x = []\n",
    "right_down_y = []\n",
    "decoded_plate = []\n",
    "location = []\n",
    "license_images = []\n",
    "for sub in list_sub:\n",
    "    sub_path = os.path.join(BASE_PATH, sub)\n",
    "    sub_files = glob.glob(os.path.join(sub_path, \"*\"))\n",
    "\n",
    "    for file in sub_files:\n",
    "\n",
    "        img_path.append(file)\n",
    "\n",
    "        file_no_jpg = file.split(\"/\")[-1][:-4]\n",
    "\n",
    "        boundind_box = file_no_jpg.split(\"-\")[2]\n",
    "        left_up_bbox = boundind_box.split(\"_\")[0]\n",
    "        right_down_bbox = boundind_box.split(\"_\")[1]\n",
    "        left_up_x .append(left_up_bbox.split(\",\")[0])\n",
    "        left_up_y .append(left_up_bbox.split(\",\")[1])\n",
    "        right_down_x .append(right_down_bbox.split(\",\")[0])\n",
    "        right_down_y .append(right_down_bbox.split(\",\")[1])\n",
    "\n",
    "\n",
    "\n",
    "        temp = []\n",
    "        plate_number =  file_no_jpg.split(\"-\")[-3]\n",
    "        plate_number_split =  plate_number.split('_')\n",
    "        city = provinces[int(plate_number_split[0])]\n",
    "        alp = alphabets[int(plate_number_split[1])]\n",
    "        temp.append(city)\n",
    "        temp.append(alp)\n",
    "        \n",
    "        for i in range(len(plate_number_split)-2):\n",
    "            temp.append(ads[int(plate_number_split[i+2])])\n",
    "        k = \"\".join(temp)\n",
    "        decoded_plate.append(k)\n",
    "\n",
    "\n",
    "        # exver_img = cv2.imread(file)\n",
    "        # vertices = file_no_jpg.split(\"-\")[3]\n",
    "        # split = vertices.split(\"_\")\n",
    "\n",
    "        # x= (split[0].split(','))\n",
    "        # y= (split[1].split(','))\n",
    "        # z= (split[2].split(','))\n",
    "        # w= (split[3].split(','))\n",
    "        # coordinates= [int(x[0]), int(x[1]),int(y[0]),int(y[1]),int(z[0]),int(z[1]),int(w[0]),int(w[1])]\n",
    "        # location.append(coordinates)\n",
    "        # p1 = np.float32([[coordinates[4], coordinates[5]],\n",
    "        #                 [coordinates[6], coordinates[7]],\n",
    "        #                 [coordinates[2], coordinates[3]], \n",
    "        #                 [coordinates[0], coordinates[1]]])\n",
    "        # p2 = np.float32([[0, 0],[exver_img.shape[1],0],[0,exver_img.shape[0]],[exver_img.shape[1],exver_img.shape[0]]])\n",
    "        # M = cv2.getPerspectiveTransform(p1, p2)\n",
    "        # outimg = cv2.warpPerspective(exver_img, M, exver_img.shape[1::-1])\n",
    "        # resized = cv2.resize(outimg, (120,24), interpolation = cv2.INTER_AREA)\n",
    "        # no_chinese_img = resized[:,width//8:]\n",
    "        # license_images.append(resized)\n",
    "        \n",
    "\n",
    "\n",
    "        \n",
    "\n",
    "r = [img_path,left_up_x,left_up_y,right_down_x,right_down_y,decoded_plate]\n",
    "all_data = pd.DataFrame(r)\n",
    "all_data = all_data.T\n",
    "all_data.columns = ['img_path','x1','y1','x2','y2','decode_plate']\n",
    "all_data                "
   ]
  },
  {
   "cell_type": "code",
   "execution_count": 4,
   "metadata": {},
   "outputs": [
    {
     "data": {
      "text/html": [
       "<div>\n",
       "<style scoped>\n",
       "    .dataframe tbody tr th:only-of-type {\n",
       "        vertical-align: middle;\n",
       "    }\n",
       "\n",
       "    .dataframe tbody tr th {\n",
       "        vertical-align: top;\n",
       "    }\n",
       "\n",
       "    .dataframe thead th {\n",
       "        text-align: right;\n",
       "    }\n",
       "</style>\n",
       "<table border=\"1\" class=\"dataframe\">\n",
       "  <thead>\n",
       "    <tr style=\"text-align: right;\">\n",
       "      <th></th>\n",
       "      <th>img_path</th>\n",
       "      <th>x1</th>\n",
       "      <th>y1</th>\n",
       "      <th>x2</th>\n",
       "      <th>y2</th>\n",
       "      <th>decode_plate</th>\n",
       "      <th>split</th>\n",
       "    </tr>\n",
       "  </thead>\n",
       "  <tbody>\n",
       "    <tr>\n",
       "      <th>0</th>\n",
       "      <td>C:/Users/User/DeepLearning/Deep_Learning/final...</td>\n",
       "      <td>294</td>\n",
       "      <td>496</td>\n",
       "      <td>374</td>\n",
       "      <td>540</td>\n",
       "      <td>皖AD130W</td>\n",
       "      <td>train</td>\n",
       "    </tr>\n",
       "    <tr>\n",
       "      <th>1</th>\n",
       "      <td>C:/Users/User/DeepLearning/Deep_Learning/final...</td>\n",
       "      <td>304</td>\n",
       "      <td>542</td>\n",
       "      <td>411</td>\n",
       "      <td>577</td>\n",
       "      <td>皖AUT267</td>\n",
       "      <td>train</td>\n",
       "    </tr>\n",
       "    <tr>\n",
       "      <th>2</th>\n",
       "      <td>C:/Users/User/DeepLearning/Deep_Learning/final...</td>\n",
       "      <td>339</td>\n",
       "      <td>547</td>\n",
       "      <td>444</td>\n",
       "      <td>583</td>\n",
       "      <td>皖MZ4882</td>\n",
       "      <td>train</td>\n",
       "    </tr>\n",
       "    <tr>\n",
       "      <th>3</th>\n",
       "      <td>C:/Users/User/DeepLearning/Deep_Learning/final...</td>\n",
       "      <td>177</td>\n",
       "      <td>511</td>\n",
       "      <td>268</td>\n",
       "      <td>553</td>\n",
       "      <td>皖AVD028</td>\n",
       "      <td>train</td>\n",
       "    </tr>\n",
       "    <tr>\n",
       "      <th>4</th>\n",
       "      <td>C:/Users/User/DeepLearning/Deep_Learning/final...</td>\n",
       "      <td>402</td>\n",
       "      <td>426</td>\n",
       "      <td>497</td>\n",
       "      <td>467</td>\n",
       "      <td>皖RL222P</td>\n",
       "      <td>train</td>\n",
       "    </tr>\n",
       "    <tr>\n",
       "      <th>...</th>\n",
       "      <td>...</td>\n",
       "      <td>...</td>\n",
       "      <td>...</td>\n",
       "      <td>...</td>\n",
       "      <td>...</td>\n",
       "      <td>...</td>\n",
       "      <td>...</td>\n",
       "    </tr>\n",
       "    <tr>\n",
       "      <th>9994</th>\n",
       "      <td>C:/Users/User/DeepLearning/Deep_Learning/final...</td>\n",
       "      <td>89</td>\n",
       "      <td>832</td>\n",
       "      <td>500</td>\n",
       "      <td>1159</td>\n",
       "      <td>皖AK927W</td>\n",
       "      <td>test</td>\n",
       "    </tr>\n",
       "    <tr>\n",
       "      <th>9995</th>\n",
       "      <td>C:/Users/User/DeepLearning/Deep_Learning/final...</td>\n",
       "      <td>81</td>\n",
       "      <td>357</td>\n",
       "      <td>572</td>\n",
       "      <td>632</td>\n",
       "      <td>皖A22T99</td>\n",
       "      <td>test</td>\n",
       "    </tr>\n",
       "    <tr>\n",
       "      <th>9996</th>\n",
       "      <td>C:/Users/User/DeepLearning/Deep_Learning/final...</td>\n",
       "      <td>245</td>\n",
       "      <td>391</td>\n",
       "      <td>703</td>\n",
       "      <td>692</td>\n",
       "      <td>皖NRX399</td>\n",
       "      <td>test</td>\n",
       "    </tr>\n",
       "    <tr>\n",
       "      <th>9997</th>\n",
       "      <td>C:/Users/User/DeepLearning/Deep_Learning/final...</td>\n",
       "      <td>69</td>\n",
       "      <td>394</td>\n",
       "      <td>681</td>\n",
       "      <td>620</td>\n",
       "      <td>皖EW666K</td>\n",
       "      <td>test</td>\n",
       "    </tr>\n",
       "    <tr>\n",
       "      <th>9998</th>\n",
       "      <td>C:/Users/User/DeepLearning/Deep_Learning/final...</td>\n",
       "      <td>31</td>\n",
       "      <td>397</td>\n",
       "      <td>673</td>\n",
       "      <td>624</td>\n",
       "      <td>皖AWP202</td>\n",
       "      <td>test</td>\n",
       "    </tr>\n",
       "  </tbody>\n",
       "</table>\n",
       "<p>9999 rows × 7 columns</p>\n",
       "</div>"
      ],
      "text/plain": [
       "                                               img_path   x1   y1   x2    y2  \\\n",
       "0     C:/Users/User/DeepLearning/Deep_Learning/final...  294  496  374   540   \n",
       "1     C:/Users/User/DeepLearning/Deep_Learning/final...  304  542  411   577   \n",
       "2     C:/Users/User/DeepLearning/Deep_Learning/final...  339  547  444   583   \n",
       "3     C:/Users/User/DeepLearning/Deep_Learning/final...  177  511  268   553   \n",
       "4     C:/Users/User/DeepLearning/Deep_Learning/final...  402  426  497   467   \n",
       "...                                                 ...  ...  ...  ...   ...   \n",
       "9994  C:/Users/User/DeepLearning/Deep_Learning/final...   89  832  500  1159   \n",
       "9995  C:/Users/User/DeepLearning/Deep_Learning/final...   81  357  572   632   \n",
       "9996  C:/Users/User/DeepLearning/Deep_Learning/final...  245  391  703   692   \n",
       "9997  C:/Users/User/DeepLearning/Deep_Learning/final...   69  394  681   620   \n",
       "9998  C:/Users/User/DeepLearning/Deep_Learning/final...   31  397  673   624   \n",
       "\n",
       "     decode_plate  split  \n",
       "0         皖AD130W  train  \n",
       "1         皖AUT267  train  \n",
       "2         皖MZ4882  train  \n",
       "3         皖AVD028  train  \n",
       "4         皖RL222P  train  \n",
       "...           ...    ...  \n",
       "9994      皖AK927W   test  \n",
       "9995      皖A22T99   test  \n",
       "9996      皖NRX399   test  \n",
       "9997      皖EW666K   test  \n",
       "9998      皖AWP202   test  \n",
       "\n",
       "[9999 rows x 7 columns]"
      ]
     },
     "execution_count": 4,
     "metadata": {},
     "output_type": "execute_result"
    }
   ],
   "source": [
    "list_split = [\"train\"] * 9499\n",
    "for i in range(5):\n",
    "    list_split.extend([\"val\"]*50)\n",
    "    list_split.extend([\"test\"]*50)\n",
    "all_data [\"split\"] = list_split\n",
    "all_data "
   ]
  },
  {
   "cell_type": "code",
   "execution_count": 5,
   "metadata": {},
   "outputs": [
    {
     "data": {
      "text/html": [
       "<div>\n",
       "<style scoped>\n",
       "    .dataframe tbody tr th:only-of-type {\n",
       "        vertical-align: middle;\n",
       "    }\n",
       "\n",
       "    .dataframe tbody tr th {\n",
       "        vertical-align: top;\n",
       "    }\n",
       "\n",
       "    .dataframe thead th {\n",
       "        text-align: right;\n",
       "    }\n",
       "</style>\n",
       "<table border=\"1\" class=\"dataframe\">\n",
       "  <thead>\n",
       "    <tr style=\"text-align: right;\">\n",
       "      <th></th>\n",
       "      <th>img_path</th>\n",
       "      <th>x1</th>\n",
       "      <th>y1</th>\n",
       "      <th>x2</th>\n",
       "      <th>y2</th>\n",
       "      <th>decode_plate</th>\n",
       "      <th>split</th>\n",
       "      <th>no_chinese</th>\n",
       "    </tr>\n",
       "  </thead>\n",
       "  <tbody>\n",
       "    <tr>\n",
       "      <th>0</th>\n",
       "      <td>C:/Users/User/DeepLearning/Deep_Learning/final...</td>\n",
       "      <td>294</td>\n",
       "      <td>496</td>\n",
       "      <td>374</td>\n",
       "      <td>540</td>\n",
       "      <td>皖AD130W</td>\n",
       "      <td>train</td>\n",
       "      <td>AD130W</td>\n",
       "    </tr>\n",
       "    <tr>\n",
       "      <th>1</th>\n",
       "      <td>C:/Users/User/DeepLearning/Deep_Learning/final...</td>\n",
       "      <td>304</td>\n",
       "      <td>542</td>\n",
       "      <td>411</td>\n",
       "      <td>577</td>\n",
       "      <td>皖AUT267</td>\n",
       "      <td>train</td>\n",
       "      <td>AUT267</td>\n",
       "    </tr>\n",
       "    <tr>\n",
       "      <th>2</th>\n",
       "      <td>C:/Users/User/DeepLearning/Deep_Learning/final...</td>\n",
       "      <td>339</td>\n",
       "      <td>547</td>\n",
       "      <td>444</td>\n",
       "      <td>583</td>\n",
       "      <td>皖MZ4882</td>\n",
       "      <td>train</td>\n",
       "      <td>MZ4882</td>\n",
       "    </tr>\n",
       "    <tr>\n",
       "      <th>3</th>\n",
       "      <td>C:/Users/User/DeepLearning/Deep_Learning/final...</td>\n",
       "      <td>177</td>\n",
       "      <td>511</td>\n",
       "      <td>268</td>\n",
       "      <td>553</td>\n",
       "      <td>皖AVD028</td>\n",
       "      <td>train</td>\n",
       "      <td>AVD028</td>\n",
       "    </tr>\n",
       "    <tr>\n",
       "      <th>4</th>\n",
       "      <td>C:/Users/User/DeepLearning/Deep_Learning/final...</td>\n",
       "      <td>402</td>\n",
       "      <td>426</td>\n",
       "      <td>497</td>\n",
       "      <td>467</td>\n",
       "      <td>皖RL222P</td>\n",
       "      <td>train</td>\n",
       "      <td>RL222P</td>\n",
       "    </tr>\n",
       "    <tr>\n",
       "      <th>...</th>\n",
       "      <td>...</td>\n",
       "      <td>...</td>\n",
       "      <td>...</td>\n",
       "      <td>...</td>\n",
       "      <td>...</td>\n",
       "      <td>...</td>\n",
       "      <td>...</td>\n",
       "      <td>...</td>\n",
       "    </tr>\n",
       "    <tr>\n",
       "      <th>9994</th>\n",
       "      <td>C:/Users/User/DeepLearning/Deep_Learning/final...</td>\n",
       "      <td>89</td>\n",
       "      <td>832</td>\n",
       "      <td>500</td>\n",
       "      <td>1159</td>\n",
       "      <td>皖AK927W</td>\n",
       "      <td>test</td>\n",
       "      <td>AK927W</td>\n",
       "    </tr>\n",
       "    <tr>\n",
       "      <th>9995</th>\n",
       "      <td>C:/Users/User/DeepLearning/Deep_Learning/final...</td>\n",
       "      <td>81</td>\n",
       "      <td>357</td>\n",
       "      <td>572</td>\n",
       "      <td>632</td>\n",
       "      <td>皖A22T99</td>\n",
       "      <td>test</td>\n",
       "      <td>A22T99</td>\n",
       "    </tr>\n",
       "    <tr>\n",
       "      <th>9996</th>\n",
       "      <td>C:/Users/User/DeepLearning/Deep_Learning/final...</td>\n",
       "      <td>245</td>\n",
       "      <td>391</td>\n",
       "      <td>703</td>\n",
       "      <td>692</td>\n",
       "      <td>皖NRX399</td>\n",
       "      <td>test</td>\n",
       "      <td>NRX399</td>\n",
       "    </tr>\n",
       "    <tr>\n",
       "      <th>9997</th>\n",
       "      <td>C:/Users/User/DeepLearning/Deep_Learning/final...</td>\n",
       "      <td>69</td>\n",
       "      <td>394</td>\n",
       "      <td>681</td>\n",
       "      <td>620</td>\n",
       "      <td>皖EW666K</td>\n",
       "      <td>test</td>\n",
       "      <td>EW666K</td>\n",
       "    </tr>\n",
       "    <tr>\n",
       "      <th>9998</th>\n",
       "      <td>C:/Users/User/DeepLearning/Deep_Learning/final...</td>\n",
       "      <td>31</td>\n",
       "      <td>397</td>\n",
       "      <td>673</td>\n",
       "      <td>624</td>\n",
       "      <td>皖AWP202</td>\n",
       "      <td>test</td>\n",
       "      <td>AWP202</td>\n",
       "    </tr>\n",
       "  </tbody>\n",
       "</table>\n",
       "<p>9999 rows × 8 columns</p>\n",
       "</div>"
      ],
      "text/plain": [
       "                                               img_path   x1   y1   x2    y2  \\\n",
       "0     C:/Users/User/DeepLearning/Deep_Learning/final...  294  496  374   540   \n",
       "1     C:/Users/User/DeepLearning/Deep_Learning/final...  304  542  411   577   \n",
       "2     C:/Users/User/DeepLearning/Deep_Learning/final...  339  547  444   583   \n",
       "3     C:/Users/User/DeepLearning/Deep_Learning/final...  177  511  268   553   \n",
       "4     C:/Users/User/DeepLearning/Deep_Learning/final...  402  426  497   467   \n",
       "...                                                 ...  ...  ...  ...   ...   \n",
       "9994  C:/Users/User/DeepLearning/Deep_Learning/final...   89  832  500  1159   \n",
       "9995  C:/Users/User/DeepLearning/Deep_Learning/final...   81  357  572   632   \n",
       "9996  C:/Users/User/DeepLearning/Deep_Learning/final...  245  391  703   692   \n",
       "9997  C:/Users/User/DeepLearning/Deep_Learning/final...   69  394  681   620   \n",
       "9998  C:/Users/User/DeepLearning/Deep_Learning/final...   31  397  673   624   \n",
       "\n",
       "     decode_plate  split no_chinese  \n",
       "0         皖AD130W  train     AD130W  \n",
       "1         皖AUT267  train     AUT267  \n",
       "2         皖MZ4882  train     MZ4882  \n",
       "3         皖AVD028  train     AVD028  \n",
       "4         皖RL222P  train     RL222P  \n",
       "...           ...    ...        ...  \n",
       "9994      皖AK927W   test     AK927W  \n",
       "9995      皖A22T99   test     A22T99  \n",
       "9996      皖NRX399   test     NRX399  \n",
       "9997      皖EW666K   test     EW666K  \n",
       "9998      皖AWP202   test     AWP202  \n",
       "\n",
       "[9999 rows x 8 columns]"
      ]
     },
     "execution_count": 5,
     "metadata": {},
     "output_type": "execute_result"
    }
   ],
   "source": [
    "no_chinese = []\n",
    "for i in range(9999):\n",
    "    no_chinese.append(all_data['decode_plate'][i][1:])\n",
    "\n",
    "all_data['no_chinese'] = no_chinese\n",
    "all_data "
   ]
  },
  {
   "cell_type": "code",
   "execution_count": 6,
   "metadata": {},
   "outputs": [
    {
     "data": {
      "text/html": [
       "<div>\n",
       "<style scoped>\n",
       "    .dataframe tbody tr th:only-of-type {\n",
       "        vertical-align: middle;\n",
       "    }\n",
       "\n",
       "    .dataframe tbody tr th {\n",
       "        vertical-align: top;\n",
       "    }\n",
       "\n",
       "    .dataframe thead th {\n",
       "        text-align: right;\n",
       "    }\n",
       "</style>\n",
       "<table border=\"1\" class=\"dataframe\">\n",
       "  <thead>\n",
       "    <tr style=\"text-align: right;\">\n",
       "      <th></th>\n",
       "      <th>img_path</th>\n",
       "      <th>x1</th>\n",
       "      <th>y1</th>\n",
       "      <th>x2</th>\n",
       "      <th>y2</th>\n",
       "      <th>decode_plate</th>\n",
       "      <th>no_chinese</th>\n",
       "    </tr>\n",
       "  </thead>\n",
       "  <tbody>\n",
       "    <tr>\n",
       "      <th>0</th>\n",
       "      <td>C:/Users/User/DeepLearning/Deep_Learning/final...</td>\n",
       "      <td>294</td>\n",
       "      <td>496</td>\n",
       "      <td>374</td>\n",
       "      <td>540</td>\n",
       "      <td>皖AD130W</td>\n",
       "      <td>AD130W</td>\n",
       "    </tr>\n",
       "    <tr>\n",
       "      <th>1</th>\n",
       "      <td>C:/Users/User/DeepLearning/Deep_Learning/final...</td>\n",
       "      <td>304</td>\n",
       "      <td>542</td>\n",
       "      <td>411</td>\n",
       "      <td>577</td>\n",
       "      <td>皖AUT267</td>\n",
       "      <td>AUT267</td>\n",
       "    </tr>\n",
       "    <tr>\n",
       "      <th>2</th>\n",
       "      <td>C:/Users/User/DeepLearning/Deep_Learning/final...</td>\n",
       "      <td>339</td>\n",
       "      <td>547</td>\n",
       "      <td>444</td>\n",
       "      <td>583</td>\n",
       "      <td>皖MZ4882</td>\n",
       "      <td>MZ4882</td>\n",
       "    </tr>\n",
       "    <tr>\n",
       "      <th>3</th>\n",
       "      <td>C:/Users/User/DeepLearning/Deep_Learning/final...</td>\n",
       "      <td>177</td>\n",
       "      <td>511</td>\n",
       "      <td>268</td>\n",
       "      <td>553</td>\n",
       "      <td>皖AVD028</td>\n",
       "      <td>AVD028</td>\n",
       "    </tr>\n",
       "    <tr>\n",
       "      <th>4</th>\n",
       "      <td>C:/Users/User/DeepLearning/Deep_Learning/final...</td>\n",
       "      <td>402</td>\n",
       "      <td>426</td>\n",
       "      <td>497</td>\n",
       "      <td>467</td>\n",
       "      <td>皖RL222P</td>\n",
       "      <td>RL222P</td>\n",
       "    </tr>\n",
       "    <tr>\n",
       "      <th>...</th>\n",
       "      <td>...</td>\n",
       "      <td>...</td>\n",
       "      <td>...</td>\n",
       "      <td>...</td>\n",
       "      <td>...</td>\n",
       "      <td>...</td>\n",
       "      <td>...</td>\n",
       "    </tr>\n",
       "    <tr>\n",
       "      <th>9494</th>\n",
       "      <td>C:/Users/User/DeepLearning/Deep_Learning/final...</td>\n",
       "      <td>179</td>\n",
       "      <td>440</td>\n",
       "      <td>595</td>\n",
       "      <td>575</td>\n",
       "      <td>皖AR8647</td>\n",
       "      <td>AR8647</td>\n",
       "    </tr>\n",
       "    <tr>\n",
       "      <th>9495</th>\n",
       "      <td>C:/Users/User/DeepLearning/Deep_Learning/final...</td>\n",
       "      <td>190</td>\n",
       "      <td>506</td>\n",
       "      <td>572</td>\n",
       "      <td>653</td>\n",
       "      <td>皖A47039</td>\n",
       "      <td>A47039</td>\n",
       "    </tr>\n",
       "    <tr>\n",
       "      <th>9496</th>\n",
       "      <td>C:/Users/User/DeepLearning/Deep_Learning/final...</td>\n",
       "      <td>125</td>\n",
       "      <td>405</td>\n",
       "      <td>526</td>\n",
       "      <td>545</td>\n",
       "      <td>皖A4U877</td>\n",
       "      <td>A4U877</td>\n",
       "    </tr>\n",
       "    <tr>\n",
       "      <th>9497</th>\n",
       "      <td>C:/Users/User/DeepLearning/Deep_Learning/final...</td>\n",
       "      <td>290</td>\n",
       "      <td>482</td>\n",
       "      <td>680</td>\n",
       "      <td>626</td>\n",
       "      <td>皖AH790W</td>\n",
       "      <td>AH790W</td>\n",
       "    </tr>\n",
       "    <tr>\n",
       "      <th>9498</th>\n",
       "      <td>C:/Users/User/DeepLearning/Deep_Learning/final...</td>\n",
       "      <td>189</td>\n",
       "      <td>470</td>\n",
       "      <td>591</td>\n",
       "      <td>610</td>\n",
       "      <td>皖A3R197</td>\n",
       "      <td>A3R197</td>\n",
       "    </tr>\n",
       "  </tbody>\n",
       "</table>\n",
       "<p>9499 rows × 7 columns</p>\n",
       "</div>"
      ],
      "text/plain": [
       "                                               img_path   x1   y1   x2   y2  \\\n",
       "0     C:/Users/User/DeepLearning/Deep_Learning/final...  294  496  374  540   \n",
       "1     C:/Users/User/DeepLearning/Deep_Learning/final...  304  542  411  577   \n",
       "2     C:/Users/User/DeepLearning/Deep_Learning/final...  339  547  444  583   \n",
       "3     C:/Users/User/DeepLearning/Deep_Learning/final...  177  511  268  553   \n",
       "4     C:/Users/User/DeepLearning/Deep_Learning/final...  402  426  497  467   \n",
       "...                                                 ...  ...  ...  ...  ...   \n",
       "9494  C:/Users/User/DeepLearning/Deep_Learning/final...  179  440  595  575   \n",
       "9495  C:/Users/User/DeepLearning/Deep_Learning/final...  190  506  572  653   \n",
       "9496  C:/Users/User/DeepLearning/Deep_Learning/final...  125  405  526  545   \n",
       "9497  C:/Users/User/DeepLearning/Deep_Learning/final...  290  482  680  626   \n",
       "9498  C:/Users/User/DeepLearning/Deep_Learning/final...  189  470  591  610   \n",
       "\n",
       "     decode_plate no_chinese  \n",
       "0         皖AD130W     AD130W  \n",
       "1         皖AUT267     AUT267  \n",
       "2         皖MZ4882     MZ4882  \n",
       "3         皖AVD028     AVD028  \n",
       "4         皖RL222P     RL222P  \n",
       "...           ...        ...  \n",
       "9494      皖AR8647     AR8647  \n",
       "9495      皖A47039     A47039  \n",
       "9496      皖A4U877     A4U877  \n",
       "9497      皖AH790W     AH790W  \n",
       "9498      皖A3R197     A3R197  \n",
       "\n",
       "[9499 rows x 7 columns]"
      ]
     },
     "execution_count": 6,
     "metadata": {},
     "output_type": "execute_result"
    }
   ],
   "source": [
    "df_train = all_data [all_data[\"split\"]==\"train\"].reset_index(drop=True)\n",
    "df_train = df_train[[\"img_path\", \"x1\", \"y1\", \"x2\", \"y2\",\"decode_plate\",'no_chinese']]\n",
    "df_train"
   ]
  },
  {
   "cell_type": "code",
   "execution_count": 7,
   "metadata": {},
   "outputs": [
    {
     "data": {
      "text/html": [
       "<div>\n",
       "<style scoped>\n",
       "    .dataframe tbody tr th:only-of-type {\n",
       "        vertical-align: middle;\n",
       "    }\n",
       "\n",
       "    .dataframe tbody tr th {\n",
       "        vertical-align: top;\n",
       "    }\n",
       "\n",
       "    .dataframe thead th {\n",
       "        text-align: right;\n",
       "    }\n",
       "</style>\n",
       "<table border=\"1\" class=\"dataframe\">\n",
       "  <thead>\n",
       "    <tr style=\"text-align: right;\">\n",
       "      <th></th>\n",
       "      <th>img_path</th>\n",
       "      <th>x1</th>\n",
       "      <th>y1</th>\n",
       "      <th>x2</th>\n",
       "      <th>y2</th>\n",
       "      <th>decode_plate</th>\n",
       "      <th>no_chinese</th>\n",
       "    </tr>\n",
       "  </thead>\n",
       "  <tbody>\n",
       "    <tr>\n",
       "      <th>0</th>\n",
       "      <td>C:/Users/User/DeepLearning/Deep_Learning/final...</td>\n",
       "      <td>217</td>\n",
       "      <td>448</td>\n",
       "      <td>475</td>\n",
       "      <td>666</td>\n",
       "      <td>皖AY6F46</td>\n",
       "      <td>AY6F46</td>\n",
       "    </tr>\n",
       "    <tr>\n",
       "      <th>1</th>\n",
       "      <td>C:/Users/User/DeepLearning/Deep_Learning/final...</td>\n",
       "      <td>134</td>\n",
       "      <td>424</td>\n",
       "      <td>504</td>\n",
       "      <td>576</td>\n",
       "      <td>浙C096FU</td>\n",
       "      <td>C096FU</td>\n",
       "    </tr>\n",
       "    <tr>\n",
       "      <th>2</th>\n",
       "      <td>C:/Users/User/DeepLearning/Deep_Learning/final...</td>\n",
       "      <td>54</td>\n",
       "      <td>394</td>\n",
       "      <td>380</td>\n",
       "      <td>567</td>\n",
       "      <td>沪C0C9U1</td>\n",
       "      <td>C0C9U1</td>\n",
       "    </tr>\n",
       "    <tr>\n",
       "      <th>3</th>\n",
       "      <td>C:/Users/User/DeepLearning/Deep_Learning/final...</td>\n",
       "      <td>281</td>\n",
       "      <td>536</td>\n",
       "      <td>662</td>\n",
       "      <td>684</td>\n",
       "      <td>皖AY060V</td>\n",
       "      <td>AY060V</td>\n",
       "    </tr>\n",
       "    <tr>\n",
       "      <th>4</th>\n",
       "      <td>C:/Users/User/DeepLearning/Deep_Learning/final...</td>\n",
       "      <td>162</td>\n",
       "      <td>445</td>\n",
       "      <td>586</td>\n",
       "      <td>578</td>\n",
       "      <td>皖ADB398</td>\n",
       "      <td>ADB398</td>\n",
       "    </tr>\n",
       "    <tr>\n",
       "      <th>...</th>\n",
       "      <td>...</td>\n",
       "      <td>...</td>\n",
       "      <td>...</td>\n",
       "      <td>...</td>\n",
       "      <td>...</td>\n",
       "      <td>...</td>\n",
       "      <td>...</td>\n",
       "    </tr>\n",
       "    <tr>\n",
       "      <th>245</th>\n",
       "      <td>C:/Users/User/DeepLearning/Deep_Learning/final...</td>\n",
       "      <td>147</td>\n",
       "      <td>426</td>\n",
       "      <td>643</td>\n",
       "      <td>595</td>\n",
       "      <td>皖AL1U67</td>\n",
       "      <td>AL1U67</td>\n",
       "    </tr>\n",
       "    <tr>\n",
       "      <th>246</th>\n",
       "      <td>C:/Users/User/DeepLearning/Deep_Learning/final...</td>\n",
       "      <td>199</td>\n",
       "      <td>362</td>\n",
       "      <td>533</td>\n",
       "      <td>613</td>\n",
       "      <td>皖AUL132</td>\n",
       "      <td>AUL132</td>\n",
       "    </tr>\n",
       "    <tr>\n",
       "      <th>247</th>\n",
       "      <td>C:/Users/User/DeepLearning/Deep_Learning/final...</td>\n",
       "      <td>233</td>\n",
       "      <td>338</td>\n",
       "      <td>589</td>\n",
       "      <td>574</td>\n",
       "      <td>皖AFJ956</td>\n",
       "      <td>AFJ956</td>\n",
       "    </tr>\n",
       "    <tr>\n",
       "      <th>248</th>\n",
       "      <td>C:/Users/User/DeepLearning/Deep_Learning/final...</td>\n",
       "      <td>94</td>\n",
       "      <td>424</td>\n",
       "      <td>601</td>\n",
       "      <td>592</td>\n",
       "      <td>皖AS661Z</td>\n",
       "      <td>AS661Z</td>\n",
       "    </tr>\n",
       "    <tr>\n",
       "      <th>249</th>\n",
       "      <td>C:/Users/User/DeepLearning/Deep_Learning/final...</td>\n",
       "      <td>105</td>\n",
       "      <td>412</td>\n",
       "      <td>719</td>\n",
       "      <td>551</td>\n",
       "      <td>吉BTW976</td>\n",
       "      <td>BTW976</td>\n",
       "    </tr>\n",
       "  </tbody>\n",
       "</table>\n",
       "<p>250 rows × 7 columns</p>\n",
       "</div>"
      ],
      "text/plain": [
       "                                              img_path   x1   y1   x2   y2  \\\n",
       "0    C:/Users/User/DeepLearning/Deep_Learning/final...  217  448  475  666   \n",
       "1    C:/Users/User/DeepLearning/Deep_Learning/final...  134  424  504  576   \n",
       "2    C:/Users/User/DeepLearning/Deep_Learning/final...   54  394  380  567   \n",
       "3    C:/Users/User/DeepLearning/Deep_Learning/final...  281  536  662  684   \n",
       "4    C:/Users/User/DeepLearning/Deep_Learning/final...  162  445  586  578   \n",
       "..                                                 ...  ...  ...  ...  ...   \n",
       "245  C:/Users/User/DeepLearning/Deep_Learning/final...  147  426  643  595   \n",
       "246  C:/Users/User/DeepLearning/Deep_Learning/final...  199  362  533  613   \n",
       "247  C:/Users/User/DeepLearning/Deep_Learning/final...  233  338  589  574   \n",
       "248  C:/Users/User/DeepLearning/Deep_Learning/final...   94  424  601  592   \n",
       "249  C:/Users/User/DeepLearning/Deep_Learning/final...  105  412  719  551   \n",
       "\n",
       "    decode_plate no_chinese  \n",
       "0        皖AY6F46     AY6F46  \n",
       "1        浙C096FU     C096FU  \n",
       "2        沪C0C9U1     C0C9U1  \n",
       "3        皖AY060V     AY060V  \n",
       "4        皖ADB398     ADB398  \n",
       "..           ...        ...  \n",
       "245      皖AL1U67     AL1U67  \n",
       "246      皖AUL132     AUL132  \n",
       "247      皖AFJ956     AFJ956  \n",
       "248      皖AS661Z     AS661Z  \n",
       "249      吉BTW976     BTW976  \n",
       "\n",
       "[250 rows x 7 columns]"
      ]
     },
     "execution_count": 7,
     "metadata": {},
     "output_type": "execute_result"
    }
   ],
   "source": [
    "df_val = all_data [all_data[\"split\"]==\"val\"].reset_index(drop=True)\n",
    "df_val = df_val[[\"img_path\", \"x1\", \"y1\", \"x2\", \"y2\",\"decode_plate\",'no_chinese']]\n",
    "df_val"
   ]
  },
  {
   "cell_type": "code",
   "execution_count": 19,
   "metadata": {},
   "outputs": [
    {
     "name": "stdout",
     "output_type": "stream",
     "text": [
      "Initial GPU Usage\n",
      "| ID | GPU | MEM |\n",
      "------------------\n",
      "|  0 |  0% |  3% |\n",
      "GPU Usage after emptying the cache\n",
      "| ID | GPU | MEM |\n",
      "------------------\n",
      "|  0 |  0% |  3% |\n"
     ]
    }
   ],
   "source": [
    "from numba import cuda\n",
    "from GPUtil import showUtilization as gpu_usage\n",
    "\n",
    "def free_gpu_cache():\n",
    "    print(\"Initial GPU Usage\")\n",
    "    gpu_usage()                             \n",
    "\n",
    "    torch.cuda.empty_cache()\n",
    "\n",
    "    cuda.select_device(0)\n",
    "    cuda.close()\n",
    "    cuda.select_device(0)\n",
    "\n",
    "    print(\"GPU Usage after emptying the cache\")\n",
    "    gpu_usage()\n",
    "\n",
    "free_gpu_cache()"
   ]
  },
  {
   "cell_type": "code",
   "execution_count": 20,
   "metadata": {},
   "outputs": [],
   "source": [
    "\n",
    "class Dataset(Dataset):\n",
    "    def __init__(self, dataframe):\n",
    "        self.df_train = dataframe\n",
    "\n",
    "    def __len__(self):\n",
    "        return len(self.df_train)\n",
    "\n",
    "    def __getitem__(self, index):\n",
    "        train_path = self.df_train[\"img_path\"][index]\n",
    "        file_no_jpg = train_path.split(\"/\")[-1][:-4]\n",
    "\n",
    "        exver_img = cv2.imread(train_path)\n",
    "        vertices = file_no_jpg.split(\"-\")[3]\n",
    "        split = vertices.split(\"_\")\n",
    "\n",
    "        x= (split[0].split(','))\n",
    "        y= (split[1].split(','))\n",
    "        z= (split[2].split(','))\n",
    "        w= (split[3].split(','))\n",
    "        coordinates= [int(x[0]), int(x[1]),int(y[0]),int(y[1]),int(z[0]),int(z[1]),int(w[0]),int(w[1])]\n",
    "        location.append(coordinates)\n",
    "        p1 = np.float32([[coordinates[4], coordinates[5]],\n",
    "                        [coordinates[6], coordinates[7]],\n",
    "                        [coordinates[2], coordinates[3]], \n",
    "                        [coordinates[0], coordinates[1]]])\n",
    "        p2 = np.float32([[0, 0],[exver_img.shape[1],0],[0,exver_img.shape[0]],[exver_img.shape[1],exver_img.shape[0]]])\n",
    "        M = cv2.getPerspectiveTransform(p1, p2)\n",
    "        outimg = cv2.warpPerspective(exver_img, M, exver_img.shape[1::-1])\n",
    "        resized = cv2.resize(outimg, (120,24), interpolation = cv2.INTER_AREA)\n",
    "        \n",
    "        # no_chinese_img = resized[:,120//8:]\n",
    "\n",
    "        text = self.df_train[\"no_chinese\"][index]\n",
    "\n",
    "        # Apply transformations\n",
    "        transformed_image = self.transform(resized)\n",
    "\n",
    "        return transformed_image, text\n",
    "\n",
    "    def transform(self, image):\n",
    "        transform_ops = transforms.Compose([\n",
    "            transforms.ToPILImage(),\n",
    "            transforms.Resize((50, 200)),\n",
    "            transforms.ToTensor(),\n",
    "            transforms.Normalize(mean=(0.485, 0.456, 0.406), std=(0.229, 0.224, 0.225))\n",
    "        ])\n",
    "        return transform_ops(image)"
   ]
  },
  {
   "cell_type": "code",
   "execution_count": 13,
   "metadata": {},
   "outputs": [
    {
     "name": "stdout",
     "output_type": "stream",
     "text": [
      "594\n"
     ]
    }
   ],
   "source": [
    "trainset = Dataset(df_train)\n",
    "valset =  Dataset(df_val)\n",
    "\n",
    "train_loader = DataLoader(trainset, batch_size=16, num_workers=0, shuffle=False)\n",
    "test_loader = DataLoader(valset, batch_size=16, num_workers=0, shuffle=False)\n",
    "print(len(train_loader))"
   ]
  },
  {
   "cell_type": "code",
   "execution_count": 14,
   "metadata": {},
   "outputs": [
    {
     "name": "stdout",
     "output_type": "stream",
     "text": [
      "torch.Size([16, 3, 50, 200]) ('AD130W', 'AUT267', 'MZ4882', 'AVD028', 'RL222P', 'AGC276', 'AU0194', 'AC880Y', 'ATG568', 'A41476', 'AH8V95', 'ATV235', 'AJ7532', 'AE0901', 'QSW808', 'A93853')\n"
     ]
    }
   ],
   "source": [
    "image_batch, text_batch = next(iter(train_loader))\n",
    "print(image_batch.size(), text_batch)"
   ]
  },
  {
   "cell_type": "code",
   "execution_count": 15,
   "metadata": {},
   "outputs": [
    {
     "name": "stdout",
     "output_type": "stream",
     "text": [
      "{0: 'A', 1: 'B', 2: 'C', 3: 'D', 4: 'E', 5: 'F', 6: 'G', 7: 'H', 8: 'J', 9: 'K', 10: 'L', 11: 'M', 12: 'N', 13: 'P', 14: 'Q', 15: 'R', 16: 'S', 17: 'T', 18: 'U', 19: 'V', 20: 'W', 21: 'X', 22: 'Y', 23: 'Z', 24: 'O', 25: '0', 26: '1', 27: '2', 28: '3', 29: '4', 30: '5', 31: '6', 32: '7', 33: '8', 34: '9'}\n",
      "{'A': 0, 'B': 1, 'C': 2, 'D': 3, 'E': 4, 'F': 5, 'G': 6, 'H': 7, 'J': 8, 'K': 9, 'L': 10, 'M': 11, 'N': 12, 'P': 13, 'Q': 14, 'R': 15, 'S': 16, 'T': 17, 'U': 18, 'V': 19, 'W': 20, 'X': 21, 'Y': 22, 'Z': 23, 'O': 24, '0': 25, '1': 26, '2': 27, '3': 28, '4': 29, '5': 30, '6': 31, '7': 32, '8': 33, '9': 34}\n"
     ]
    }
   ],
   "source": [
    "alphabets = ['A', 'B', 'C', 'D', 'E', 'F', 'G', 'H', 'J', 'K', 'L', 'M', 'N', 'P', 'Q', 'R', 'S', 'T', 'U', 'V', 'W',\n",
    "             'X', 'Y', 'Z', 'O','0', '1', '2', '3', '4', '5', '6', '7', '8', '9']\n",
    "idx2char = {k:v for k,v in enumerate(alphabets, start=0)}\n",
    "print(idx2char)\n",
    "char2idx = {v:k for k,v in idx2char.items()}\n",
    "print(char2idx)"
   ]
  },
  {
   "cell_type": "code",
   "execution_count": 16,
   "metadata": {},
   "outputs": [
    {
     "name": "stdout",
     "output_type": "stream",
     "text": [
      "35\n"
     ]
    }
   ],
   "source": [
    "num_chars = len(char2idx)\n",
    "print(num_chars)\n",
    "rnn_hidden_size = 256"
   ]
  },
  {
   "cell_type": "code",
   "execution_count": 18,
   "metadata": {},
   "outputs": [
    {
     "name": "stdout",
     "output_type": "stream",
     "text": [
      "cuda\n"
     ]
    }
   ],
   "source": [
    "device = torch.device('cuda' if torch.cuda.is_available() else 'cpu')\n",
    "print(device)"
   ]
  },
  {
   "cell_type": "code",
   "execution_count": 17,
   "metadata": {},
   "outputs": [
    {
     "name": "stderr",
     "output_type": "stream",
     "text": [
      "c:\\Users\\User\\anaconda3\\envs\\DeepLearning\\Lib\\site-packages\\torchvision\\models\\_utils.py:208: UserWarning: The parameter 'pretrained' is deprecated since 0.13 and may be removed in the future, please use 'weights' instead.\n",
      "  warnings.warn(\n",
      "c:\\Users\\User\\anaconda3\\envs\\DeepLearning\\Lib\\site-packages\\torchvision\\models\\_utils.py:223: UserWarning: Arguments other than a weight enum or `None` for 'weights' are deprecated since 0.13 and may be removed in the future. The current behavior is equivalent to passing `weights=ResNet18_Weights.IMAGENET1K_V1`. You can also use `weights=ResNet18_Weights.DEFAULT` to get the most up-to-date weights.\n",
      "  warnings.warn(msg)\n"
     ]
    }
   ],
   "source": [
    "resnet = resnet18(pretrained=True)"
   ]
  },
  {
   "cell_type": "code",
   "execution_count": 23,
   "metadata": {},
   "outputs": [
    {
     "name": "stdout",
     "output_type": "stream",
     "text": [
      "cuda\n"
     ]
    }
   ],
   "source": [
    "device = torch.device('cuda' if torch.cuda.is_available() else 'cpu')\n",
    "print(device)\n",
    "\n",
    "class CRNN(nn.Module):\n",
    "    \n",
    "    def __init__(self, num_chars, rnn_hidden_size=256, dropout=0.4):\n",
    "        \n",
    "        super(CRNN, self).__init__()\n",
    "        self.num_chars = num_chars\n",
    "        self.rnn_hidden_size = rnn_hidden_size\n",
    "        self.dropout = dropout\n",
    "        \n",
    "        # CNN Part 1\n",
    "        resnet_modules = list(resnet.children())[:-3]\n",
    "        self.cnn_p1 = nn.Sequential(*resnet_modules)\n",
    "        \n",
    "        # CNN Part 2\n",
    "        self.cnn_p2 = nn.Sequential(\n",
    "            nn.Conv2d(256, 256, kernel_size=(3,6), stride=1, padding=1),\n",
    "            nn.BatchNorm2d(256),\n",
    "            nn.ReLU(inplace=True)\n",
    "        )\n",
    "        self.linear1 = nn.Linear(1024, 256)\n",
    "        \n",
    "        # RNN\n",
    "        self.rnn1 = nn.GRU(input_size=rnn_hidden_size, \n",
    "                            hidden_size=rnn_hidden_size,\n",
    "                            bidirectional=True, \n",
    "                            batch_first=True)\n",
    "        self.rnn2 = nn.GRU(input_size=rnn_hidden_size, \n",
    "                            hidden_size=rnn_hidden_size,\n",
    "                            bidirectional=True, \n",
    "                            batch_first=True)\n",
    "        self.linear2 = nn.Linear(self.rnn_hidden_size*2, num_chars)\n",
    "        \n",
    "        \n",
    "    def forward(self, batch):\n",
    "        \n",
    "        batch = self.cnn_p1(batch)\n",
    "        # print(batch.shape)\n",
    "        \n",
    "        batch = self.cnn_p2(batch)\n",
    "        \n",
    "        \n",
    "        batch = batch.permute(0, 3, 1, 2) \n",
    "         \n",
    "        batch_size = batch.size(0)\n",
    "        T = batch.size(1)\n",
    "        batch = batch.view(batch_size, T, -1) \n",
    "        batch = self.linear1(batch)\n",
    "        \n",
    "        \n",
    "        batch, hidden = self.rnn1(batch)\n",
    "        feature_size = batch.size(2)\n",
    "        batch = batch[:, :, :feature_size//2] + batch[:, :, feature_size//2:]\n",
    "       \n",
    "        batch, hidden = self.rnn2(batch)\n",
    "        \n",
    "        \n",
    "        batch = self.linear2(batch)\n",
    "        # print(batch.shape)\n",
    "        \n",
    "        \n",
    "        batch = batch.permute(1, 0, 2)\n",
    "        # print(batch.shape)\n",
    "        return batch\n",
    "        \n",
    "def weights_init(m):\n",
    "    classname = m.__class__.__name__\n",
    "    if type(m) in [nn.Linear, nn.Conv2d, nn.Conv1d]:\n",
    "        torch.nn.init.xavier_uniform_(m.weight)\n",
    "        if m.bias is not None:\n",
    "            m.bias.data.fill_(0.01)\n",
    "    elif classname.find('BatchNorm') != -1:\n",
    "        m.weight.data.normal_(1.0, 0.02)\n",
    "        m.bias.data.fill_(0)\n",
    "\n",
    "crnn = CRNN(num_chars, rnn_hidden_size=rnn_hidden_size)\n",
    "crnn.apply(weights_init)\n",
    "crnn = crnn.to(device)            "
   ]
  },
  {
   "cell_type": "code",
   "execution_count": 24,
   "metadata": {},
   "outputs": [
    {
     "name": "stdout",
     "output_type": "stream",
     "text": [
      "('AD130W', 'AUT267', 'MZ4882', 'AVD028', 'RL222P', 'AGC276', 'AU0194', 'AC880Y', 'ATG568', 'A41476', 'AH8V95', 'ATV235', 'AJ7532', 'AE0901', 'QSW808', 'A93853')\n",
      "torch.Size([10, 16, 35])\n"
     ]
    }
   ],
   "source": [
    "text_batch_logits = crnn(image_batch.to(device))\n",
    "print(text_batch)\n",
    "print(text_batch_logits.shape)"
   ]
  },
  {
   "cell_type": "code",
   "execution_count": 25,
   "metadata": {},
   "outputs": [],
   "source": [
    "criterion = nn.CTCLoss(blank=0)"
   ]
  },
  {
   "cell_type": "code",
   "execution_count": 28,
   "metadata": {},
   "outputs": [
    {
     "data": {
      "text/plain": [
       "tensor(4.9513, device='cuda:0', grad_fn=<MeanBackward0>)"
      ]
     },
     "execution_count": 28,
     "metadata": {},
     "output_type": "execute_result"
    }
   ],
   "source": [
    "def encode_text_batch(text_batch):\n",
    "    \n",
    "    text_batch_targets_lens = [len(text) for text in text_batch]\n",
    "    text_batch_targets_lens = torch.IntTensor(text_batch_targets_lens)\n",
    "    \n",
    "    text_batch_concat = \"\".join(text_batch)\n",
    "    text_batch_targets = [char2idx[c] for c in text_batch_concat]\n",
    "    text_batch_targets = torch.IntTensor(text_batch_targets)\n",
    "    \n",
    "    return text_batch_targets, text_batch_targets_lens\n",
    "def compute_loss(text_batch, text_batch_logits):\n",
    "    \"\"\"\n",
    "    text_batch: list of strings of length equal to batch size\n",
    "    text_batch_logits: Tensor of size([T, batch_size, num_classes])\n",
    "    \"\"\"\n",
    "    text_batch_logps = F.log_softmax(text_batch_logits, 2) # [T, batch_size, num_classes]  \n",
    "    text_batch_logps_lens = torch.full(size=(text_batch_logps.size(1),), \n",
    "                                       fill_value=text_batch_logps.size(0), \n",
    "                                       dtype=torch.int32).to(device) # [batch_size] \n",
    "    \n",
    "    text_batch_targets, text_batch_targets_lens = encode_text_batch(text_batch)\n",
    "    \n",
    "    loss = criterion(text_batch_logps, text_batch_targets, text_batch_logps_lens, text_batch_targets_lens)\n",
    "\n",
    "    return loss\n",
    "\n",
    "compute_loss(text_batch, text_batch_logits)"
   ]
  },
  {
   "cell_type": "code",
   "execution_count": 27,
   "metadata": {},
   "outputs": [],
   "source": [
    "num_epochs = 50\n",
    "lr = 0.001\n",
    "weight_decay = 1e-3\n",
    "clip_norm = 5\n",
    "\n",
    "optimizer = optim.Adam(crnn.parameters(), lr=lr, weight_decay=weight_decay)\n",
    "lr_scheduler = optim.lr_scheduler.ReduceLROnPlateau(optimizer, verbose=True, patience=5)\n",
    "\n",
    "\n",
    "crnn = CRNN(num_chars, rnn_hidden_size=rnn_hidden_size)\n",
    "crnn.apply(weights_init)\n",
    "crnn = crnn.to(device)"
   ]
  },
  {
   "cell_type": "code",
   "execution_count": 29,
   "metadata": {},
   "outputs": [
    {
     "data": {
      "application/vnd.jupyter.widget-view+json": {
       "model_id": "f764bf01630e49ba9058e02e357c5964",
       "version_major": 2,
       "version_minor": 0
      },
      "text/plain": [
       "  0%|          | 0/50 [00:00<?, ?it/s]"
      ]
     },
     "metadata": {},
     "output_type": "display_data"
    },
    {
     "data": {
      "application/vnd.jupyter.widget-view+json": {
       "model_id": "c78de2635f5e4ebd9c4d1dffcc7b1c96",
       "version_major": 2,
       "version_minor": 0
      },
      "text/plain": [
       "  0%|          | 0/594 [00:00<?, ?it/s]"
      ]
     },
     "metadata": {},
     "output_type": "display_data"
    },
    {
     "name": "stdout",
     "output_type": "stream",
     "text": [
      "Epoch:1    Loss:1.7415344512422477    NumUpdates:594\n"
     ]
    },
    {
     "data": {
      "application/vnd.jupyter.widget-view+json": {
       "model_id": "d3e48e349f1a4db9b51b24b315ec85b7",
       "version_major": 2,
       "version_minor": 0
      },
      "text/plain": [
       "  0%|          | 0/594 [00:00<?, ?it/s]"
      ]
     },
     "metadata": {},
     "output_type": "display_data"
    },
    {
     "name": "stdout",
     "output_type": "stream",
     "text": [
      "Epoch:2    Loss:1.2344428340995353    NumUpdates:594\n"
     ]
    },
    {
     "data": {
      "application/vnd.jupyter.widget-view+json": {
       "model_id": "5f05b5265df241b2a6b558de72da7ce8",
       "version_major": 2,
       "version_minor": 0
      },
      "text/plain": [
       "  0%|          | 0/594 [00:00<?, ?it/s]"
      ]
     },
     "metadata": {},
     "output_type": "display_data"
    },
    {
     "name": "stdout",
     "output_type": "stream",
     "text": [
      "Epoch:3    Loss:1.3416429858416419    NumUpdates:594\n"
     ]
    },
    {
     "data": {
      "application/vnd.jupyter.widget-view+json": {
       "model_id": "54e08665c73541bd92ffb7320466550c",
       "version_major": 2,
       "version_minor": 0
      },
      "text/plain": [
       "  0%|          | 0/594 [00:00<?, ?it/s]"
      ]
     },
     "metadata": {},
     "output_type": "display_data"
    },
    {
     "name": "stdout",
     "output_type": "stream",
     "text": [
      "Epoch:4    Loss:1.4665246194460577    NumUpdates:594\n"
     ]
    },
    {
     "data": {
      "application/vnd.jupyter.widget-view+json": {
       "model_id": "dc9e40a63c0541418fc2e8c8fc13ccae",
       "version_major": 2,
       "version_minor": 0
      },
      "text/plain": [
       "  0%|          | 0/594 [00:00<?, ?it/s]"
      ]
     },
     "metadata": {},
     "output_type": "display_data"
    },
    {
     "name": "stdout",
     "output_type": "stream",
     "text": [
      "Epoch:5    Loss:1.4702885108764725    NumUpdates:594\n"
     ]
    },
    {
     "data": {
      "application/vnd.jupyter.widget-view+json": {
       "model_id": "1f2470f9dde240d7a5732c668d9f5859",
       "version_major": 2,
       "version_minor": 0
      },
      "text/plain": [
       "  0%|          | 0/594 [00:00<?, ?it/s]"
      ]
     },
     "metadata": {},
     "output_type": "display_data"
    },
    {
     "name": "stdout",
     "output_type": "stream",
     "text": [
      "Epoch:6    Loss:1.471490290831235    NumUpdates:594\n"
     ]
    },
    {
     "data": {
      "application/vnd.jupyter.widget-view+json": {
       "model_id": "174aa4d96c34452da3d17499e0b0d7cd",
       "version_major": 2,
       "version_minor": 0
      },
      "text/plain": [
       "  0%|          | 0/594 [00:00<?, ?it/s]"
      ]
     },
     "metadata": {},
     "output_type": "display_data"
    },
    {
     "name": "stdout",
     "output_type": "stream",
     "text": [
      "Epoch:7    Loss:1.4682398498660387    NumUpdates:594\n"
     ]
    },
    {
     "data": {
      "application/vnd.jupyter.widget-view+json": {
       "model_id": "82e2e8fd264d436988aadfb540470e27",
       "version_major": 2,
       "version_minor": 0
      },
      "text/plain": [
       "  0%|          | 0/594 [00:00<?, ?it/s]"
      ]
     },
     "metadata": {},
     "output_type": "display_data"
    },
    {
     "name": "stdout",
     "output_type": "stream",
     "text": [
      "Epoch:8    Loss:1.4618107216928142    NumUpdates:594\n",
      "Epoch 00008: reducing learning rate of group 0 to 1.0000e-04.\n"
     ]
    },
    {
     "data": {
      "application/vnd.jupyter.widget-view+json": {
       "model_id": "600c3c51ee024b6fabddd008a3fcaae9",
       "version_major": 2,
       "version_minor": 0
      },
      "text/plain": [
       "  0%|          | 0/594 [00:00<?, ?it/s]"
      ]
     },
     "metadata": {},
     "output_type": "display_data"
    },
    {
     "name": "stdout",
     "output_type": "stream",
     "text": [
      "Epoch:9    Loss:1.3728055875710767    NumUpdates:594\n"
     ]
    },
    {
     "data": {
      "application/vnd.jupyter.widget-view+json": {
       "model_id": "fea0d2a21ad248b6970c76bab45f71dc",
       "version_major": 2,
       "version_minor": 0
      },
      "text/plain": [
       "  0%|          | 0/594 [00:00<?, ?it/s]"
      ]
     },
     "metadata": {},
     "output_type": "display_data"
    },
    {
     "name": "stdout",
     "output_type": "stream",
     "text": [
      "Epoch:10    Loss:1.3474750358247596    NumUpdates:594\n"
     ]
    },
    {
     "data": {
      "application/vnd.jupyter.widget-view+json": {
       "model_id": "77be1b6aad464fda99f4cf0d35614648",
       "version_major": 2,
       "version_minor": 0
      },
      "text/plain": [
       "  0%|          | 0/594 [00:00<?, ?it/s]"
      ]
     },
     "metadata": {},
     "output_type": "display_data"
    },
    {
     "name": "stdout",
     "output_type": "stream",
     "text": [
      "Epoch:11    Loss:1.3392762878928521    NumUpdates:594\n"
     ]
    },
    {
     "data": {
      "application/vnd.jupyter.widget-view+json": {
       "model_id": "bac44d1aaea94086921581dc6837f4b2",
       "version_major": 2,
       "version_minor": 0
      },
      "text/plain": [
       "  0%|          | 0/594 [00:00<?, ?it/s]"
      ]
     },
     "metadata": {},
     "output_type": "display_data"
    },
    {
     "name": "stdout",
     "output_type": "stream",
     "text": [
      "Epoch:12    Loss:1.3339756853652722    NumUpdates:594\n"
     ]
    },
    {
     "data": {
      "application/vnd.jupyter.widget-view+json": {
       "model_id": "8f916573be444f19918ae4f4611ed415",
       "version_major": 2,
       "version_minor": 0
      },
      "text/plain": [
       "  0%|          | 0/594 [00:00<?, ?it/s]"
      ]
     },
     "metadata": {},
     "output_type": "display_data"
    },
    {
     "name": "stdout",
     "output_type": "stream",
     "text": [
      "Epoch:13    Loss:1.3305524902713017    NumUpdates:594\n"
     ]
    },
    {
     "data": {
      "application/vnd.jupyter.widget-view+json": {
       "model_id": "5a182026b1244d51bef1c60189bd45d4",
       "version_major": 2,
       "version_minor": 0
      },
      "text/plain": [
       "  0%|          | 0/594 [00:00<?, ?it/s]"
      ]
     },
     "metadata": {},
     "output_type": "display_data"
    },
    {
     "name": "stdout",
     "output_type": "stream",
     "text": [
      "Epoch:14    Loss:1.3274569611758094    NumUpdates:594\n",
      "Epoch 00014: reducing learning rate of group 0 to 1.0000e-05.\n"
     ]
    },
    {
     "data": {
      "application/vnd.jupyter.widget-view+json": {
       "model_id": "54ddfaa399be44698a0bf6d1620b782d",
       "version_major": 2,
       "version_minor": 0
      },
      "text/plain": [
       "  0%|          | 0/594 [00:00<?, ?it/s]"
      ]
     },
     "metadata": {},
     "output_type": "display_data"
    },
    {
     "name": "stdout",
     "output_type": "stream",
     "text": [
      "Epoch:15    Loss:1.3133100002301663    NumUpdates:594\n"
     ]
    },
    {
     "data": {
      "application/vnd.jupyter.widget-view+json": {
       "model_id": "5b7c3b44b3e8424dabc1e48d73fcb7b5",
       "version_major": 2,
       "version_minor": 0
      },
      "text/plain": [
       "  0%|          | 0/594 [00:00<?, ?it/s]"
      ]
     },
     "metadata": {},
     "output_type": "display_data"
    },
    {
     "name": "stdout",
     "output_type": "stream",
     "text": [
      "Epoch:16    Loss:1.3106727704455956    NumUpdates:594\n"
     ]
    },
    {
     "data": {
      "application/vnd.jupyter.widget-view+json": {
       "model_id": "6e630d3680e74deaa9c43c6f7ab1e083",
       "version_major": 2,
       "version_minor": 0
      },
      "text/plain": [
       "  0%|          | 0/594 [00:00<?, ?it/s]"
      ]
     },
     "metadata": {},
     "output_type": "display_data"
    },
    {
     "name": "stdout",
     "output_type": "stream",
     "text": [
      "Epoch:17    Loss:1.3105871336227315    NumUpdates:594\n"
     ]
    },
    {
     "data": {
      "application/vnd.jupyter.widget-view+json": {
       "model_id": "449ceea06fb143f5b1350408f39a5f50",
       "version_major": 2,
       "version_minor": 0
      },
      "text/plain": [
       "  0%|          | 0/594 [00:00<?, ?it/s]"
      ]
     },
     "metadata": {},
     "output_type": "display_data"
    },
    {
     "name": "stdout",
     "output_type": "stream",
     "text": [
      "Epoch:18    Loss:1.3105577045819574    NumUpdates:594\n"
     ]
    },
    {
     "data": {
      "application/vnd.jupyter.widget-view+json": {
       "model_id": "c85e87ec46b04279821e1c278ce869a5",
       "version_major": 2,
       "version_minor": 0
      },
      "text/plain": [
       "  0%|          | 0/594 [00:00<?, ?it/s]"
      ]
     },
     "metadata": {},
     "output_type": "display_data"
    },
    {
     "name": "stdout",
     "output_type": "stream",
     "text": [
      "Epoch:19    Loss:1.3105037806411384    NumUpdates:594\n"
     ]
    },
    {
     "data": {
      "application/vnd.jupyter.widget-view+json": {
       "model_id": "2e09c42a997b42ce98109c6b06aa2807",
       "version_major": 2,
       "version_minor": 0
      },
      "text/plain": [
       "  0%|          | 0/594 [00:00<?, ?it/s]"
      ]
     },
     "metadata": {},
     "output_type": "display_data"
    },
    {
     "name": "stdout",
     "output_type": "stream",
     "text": [
      "Epoch:20    Loss:1.3104668978087428    NumUpdates:594\n",
      "Epoch 00020: reducing learning rate of group 0 to 1.0000e-06.\n"
     ]
    },
    {
     "data": {
      "application/vnd.jupyter.widget-view+json": {
       "model_id": "0e3643e7a12e4e05b25a0887dfed97ab",
       "version_major": 2,
       "version_minor": 0
      },
      "text/plain": [
       "  0%|          | 0/594 [00:00<?, ?it/s]"
      ]
     },
     "metadata": {},
     "output_type": "display_data"
    },
    {
     "name": "stdout",
     "output_type": "stream",
     "text": [
      "Epoch:21    Loss:1.3093448004337271    NumUpdates:594\n"
     ]
    },
    {
     "data": {
      "application/vnd.jupyter.widget-view+json": {
       "model_id": "3a31980648e843548bf0e8a907444378",
       "version_major": 2,
       "version_minor": 0
      },
      "text/plain": [
       "  0%|          | 0/594 [00:00<?, ?it/s]"
      ]
     },
     "metadata": {},
     "output_type": "display_data"
    },
    {
     "name": "stdout",
     "output_type": "stream",
     "text": [
      "Epoch:22    Loss:1.3094484727792066    NumUpdates:594\n"
     ]
    },
    {
     "data": {
      "application/vnd.jupyter.widget-view+json": {
       "model_id": "8d15bab3efaf4b94961a5cb0185713e5",
       "version_major": 2,
       "version_minor": 0
      },
      "text/plain": [
       "  0%|          | 0/594 [00:00<?, ?it/s]"
      ]
     },
     "metadata": {},
     "output_type": "display_data"
    },
    {
     "name": "stdout",
     "output_type": "stream",
     "text": [
      "Epoch:23    Loss:1.3094499151313346    NumUpdates:594\n"
     ]
    },
    {
     "data": {
      "application/vnd.jupyter.widget-view+json": {
       "model_id": "c6a4f9f740ff4c3480208de3988f9efc",
       "version_major": 2,
       "version_minor": 0
      },
      "text/plain": [
       "  0%|          | 0/594 [00:00<?, ?it/s]"
      ]
     },
     "metadata": {},
     "output_type": "display_data"
    },
    {
     "name": "stdout",
     "output_type": "stream",
     "text": [
      "Epoch:24    Loss:1.3094583745757338    NumUpdates:594\n"
     ]
    },
    {
     "data": {
      "application/vnd.jupyter.widget-view+json": {
       "model_id": "181a8d6350544bc9b9564a12950f62e4",
       "version_major": 2,
       "version_minor": 0
      },
      "text/plain": [
       "  0%|          | 0/594 [00:00<?, ?it/s]"
      ]
     },
     "metadata": {},
     "output_type": "display_data"
    },
    {
     "name": "stdout",
     "output_type": "stream",
     "text": [
      "Epoch:25    Loss:1.3094623704952022    NumUpdates:594\n"
     ]
    },
    {
     "data": {
      "application/vnd.jupyter.widget-view+json": {
       "model_id": "5961245348f54f69a0f9188791da2c5e",
       "version_major": 2,
       "version_minor": 0
      },
      "text/plain": [
       "  0%|          | 0/594 [00:00<?, ?it/s]"
      ]
     },
     "metadata": {},
     "output_type": "display_data"
    },
    {
     "name": "stdout",
     "output_type": "stream",
     "text": [
      "Epoch:26    Loss:1.3094833220295634    NumUpdates:594\n",
      "Epoch 00026: reducing learning rate of group 0 to 1.0000e-07.\n"
     ]
    },
    {
     "data": {
      "application/vnd.jupyter.widget-view+json": {
       "model_id": "450f0a3c113c47819fea50ee39da24b3",
       "version_major": 2,
       "version_minor": 0
      },
      "text/plain": [
       "  0%|          | 0/594 [00:00<?, ?it/s]"
      ]
     },
     "metadata": {},
     "output_type": "display_data"
    },
    {
     "name": "stdout",
     "output_type": "stream",
     "text": [
      "Epoch:27    Loss:1.309614976849219    NumUpdates:594\n"
     ]
    },
    {
     "data": {
      "application/vnd.jupyter.widget-view+json": {
       "model_id": "85e127695ce741e3ade0168edae8360d",
       "version_major": 2,
       "version_minor": 0
      },
      "text/plain": [
       "  0%|          | 0/594 [00:00<?, ?it/s]"
      ]
     },
     "metadata": {},
     "output_type": "display_data"
    },
    {
     "name": "stdout",
     "output_type": "stream",
     "text": [
      "Epoch:28    Loss:1.3095447224398655    NumUpdates:594\n"
     ]
    },
    {
     "data": {
      "application/vnd.jupyter.widget-view+json": {
       "model_id": "75e62cf5e2544bccb55d4fce01eb2ebc",
       "version_major": 2,
       "version_minor": 0
      },
      "text/plain": [
       "  0%|          | 0/594 [00:00<?, ?it/s]"
      ]
     },
     "metadata": {},
     "output_type": "display_data"
    },
    {
     "name": "stdout",
     "output_type": "stream",
     "text": [
      "Epoch:29    Loss:1.309499852986448    NumUpdates:594\n"
     ]
    },
    {
     "data": {
      "application/vnd.jupyter.widget-view+json": {
       "model_id": "09e2f1a104a0477ca355cd555b043d8a",
       "version_major": 2,
       "version_minor": 0
      },
      "text/plain": [
       "  0%|          | 0/594 [00:00<?, ?it/s]"
      ]
     },
     "metadata": {},
     "output_type": "display_data"
    },
    {
     "name": "stdout",
     "output_type": "stream",
     "text": [
      "Epoch:30    Loss:1.3094724033416723    NumUpdates:594\n"
     ]
    },
    {
     "data": {
      "application/vnd.jupyter.widget-view+json": {
       "model_id": "cf0e71e83b7e443bb4b31c172b9670ed",
       "version_major": 2,
       "version_minor": 0
      },
      "text/plain": [
       "  0%|          | 0/594 [00:00<?, ?it/s]"
      ]
     },
     "metadata": {},
     "output_type": "display_data"
    },
    {
     "name": "stdout",
     "output_type": "stream",
     "text": [
      "Epoch:31    Loss:1.309453232922538    NumUpdates:594\n"
     ]
    },
    {
     "data": {
      "application/vnd.jupyter.widget-view+json": {
       "model_id": "8660ee6faaa44128af952ed1a30a6532",
       "version_major": 2,
       "version_minor": 0
      },
      "text/plain": [
       "  0%|          | 0/594 [00:00<?, ?it/s]"
      ]
     },
     "metadata": {},
     "output_type": "display_data"
    },
    {
     "name": "stdout",
     "output_type": "stream",
     "text": [
      "Epoch:32    Loss:1.3094388796424223    NumUpdates:594\n",
      "Epoch 00032: reducing learning rate of group 0 to 1.0000e-08.\n"
     ]
    },
    {
     "data": {
      "application/vnd.jupyter.widget-view+json": {
       "model_id": "1f947edafb894a4d867825f3fa220bb9",
       "version_major": 2,
       "version_minor": 0
      },
      "text/plain": [
       "  0%|          | 0/594 [00:00<?, ?it/s]"
      ]
     },
     "metadata": {},
     "output_type": "display_data"
    },
    {
     "name": "stdout",
     "output_type": "stream",
     "text": [
      "Epoch:33    Loss:1.3094687865237997    NumUpdates:594\n"
     ]
    },
    {
     "data": {
      "application/vnd.jupyter.widget-view+json": {
       "model_id": "5d038a7b88974bd48a368a71d34fdc0a",
       "version_major": 2,
       "version_minor": 0
      },
      "text/plain": [
       "  0%|          | 0/594 [00:00<?, ?it/s]"
      ]
     },
     "metadata": {},
     "output_type": "display_data"
    },
    {
     "name": "stdout",
     "output_type": "stream",
     "text": [
      "Epoch:34    Loss:1.3094678645583515    NumUpdates:594\n"
     ]
    },
    {
     "data": {
      "application/vnd.jupyter.widget-view+json": {
       "model_id": "0fc5c3a66c874ddea39b4052db62c246",
       "version_major": 2,
       "version_minor": 0
      },
      "text/plain": [
       "  0%|          | 0/594 [00:00<?, ?it/s]"
      ]
     },
     "metadata": {},
     "output_type": "display_data"
    },
    {
     "name": "stdout",
     "output_type": "stream",
     "text": [
      "Epoch:35    Loss:1.3094670329029712    NumUpdates:594\n"
     ]
    },
    {
     "data": {
      "application/vnd.jupyter.widget-view+json": {
       "model_id": "07f70deb783146ecb47578aac66c25a2",
       "version_major": 2,
       "version_minor": 0
      },
      "text/plain": [
       "  0%|          | 0/594 [00:00<?, ?it/s]"
      ]
     },
     "metadata": {},
     "output_type": "display_data"
    },
    {
     "name": "stdout",
     "output_type": "stream",
     "text": [
      "Epoch:36    Loss:1.3094658807471946    NumUpdates:594\n"
     ]
    },
    {
     "data": {
      "application/vnd.jupyter.widget-view+json": {
       "model_id": "0fc0688d93434671a3e82eac603664de",
       "version_major": 2,
       "version_minor": 0
      },
      "text/plain": [
       "  0%|          | 0/594 [00:00<?, ?it/s]"
      ]
     },
     "metadata": {},
     "output_type": "display_data"
    },
    {
     "name": "stdout",
     "output_type": "stream",
     "text": [
      "Epoch:37    Loss:1.3094635633908538    NumUpdates:594\n"
     ]
    },
    {
     "data": {
      "application/vnd.jupyter.widget-view+json": {
       "model_id": "592f7ed83c4040c79823564ecd51eb04",
       "version_major": 2,
       "version_minor": 0
      },
      "text/plain": [
       "  0%|          | 0/594 [00:00<?, ?it/s]"
      ]
     },
     "metadata": {},
     "output_type": "display_data"
    },
    {
     "name": "stdout",
     "output_type": "stream",
     "text": [
      "Epoch:38    Loss:1.3094625758000897    NumUpdates:594\n"
     ]
    },
    {
     "data": {
      "application/vnd.jupyter.widget-view+json": {
       "model_id": "715cecb1c9b5436f8dd30ebd7579d8df",
       "version_major": 2,
       "version_minor": 0
      },
      "text/plain": [
       "  0%|          | 0/594 [00:00<?, ?it/s]"
      ]
     },
     "metadata": {},
     "output_type": "display_data"
    },
    {
     "name": "stdout",
     "output_type": "stream",
     "text": [
      "Epoch:39    Loss:1.3094591982035524    NumUpdates:594\n"
     ]
    },
    {
     "data": {
      "application/vnd.jupyter.widget-view+json": {
       "model_id": "975b17815ed7441997c8fac3a451f7f0",
       "version_major": 2,
       "version_minor": 0
      },
      "text/plain": [
       "  0%|          | 0/594 [00:00<?, ?it/s]"
      ]
     },
     "metadata": {},
     "output_type": "display_data"
    },
    {
     "name": "stdout",
     "output_type": "stream",
     "text": [
      "Epoch:40    Loss:1.3094577393949232    NumUpdates:594\n"
     ]
    },
    {
     "data": {
      "application/vnd.jupyter.widget-view+json": {
       "model_id": "e84df9c9bfd2412f9a24d196870326bf",
       "version_major": 2,
       "version_minor": 0
      },
      "text/plain": [
       "  0%|          | 0/594 [00:00<?, ?it/s]"
      ]
     },
     "metadata": {},
     "output_type": "display_data"
    },
    {
     "name": "stdout",
     "output_type": "stream",
     "text": [
      "Epoch:41    Loss:1.3094564913097857    NumUpdates:594\n"
     ]
    },
    {
     "data": {
      "application/vnd.jupyter.widget-view+json": {
       "model_id": "2d53207c92f84c599cf7bc50ba6c7cf9",
       "version_major": 2,
       "version_minor": 0
      },
      "text/plain": [
       "  0%|          | 0/594 [00:00<?, ?it/s]"
      ]
     },
     "metadata": {},
     "output_type": "display_data"
    },
    {
     "name": "stdout",
     "output_type": "stream",
     "text": [
      "Epoch:42    Loss:1.3094559582796963    NumUpdates:594\n"
     ]
    },
    {
     "data": {
      "application/vnd.jupyter.widget-view+json": {
       "model_id": "44613668eabb4cd09f6d41d627d53ad5",
       "version_major": 2,
       "version_minor": 0
      },
      "text/plain": [
       "  0%|          | 0/594 [00:00<?, ?it/s]"
      ]
     },
     "metadata": {},
     "output_type": "display_data"
    },
    {
     "name": "stdout",
     "output_type": "stream",
     "text": [
      "Epoch:43    Loss:1.3094547581592393    NumUpdates:594\n"
     ]
    },
    {
     "data": {
      "application/vnd.jupyter.widget-view+json": {
       "model_id": "e3efa63b648e4a7f8d08fc07a5d605b9",
       "version_major": 2,
       "version_minor": 0
      },
      "text/plain": [
       "  0%|          | 0/594 [00:00<?, ?it/s]"
      ]
     },
     "metadata": {},
     "output_type": "display_data"
    },
    {
     "name": "stdout",
     "output_type": "stream",
     "text": [
      "Epoch:44    Loss:1.3094533760138232    NumUpdates:594\n"
     ]
    },
    {
     "data": {
      "application/vnd.jupyter.widget-view+json": {
       "model_id": "3a1048b11ebd4cbd8872c950234163b1",
       "version_major": 2,
       "version_minor": 0
      },
      "text/plain": [
       "  0%|          | 0/594 [00:00<?, ?it/s]"
      ]
     },
     "metadata": {},
     "output_type": "display_data"
    },
    {
     "name": "stdout",
     "output_type": "stream",
     "text": [
      "Epoch:45    Loss:1.30945227122066    NumUpdates:594\n"
     ]
    },
    {
     "data": {
      "application/vnd.jupyter.widget-view+json": {
       "model_id": "5513b54e199c4c4c8482daef175bf7b1",
       "version_major": 2,
       "version_minor": 0
      },
      "text/plain": [
       "  0%|          | 0/594 [00:00<?, ?it/s]"
      ]
     },
     "metadata": {},
     "output_type": "display_data"
    },
    {
     "name": "stdout",
     "output_type": "stream",
     "text": [
      "Epoch:46    Loss:1.3094507851183215    NumUpdates:594\n"
     ]
    },
    {
     "data": {
      "application/vnd.jupyter.widget-view+json": {
       "model_id": "09fba8cebc0b4c1e987637e0efec6a65",
       "version_major": 2,
       "version_minor": 0
      },
      "text/plain": [
       "  0%|          | 0/594 [00:00<?, ?it/s]"
      ]
     },
     "metadata": {},
     "output_type": "display_data"
    },
    {
     "name": "stdout",
     "output_type": "stream",
     "text": [
      "Epoch:47    Loss:1.3094500076489817    NumUpdates:594\n"
     ]
    },
    {
     "data": {
      "application/vnd.jupyter.widget-view+json": {
       "model_id": "cb5a416770e04a0aaaee717816d48bbc",
       "version_major": 2,
       "version_minor": 0
      },
      "text/plain": [
       "  0%|          | 0/594 [00:00<?, ?it/s]"
      ]
     },
     "metadata": {},
     "output_type": "display_data"
    },
    {
     "name": "stdout",
     "output_type": "stream",
     "text": [
      "Epoch:48    Loss:1.3094508870683534    NumUpdates:594\n"
     ]
    },
    {
     "data": {
      "application/vnd.jupyter.widget-view+json": {
       "model_id": "09747f412460444e84b879f7e4c3ac6a",
       "version_major": 2,
       "version_minor": 0
      },
      "text/plain": [
       "  0%|          | 0/594 [00:00<?, ?it/s]"
      ]
     },
     "metadata": {},
     "output_type": "display_data"
    },
    {
     "name": "stdout",
     "output_type": "stream",
     "text": [
      "Epoch:49    Loss:1.3094502731605813    NumUpdates:594\n"
     ]
    },
    {
     "data": {
      "application/vnd.jupyter.widget-view+json": {
       "model_id": "5578a5f64a4c485bba51c7e0a8954e55",
       "version_major": 2,
       "version_minor": 0
      },
      "text/plain": [
       "  0%|          | 0/594 [00:00<?, ?it/s]"
      ]
     },
     "metadata": {},
     "output_type": "display_data"
    },
    {
     "name": "stdout",
     "output_type": "stream",
     "text": [
      "Epoch:50    Loss:1.309449386516404    NumUpdates:594\n"
     ]
    }
   ],
   "source": [
    "epoch_losses = []\n",
    "iteration_losses = []\n",
    "num_updates_epochs = []\n",
    "for epoch in tqdm(range(1, num_epochs+1)):\n",
    "    epoch_loss_list = [] \n",
    "    num_updates_epoch = 0\n",
    "    for image_batch, text_batch in tqdm(train_loader, leave=False):\n",
    "        optimizer.zero_grad()\n",
    "        text_batch_logits = crnn(image_batch.to(device))\n",
    "        loss = compute_loss(text_batch, text_batch_logits)\n",
    "        iteration_loss = loss.item()\n",
    "\n",
    "        if np.isnan(iteration_loss) or np.isinf(iteration_loss):\n",
    "            continue\n",
    "          \n",
    "        num_updates_epoch += 1\n",
    "        iteration_losses.append(iteration_loss)\n",
    "        epoch_loss_list.append(iteration_loss)\n",
    "        loss.backward()\n",
    "        nn.utils.clip_grad_norm_(crnn.parameters(), clip_norm)\n",
    "        optimizer.step()\n",
    "\n",
    "    epoch_loss = np.mean(epoch_loss_list)\n",
    "    print(\"Epoch:{}    Loss:{}    NumUpdates:{}\".format(epoch, epoch_loss, num_updates_epoch))\n",
    "    epoch_losses.append(epoch_loss)\n",
    "    num_updates_epochs.append(num_updates_epoch)\n",
    "    lr_scheduler.step(epoch_loss)"
   ]
  },
  {
   "cell_type": "code",
   "execution_count": 30,
   "metadata": {},
   "outputs": [],
   "source": [
    "torch.save(crnn.state_dict(), 'crnn_no_chinese_model_2.pth')"
   ]
  },
  {
   "cell_type": "code",
   "execution_count": 31,
   "metadata": {},
   "outputs": [
    {
     "data": {
      "text/plain": [
       "CRNN(\n",
       "  (cnn_p1): Sequential(\n",
       "    (0): Conv2d(3, 64, kernel_size=(7, 7), stride=(2, 2), padding=(3, 3), bias=False)\n",
       "    (1): BatchNorm2d(64, eps=1e-05, momentum=0.1, affine=True, track_running_stats=True)\n",
       "    (2): ReLU(inplace=True)\n",
       "    (3): MaxPool2d(kernel_size=3, stride=2, padding=1, dilation=1, ceil_mode=False)\n",
       "    (4): Sequential(\n",
       "      (0): BasicBlock(\n",
       "        (conv1): Conv2d(64, 64, kernel_size=(3, 3), stride=(1, 1), padding=(1, 1), bias=False)\n",
       "        (bn1): BatchNorm2d(64, eps=1e-05, momentum=0.1, affine=True, track_running_stats=True)\n",
       "        (relu): ReLU(inplace=True)\n",
       "        (conv2): Conv2d(64, 64, kernel_size=(3, 3), stride=(1, 1), padding=(1, 1), bias=False)\n",
       "        (bn2): BatchNorm2d(64, eps=1e-05, momentum=0.1, affine=True, track_running_stats=True)\n",
       "      )\n",
       "      (1): BasicBlock(\n",
       "        (conv1): Conv2d(64, 64, kernel_size=(3, 3), stride=(1, 1), padding=(1, 1), bias=False)\n",
       "        (bn1): BatchNorm2d(64, eps=1e-05, momentum=0.1, affine=True, track_running_stats=True)\n",
       "        (relu): ReLU(inplace=True)\n",
       "        (conv2): Conv2d(64, 64, kernel_size=(3, 3), stride=(1, 1), padding=(1, 1), bias=False)\n",
       "        (bn2): BatchNorm2d(64, eps=1e-05, momentum=0.1, affine=True, track_running_stats=True)\n",
       "      )\n",
       "    )\n",
       "    (5): Sequential(\n",
       "      (0): BasicBlock(\n",
       "        (conv1): Conv2d(64, 128, kernel_size=(3, 3), stride=(2, 2), padding=(1, 1), bias=False)\n",
       "        (bn1): BatchNorm2d(128, eps=1e-05, momentum=0.1, affine=True, track_running_stats=True)\n",
       "        (relu): ReLU(inplace=True)\n",
       "        (conv2): Conv2d(128, 128, kernel_size=(3, 3), stride=(1, 1), padding=(1, 1), bias=False)\n",
       "        (bn2): BatchNorm2d(128, eps=1e-05, momentum=0.1, affine=True, track_running_stats=True)\n",
       "        (downsample): Sequential(\n",
       "          (0): Conv2d(64, 128, kernel_size=(1, 1), stride=(2, 2), bias=False)\n",
       "          (1): BatchNorm2d(128, eps=1e-05, momentum=0.1, affine=True, track_running_stats=True)\n",
       "        )\n",
       "      )\n",
       "      (1): BasicBlock(\n",
       "        (conv1): Conv2d(128, 128, kernel_size=(3, 3), stride=(1, 1), padding=(1, 1), bias=False)\n",
       "        (bn1): BatchNorm2d(128, eps=1e-05, momentum=0.1, affine=True, track_running_stats=True)\n",
       "        (relu): ReLU(inplace=True)\n",
       "        (conv2): Conv2d(128, 128, kernel_size=(3, 3), stride=(1, 1), padding=(1, 1), bias=False)\n",
       "        (bn2): BatchNorm2d(128, eps=1e-05, momentum=0.1, affine=True, track_running_stats=True)\n",
       "      )\n",
       "    )\n",
       "    (6): Sequential(\n",
       "      (0): BasicBlock(\n",
       "        (conv1): Conv2d(128, 256, kernel_size=(3, 3), stride=(2, 2), padding=(1, 1), bias=False)\n",
       "        (bn1): BatchNorm2d(256, eps=1e-05, momentum=0.1, affine=True, track_running_stats=True)\n",
       "        (relu): ReLU(inplace=True)\n",
       "        (conv2): Conv2d(256, 256, kernel_size=(3, 3), stride=(1, 1), padding=(1, 1), bias=False)\n",
       "        (bn2): BatchNorm2d(256, eps=1e-05, momentum=0.1, affine=True, track_running_stats=True)\n",
       "        (downsample): Sequential(\n",
       "          (0): Conv2d(128, 256, kernel_size=(1, 1), stride=(2, 2), bias=False)\n",
       "          (1): BatchNorm2d(256, eps=1e-05, momentum=0.1, affine=True, track_running_stats=True)\n",
       "        )\n",
       "      )\n",
       "      (1): BasicBlock(\n",
       "        (conv1): Conv2d(256, 256, kernel_size=(3, 3), stride=(1, 1), padding=(1, 1), bias=False)\n",
       "        (bn1): BatchNorm2d(256, eps=1e-05, momentum=0.1, affine=True, track_running_stats=True)\n",
       "        (relu): ReLU(inplace=True)\n",
       "        (conv2): Conv2d(256, 256, kernel_size=(3, 3), stride=(1, 1), padding=(1, 1), bias=False)\n",
       "        (bn2): BatchNorm2d(256, eps=1e-05, momentum=0.1, affine=True, track_running_stats=True)\n",
       "      )\n",
       "    )\n",
       "  )\n",
       "  (cnn_p2): Sequential(\n",
       "    (0): Conv2d(256, 256, kernel_size=(3, 6), stride=(1, 1), padding=(1, 1))\n",
       "    (1): BatchNorm2d(256, eps=1e-05, momentum=0.1, affine=True, track_running_stats=True)\n",
       "    (2): ReLU(inplace=True)\n",
       "  )\n",
       "  (linear1): Linear(in_features=1024, out_features=256, bias=True)\n",
       "  (rnn1): GRU(256, 256, batch_first=True, bidirectional=True)\n",
       "  (rnn2): GRU(256, 256, batch_first=True, bidirectional=True)\n",
       "  (linear2): Linear(in_features=512, out_features=35, bias=True)\n",
       ")"
      ]
     },
     "execution_count": 31,
     "metadata": {},
     "output_type": "execute_result"
    }
   ],
   "source": [
    "model = CRNN(num_chars=len(char2idx), rnn_hidden_size=256, dropout=0.1)\n",
    "\n",
    "model.load_state_dict(torch.load('crnn_no_chinese_model.pth'))\n",
    "model.to('cpu')"
   ]
  },
  {
   "cell_type": "code",
   "execution_count": 32,
   "metadata": {},
   "outputs": [
    {
     "data": {
      "application/vnd.jupyter.widget-view+json": {
       "model_id": "de6f5dfa01a54d1fbfae13ce2224dc39",
       "version_major": 2,
       "version_minor": 0
      },
      "text/plain": [
       "  0%|          | 0/16 [00:00<?, ?it/s]"
      ]
     },
     "metadata": {},
     "output_type": "display_data"
    },
    {
     "data": {
      "text/html": [
       "<div>\n",
       "<style scoped>\n",
       "    .dataframe tbody tr th:only-of-type {\n",
       "        vertical-align: middle;\n",
       "    }\n",
       "\n",
       "    .dataframe tbody tr th {\n",
       "        vertical-align: top;\n",
       "    }\n",
       "\n",
       "    .dataframe thead th {\n",
       "        text-align: right;\n",
       "    }\n",
       "</style>\n",
       "<table border=\"1\" class=\"dataframe\">\n",
       "  <thead>\n",
       "    <tr style=\"text-align: right;\">\n",
       "      <th></th>\n",
       "      <th>actual</th>\n",
       "      <th>prediction</th>\n",
       "      <th>prediction_corrected</th>\n",
       "    </tr>\n",
       "  </thead>\n",
       "  <tbody>\n",
       "    <tr>\n",
       "      <th>0</th>\n",
       "      <td>AY6F46</td>\n",
       "      <td>YYYY664446</td>\n",
       "      <td>Y646</td>\n",
       "    </tr>\n",
       "    <tr>\n",
       "      <th>1</th>\n",
       "      <td>C096FU</td>\n",
       "      <td>0009996FFU</td>\n",
       "      <td>096FU</td>\n",
       "    </tr>\n",
       "    <tr>\n",
       "      <th>2</th>\n",
       "      <td>C0C9U1</td>\n",
       "      <td>CC00CC9911</td>\n",
       "      <td>C0C91</td>\n",
       "    </tr>\n",
       "    <tr>\n",
       "      <th>3</th>\n",
       "      <td>AY060V</td>\n",
       "      <td>YYYY00000V</td>\n",
       "      <td>Y0V</td>\n",
       "    </tr>\n",
       "    <tr>\n",
       "      <th>4</th>\n",
       "      <td>ADB398</td>\n",
       "      <td>DDDBBBB998</td>\n",
       "      <td>DB98</td>\n",
       "    </tr>\n",
       "  </tbody>\n",
       "</table>\n",
       "</div>"
      ],
      "text/plain": [
       "   actual  prediction prediction_corrected\n",
       "0  AY6F46  YYYY664446                 Y646\n",
       "1  C096FU  0009996FFU                096FU\n",
       "2  C0C9U1  CC00CC9911                C0C91\n",
       "3  AY060V  YYYY00000V                  Y0V\n",
       "4  ADB398  DDDBBBB998                 DB98"
      ]
     },
     "execution_count": 32,
     "metadata": {},
     "output_type": "execute_result"
    }
   ],
   "source": [
    "def decode_predictions(text_batch_logits):\n",
    "\n",
    "    text_batch_tokens = F.softmax(text_batch_logits, 2).argmax(2) # [T, batch_size]\n",
    "    text_batch_tokens = text_batch_tokens.numpy().T # [batch_size, T]\n",
    "\n",
    "    text_batch_tokens_new = []\n",
    "    for text_tokens in text_batch_tokens:\n",
    "        text = [idx2char[idx] for idx in text_tokens]\n",
    "        text = \"\".join(text)\n",
    "        text_batch_tokens_new.append(text)\n",
    "\n",
    "    return text_batch_tokens_new\n",
    "\n",
    "def remove_duplicates(text):\n",
    "    if len(text) > 1:\n",
    "        letters = [text[0]] + [letter for idx, letter in enumerate(text[1:], start=1) if text[idx] != text[idx-1]]\n",
    "    elif len(text) == 1:\n",
    "        letters = [text[0]]\n",
    "    else:\n",
    "        return \"\"\n",
    "    return \"\".join(letters)\n",
    "\n",
    "def correct_prediction(word):\n",
    "    parts = word.split(\"-\")\n",
    "    parts = [remove_duplicates(part) for part in parts]\n",
    "    corrected_word = \"\".join(parts)\n",
    "    return corrected_word\n",
    "\n",
    "results_val = pd.DataFrame(columns=['actual', 'prediction'])\n",
    "val_loader = DataLoader(valset, batch_size=16, num_workers=0, shuffle=False)\n",
    "with torch.no_grad():\n",
    "    for image_batch, text_batch in tqdm(val_loader, leave=True):\n",
    "        text_batch_logits = model(image_batch) # [T, batch_size, num_classes==num_features]\n",
    "        text_batch_pred = decode_predictions(text_batch_logits.cpu())\n",
    "        #print(text_batch, text_batch_pred)\n",
    "        df = pd.DataFrame(columns=['actual', 'prediction'])\n",
    "        df['actual'] = text_batch\n",
    "        df['prediction'] = text_batch_pred\n",
    "        results_val = pd.concat([results_val, df])\n",
    "results_val = results_val.reset_index(drop=True)\n",
    "results_val['prediction_corrected'] = results_val['prediction'].apply(correct_prediction)\n",
    "results_val.head()"
   ]
  },
  {
   "cell_type": "code",
   "execution_count": 33,
   "metadata": {},
   "outputs": [
    {
     "name": "stdout",
     "output_type": "stream",
     "text": [
      "0.02\n"
     ]
    }
   ],
   "source": [
    "train_accuracy = accuracy_score(results_val['actual'], results_val['prediction_corrected'])\n",
    "print(train_accuracy)"
   ]
  },
  {
   "cell_type": "code",
   "execution_count": 34,
   "metadata": {},
   "outputs": [
    {
     "data": {
      "text/plain": [
       "0        Y646\n",
       "1       096FU\n",
       "2       C0C91\n",
       "3         Y0V\n",
       "4        DB98\n",
       "        ...  \n",
       "245      L167\n",
       "246      UL12\n",
       "247     FJ956\n",
       "248      S61Z\n",
       "249    BRTW97\n",
       "Name: prediction_corrected, Length: 250, dtype: object"
      ]
     },
     "execution_count": 34,
     "metadata": {},
     "output_type": "execute_result"
    }
   ],
   "source": [
    "results_val['prediction_corrected']"
   ]
  },
  {
   "cell_type": "code",
   "execution_count": 127,
   "metadata": {},
   "outputs": [
    {
     "name": "stdout",
     "output_type": "stream",
     "text": [
      "yes\n"
     ]
    }
   ],
   "source": [
    "if (results_val['prediction_corrected'][0][0] == results_val['actual'][0][1]):\n",
    "    print(\"yes\")"
   ]
  },
  {
   "cell_type": "code",
   "execution_count": 35,
   "metadata": {},
   "outputs": [
    {
     "name": "stdout",
     "output_type": "stream",
     "text": [
      "0.7491428571428571\n"
     ]
    }
   ],
   "source": [
    "count = 0\n",
    "for i in range(250):\n",
    "    for j in range(6):\n",
    "    \n",
    "        for k in range(len(results_val['prediction_corrected'][i])):\n",
    "        \n",
    "            if(results_val['actual'][i][j] == results_val['prediction_corrected'][i][k]):\n",
    "                count = count + 1\n",
    "print(count/1750)                \n"
   ]
  }
 ],
 "metadata": {
  "kernelspec": {
   "display_name": "DeepLearning",
   "language": "python",
   "name": "python3"
  },
  "language_info": {
   "codemirror_mode": {
    "name": "ipython",
    "version": 3
   },
   "file_extension": ".py",
   "mimetype": "text/x-python",
   "name": "python",
   "nbconvert_exporter": "python",
   "pygments_lexer": "ipython3",
   "version": "3.11.5"
  }
 },
 "nbformat": 4,
 "nbformat_minor": 2
}
