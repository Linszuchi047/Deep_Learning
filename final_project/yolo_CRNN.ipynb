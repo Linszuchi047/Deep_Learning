{
 "cells": [
  {
   "cell_type": "code",
   "execution_count": 18,
   "metadata": {},
   "outputs": [],
   "source": [
    "# Main\n",
    "import os\n",
    "import gc\n",
    "import shutil\n",
    "import time\n",
    "import random\n",
    "import cv2\n",
    "import numpy as np \n",
    "import pandas as pd\n",
    "import glob\n",
    "from tqdm import tqdm\n",
    "tqdm.pandas()\n",
    "import re\n",
    "\n",
    "# Data Visualization\n",
    "import matplotlib\n",
    "import matplotlib.pyplot as plt\n",
    "import matplotlib.image as mpimg\n",
    "import plotly\n",
    "import plotly.graph_objects as go\n",
    "import plotly.express as px\n",
    "from plotly.subplots import make_subplots\n",
    "from IPython.display import Image, display\n",
    "\n",
    "import torch\n",
    "import torch.nn as nn\n",
    "import torch.nn.functional as F\n",
    "import torch.optim as optim\n",
    "from torch.utils.data import Dataset, DataLoader\n",
    "from torchvision import transforms\n",
    "from torchvision.models import resnet18\n",
    "\n",
    "import string\n",
    "from tqdm.notebook import tqdm\n",
    "import cv2\n",
    "from PIL import Image\n",
    "from sklearn.model_selection import train_test_split\n",
    "from sklearn.metrics import accuracy_score\n",
    "import multiprocessing as mp\n"
   ]
  },
  {
   "cell_type": "code",
   "execution_count": 2,
   "metadata": {},
   "outputs": [],
   "source": [
    "provinces = [\"皖\", \"沪\", \"津\", \"渝\", \"冀\", \"晋\", \"蒙\", \"辽\", \"吉\", \"黑\", \"苏\", \"浙\", \"京\", \"闽\", \"赣\", \"鲁\", \"豫\", \"鄂\", \"湘\", \"粤\", \"桂\", \"琼\", \"川\", \"贵\", \"云\", \"藏\", \"陕\", \"甘\", \"青\", \"宁\", \"新\", \"警\", \"学\", \"O\"]\n",
    "alphabets = ['A', 'B', 'C', 'D', 'E', 'F', 'G', 'H', 'J', 'K', 'L', 'M', 'N', 'P', 'Q', 'R', 'S', 'T', 'U', 'V', 'W',\n",
    "             'X', 'Y', 'Z', 'O']\n",
    "ads = ['A', 'B', 'C', 'D', 'E', 'F', 'G', 'H', 'J', 'K', 'L', 'M', 'N', 'P', 'Q', 'R', 'S', 'T', 'U', 'V', 'W', 'X',\n",
    "       'Y', 'Z', '0', '1', '2', '3', '4', '5', '6', '7', '8', '9', 'O']\n",
    "\n",
    "# list_sub = [\"ccpd_base\", \"ccpd_fn\", \"ccpd_db\", \"ccpd_rotate\", \"ccpd_weather\", \"ccpd_blur\"]\n",
    "list_sub = [\"ccpd_weather\"]\n",
    "BASE_PATH = \"C:/Users/User/DeepLearning/Deep_Learning/final_project\""
   ]
  },
  {
   "cell_type": "code",
   "execution_count": 3,
   "metadata": {},
   "outputs": [
    {
     "data": {
      "text/html": [
       "<div>\n",
       "<style scoped>\n",
       "    .dataframe tbody tr th:only-of-type {\n",
       "        vertical-align: middle;\n",
       "    }\n",
       "\n",
       "    .dataframe tbody tr th {\n",
       "        vertical-align: top;\n",
       "    }\n",
       "\n",
       "    .dataframe thead th {\n",
       "        text-align: right;\n",
       "    }\n",
       "</style>\n",
       "<table border=\"1\" class=\"dataframe\">\n",
       "  <thead>\n",
       "    <tr style=\"text-align: right;\">\n",
       "      <th></th>\n",
       "      <th>image_path</th>\n",
       "      <th>sub</th>\n",
       "      <th>x1_bbox</th>\n",
       "      <th>y1_bbox</th>\n",
       "      <th>x2_bbox</th>\n",
       "      <th>y2_bbox</th>\n",
       "      <th>decoded_plate_number</th>\n",
       "    </tr>\n",
       "  </thead>\n",
       "  <tbody>\n",
       "    <tr>\n",
       "      <th>0</th>\n",
       "      <td>C:/Users/User/DeepLearning/Deep_Learning/final...</td>\n",
       "      <td>ccpd_weather</td>\n",
       "      <td>294</td>\n",
       "      <td>496</td>\n",
       "      <td>374</td>\n",
       "      <td>540</td>\n",
       "      <td>皖AD130W</td>\n",
       "    </tr>\n",
       "    <tr>\n",
       "      <th>1</th>\n",
       "      <td>C:/Users/User/DeepLearning/Deep_Learning/final...</td>\n",
       "      <td>ccpd_weather</td>\n",
       "      <td>304</td>\n",
       "      <td>542</td>\n",
       "      <td>411</td>\n",
       "      <td>577</td>\n",
       "      <td>皖AUT267</td>\n",
       "    </tr>\n",
       "    <tr>\n",
       "      <th>2</th>\n",
       "      <td>C:/Users/User/DeepLearning/Deep_Learning/final...</td>\n",
       "      <td>ccpd_weather</td>\n",
       "      <td>339</td>\n",
       "      <td>547</td>\n",
       "      <td>444</td>\n",
       "      <td>583</td>\n",
       "      <td>皖MZ4882</td>\n",
       "    </tr>\n",
       "    <tr>\n",
       "      <th>3</th>\n",
       "      <td>C:/Users/User/DeepLearning/Deep_Learning/final...</td>\n",
       "      <td>ccpd_weather</td>\n",
       "      <td>177</td>\n",
       "      <td>511</td>\n",
       "      <td>268</td>\n",
       "      <td>553</td>\n",
       "      <td>皖AVD028</td>\n",
       "    </tr>\n",
       "    <tr>\n",
       "      <th>4</th>\n",
       "      <td>C:/Users/User/DeepLearning/Deep_Learning/final...</td>\n",
       "      <td>ccpd_weather</td>\n",
       "      <td>402</td>\n",
       "      <td>426</td>\n",
       "      <td>497</td>\n",
       "      <td>467</td>\n",
       "      <td>皖RL222P</td>\n",
       "    </tr>\n",
       "    <tr>\n",
       "      <th>...</th>\n",
       "      <td>...</td>\n",
       "      <td>...</td>\n",
       "      <td>...</td>\n",
       "      <td>...</td>\n",
       "      <td>...</td>\n",
       "      <td>...</td>\n",
       "      <td>...</td>\n",
       "    </tr>\n",
       "    <tr>\n",
       "      <th>5495</th>\n",
       "      <td>C:/Users/User/DeepLearning/Deep_Learning/final...</td>\n",
       "      <td>ccpd_weather</td>\n",
       "      <td>96</td>\n",
       "      <td>584</td>\n",
       "      <td>372</td>\n",
       "      <td>688</td>\n",
       "      <td>皖AR8T97</td>\n",
       "    </tr>\n",
       "    <tr>\n",
       "      <th>5496</th>\n",
       "      <td>C:/Users/User/DeepLearning/Deep_Learning/final...</td>\n",
       "      <td>ccpd_weather</td>\n",
       "      <td>265</td>\n",
       "      <td>514</td>\n",
       "      <td>533</td>\n",
       "      <td>621</td>\n",
       "      <td>皖AL6M60</td>\n",
       "    </tr>\n",
       "    <tr>\n",
       "      <th>5497</th>\n",
       "      <td>C:/Users/User/DeepLearning/Deep_Learning/final...</td>\n",
       "      <td>ccpd_weather</td>\n",
       "      <td>282</td>\n",
       "      <td>536</td>\n",
       "      <td>566</td>\n",
       "      <td>637</td>\n",
       "      <td>皖A576X9</td>\n",
       "    </tr>\n",
       "    <tr>\n",
       "      <th>5498</th>\n",
       "      <td>C:/Users/User/DeepLearning/Deep_Learning/final...</td>\n",
       "      <td>ccpd_weather</td>\n",
       "      <td>64</td>\n",
       "      <td>606</td>\n",
       "      <td>309</td>\n",
       "      <td>723</td>\n",
       "      <td>皖ALF155</td>\n",
       "    </tr>\n",
       "    <tr>\n",
       "      <th>5499</th>\n",
       "      <td>C:/Users/User/DeepLearning/Deep_Learning/final...</td>\n",
       "      <td>ccpd_weather</td>\n",
       "      <td>124</td>\n",
       "      <td>496</td>\n",
       "      <td>378</td>\n",
       "      <td>609</td>\n",
       "      <td>皖A3M336</td>\n",
       "    </tr>\n",
       "  </tbody>\n",
       "</table>\n",
       "<p>5500 rows × 7 columns</p>\n",
       "</div>"
      ],
      "text/plain": [
       "                                             image_path           sub  \\\n",
       "0     C:/Users/User/DeepLearning/Deep_Learning/final...  ccpd_weather   \n",
       "1     C:/Users/User/DeepLearning/Deep_Learning/final...  ccpd_weather   \n",
       "2     C:/Users/User/DeepLearning/Deep_Learning/final...  ccpd_weather   \n",
       "3     C:/Users/User/DeepLearning/Deep_Learning/final...  ccpd_weather   \n",
       "4     C:/Users/User/DeepLearning/Deep_Learning/final...  ccpd_weather   \n",
       "...                                                 ...           ...   \n",
       "5495  C:/Users/User/DeepLearning/Deep_Learning/final...  ccpd_weather   \n",
       "5496  C:/Users/User/DeepLearning/Deep_Learning/final...  ccpd_weather   \n",
       "5497  C:/Users/User/DeepLearning/Deep_Learning/final...  ccpd_weather   \n",
       "5498  C:/Users/User/DeepLearning/Deep_Learning/final...  ccpd_weather   \n",
       "5499  C:/Users/User/DeepLearning/Deep_Learning/final...  ccpd_weather   \n",
       "\n",
       "      x1_bbox  y1_bbox  x2_bbox  y2_bbox decoded_plate_number  \n",
       "0         294      496      374      540              皖AD130W  \n",
       "1         304      542      411      577              皖AUT267  \n",
       "2         339      547      444      583              皖MZ4882  \n",
       "3         177      511      268      553              皖AVD028  \n",
       "4         402      426      497      467              皖RL222P  \n",
       "...       ...      ...      ...      ...                  ...  \n",
       "5495       96      584      372      688              皖AR8T97  \n",
       "5496      265      514      533      621              皖AL6M60  \n",
       "5497      282      536      566      637              皖A576X9  \n",
       "5498       64      606      309      723              皖ALF155  \n",
       "5499      124      496      378      609              皖A3M336  \n",
       "\n",
       "[5500 rows x 7 columns]"
      ]
     },
     "execution_count": 3,
     "metadata": {},
     "output_type": "execute_result"
    }
   ],
   "source": [
    "# Create Metadata\n",
    "def extract_plate_number(plate_number):\n",
    "    chi_let = provinces[int(plate_number.split(\"_\")[0])]\n",
    "    alp_let = alphabets[int(plate_number.split(\"_\")[1])]\n",
    "    alp_num_let = plate_number.split(\"_\")[2:]\n",
    "    alp_num_let = \"\".join([ads[int(char)] for char in alp_num_let])\n",
    "    all_let = chi_let + alp_let + alp_num_let\n",
    "    return all_let\n",
    "metadata_list = []\n",
    "\n",
    "# Iterate over subdirectories\n",
    "for sub in list_sub:\n",
    "    sub_path = os.path.join(BASE_PATH, sub)\n",
    "    sub_files = glob.glob(os.path.join(sub_path, \"*\"))\n",
    "\n",
    "    # Append a dictionary for each file in the subdirectory\n",
    "    for file_path in sub_files:\n",
    "        # Extracting values\n",
    "        detail = file_path.split(\"/\")[-1].split(\"-\")[2]\n",
    "        bbox = detail.split(\"_\")[0]\n",
    "        x1_bbox, y1_bbox = map(int, bbox.split(\",\"))\n",
    "        x2_bbox, y2_bbox = map(int, detail.split(\"_\")[1].split(\",\"))\n",
    "\n",
    "      \n",
    "\n",
    "        # Extracting plate number\n",
    "        plate_number = file_path.split(\"-\")[4]\n",
    "\n",
    "        # Create a dictionary for each file\n",
    "        metadata_dict = {\n",
    "            \"image_path\": file_path,\n",
    "            \"sub\": sub,\n",
    "            \"x1_bbox\": x1_bbox,\n",
    "            \"y1_bbox\": y1_bbox,\n",
    "            \"x2_bbox\": x2_bbox,\n",
    "            \"y2_bbox\": y2_bbox,\n",
    "            \n",
    "        }\n",
    "\n",
    "        # Add more columns to metadata_dict if needed\n",
    "        metadata_dict[\"decoded_plate_number\"] = extract_plate_number(plate_number)\n",
    "\n",
    "        # Append the dictionary to the list\n",
    "        metadata_list.append(metadata_dict)\n",
    "\n",
    "# Create DataFrame from the list of dictionaries\n",
    "df_metadata = pd.DataFrame(metadata_list)\n",
    "\n",
    "# Display the DataFrame\n",
    "df_metadata = df_metadata[:5500] \n",
    "df_metadata"
   ]
  },
  {
   "cell_type": "code",
   "execution_count": 4,
   "metadata": {},
   "outputs": [
    {
     "data": {
      "text/html": [
       "<div>\n",
       "<style scoped>\n",
       "    .dataframe tbody tr th:only-of-type {\n",
       "        vertical-align: middle;\n",
       "    }\n",
       "\n",
       "    .dataframe tbody tr th {\n",
       "        vertical-align: top;\n",
       "    }\n",
       "\n",
       "    .dataframe thead th {\n",
       "        text-align: right;\n",
       "    }\n",
       "</style>\n",
       "<table border=\"1\" class=\"dataframe\">\n",
       "  <thead>\n",
       "    <tr style=\"text-align: right;\">\n",
       "      <th></th>\n",
       "      <th>image_path</th>\n",
       "      <th>sub</th>\n",
       "      <th>x1_bbox</th>\n",
       "      <th>y1_bbox</th>\n",
       "      <th>x2_bbox</th>\n",
       "      <th>y2_bbox</th>\n",
       "      <th>decoded_plate_number</th>\n",
       "      <th>xmid</th>\n",
       "      <th>ymid</th>\n",
       "      <th>bb_width</th>\n",
       "      <th>bb_height</th>\n",
       "    </tr>\n",
       "  </thead>\n",
       "  <tbody>\n",
       "    <tr>\n",
       "      <th>0</th>\n",
       "      <td>C:/Users/User/DeepLearning/Deep_Learning/final...</td>\n",
       "      <td>ccpd_weather</td>\n",
       "      <td>294</td>\n",
       "      <td>496</td>\n",
       "      <td>374</td>\n",
       "      <td>540</td>\n",
       "      <td>皖AD130W</td>\n",
       "      <td>0.463889</td>\n",
       "      <td>0.446552</td>\n",
       "      <td>0.111111</td>\n",
       "      <td>0.037931</td>\n",
       "    </tr>\n",
       "    <tr>\n",
       "      <th>1</th>\n",
       "      <td>C:/Users/User/DeepLearning/Deep_Learning/final...</td>\n",
       "      <td>ccpd_weather</td>\n",
       "      <td>304</td>\n",
       "      <td>542</td>\n",
       "      <td>411</td>\n",
       "      <td>577</td>\n",
       "      <td>皖AUT267</td>\n",
       "      <td>0.496528</td>\n",
       "      <td>0.482328</td>\n",
       "      <td>0.148611</td>\n",
       "      <td>0.030172</td>\n",
       "    </tr>\n",
       "    <tr>\n",
       "      <th>2</th>\n",
       "      <td>C:/Users/User/DeepLearning/Deep_Learning/final...</td>\n",
       "      <td>ccpd_weather</td>\n",
       "      <td>339</td>\n",
       "      <td>547</td>\n",
       "      <td>444</td>\n",
       "      <td>583</td>\n",
       "      <td>皖MZ4882</td>\n",
       "      <td>0.543750</td>\n",
       "      <td>0.487069</td>\n",
       "      <td>0.145833</td>\n",
       "      <td>0.031034</td>\n",
       "    </tr>\n",
       "    <tr>\n",
       "      <th>3</th>\n",
       "      <td>C:/Users/User/DeepLearning/Deep_Learning/final...</td>\n",
       "      <td>ccpd_weather</td>\n",
       "      <td>177</td>\n",
       "      <td>511</td>\n",
       "      <td>268</td>\n",
       "      <td>553</td>\n",
       "      <td>皖AVD028</td>\n",
       "      <td>0.309028</td>\n",
       "      <td>0.458621</td>\n",
       "      <td>0.126389</td>\n",
       "      <td>0.036207</td>\n",
       "    </tr>\n",
       "    <tr>\n",
       "      <th>4</th>\n",
       "      <td>C:/Users/User/DeepLearning/Deep_Learning/final...</td>\n",
       "      <td>ccpd_weather</td>\n",
       "      <td>402</td>\n",
       "      <td>426</td>\n",
       "      <td>497</td>\n",
       "      <td>467</td>\n",
       "      <td>皖RL222P</td>\n",
       "      <td>0.624306</td>\n",
       "      <td>0.384914</td>\n",
       "      <td>0.131944</td>\n",
       "      <td>0.035345</td>\n",
       "    </tr>\n",
       "    <tr>\n",
       "      <th>...</th>\n",
       "      <td>...</td>\n",
       "      <td>...</td>\n",
       "      <td>...</td>\n",
       "      <td>...</td>\n",
       "      <td>...</td>\n",
       "      <td>...</td>\n",
       "      <td>...</td>\n",
       "      <td>...</td>\n",
       "      <td>...</td>\n",
       "      <td>...</td>\n",
       "      <td>...</td>\n",
       "    </tr>\n",
       "    <tr>\n",
       "      <th>5495</th>\n",
       "      <td>C:/Users/User/DeepLearning/Deep_Learning/final...</td>\n",
       "      <td>ccpd_weather</td>\n",
       "      <td>96</td>\n",
       "      <td>584</td>\n",
       "      <td>372</td>\n",
       "      <td>688</td>\n",
       "      <td>皖AR8T97</td>\n",
       "      <td>0.325000</td>\n",
       "      <td>0.548276</td>\n",
       "      <td>0.383333</td>\n",
       "      <td>0.089655</td>\n",
       "    </tr>\n",
       "    <tr>\n",
       "      <th>5496</th>\n",
       "      <td>C:/Users/User/DeepLearning/Deep_Learning/final...</td>\n",
       "      <td>ccpd_weather</td>\n",
       "      <td>265</td>\n",
       "      <td>514</td>\n",
       "      <td>533</td>\n",
       "      <td>621</td>\n",
       "      <td>皖AL6M60</td>\n",
       "      <td>0.554167</td>\n",
       "      <td>0.489224</td>\n",
       "      <td>0.372222</td>\n",
       "      <td>0.092241</td>\n",
       "    </tr>\n",
       "    <tr>\n",
       "      <th>5497</th>\n",
       "      <td>C:/Users/User/DeepLearning/Deep_Learning/final...</td>\n",
       "      <td>ccpd_weather</td>\n",
       "      <td>282</td>\n",
       "      <td>536</td>\n",
       "      <td>566</td>\n",
       "      <td>637</td>\n",
       "      <td>皖A576X9</td>\n",
       "      <td>0.588889</td>\n",
       "      <td>0.505603</td>\n",
       "      <td>0.394444</td>\n",
       "      <td>0.087069</td>\n",
       "    </tr>\n",
       "    <tr>\n",
       "      <th>5498</th>\n",
       "      <td>C:/Users/User/DeepLearning/Deep_Learning/final...</td>\n",
       "      <td>ccpd_weather</td>\n",
       "      <td>64</td>\n",
       "      <td>606</td>\n",
       "      <td>309</td>\n",
       "      <td>723</td>\n",
       "      <td>皖ALF155</td>\n",
       "      <td>0.259028</td>\n",
       "      <td>0.572845</td>\n",
       "      <td>0.340278</td>\n",
       "      <td>0.100862</td>\n",
       "    </tr>\n",
       "    <tr>\n",
       "      <th>5499</th>\n",
       "      <td>C:/Users/User/DeepLearning/Deep_Learning/final...</td>\n",
       "      <td>ccpd_weather</td>\n",
       "      <td>124</td>\n",
       "      <td>496</td>\n",
       "      <td>378</td>\n",
       "      <td>609</td>\n",
       "      <td>皖A3M336</td>\n",
       "      <td>0.348611</td>\n",
       "      <td>0.476293</td>\n",
       "      <td>0.352778</td>\n",
       "      <td>0.097414</td>\n",
       "    </tr>\n",
       "  </tbody>\n",
       "</table>\n",
       "<p>5500 rows × 11 columns</p>\n",
       "</div>"
      ],
      "text/plain": [
       "                                             image_path           sub  \\\n",
       "0     C:/Users/User/DeepLearning/Deep_Learning/final...  ccpd_weather   \n",
       "1     C:/Users/User/DeepLearning/Deep_Learning/final...  ccpd_weather   \n",
       "2     C:/Users/User/DeepLearning/Deep_Learning/final...  ccpd_weather   \n",
       "3     C:/Users/User/DeepLearning/Deep_Learning/final...  ccpd_weather   \n",
       "4     C:/Users/User/DeepLearning/Deep_Learning/final...  ccpd_weather   \n",
       "...                                                 ...           ...   \n",
       "5495  C:/Users/User/DeepLearning/Deep_Learning/final...  ccpd_weather   \n",
       "5496  C:/Users/User/DeepLearning/Deep_Learning/final...  ccpd_weather   \n",
       "5497  C:/Users/User/DeepLearning/Deep_Learning/final...  ccpd_weather   \n",
       "5498  C:/Users/User/DeepLearning/Deep_Learning/final...  ccpd_weather   \n",
       "5499  C:/Users/User/DeepLearning/Deep_Learning/final...  ccpd_weather   \n",
       "\n",
       "      x1_bbox  y1_bbox  x2_bbox  y2_bbox decoded_plate_number      xmid  \\\n",
       "0         294      496      374      540              皖AD130W  0.463889   \n",
       "1         304      542      411      577              皖AUT267  0.496528   \n",
       "2         339      547      444      583              皖MZ4882  0.543750   \n",
       "3         177      511      268      553              皖AVD028  0.309028   \n",
       "4         402      426      497      467              皖RL222P  0.624306   \n",
       "...       ...      ...      ...      ...                  ...       ...   \n",
       "5495       96      584      372      688              皖AR8T97  0.325000   \n",
       "5496      265      514      533      621              皖AL6M60  0.554167   \n",
       "5497      282      536      566      637              皖A576X9  0.588889   \n",
       "5498       64      606      309      723              皖ALF155  0.259028   \n",
       "5499      124      496      378      609              皖A3M336  0.348611   \n",
       "\n",
       "          ymid  bb_width  bb_height  \n",
       "0     0.446552  0.111111   0.037931  \n",
       "1     0.482328  0.148611   0.030172  \n",
       "2     0.487069  0.145833   0.031034  \n",
       "3     0.458621  0.126389   0.036207  \n",
       "4     0.384914  0.131944   0.035345  \n",
       "...        ...       ...        ...  \n",
       "5495  0.548276  0.383333   0.089655  \n",
       "5496  0.489224  0.372222   0.092241  \n",
       "5497  0.505603  0.394444   0.087069  \n",
       "5498  0.572845  0.340278   0.100862  \n",
       "5499  0.476293  0.352778   0.097414  \n",
       "\n",
       "[5500 rows x 11 columns]"
      ]
     },
     "execution_count": 4,
     "metadata": {},
     "output_type": "execute_result"
    }
   ],
   "source": [
    "df_metadata['xmid'] = (df_metadata['x1_bbox'] + df_metadata['x2_bbox']) / (2*720)\n",
    "df_metadata['ymid'] = (df_metadata['y1_bbox'] + df_metadata['y2_bbox']) / (2*1160)\n",
    "\n",
    "df_metadata['bb_width'] = (df_metadata['x2_bbox'] - df_metadata['x1_bbox']) / 720\n",
    "df_metadata['bb_height'] = (df_metadata['y2_bbox'] - df_metadata['y1_bbox']) / 1160\n",
    "\n",
    "df_metadata"
   ]
  },
  {
   "cell_type": "code",
   "execution_count": 5,
   "metadata": {},
   "outputs": [
    {
     "data": {
      "text/html": [
       "<div>\n",
       "<style scoped>\n",
       "    .dataframe tbody tr th:only-of-type {\n",
       "        vertical-align: middle;\n",
       "    }\n",
       "\n",
       "    .dataframe tbody tr th {\n",
       "        vertical-align: top;\n",
       "    }\n",
       "\n",
       "    .dataframe thead th {\n",
       "        text-align: right;\n",
       "    }\n",
       "</style>\n",
       "<table border=\"1\" class=\"dataframe\">\n",
       "  <thead>\n",
       "    <tr style=\"text-align: right;\">\n",
       "      <th></th>\n",
       "      <th>image_path</th>\n",
       "      <th>sub</th>\n",
       "      <th>x1_bbox</th>\n",
       "      <th>y1_bbox</th>\n",
       "      <th>x2_bbox</th>\n",
       "      <th>y2_bbox</th>\n",
       "      <th>decoded_plate_number</th>\n",
       "      <th>xmid</th>\n",
       "      <th>ymid</th>\n",
       "      <th>bb_width</th>\n",
       "      <th>bb_height</th>\n",
       "      <th>split</th>\n",
       "    </tr>\n",
       "  </thead>\n",
       "  <tbody>\n",
       "    <tr>\n",
       "      <th>0</th>\n",
       "      <td>C:/Users/User/DeepLearning/Deep_Learning/final...</td>\n",
       "      <td>ccpd_weather</td>\n",
       "      <td>294</td>\n",
       "      <td>496</td>\n",
       "      <td>374</td>\n",
       "      <td>540</td>\n",
       "      <td>皖AD130W</td>\n",
       "      <td>0.463889</td>\n",
       "      <td>0.446552</td>\n",
       "      <td>0.111111</td>\n",
       "      <td>0.037931</td>\n",
       "      <td>train</td>\n",
       "    </tr>\n",
       "    <tr>\n",
       "      <th>1</th>\n",
       "      <td>C:/Users/User/DeepLearning/Deep_Learning/final...</td>\n",
       "      <td>ccpd_weather</td>\n",
       "      <td>304</td>\n",
       "      <td>542</td>\n",
       "      <td>411</td>\n",
       "      <td>577</td>\n",
       "      <td>皖AUT267</td>\n",
       "      <td>0.496528</td>\n",
       "      <td>0.482328</td>\n",
       "      <td>0.148611</td>\n",
       "      <td>0.030172</td>\n",
       "      <td>train</td>\n",
       "    </tr>\n",
       "    <tr>\n",
       "      <th>2</th>\n",
       "      <td>C:/Users/User/DeepLearning/Deep_Learning/final...</td>\n",
       "      <td>ccpd_weather</td>\n",
       "      <td>339</td>\n",
       "      <td>547</td>\n",
       "      <td>444</td>\n",
       "      <td>583</td>\n",
       "      <td>皖MZ4882</td>\n",
       "      <td>0.543750</td>\n",
       "      <td>0.487069</td>\n",
       "      <td>0.145833</td>\n",
       "      <td>0.031034</td>\n",
       "      <td>train</td>\n",
       "    </tr>\n",
       "    <tr>\n",
       "      <th>3</th>\n",
       "      <td>C:/Users/User/DeepLearning/Deep_Learning/final...</td>\n",
       "      <td>ccpd_weather</td>\n",
       "      <td>177</td>\n",
       "      <td>511</td>\n",
       "      <td>268</td>\n",
       "      <td>553</td>\n",
       "      <td>皖AVD028</td>\n",
       "      <td>0.309028</td>\n",
       "      <td>0.458621</td>\n",
       "      <td>0.126389</td>\n",
       "      <td>0.036207</td>\n",
       "      <td>train</td>\n",
       "    </tr>\n",
       "    <tr>\n",
       "      <th>4</th>\n",
       "      <td>C:/Users/User/DeepLearning/Deep_Learning/final...</td>\n",
       "      <td>ccpd_weather</td>\n",
       "      <td>402</td>\n",
       "      <td>426</td>\n",
       "      <td>497</td>\n",
       "      <td>467</td>\n",
       "      <td>皖RL222P</td>\n",
       "      <td>0.624306</td>\n",
       "      <td>0.384914</td>\n",
       "      <td>0.131944</td>\n",
       "      <td>0.035345</td>\n",
       "      <td>train</td>\n",
       "    </tr>\n",
       "    <tr>\n",
       "      <th>...</th>\n",
       "      <td>...</td>\n",
       "      <td>...</td>\n",
       "      <td>...</td>\n",
       "      <td>...</td>\n",
       "      <td>...</td>\n",
       "      <td>...</td>\n",
       "      <td>...</td>\n",
       "      <td>...</td>\n",
       "      <td>...</td>\n",
       "      <td>...</td>\n",
       "      <td>...</td>\n",
       "      <td>...</td>\n",
       "    </tr>\n",
       "    <tr>\n",
       "      <th>5495</th>\n",
       "      <td>C:/Users/User/DeepLearning/Deep_Learning/final...</td>\n",
       "      <td>ccpd_weather</td>\n",
       "      <td>96</td>\n",
       "      <td>584</td>\n",
       "      <td>372</td>\n",
       "      <td>688</td>\n",
       "      <td>皖AR8T97</td>\n",
       "      <td>0.325000</td>\n",
       "      <td>0.548276</td>\n",
       "      <td>0.383333</td>\n",
       "      <td>0.089655</td>\n",
       "      <td>test</td>\n",
       "    </tr>\n",
       "    <tr>\n",
       "      <th>5496</th>\n",
       "      <td>C:/Users/User/DeepLearning/Deep_Learning/final...</td>\n",
       "      <td>ccpd_weather</td>\n",
       "      <td>265</td>\n",
       "      <td>514</td>\n",
       "      <td>533</td>\n",
       "      <td>621</td>\n",
       "      <td>皖AL6M60</td>\n",
       "      <td>0.554167</td>\n",
       "      <td>0.489224</td>\n",
       "      <td>0.372222</td>\n",
       "      <td>0.092241</td>\n",
       "      <td>test</td>\n",
       "    </tr>\n",
       "    <tr>\n",
       "      <th>5497</th>\n",
       "      <td>C:/Users/User/DeepLearning/Deep_Learning/final...</td>\n",
       "      <td>ccpd_weather</td>\n",
       "      <td>282</td>\n",
       "      <td>536</td>\n",
       "      <td>566</td>\n",
       "      <td>637</td>\n",
       "      <td>皖A576X9</td>\n",
       "      <td>0.588889</td>\n",
       "      <td>0.505603</td>\n",
       "      <td>0.394444</td>\n",
       "      <td>0.087069</td>\n",
       "      <td>test</td>\n",
       "    </tr>\n",
       "    <tr>\n",
       "      <th>5498</th>\n",
       "      <td>C:/Users/User/DeepLearning/Deep_Learning/final...</td>\n",
       "      <td>ccpd_weather</td>\n",
       "      <td>64</td>\n",
       "      <td>606</td>\n",
       "      <td>309</td>\n",
       "      <td>723</td>\n",
       "      <td>皖ALF155</td>\n",
       "      <td>0.259028</td>\n",
       "      <td>0.572845</td>\n",
       "      <td>0.340278</td>\n",
       "      <td>0.100862</td>\n",
       "      <td>test</td>\n",
       "    </tr>\n",
       "    <tr>\n",
       "      <th>5499</th>\n",
       "      <td>C:/Users/User/DeepLearning/Deep_Learning/final...</td>\n",
       "      <td>ccpd_weather</td>\n",
       "      <td>124</td>\n",
       "      <td>496</td>\n",
       "      <td>378</td>\n",
       "      <td>609</td>\n",
       "      <td>皖A3M336</td>\n",
       "      <td>0.348611</td>\n",
       "      <td>0.476293</td>\n",
       "      <td>0.352778</td>\n",
       "      <td>0.097414</td>\n",
       "      <td>test</td>\n",
       "    </tr>\n",
       "  </tbody>\n",
       "</table>\n",
       "<p>5500 rows × 12 columns</p>\n",
       "</div>"
      ],
      "text/plain": [
       "                                             image_path           sub  \\\n",
       "0     C:/Users/User/DeepLearning/Deep_Learning/final...  ccpd_weather   \n",
       "1     C:/Users/User/DeepLearning/Deep_Learning/final...  ccpd_weather   \n",
       "2     C:/Users/User/DeepLearning/Deep_Learning/final...  ccpd_weather   \n",
       "3     C:/Users/User/DeepLearning/Deep_Learning/final...  ccpd_weather   \n",
       "4     C:/Users/User/DeepLearning/Deep_Learning/final...  ccpd_weather   \n",
       "...                                                 ...           ...   \n",
       "5495  C:/Users/User/DeepLearning/Deep_Learning/final...  ccpd_weather   \n",
       "5496  C:/Users/User/DeepLearning/Deep_Learning/final...  ccpd_weather   \n",
       "5497  C:/Users/User/DeepLearning/Deep_Learning/final...  ccpd_weather   \n",
       "5498  C:/Users/User/DeepLearning/Deep_Learning/final...  ccpd_weather   \n",
       "5499  C:/Users/User/DeepLearning/Deep_Learning/final...  ccpd_weather   \n",
       "\n",
       "      x1_bbox  y1_bbox  x2_bbox  y2_bbox decoded_plate_number      xmid  \\\n",
       "0         294      496      374      540              皖AD130W  0.463889   \n",
       "1         304      542      411      577              皖AUT267  0.496528   \n",
       "2         339      547      444      583              皖MZ4882  0.543750   \n",
       "3         177      511      268      553              皖AVD028  0.309028   \n",
       "4         402      426      497      467              皖RL222P  0.624306   \n",
       "...       ...      ...      ...      ...                  ...       ...   \n",
       "5495       96      584      372      688              皖AR8T97  0.325000   \n",
       "5496      265      514      533      621              皖AL6M60  0.554167   \n",
       "5497      282      536      566      637              皖A576X9  0.588889   \n",
       "5498       64      606      309      723              皖ALF155  0.259028   \n",
       "5499      124      496      378      609              皖A3M336  0.348611   \n",
       "\n",
       "          ymid  bb_width  bb_height  split  \n",
       "0     0.446552  0.111111   0.037931  train  \n",
       "1     0.482328  0.148611   0.030172  train  \n",
       "2     0.487069  0.145833   0.031034  train  \n",
       "3     0.458621  0.126389   0.036207  train  \n",
       "4     0.384914  0.131944   0.035345  train  \n",
       "...        ...       ...        ...    ...  \n",
       "5495  0.548276  0.383333   0.089655   test  \n",
       "5496  0.489224  0.372222   0.092241   test  \n",
       "5497  0.505603  0.394444   0.087069   test  \n",
       "5498  0.572845  0.340278   0.100862   test  \n",
       "5499  0.476293  0.352778   0.097414   test  \n",
       "\n",
       "[5500 rows x 12 columns]"
      ]
     },
     "execution_count": 5,
     "metadata": {},
     "output_type": "execute_result"
    }
   ],
   "source": [
    "# Train : 5000 (ccpd_base), Val and Test : 50 for each sub (except ccpd_base)\n",
    "list_split = [\"train\"] * 5000\n",
    "for i in range(5):\n",
    "    list_split.extend([\"val\"]*50)\n",
    "    list_split.extend([\"test\"]*50)\n",
    "df_metadata[\"split\"] = list_split\n",
    "df_metadata"
   ]
  },
  {
   "cell_type": "code",
   "execution_count": 7,
   "metadata": {},
   "outputs": [
    {
     "name": "stdout",
     "output_type": "stream",
     "text": [
      "Initial GPU Usage\n",
      "| ID | GPU | MEM |\n",
      "------------------\n",
      "|  0 |  0% |  0% |\n",
      "GPU Usage after emptying the cache\n",
      "| ID | GPU | MEM |\n",
      "------------------\n",
      "|  0 |  0% |  2% |\n"
     ]
    }
   ],
   "source": [
    "from numba import cuda\n",
    "from GPUtil import showUtilization as gpu_usage\n",
    "\n",
    "def free_gpu_cache():\n",
    "    print(\"Initial GPU Usage\")\n",
    "    gpu_usage()                             \n",
    "\n",
    "    torch.cuda.empty_cache()\n",
    "\n",
    "    cuda.select_device(0)\n",
    "    cuda.close()\n",
    "    cuda.select_device(0)\n",
    "\n",
    "    print(\"GPU Usage after emptying the cache\")\n",
    "    gpu_usage()\n",
    "\n",
    "free_gpu_cache()"
   ]
  },
  {
   "cell_type": "code",
   "execution_count": 8,
   "metadata": {},
   "outputs": [
    {
     "data": {
      "text/html": [
       "<div>\n",
       "<style scoped>\n",
       "    .dataframe tbody tr th:only-of-type {\n",
       "        vertical-align: middle;\n",
       "    }\n",
       "\n",
       "    .dataframe tbody tr th {\n",
       "        vertical-align: top;\n",
       "    }\n",
       "\n",
       "    .dataframe thead th {\n",
       "        text-align: right;\n",
       "    }\n",
       "</style>\n",
       "<table border=\"1\" class=\"dataframe\">\n",
       "  <thead>\n",
       "    <tr style=\"text-align: right;\">\n",
       "      <th></th>\n",
       "      <th>image_path</th>\n",
       "      <th>sub</th>\n",
       "      <th>decoded_plate_number</th>\n",
       "      <th>x1_bbox</th>\n",
       "      <th>y1_bbox</th>\n",
       "      <th>x2_bbox</th>\n",
       "      <th>y2_bbox</th>\n",
       "    </tr>\n",
       "  </thead>\n",
       "  <tbody>\n",
       "    <tr>\n",
       "      <th>0</th>\n",
       "      <td>C:/Users/User/DeepLearning/Deep_Learning/final...</td>\n",
       "      <td>ccpd_weather</td>\n",
       "      <td>鄂AT2W80</td>\n",
       "      <td>176</td>\n",
       "      <td>497</td>\n",
       "      <td>455</td>\n",
       "      <td>595</td>\n",
       "    </tr>\n",
       "    <tr>\n",
       "      <th>1</th>\n",
       "      <td>C:/Users/User/DeepLearning/Deep_Learning/final...</td>\n",
       "      <td>ccpd_weather</td>\n",
       "      <td>皖AB967N</td>\n",
       "      <td>213</td>\n",
       "      <td>444</td>\n",
       "      <td>469</td>\n",
       "      <td>551</td>\n",
       "    </tr>\n",
       "    <tr>\n",
       "      <th>2</th>\n",
       "      <td>C:/Users/User/DeepLearning/Deep_Learning/final...</td>\n",
       "      <td>ccpd_weather</td>\n",
       "      <td>皖A25T29</td>\n",
       "      <td>257</td>\n",
       "      <td>384</td>\n",
       "      <td>525</td>\n",
       "      <td>486</td>\n",
       "    </tr>\n",
       "    <tr>\n",
       "      <th>3</th>\n",
       "      <td>C:/Users/User/DeepLearning/Deep_Learning/final...</td>\n",
       "      <td>ccpd_weather</td>\n",
       "      <td>皖AZW108</td>\n",
       "      <td>201</td>\n",
       "      <td>476</td>\n",
       "      <td>493</td>\n",
       "      <td>570</td>\n",
       "    </tr>\n",
       "    <tr>\n",
       "      <th>4</th>\n",
       "      <td>C:/Users/User/DeepLearning/Deep_Learning/final...</td>\n",
       "      <td>ccpd_weather</td>\n",
       "      <td>皖AZ2744</td>\n",
       "      <td>252</td>\n",
       "      <td>586</td>\n",
       "      <td>532</td>\n",
       "      <td>684</td>\n",
       "    </tr>\n",
       "    <tr>\n",
       "      <th>...</th>\n",
       "      <td>...</td>\n",
       "      <td>...</td>\n",
       "      <td>...</td>\n",
       "      <td>...</td>\n",
       "      <td>...</td>\n",
       "      <td>...</td>\n",
       "      <td>...</td>\n",
       "    </tr>\n",
       "    <tr>\n",
       "      <th>245</th>\n",
       "      <td>C:/Users/User/DeepLearning/Deep_Learning/final...</td>\n",
       "      <td>ccpd_weather</td>\n",
       "      <td>皖AR8T97</td>\n",
       "      <td>96</td>\n",
       "      <td>584</td>\n",
       "      <td>372</td>\n",
       "      <td>688</td>\n",
       "    </tr>\n",
       "    <tr>\n",
       "      <th>246</th>\n",
       "      <td>C:/Users/User/DeepLearning/Deep_Learning/final...</td>\n",
       "      <td>ccpd_weather</td>\n",
       "      <td>皖AL6M60</td>\n",
       "      <td>265</td>\n",
       "      <td>514</td>\n",
       "      <td>533</td>\n",
       "      <td>621</td>\n",
       "    </tr>\n",
       "    <tr>\n",
       "      <th>247</th>\n",
       "      <td>C:/Users/User/DeepLearning/Deep_Learning/final...</td>\n",
       "      <td>ccpd_weather</td>\n",
       "      <td>皖A576X9</td>\n",
       "      <td>282</td>\n",
       "      <td>536</td>\n",
       "      <td>566</td>\n",
       "      <td>637</td>\n",
       "    </tr>\n",
       "    <tr>\n",
       "      <th>248</th>\n",
       "      <td>C:/Users/User/DeepLearning/Deep_Learning/final...</td>\n",
       "      <td>ccpd_weather</td>\n",
       "      <td>皖ALF155</td>\n",
       "      <td>64</td>\n",
       "      <td>606</td>\n",
       "      <td>309</td>\n",
       "      <td>723</td>\n",
       "    </tr>\n",
       "    <tr>\n",
       "      <th>249</th>\n",
       "      <td>C:/Users/User/DeepLearning/Deep_Learning/final...</td>\n",
       "      <td>ccpd_weather</td>\n",
       "      <td>皖A3M336</td>\n",
       "      <td>124</td>\n",
       "      <td>496</td>\n",
       "      <td>378</td>\n",
       "      <td>609</td>\n",
       "    </tr>\n",
       "  </tbody>\n",
       "</table>\n",
       "<p>250 rows × 7 columns</p>\n",
       "</div>"
      ],
      "text/plain": [
       "                                            image_path           sub  \\\n",
       "0    C:/Users/User/DeepLearning/Deep_Learning/final...  ccpd_weather   \n",
       "1    C:/Users/User/DeepLearning/Deep_Learning/final...  ccpd_weather   \n",
       "2    C:/Users/User/DeepLearning/Deep_Learning/final...  ccpd_weather   \n",
       "3    C:/Users/User/DeepLearning/Deep_Learning/final...  ccpd_weather   \n",
       "4    C:/Users/User/DeepLearning/Deep_Learning/final...  ccpd_weather   \n",
       "..                                                 ...           ...   \n",
       "245  C:/Users/User/DeepLearning/Deep_Learning/final...  ccpd_weather   \n",
       "246  C:/Users/User/DeepLearning/Deep_Learning/final...  ccpd_weather   \n",
       "247  C:/Users/User/DeepLearning/Deep_Learning/final...  ccpd_weather   \n",
       "248  C:/Users/User/DeepLearning/Deep_Learning/final...  ccpd_weather   \n",
       "249  C:/Users/User/DeepLearning/Deep_Learning/final...  ccpd_weather   \n",
       "\n",
       "    decoded_plate_number  x1_bbox  y1_bbox  x2_bbox  y2_bbox  \n",
       "0                鄂AT2W80      176      497      455      595  \n",
       "1                皖AB967N      213      444      469      551  \n",
       "2                皖A25T29      257      384      525      486  \n",
       "3                皖AZW108      201      476      493      570  \n",
       "4                皖AZ2744      252      586      532      684  \n",
       "..                   ...      ...      ...      ...      ...  \n",
       "245              皖AR8T97       96      584      372      688  \n",
       "246              皖AL6M60      265      514      533      621  \n",
       "247              皖A576X9      282      536      566      637  \n",
       "248              皖ALF155       64      606      309      723  \n",
       "249              皖A3M336      124      496      378      609  \n",
       "\n",
       "[250 rows x 7 columns]"
      ]
     },
     "execution_count": 8,
     "metadata": {},
     "output_type": "execute_result"
    }
   ],
   "source": [
    "from ultralytics import YOLO\n",
    "df_results = df_metadata[df_metadata[\"split\"]==\"test\"].reset_index(drop=True)\n",
    "df_results = df_results[[\"image_path\", \"sub\", \"decoded_plate_number\", \"x1_bbox\", \"y1_bbox\", \"x2_bbox\", \"y2_bbox\"]]\n",
    "df_results"
   ]
  },
  {
   "cell_type": "code",
   "execution_count": 9,
   "metadata": {},
   "outputs": [
    {
     "data": {
      "text/html": [
       "<div>\n",
       "<style scoped>\n",
       "    .dataframe tbody tr th:only-of-type {\n",
       "        vertical-align: middle;\n",
       "    }\n",
       "\n",
       "    .dataframe tbody tr th {\n",
       "        vertical-align: top;\n",
       "    }\n",
       "\n",
       "    .dataframe thead th {\n",
       "        text-align: right;\n",
       "    }\n",
       "</style>\n",
       "<table border=\"1\" class=\"dataframe\">\n",
       "  <thead>\n",
       "    <tr style=\"text-align: right;\">\n",
       "      <th></th>\n",
       "      <th>image_path</th>\n",
       "      <th>sub</th>\n",
       "      <th>decoded_plate_number</th>\n",
       "      <th>x1_bbox</th>\n",
       "      <th>y1_bbox</th>\n",
       "      <th>x2_bbox</th>\n",
       "      <th>y2_bbox</th>\n",
       "      <th>pred_bbox</th>\n",
       "      <th>confidence</th>\n",
       "    </tr>\n",
       "  </thead>\n",
       "  <tbody>\n",
       "    <tr>\n",
       "      <th>0</th>\n",
       "      <td>C:/Users/User/DeepLearning/Deep_Learning/final...</td>\n",
       "      <td>ccpd_weather</td>\n",
       "      <td>鄂AT2W80</td>\n",
       "      <td>176</td>\n",
       "      <td>497</td>\n",
       "      <td>455</td>\n",
       "      <td>595</td>\n",
       "      <td>[[177, 493, 454, 597]]</td>\n",
       "      <td>[0.94]</td>\n",
       "    </tr>\n",
       "    <tr>\n",
       "      <th>1</th>\n",
       "      <td>C:/Users/User/DeepLearning/Deep_Learning/final...</td>\n",
       "      <td>ccpd_weather</td>\n",
       "      <td>皖AB967N</td>\n",
       "      <td>213</td>\n",
       "      <td>444</td>\n",
       "      <td>469</td>\n",
       "      <td>551</td>\n",
       "      <td>[[212, 443, 469, 551]]</td>\n",
       "      <td>[0.94]</td>\n",
       "    </tr>\n",
       "    <tr>\n",
       "      <th>2</th>\n",
       "      <td>C:/Users/User/DeepLearning/Deep_Learning/final...</td>\n",
       "      <td>ccpd_weather</td>\n",
       "      <td>皖A25T29</td>\n",
       "      <td>257</td>\n",
       "      <td>384</td>\n",
       "      <td>525</td>\n",
       "      <td>486</td>\n",
       "      <td>[[255, 385, 523, 487]]</td>\n",
       "      <td>[0.93]</td>\n",
       "    </tr>\n",
       "    <tr>\n",
       "      <th>3</th>\n",
       "      <td>C:/Users/User/DeepLearning/Deep_Learning/final...</td>\n",
       "      <td>ccpd_weather</td>\n",
       "      <td>皖AZW108</td>\n",
       "      <td>201</td>\n",
       "      <td>476</td>\n",
       "      <td>493</td>\n",
       "      <td>570</td>\n",
       "      <td>[[198, 476, 490, 570]]</td>\n",
       "      <td>[0.93]</td>\n",
       "    </tr>\n",
       "    <tr>\n",
       "      <th>4</th>\n",
       "      <td>C:/Users/User/DeepLearning/Deep_Learning/final...</td>\n",
       "      <td>ccpd_weather</td>\n",
       "      <td>皖AZ2744</td>\n",
       "      <td>252</td>\n",
       "      <td>586</td>\n",
       "      <td>532</td>\n",
       "      <td>684</td>\n",
       "      <td>[[255, 587, 529, 680]]</td>\n",
       "      <td>[0.95]</td>\n",
       "    </tr>\n",
       "    <tr>\n",
       "      <th>...</th>\n",
       "      <td>...</td>\n",
       "      <td>...</td>\n",
       "      <td>...</td>\n",
       "      <td>...</td>\n",
       "      <td>...</td>\n",
       "      <td>...</td>\n",
       "      <td>...</td>\n",
       "      <td>...</td>\n",
       "      <td>...</td>\n",
       "    </tr>\n",
       "    <tr>\n",
       "      <th>245</th>\n",
       "      <td>C:/Users/User/DeepLearning/Deep_Learning/final...</td>\n",
       "      <td>ccpd_weather</td>\n",
       "      <td>皖AR8T97</td>\n",
       "      <td>96</td>\n",
       "      <td>584</td>\n",
       "      <td>372</td>\n",
       "      <td>688</td>\n",
       "      <td>[[95, 584, 372, 687]]</td>\n",
       "      <td>[0.93]</td>\n",
       "    </tr>\n",
       "    <tr>\n",
       "      <th>246</th>\n",
       "      <td>C:/Users/User/DeepLearning/Deep_Learning/final...</td>\n",
       "      <td>ccpd_weather</td>\n",
       "      <td>皖AL6M60</td>\n",
       "      <td>265</td>\n",
       "      <td>514</td>\n",
       "      <td>533</td>\n",
       "      <td>621</td>\n",
       "      <td>[[268, 515, 530, 620]]</td>\n",
       "      <td>[0.95]</td>\n",
       "    </tr>\n",
       "    <tr>\n",
       "      <th>247</th>\n",
       "      <td>C:/Users/User/DeepLearning/Deep_Learning/final...</td>\n",
       "      <td>ccpd_weather</td>\n",
       "      <td>皖A576X9</td>\n",
       "      <td>282</td>\n",
       "      <td>536</td>\n",
       "      <td>566</td>\n",
       "      <td>637</td>\n",
       "      <td>[[277, 534, 570, 638]]</td>\n",
       "      <td>[0.92]</td>\n",
       "    </tr>\n",
       "    <tr>\n",
       "      <th>248</th>\n",
       "      <td>C:/Users/User/DeepLearning/Deep_Learning/final...</td>\n",
       "      <td>ccpd_weather</td>\n",
       "      <td>皖ALF155</td>\n",
       "      <td>64</td>\n",
       "      <td>606</td>\n",
       "      <td>309</td>\n",
       "      <td>723</td>\n",
       "      <td>[[62, 606, 307, 721]]</td>\n",
       "      <td>[0.94]</td>\n",
       "    </tr>\n",
       "    <tr>\n",
       "      <th>249</th>\n",
       "      <td>C:/Users/User/DeepLearning/Deep_Learning/final...</td>\n",
       "      <td>ccpd_weather</td>\n",
       "      <td>皖A3M336</td>\n",
       "      <td>124</td>\n",
       "      <td>496</td>\n",
       "      <td>378</td>\n",
       "      <td>609</td>\n",
       "      <td>[[123, 495, 377, 608]]</td>\n",
       "      <td>[0.94]</td>\n",
       "    </tr>\n",
       "  </tbody>\n",
       "</table>\n",
       "<p>250 rows × 9 columns</p>\n",
       "</div>"
      ],
      "text/plain": [
       "                                            image_path           sub  \\\n",
       "0    C:/Users/User/DeepLearning/Deep_Learning/final...  ccpd_weather   \n",
       "1    C:/Users/User/DeepLearning/Deep_Learning/final...  ccpd_weather   \n",
       "2    C:/Users/User/DeepLearning/Deep_Learning/final...  ccpd_weather   \n",
       "3    C:/Users/User/DeepLearning/Deep_Learning/final...  ccpd_weather   \n",
       "4    C:/Users/User/DeepLearning/Deep_Learning/final...  ccpd_weather   \n",
       "..                                                 ...           ...   \n",
       "245  C:/Users/User/DeepLearning/Deep_Learning/final...  ccpd_weather   \n",
       "246  C:/Users/User/DeepLearning/Deep_Learning/final...  ccpd_weather   \n",
       "247  C:/Users/User/DeepLearning/Deep_Learning/final...  ccpd_weather   \n",
       "248  C:/Users/User/DeepLearning/Deep_Learning/final...  ccpd_weather   \n",
       "249  C:/Users/User/DeepLearning/Deep_Learning/final...  ccpd_weather   \n",
       "\n",
       "    decoded_plate_number  x1_bbox  y1_bbox  x2_bbox  y2_bbox  \\\n",
       "0                鄂AT2W80      176      497      455      595   \n",
       "1                皖AB967N      213      444      469      551   \n",
       "2                皖A25T29      257      384      525      486   \n",
       "3                皖AZW108      201      476      493      570   \n",
       "4                皖AZ2744      252      586      532      684   \n",
       "..                   ...      ...      ...      ...      ...   \n",
       "245              皖AR8T97       96      584      372      688   \n",
       "246              皖AL6M60      265      514      533      621   \n",
       "247              皖A576X9      282      536      566      637   \n",
       "248              皖ALF155       64      606      309      723   \n",
       "249              皖A3M336      124      496      378      609   \n",
       "\n",
       "                  pred_bbox confidence  \n",
       "0    [[177, 493, 454, 597]]     [0.94]  \n",
       "1    [[212, 443, 469, 551]]     [0.94]  \n",
       "2    [[255, 385, 523, 487]]     [0.93]  \n",
       "3    [[198, 476, 490, 570]]     [0.93]  \n",
       "4    [[255, 587, 529, 680]]     [0.95]  \n",
       "..                      ...        ...  \n",
       "245   [[95, 584, 372, 687]]     [0.93]  \n",
       "246  [[268, 515, 530, 620]]     [0.95]  \n",
       "247  [[277, 534, 570, 638]]     [0.92]  \n",
       "248   [[62, 606, 307, 721]]     [0.94]  \n",
       "249  [[123, 495, 377, 608]]     [0.94]  \n",
       "\n",
       "[250 rows x 9 columns]"
      ]
     },
     "execution_count": 9,
     "metadata": {},
     "output_type": "execute_result"
    }
   ],
   "source": [
    "# Assuming you have already imported your YOLO class\n",
    "\n",
    "# Instantiate the YOLO model\n",
    "yolo_model = YOLO('C:/Users/User/runs/detect/train4/weights/best.pt')\n",
    "\n",
    "# Move the model to CPU\n",
    "yolo_model = yolo_model.to('cpu')\n",
    "\n",
    "# Rest of your code remains the same\n",
    "bbox_results = yolo_model.predict(list(df_results[\"image_path\"]), verbose=False)\n",
    "all_box_list = []\n",
    "all_conf_list = []\n",
    "\n",
    "for bbox_result in bbox_results:\n",
    "    boxes = bbox_result.boxes\n",
    "    box_list = []\n",
    "    conf_list = []\n",
    "\n",
    "    for box in boxes:\n",
    "        box_data = box.data[0][:4]\n",
    "        box_data = [int(x) for x in box_data]\n",
    "        conf = round(float(box.conf), 2)\n",
    "\n",
    "        if conf >= 0.5:\n",
    "            box_list.append(box_data)\n",
    "            conf_list.append(conf)\n",
    "\n",
    "    all_box_list.append(box_list)\n",
    "    all_conf_list.append(conf_list)\n",
    "\n",
    "df_results[\"pred_bbox\"] = all_box_list\n",
    "df_results[\"confidence\"] = all_conf_list\n",
    "df_results\n"
   ]
  },
  {
   "cell_type": "code",
   "execution_count": 10,
   "metadata": {},
   "outputs": [
    {
     "name": "stderr",
     "output_type": "stream",
     "text": [
      "c:\\Users\\User\\anaconda3\\envs\\DeepLearning\\Lib\\site-packages\\torchvision\\models\\_utils.py:208: UserWarning: The parameter 'pretrained' is deprecated since 0.13 and may be removed in the future, please use 'weights' instead.\n",
      "  warnings.warn(\n",
      "c:\\Users\\User\\anaconda3\\envs\\DeepLearning\\Lib\\site-packages\\torchvision\\models\\_utils.py:223: UserWarning: Arguments other than a weight enum or `None` for 'weights' are deprecated since 0.13 and may be removed in the future. The current behavior is equivalent to passing `weights=ResNet18_Weights.IMAGENET1K_V1`. You can also use `weights=ResNet18_Weights.DEFAULT` to get the most up-to-date weights.\n",
      "  warnings.warn(msg)\n"
     ]
    }
   ],
   "source": [
    "resnet = resnet18(pretrained=True)"
   ]
  },
  {
   "cell_type": "code",
   "execution_count": 155,
   "metadata": {},
   "outputs": [
    {
     "data": {
      "text/html": [
       "<div>\n",
       "<style scoped>\n",
       "    .dataframe tbody tr th:only-of-type {\n",
       "        vertical-align: middle;\n",
       "    }\n",
       "\n",
       "    .dataframe tbody tr th {\n",
       "        vertical-align: top;\n",
       "    }\n",
       "\n",
       "    .dataframe thead th {\n",
       "        text-align: right;\n",
       "    }\n",
       "</style>\n",
       "<table border=\"1\" class=\"dataframe\">\n",
       "  <thead>\n",
       "    <tr style=\"text-align: right;\">\n",
       "      <th></th>\n",
       "      <th>image_path</th>\n",
       "      <th>sub</th>\n",
       "      <th>decoded_plate_number</th>\n",
       "      <th>x1_bbox</th>\n",
       "      <th>y1_bbox</th>\n",
       "      <th>x2_bbox</th>\n",
       "      <th>y2_bbox</th>\n",
       "    </tr>\n",
       "  </thead>\n",
       "  <tbody>\n",
       "    <tr>\n",
       "      <th>0</th>\n",
       "      <td>C:/Users/User/DeepLearning/Deep_Learning/final...</td>\n",
       "      <td>ccpd_weather</td>\n",
       "      <td>皖AD130W</td>\n",
       "      <td>294</td>\n",
       "      <td>496</td>\n",
       "      <td>374</td>\n",
       "      <td>540</td>\n",
       "    </tr>\n",
       "    <tr>\n",
       "      <th>1</th>\n",
       "      <td>C:/Users/User/DeepLearning/Deep_Learning/final...</td>\n",
       "      <td>ccpd_weather</td>\n",
       "      <td>皖AUT267</td>\n",
       "      <td>304</td>\n",
       "      <td>542</td>\n",
       "      <td>411</td>\n",
       "      <td>577</td>\n",
       "    </tr>\n",
       "    <tr>\n",
       "      <th>2</th>\n",
       "      <td>C:/Users/User/DeepLearning/Deep_Learning/final...</td>\n",
       "      <td>ccpd_weather</td>\n",
       "      <td>皖MZ4882</td>\n",
       "      <td>339</td>\n",
       "      <td>547</td>\n",
       "      <td>444</td>\n",
       "      <td>583</td>\n",
       "    </tr>\n",
       "    <tr>\n",
       "      <th>3</th>\n",
       "      <td>C:/Users/User/DeepLearning/Deep_Learning/final...</td>\n",
       "      <td>ccpd_weather</td>\n",
       "      <td>皖AVD028</td>\n",
       "      <td>177</td>\n",
       "      <td>511</td>\n",
       "      <td>268</td>\n",
       "      <td>553</td>\n",
       "    </tr>\n",
       "    <tr>\n",
       "      <th>4</th>\n",
       "      <td>C:/Users/User/DeepLearning/Deep_Learning/final...</td>\n",
       "      <td>ccpd_weather</td>\n",
       "      <td>皖RL222P</td>\n",
       "      <td>402</td>\n",
       "      <td>426</td>\n",
       "      <td>497</td>\n",
       "      <td>467</td>\n",
       "    </tr>\n",
       "    <tr>\n",
       "      <th>...</th>\n",
       "      <td>...</td>\n",
       "      <td>...</td>\n",
       "      <td>...</td>\n",
       "      <td>...</td>\n",
       "      <td>...</td>\n",
       "      <td>...</td>\n",
       "      <td>...</td>\n",
       "    </tr>\n",
       "    <tr>\n",
       "      <th>4995</th>\n",
       "      <td>C:/Users/User/DeepLearning/Deep_Learning/final...</td>\n",
       "      <td>ccpd_weather</td>\n",
       "      <td>皖Q05275</td>\n",
       "      <td>182</td>\n",
       "      <td>507</td>\n",
       "      <td>459</td>\n",
       "      <td>605</td>\n",
       "    </tr>\n",
       "    <tr>\n",
       "      <th>4996</th>\n",
       "      <td>C:/Users/User/DeepLearning/Deep_Learning/final...</td>\n",
       "      <td>ccpd_weather</td>\n",
       "      <td>皖AJ0S21</td>\n",
       "      <td>258</td>\n",
       "      <td>493</td>\n",
       "      <td>437</td>\n",
       "      <td>645</td>\n",
       "    </tr>\n",
       "    <tr>\n",
       "      <th>4997</th>\n",
       "      <td>C:/Users/User/DeepLearning/Deep_Learning/final...</td>\n",
       "      <td>ccpd_weather</td>\n",
       "      <td>皖A52A41</td>\n",
       "      <td>387</td>\n",
       "      <td>485</td>\n",
       "      <td>566</td>\n",
       "      <td>637</td>\n",
       "    </tr>\n",
       "    <tr>\n",
       "      <th>4998</th>\n",
       "      <td>C:/Users/User/DeepLearning/Deep_Learning/final...</td>\n",
       "      <td>ccpd_weather</td>\n",
       "      <td>皖AV0600</td>\n",
       "      <td>146</td>\n",
       "      <td>519</td>\n",
       "      <td>423</td>\n",
       "      <td>617</td>\n",
       "    </tr>\n",
       "    <tr>\n",
       "      <th>4999</th>\n",
       "      <td>C:/Users/User/DeepLearning/Deep_Learning/final...</td>\n",
       "      <td>ccpd_weather</td>\n",
       "      <td>皖A17U87</td>\n",
       "      <td>299</td>\n",
       "      <td>529</td>\n",
       "      <td>576</td>\n",
       "      <td>627</td>\n",
       "    </tr>\n",
       "  </tbody>\n",
       "</table>\n",
       "<p>5000 rows × 7 columns</p>\n",
       "</div>"
      ],
      "text/plain": [
       "                                             image_path           sub  \\\n",
       "0     C:/Users/User/DeepLearning/Deep_Learning/final...  ccpd_weather   \n",
       "1     C:/Users/User/DeepLearning/Deep_Learning/final...  ccpd_weather   \n",
       "2     C:/Users/User/DeepLearning/Deep_Learning/final...  ccpd_weather   \n",
       "3     C:/Users/User/DeepLearning/Deep_Learning/final...  ccpd_weather   \n",
       "4     C:/Users/User/DeepLearning/Deep_Learning/final...  ccpd_weather   \n",
       "...                                                 ...           ...   \n",
       "4995  C:/Users/User/DeepLearning/Deep_Learning/final...  ccpd_weather   \n",
       "4996  C:/Users/User/DeepLearning/Deep_Learning/final...  ccpd_weather   \n",
       "4997  C:/Users/User/DeepLearning/Deep_Learning/final...  ccpd_weather   \n",
       "4998  C:/Users/User/DeepLearning/Deep_Learning/final...  ccpd_weather   \n",
       "4999  C:/Users/User/DeepLearning/Deep_Learning/final...  ccpd_weather   \n",
       "\n",
       "     decoded_plate_number  x1_bbox  y1_bbox  x2_bbox  y2_bbox  \n",
       "0                 皖AD130W      294      496      374      540  \n",
       "1                 皖AUT267      304      542      411      577  \n",
       "2                 皖MZ4882      339      547      444      583  \n",
       "3                 皖AVD028      177      511      268      553  \n",
       "4                 皖RL222P      402      426      497      467  \n",
       "...                   ...      ...      ...      ...      ...  \n",
       "4995              皖Q05275      182      507      459      605  \n",
       "4996              皖AJ0S21      258      493      437      645  \n",
       "4997              皖A52A41      387      485      566      637  \n",
       "4998              皖AV0600      146      519      423      617  \n",
       "4999              皖A17U87      299      529      576      627  \n",
       "\n",
       "[5000 rows x 7 columns]"
      ]
     },
     "execution_count": 155,
     "metadata": {},
     "output_type": "execute_result"
    }
   ],
   "source": [
    "df_train = df_metadata[df_metadata[\"split\"]==\"train\"].reset_index(drop=True)\n",
    "df_train = df_train[[\"image_path\", \"sub\", \"decoded_plate_number\", \"x1_bbox\", \"y1_bbox\", \"x2_bbox\", \"y2_bbox\"]]\n",
    "df_train"
   ]
  },
  {
   "cell_type": "code",
   "execution_count": 153,
   "metadata": {},
   "outputs": [
    {
     "data": {
      "text/html": [
       "<div>\n",
       "<style scoped>\n",
       "    .dataframe tbody tr th:only-of-type {\n",
       "        vertical-align: middle;\n",
       "    }\n",
       "\n",
       "    .dataframe tbody tr th {\n",
       "        vertical-align: top;\n",
       "    }\n",
       "\n",
       "    .dataframe thead th {\n",
       "        text-align: right;\n",
       "    }\n",
       "</style>\n",
       "<table border=\"1\" class=\"dataframe\">\n",
       "  <thead>\n",
       "    <tr style=\"text-align: right;\">\n",
       "      <th></th>\n",
       "      <th>image_path</th>\n",
       "      <th>sub</th>\n",
       "      <th>decoded_plate_number</th>\n",
       "      <th>x1_bbox</th>\n",
       "      <th>y1_bbox</th>\n",
       "      <th>x2_bbox</th>\n",
       "      <th>y2_bbox</th>\n",
       "    </tr>\n",
       "  </thead>\n",
       "  <tbody>\n",
       "    <tr>\n",
       "      <th>0</th>\n",
       "      <td>C:/Users/User/DeepLearning/Deep_Learning/final...</td>\n",
       "      <td>ccpd_weather</td>\n",
       "      <td>皖AV5A99</td>\n",
       "      <td>219</td>\n",
       "      <td>504</td>\n",
       "      <td>473</td>\n",
       "      <td>611</td>\n",
       "    </tr>\n",
       "    <tr>\n",
       "      <th>1</th>\n",
       "      <td>C:/Users/User/DeepLearning/Deep_Learning/final...</td>\n",
       "      <td>ccpd_weather</td>\n",
       "      <td>皖ADX498</td>\n",
       "      <td>282</td>\n",
       "      <td>452</td>\n",
       "      <td>568</td>\n",
       "      <td>547</td>\n",
       "    </tr>\n",
       "    <tr>\n",
       "      <th>2</th>\n",
       "      <td>C:/Users/User/DeepLearning/Deep_Learning/final...</td>\n",
       "      <td>ccpd_weather</td>\n",
       "      <td>皖A317C2</td>\n",
       "      <td>153</td>\n",
       "      <td>523</td>\n",
       "      <td>439</td>\n",
       "      <td>618</td>\n",
       "    </tr>\n",
       "    <tr>\n",
       "      <th>3</th>\n",
       "      <td>C:/Users/User/DeepLearning/Deep_Learning/final...</td>\n",
       "      <td>ccpd_weather</td>\n",
       "      <td>浙HFP512</td>\n",
       "      <td>250</td>\n",
       "      <td>454</td>\n",
       "      <td>525</td>\n",
       "      <td>553</td>\n",
       "    </tr>\n",
       "    <tr>\n",
       "      <th>4</th>\n",
       "      <td>C:/Users/User/DeepLearning/Deep_Learning/final...</td>\n",
       "      <td>ccpd_weather</td>\n",
       "      <td>皖AF5177</td>\n",
       "      <td>155</td>\n",
       "      <td>439</td>\n",
       "      <td>447</td>\n",
       "      <td>532</td>\n",
       "    </tr>\n",
       "    <tr>\n",
       "      <th>...</th>\n",
       "      <td>...</td>\n",
       "      <td>...</td>\n",
       "      <td>...</td>\n",
       "      <td>...</td>\n",
       "      <td>...</td>\n",
       "      <td>...</td>\n",
       "      <td>...</td>\n",
       "    </tr>\n",
       "    <tr>\n",
       "      <th>245</th>\n",
       "      <td>C:/Users/User/DeepLearning/Deep_Learning/final...</td>\n",
       "      <td>ccpd_weather</td>\n",
       "      <td>皖AC5S38</td>\n",
       "      <td>273</td>\n",
       "      <td>359</td>\n",
       "      <td>547</td>\n",
       "      <td>463</td>\n",
       "    </tr>\n",
       "    <tr>\n",
       "      <th>246</th>\n",
       "      <td>C:/Users/User/DeepLearning/Deep_Learning/final...</td>\n",
       "      <td>ccpd_weather</td>\n",
       "      <td>皖AD301Z</td>\n",
       "      <td>328</td>\n",
       "      <td>469</td>\n",
       "      <td>564</td>\n",
       "      <td>590</td>\n",
       "    </tr>\n",
       "    <tr>\n",
       "      <th>247</th>\n",
       "      <td>C:/Users/User/DeepLearning/Deep_Learning/final...</td>\n",
       "      <td>ccpd_weather</td>\n",
       "      <td>皖AL0L10</td>\n",
       "      <td>309</td>\n",
       "      <td>543</td>\n",
       "      <td>583</td>\n",
       "      <td>647</td>\n",
       "    </tr>\n",
       "    <tr>\n",
       "      <th>248</th>\n",
       "      <td>C:/Users/User/DeepLearning/Deep_Learning/final...</td>\n",
       "      <td>ccpd_weather</td>\n",
       "      <td>皖A4Q664</td>\n",
       "      <td>273</td>\n",
       "      <td>416</td>\n",
       "      <td>535</td>\n",
       "      <td>525</td>\n",
       "    </tr>\n",
       "    <tr>\n",
       "      <th>249</th>\n",
       "      <td>C:/Users/User/DeepLearning/Deep_Learning/final...</td>\n",
       "      <td>ccpd_weather</td>\n",
       "      <td>皖AS622L</td>\n",
       "      <td>136</td>\n",
       "      <td>381</td>\n",
       "      <td>395</td>\n",
       "      <td>491</td>\n",
       "    </tr>\n",
       "  </tbody>\n",
       "</table>\n",
       "<p>250 rows × 7 columns</p>\n",
       "</div>"
      ],
      "text/plain": [
       "                                            image_path           sub  \\\n",
       "0    C:/Users/User/DeepLearning/Deep_Learning/final...  ccpd_weather   \n",
       "1    C:/Users/User/DeepLearning/Deep_Learning/final...  ccpd_weather   \n",
       "2    C:/Users/User/DeepLearning/Deep_Learning/final...  ccpd_weather   \n",
       "3    C:/Users/User/DeepLearning/Deep_Learning/final...  ccpd_weather   \n",
       "4    C:/Users/User/DeepLearning/Deep_Learning/final...  ccpd_weather   \n",
       "..                                                 ...           ...   \n",
       "245  C:/Users/User/DeepLearning/Deep_Learning/final...  ccpd_weather   \n",
       "246  C:/Users/User/DeepLearning/Deep_Learning/final...  ccpd_weather   \n",
       "247  C:/Users/User/DeepLearning/Deep_Learning/final...  ccpd_weather   \n",
       "248  C:/Users/User/DeepLearning/Deep_Learning/final...  ccpd_weather   \n",
       "249  C:/Users/User/DeepLearning/Deep_Learning/final...  ccpd_weather   \n",
       "\n",
       "    decoded_plate_number  x1_bbox  y1_bbox  x2_bbox  y2_bbox  \n",
       "0                皖AV5A99      219      504      473      611  \n",
       "1                皖ADX498      282      452      568      547  \n",
       "2                皖A317C2      153      523      439      618  \n",
       "3                浙HFP512      250      454      525      553  \n",
       "4                皖AF5177      155      439      447      532  \n",
       "..                   ...      ...      ...      ...      ...  \n",
       "245              皖AC5S38      273      359      547      463  \n",
       "246              皖AD301Z      328      469      564      590  \n",
       "247              皖AL0L10      309      543      583      647  \n",
       "248              皖A4Q664      273      416      535      525  \n",
       "249              皖AS622L      136      381      395      491  \n",
       "\n",
       "[250 rows x 7 columns]"
      ]
     },
     "execution_count": 153,
     "metadata": {},
     "output_type": "execute_result"
    }
   ],
   "source": [
    "df_val = df_metadata[df_metadata[\"split\"]==\"val\"].reset_index(drop=True)\n",
    "df_val = df_val[[\"image_path\", \"sub\", \"decoded_plate_number\", \"x1_bbox\", \"y1_bbox\", \"x2_bbox\", \"y2_bbox\"]]\n",
    "df_val"
   ]
  },
  {
   "cell_type": "code",
   "execution_count": 157,
   "metadata": {},
   "outputs": [],
   "source": [
    "class Dataset(Dataset):\n",
    "    def __init__(self, dataframe):\n",
    "        self.df_train = dataframe\n",
    "\n",
    "    def __len__(self):\n",
    "        return len(self.df_train)\n",
    "\n",
    "    def __getitem__(self, index):\n",
    "        train_path = self.df_train[\"image_path\"][index]\n",
    "        train_image = cv2.imread(train_path)\n",
    "        train_image = cv2.cvtColor(train_image, cv2.COLOR_BGR2RGB)\n",
    "\n",
    "        # Crop Image with Bounding Box\n",
    "        image = train_image[self.df_train[\"y1_bbox\"][index]:self.df_train[\"y2_bbox\"][index],\n",
    "                            self.df_train[\"x1_bbox\"][index]:self.df_train[\"x2_bbox\"][index]]\n",
    "\n",
    "        text = self.df_train[\"decoded_plate_number\"][index]\n",
    "\n",
    "        # Apply transformations\n",
    "        transformed_image = self.transform(image)\n",
    "\n",
    "        return transformed_image, text\n",
    "\n",
    "    def transform(self, image):\n",
    "        transform_ops = transforms.Compose([\n",
    "            transforms.ToPILImage(),\n",
    "            transforms.Resize((50, 200)),\n",
    "            transforms.ToTensor(),\n",
    "            transforms.Normalize(mean=(0.485, 0.456, 0.406), std=(0.229, 0.224, 0.225))\n",
    "        ])\n",
    "        return transform_ops(image)"
   ]
  },
  {
   "cell_type": "code",
   "execution_count": 162,
   "metadata": {},
   "outputs": [
    {
     "name": "stdout",
     "output_type": "stream",
     "text": [
      "313\n"
     ]
    }
   ],
   "source": [
    "# cpu_count = mp.cpu_count()\n",
    "# print(cpu_count)\n",
    "\n",
    "trainset = Dataset(df_train)\n",
    "valset =  Dataset(df_val)\n",
    "\n",
    "train_loader = DataLoader(trainset, batch_size=16, num_workers=0, shuffle=False)\n",
    "test_loader = DataLoader(valset, batch_size=16, num_workers=0, shuffle=False)\n",
    "print(len(train_loader))"
   ]
  },
  {
   "cell_type": "code",
   "execution_count": 163,
   "metadata": {},
   "outputs": [
    {
     "name": "stdout",
     "output_type": "stream",
     "text": [
      "torch.Size([16, 3, 50, 200]) ('皖AD130W', '皖AUT267', '皖MZ4882', '皖AVD028', '皖RL222P', '皖AGC276', '皖AU0194', '皖AC880Y', '皖ATG568', '皖A41476', '皖AH8V95', '皖ATV235', '皖AJ7532', '皖AE0901', '皖QSW808', '皖A93853')\n"
     ]
    }
   ],
   "source": [
    "image_batch, text_batch = next(iter(train_loader))\n",
    "print(image_batch.size(), text_batch)"
   ]
  },
  {
   "cell_type": "code",
   "execution_count": 160,
   "metadata": {},
   "outputs": [
    {
     "name": "stdout",
     "output_type": "stream",
     "text": [
      "7\n"
     ]
    }
   ],
   "source": [
    "num_chars = 7\n",
    "print(num_chars)\n",
    "rnn_hidden_size = 256"
   ]
  },
  {
   "cell_type": "code",
   "execution_count": 118,
   "metadata": {},
   "outputs": [
    {
     "name": "stdout",
     "output_type": "stream",
     "text": [
      "cuda\n"
     ]
    }
   ],
   "source": [
    "device = torch.device('cuda' if torch.cuda.is_available() else 'cpu')\n",
    "print(device)"
   ]
  },
  {
   "cell_type": "code",
   "execution_count": 143,
   "metadata": {},
   "outputs": [],
   "source": [
    "class CRNN(nn.Module):\n",
    "    \n",
    "    def __init__(self, num_chars, rnn_hidden_size=256, dropout=0.1):\n",
    "        \n",
    "        super(CRNN, self).__init__()\n",
    "        self.num_chars = num_chars\n",
    "        self.rnn_hidden_size = rnn_hidden_size\n",
    "        self.dropout = dropout\n",
    "        \n",
    "        # CNN Part 1\n",
    "        resnet_modules = list(resnet.children())[:-3]\n",
    "        self.cnn_p1 = nn.Sequential(*resnet_modules)\n",
    "        \n",
    "        # CNN Part 2\n",
    "        self.cnn_p2 = nn.Sequential(\n",
    "            nn.Conv2d(256, 256, kernel_size=(3,6), stride=1, padding=1),\n",
    "            nn.BatchNorm2d(256),\n",
    "            nn.ReLU(inplace=True)\n",
    "        )\n",
    "        self.linear1 = nn.Linear(1024, 256)\n",
    "        \n",
    "        # RNN\n",
    "        self.rnn1 = nn.GRU(input_size=rnn_hidden_size, \n",
    "                            hidden_size=rnn_hidden_size,\n",
    "                            bidirectional=True, \n",
    "                            batch_first=True)\n",
    "        self.rnn2 = nn.GRU(input_size=rnn_hidden_size, \n",
    "                            hidden_size=rnn_hidden_size,\n",
    "                            bidirectional=True, \n",
    "                            batch_first=True)\n",
    "        self.linear2 = nn.Linear(self.rnn_hidden_size*2, num_chars)\n",
    "        \n",
    "        \n",
    "    def forward(self, batch):\n",
    "        \n",
    "        batch = self.cnn_p1(batch)\n",
    "        # print(batch.size()) # torch.Size([-1, 256, 4, 13])\n",
    "        \n",
    "        batch = self.cnn_p2(batch) # [batch_size, channels, height, width]\n",
    "        # print(batch.size())# torch.Size([-1, 256, 4, 10])\n",
    "        \n",
    "        batch = batch.permute(0, 3, 1, 2) # [batch_size, width, channels, height]\n",
    "        # print(batch.size()) # torch.Size([-1, 10, 256, 4])\n",
    "         \n",
    "        batch_size = batch.size(0)\n",
    "        T = batch.size(1)\n",
    "        batch = batch.view(batch_size, T, -1) # [batch_size, T==width, num_features==channels*height]\n",
    "        # print(batch.size()) # torch.Size([-1, 10, 1024])\n",
    "        \n",
    "        batch = self.linear1(batch)\n",
    "        # print(batch.size()) # torch.Size([-1, 10, 256])\n",
    "        \n",
    "        batch, hidden = self.rnn1(batch)\n",
    "        feature_size = batch.size(2)\n",
    "        batch = batch[:, :, :feature_size//2] + batch[:, :, feature_size//2:]\n",
    "        # print(batch.size()) # torch.Size([-1, 10, 256])\n",
    "        \n",
    "        batch, hidden = self.rnn2(batch)\n",
    "        # print(batch.size()) # torch.Size([-1, 10, 512])\n",
    "        \n",
    "        batch = self.linear2(batch)\n",
    "        # print(batch.size()) # torch.Size([-1, 10, 20])\n",
    "        \n",
    "        batch = batch.permute(1, 0, 2) # [T==10, batch_size, num_classes==num_features]\n",
    "        # print(batch.size()) # torch.Size([10, -1, 20])\n",
    "        \n",
    "        return batch\n",
    "        \n",
    "def weights_init(m):\n",
    "    classname = m.__class__.__name__\n",
    "    if type(m) in [nn.Linear, nn.Conv2d, nn.Conv1d]:\n",
    "        torch.nn.init.xavier_uniform_(m.weight)\n",
    "        if m.bias is not None:\n",
    "            m.bias.data.fill_(0.01)\n",
    "    elif classname.find('BatchNorm') != -1:\n",
    "        m.weight.data.normal_(1.0, 0.02)\n",
    "        m.bias.data.fill_(0)    "
   ]
  },
  {
   "cell_type": "code",
   "execution_count": 135,
   "metadata": {},
   "outputs": [],
   "source": [
    "crnn = CRNN(num_chars, rnn_hidden_size=rnn_hidden_size)\n",
    "crnn.apply(weights_init)\n",
    "crnn = crnn.to(device)"
   ]
  },
  {
   "cell_type": "code",
   "execution_count": 164,
   "metadata": {},
   "outputs": [
    {
     "name": "stdout",
     "output_type": "stream",
     "text": [
      "('皖AD130W', '皖AUT267', '皖MZ4882', '皖AVD028', '皖RL222P', '皖AGC276', '皖AU0194', '皖AC880Y', '皖ATG568', '皖A41476', '皖AH8V95', '皖ATV235', '皖AJ7532', '皖AE0901', '皖QSW808', '皖A93853')\n",
      "torch.Size([10, 16, 7])\n"
     ]
    }
   ],
   "source": [
    "text_batch_logits = crnn(image_batch.to(device))\n",
    "print(text_batch)\n",
    "print(text_batch_logits.shape)"
   ]
  },
  {
   "cell_type": "code",
   "execution_count": 145,
   "metadata": {},
   "outputs": [],
   "source": [
    "criterion = nn.CTCLoss(blank=0)"
   ]
  },
  {
   "cell_type": "code",
   "execution_count": 165,
   "metadata": {},
   "outputs": [
    {
     "name": "stdout",
     "output_type": "stream",
     "text": [
      "{0: '皖', 1: '沪', 2: '津', 3: '渝', 4: '冀', 5: '晋', 6: '蒙', 7: '辽', 8: '吉', 9: '黑', 10: '苏', 11: '浙', 12: '京', 13: '闽', 14: '赣', 15: '鲁', 16: '豫', 17: '鄂', 18: '湘', 19: '粤', 20: '桂', 21: '琼', 22: '川', 23: '贵', 24: '云', 25: '藏', 26: '陕', 27: '甘', 28: '青', 29: '宁', 30: '新', 31: '警', 32: '学', 33: 'A', 34: 'B', 35: 'C', 36: 'D', 37: 'E', 38: 'F', 39: 'G', 40: 'H', 41: 'J', 42: 'K', 43: 'L', 44: 'M', 45: 'N', 46: 'P', 47: 'Q', 48: 'R', 49: 'S', 50: 'T', 51: 'U', 52: 'V', 53: 'W', 54: 'X', 55: 'Y', 56: 'Z', 57: 'O', 58: '0', 59: '1', 60: '2', 61: '3', 62: '4', 63: '5', 64: '6', 65: '7', 66: '8', 67: '9'}\n",
      "{'皖': 0, '沪': 1, '津': 2, '渝': 3, '冀': 4, '晋': 5, '蒙': 6, '辽': 7, '吉': 8, '黑': 9, '苏': 10, '浙': 11, '京': 12, '闽': 13, '赣': 14, '鲁': 15, '豫': 16, '鄂': 17, '湘': 18, '粤': 19, '桂': 20, '琼': 21, '川': 22, '贵': 23, '云': 24, '藏': 25, '陕': 26, '甘': 27, '青': 28, '宁': 29, '新': 30, '警': 31, '学': 32, 'A': 33, 'B': 34, 'C': 35, 'D': 36, 'E': 37, 'F': 38, 'G': 39, 'H': 40, 'J': 41, 'K': 42, 'L': 43, 'M': 44, 'N': 45, 'P': 46, 'Q': 47, 'R': 48, 'S': 49, 'T': 50, 'U': 51, 'V': 52, 'W': 53, 'X': 54, 'Y': 55, 'Z': 56, 'O': 57, '0': 58, '1': 59, '2': 60, '3': 61, '4': 62, '5': 63, '6': 64, '7': 65, '8': 66, '9': 67}\n"
     ]
    }
   ],
   "source": [
    "alphabets = [\"皖\", \"沪\", \"津\", \"渝\", \"冀\", \"晋\", \"蒙\", \"辽\", \"吉\", \"黑\", \"苏\", \"浙\", \"京\", \"闽\", \"赣\", \"鲁\", \"豫\", \"鄂\", \"湘\", \"粤\", \"桂\", \"琼\", \"川\", \"贵\", \"云\", \"藏\", \"陕\", \"甘\", \"青\", \"宁\", \"新\", \"警\", \"学\",\n",
    "             'A', 'B', 'C', 'D', 'E', 'F', 'G', 'H', 'J', 'K', 'L', 'M', 'N', 'P', 'Q', 'R', 'S', 'T', 'U', 'V', 'W',\n",
    "             'X', 'Y', 'Z', 'O','0', '1', '2', '3', '4', '5', '6', '7', '8', '9']\n",
    "idx2char = {k:v for k,v in enumerate(alphabets, start=0)}\n",
    "print(idx2char)\n",
    "char2idx = {v:k for k,v in idx2char.items()}\n",
    "print(char2idx)"
   ]
  },
  {
   "cell_type": "code",
   "execution_count": 148,
   "metadata": {},
   "outputs": [
    {
     "data": {
      "text/plain": [
       "tensor(nan, device='cuda:0', grad_fn=<MeanBackward0>)"
      ]
     },
     "execution_count": 148,
     "metadata": {},
     "output_type": "execute_result"
    }
   ],
   "source": [
    "def encode_text_batch(text_batch):\n",
    "    \n",
    "    text_batch_targets_lens = [len(text) for text in text_batch]\n",
    "    text_batch_targets_lens = torch.IntTensor(text_batch_targets_lens)\n",
    "    \n",
    "    text_batch_concat = \"\".join(text_batch)\n",
    "    text_batch_targets = [char2idx[c] for c in text_batch_concat]\n",
    "    text_batch_targets = torch.IntTensor(text_batch_targets)\n",
    "    \n",
    "    return text_batch_targets, text_batch_targets_lens\n",
    "def compute_loss(text_batch, text_batch_logits):\n",
    "    \"\"\"\n",
    "    text_batch: list of strings of length equal to batch size\n",
    "    text_batch_logits: Tensor of size([T, batch_size, num_classes])\n",
    "    \"\"\"\n",
    "    text_batch_logps = F.log_softmax(text_batch_logits, 2) # [T, batch_size, num_classes]  \n",
    "    text_batch_logps_lens = torch.full(size=(text_batch_logps.size(1),), \n",
    "                                       fill_value=text_batch_logps.size(0), \n",
    "                                       dtype=torch.int32).to(device) # [batch_size] \n",
    "    #print(text_batch_logps.shape)\n",
    "    #print(text_batch_logps_lens) \n",
    "    text_batch_targets, text_batch_targets_lens = encode_text_batch(text_batch)\n",
    "    #print(text_batch_targets)\n",
    "    #print(text_batch_targets_lens)\n",
    "    loss = criterion(text_batch_logps, text_batch_targets, text_batch_logps_lens, text_batch_targets_lens)\n",
    "\n",
    "    return loss\n",
    "\n",
    "compute_loss(text_batch, text_batch_logits)"
   ]
  },
  {
   "cell_type": "code",
   "execution_count": 149,
   "metadata": {},
   "outputs": [],
   "source": [
    "num_epochs = 50\n",
    "lr = 0.001\n",
    "weight_decay = 1e-3\n",
    "clip_norm = 5\n",
    "\n",
    "optimizer = optim.Adam(crnn.parameters(), lr=lr, weight_decay=weight_decay)\n",
    "lr_scheduler = optim.lr_scheduler.ReduceLROnPlateau(optimizer, verbose=True, patience=5)\n",
    "\n",
    "crnn = CRNN(num_chars, rnn_hidden_size=rnn_hidden_size)\n",
    "crnn.apply(weights_init)\n",
    "crnn = crnn.to(device)"
   ]
  },
  {
   "cell_type": "code",
   "execution_count": 150,
   "metadata": {},
   "outputs": [
    {
     "data": {
      "application/vnd.jupyter.widget-view+json": {
       "model_id": "a73e1339b7194712ad4c5f94584af21b",
       "version_major": 2,
       "version_minor": 0
      },
      "text/plain": [
       "  0%|          | 0/50 [00:00<?, ?it/s]"
      ]
     },
     "metadata": {},
     "output_type": "display_data"
    },
    {
     "data": {
      "application/vnd.jupyter.widget-view+json": {
       "model_id": "92325bcf13124d2bbb5ecf49ee06d839",
       "version_major": 2,
       "version_minor": 0
      },
      "text/plain": [
       "  0%|          | 0/313 [00:00<?, ?it/s]"
      ]
     },
     "metadata": {},
     "output_type": "display_data"
    },
    {
     "name": "stdout",
     "output_type": "stream",
     "text": [
      "Epoch:1    Loss:1.8408381938934326    NumUpdates:5\n"
     ]
    },
    {
     "data": {
      "application/vnd.jupyter.widget-view+json": {
       "model_id": "5a9b1382abd543829189d7df5cadae92",
       "version_major": 2,
       "version_minor": 0
      },
      "text/plain": [
       "  0%|          | 0/313 [00:00<?, ?it/s]"
      ]
     },
     "metadata": {},
     "output_type": "display_data"
    },
    {
     "name": "stdout",
     "output_type": "stream",
     "text": [
      "Epoch:2    Loss:2.178345203399658    NumUpdates:1\n"
     ]
    },
    {
     "data": {
      "application/vnd.jupyter.widget-view+json": {
       "model_id": "c86e18a4e0de4f0c8133473f64b7c0ce",
       "version_major": 2,
       "version_minor": 0
      },
      "text/plain": [
       "  0%|          | 0/313 [00:00<?, ?it/s]"
      ]
     },
     "metadata": {},
     "output_type": "display_data"
    },
    {
     "name": "stdout",
     "output_type": "stream",
     "text": [
      "Epoch:3    Loss:nan    NumUpdates:0\n"
     ]
    },
    {
     "name": "stderr",
     "output_type": "stream",
     "text": [
      "c:\\Users\\User\\anaconda3\\envs\\DeepLearning\\Lib\\site-packages\\numpy\\core\\fromnumeric.py:3504: RuntimeWarning: Mean of empty slice.\n",
      "  return _methods._mean(a, axis=axis, dtype=dtype,\n",
      "c:\\Users\\User\\anaconda3\\envs\\DeepLearning\\Lib\\site-packages\\numpy\\core\\_methods.py:129: RuntimeWarning: invalid value encountered in scalar divide\n",
      "  ret = ret.dtype.type(ret / rcount)\n"
     ]
    },
    {
     "data": {
      "application/vnd.jupyter.widget-view+json": {
       "model_id": "ef6e33e22e534c6ca0b54f0b8bcda7ce",
       "version_major": 2,
       "version_minor": 0
      },
      "text/plain": [
       "  0%|          | 0/313 [00:00<?, ?it/s]"
      ]
     },
     "metadata": {},
     "output_type": "display_data"
    },
    {
     "name": "stdout",
     "output_type": "stream",
     "text": [
      "Epoch:4    Loss:2.2025132179260254    NumUpdates:1\n"
     ]
    },
    {
     "data": {
      "application/vnd.jupyter.widget-view+json": {
       "model_id": "8e80ca9418594859b11740ad6c25cb8b",
       "version_major": 2,
       "version_minor": 0
      },
      "text/plain": [
       "  0%|          | 0/313 [00:00<?, ?it/s]"
      ]
     },
     "metadata": {},
     "output_type": "display_data"
    },
    {
     "name": "stdout",
     "output_type": "stream",
     "text": [
      "Epoch:5    Loss:2.0119453271230063    NumUpdates:3\n"
     ]
    },
    {
     "data": {
      "application/vnd.jupyter.widget-view+json": {
       "model_id": "e0ada9762c07458287ef1a281151b49d",
       "version_major": 2,
       "version_minor": 0
      },
      "text/plain": [
       "  0%|          | 0/313 [00:00<?, ?it/s]"
      ]
     },
     "metadata": {},
     "output_type": "display_data"
    },
    {
     "name": "stdout",
     "output_type": "stream",
     "text": [
      "Epoch:6    Loss:2.0093679428100586    NumUpdates:1\n"
     ]
    },
    {
     "data": {
      "application/vnd.jupyter.widget-view+json": {
       "model_id": "86020810a6f9454ea2c0ecab3d81472c",
       "version_major": 2,
       "version_minor": 0
      },
      "text/plain": [
       "  0%|          | 0/313 [00:00<?, ?it/s]"
      ]
     },
     "metadata": {},
     "output_type": "display_data"
    },
    {
     "name": "stdout",
     "output_type": "stream",
     "text": [
      "Epoch:7    Loss:2.0685176849365234    NumUpdates:1\n",
      "Epoch 00007: reducing learning rate of group 0 to 1.0000e-04.\n"
     ]
    },
    {
     "data": {
      "application/vnd.jupyter.widget-view+json": {
       "model_id": "1a2b9d15bec84814987ed70124d49437",
       "version_major": 2,
       "version_minor": 0
      },
      "text/plain": [
       "  0%|          | 0/313 [00:00<?, ?it/s]"
      ]
     },
     "metadata": {},
     "output_type": "display_data"
    },
    {
     "name": "stdout",
     "output_type": "stream",
     "text": [
      "Epoch:8    Loss:2.0342243909835815    NumUpdates:2\n"
     ]
    },
    {
     "data": {
      "application/vnd.jupyter.widget-view+json": {
       "model_id": "6277df41bdff45a4a9c9dd2729338d72",
       "version_major": 2,
       "version_minor": 0
      },
      "text/plain": [
       "  0%|          | 0/313 [00:00<?, ?it/s]"
      ]
     },
     "metadata": {},
     "output_type": "display_data"
    },
    {
     "name": "stdout",
     "output_type": "stream",
     "text": [
      "Epoch:9    Loss:2.055636405944824    NumUpdates:1\n"
     ]
    },
    {
     "data": {
      "application/vnd.jupyter.widget-view+json": {
       "model_id": "25d01313ac4b4862a1b15e4d01fed0eb",
       "version_major": 2,
       "version_minor": 0
      },
      "text/plain": [
       "  0%|          | 0/313 [00:00<?, ?it/s]"
      ]
     },
     "metadata": {},
     "output_type": "display_data"
    },
    {
     "name": "stdout",
     "output_type": "stream",
     "text": [
      "Epoch:10    Loss:nan    NumUpdates:0\n"
     ]
    },
    {
     "data": {
      "application/vnd.jupyter.widget-view+json": {
       "model_id": "2e7585afe2b44f7da3b0e39273acfb6c",
       "version_major": 2,
       "version_minor": 0
      },
      "text/plain": [
       "  0%|          | 0/313 [00:00<?, ?it/s]"
      ]
     },
     "metadata": {},
     "output_type": "display_data"
    },
    {
     "name": "stdout",
     "output_type": "stream",
     "text": [
      "Epoch:11    Loss:2.024880886077881    NumUpdates:2\n"
     ]
    },
    {
     "data": {
      "application/vnd.jupyter.widget-view+json": {
       "model_id": "1b4ea550507544d0ae9ee35397ab2b25",
       "version_major": 2,
       "version_minor": 0
      },
      "text/plain": [
       "  0%|          | 0/313 [00:00<?, ?it/s]"
      ]
     },
     "metadata": {},
     "output_type": "display_data"
    },
    {
     "name": "stdout",
     "output_type": "stream",
     "text": [
      "Epoch:12    Loss:2.010961174964905    NumUpdates:3\n"
     ]
    },
    {
     "data": {
      "application/vnd.jupyter.widget-view+json": {
       "model_id": "63cbd054ab1b4d1182fa406fd1ad0509",
       "version_major": 2,
       "version_minor": 0
      },
      "text/plain": [
       "  0%|          | 0/313 [00:00<?, ?it/s]"
      ]
     },
     "metadata": {},
     "output_type": "display_data"
    },
    {
     "name": "stdout",
     "output_type": "stream",
     "text": [
      "Epoch:13    Loss:nan    NumUpdates:0\n",
      "Epoch 00013: reducing learning rate of group 0 to 1.0000e-05.\n"
     ]
    },
    {
     "data": {
      "application/vnd.jupyter.widget-view+json": {
       "model_id": "f6fd5c6e9bfa4c4cb6505403f414a3b0",
       "version_major": 2,
       "version_minor": 0
      },
      "text/plain": [
       "  0%|          | 0/313 [00:00<?, ?it/s]"
      ]
     },
     "metadata": {},
     "output_type": "display_data"
    },
    {
     "name": "stdout",
     "output_type": "stream",
     "text": [
      "Epoch:14    Loss:2.004188656806946    NumUpdates:2\n"
     ]
    },
    {
     "data": {
      "application/vnd.jupyter.widget-view+json": {
       "model_id": "ee017cfe19c542e2babd871fd1cb7a1b",
       "version_major": 2,
       "version_minor": 0
      },
      "text/plain": [
       "  0%|          | 0/313 [00:00<?, ?it/s]"
      ]
     },
     "metadata": {},
     "output_type": "display_data"
    },
    {
     "name": "stdout",
     "output_type": "stream",
     "text": [
      "Epoch:15    Loss:1.9877378344535828    NumUpdates:4\n"
     ]
    },
    {
     "data": {
      "application/vnd.jupyter.widget-view+json": {
       "model_id": "cd23d98b4211494b99d01864a2cd93df",
       "version_major": 2,
       "version_minor": 0
      },
      "text/plain": [
       "  0%|          | 0/313 [00:00<?, ?it/s]"
      ]
     },
     "metadata": {},
     "output_type": "display_data"
    },
    {
     "name": "stdout",
     "output_type": "stream",
     "text": [
      "Epoch:16    Loss:1.9960575103759766    NumUpdates:2\n"
     ]
    },
    {
     "data": {
      "application/vnd.jupyter.widget-view+json": {
       "model_id": "5979b2d175914908880de0a2b9bfb89d",
       "version_major": 2,
       "version_minor": 0
      },
      "text/plain": [
       "  0%|          | 0/313 [00:00<?, ?it/s]"
      ]
     },
     "metadata": {},
     "output_type": "display_data"
    },
    {
     "name": "stdout",
     "output_type": "stream",
     "text": [
      "Epoch:17    Loss:nan    NumUpdates:0\n"
     ]
    },
    {
     "data": {
      "application/vnd.jupyter.widget-view+json": {
       "model_id": "65db665a50154f5585dc73ef070dfe0a",
       "version_major": 2,
       "version_minor": 0
      },
      "text/plain": [
       "  0%|          | 0/313 [00:00<?, ?it/s]"
      ]
     },
     "metadata": {},
     "output_type": "display_data"
    },
    {
     "name": "stdout",
     "output_type": "stream",
     "text": [
      "Epoch:18    Loss:2.045096755027771    NumUpdates:2\n"
     ]
    },
    {
     "data": {
      "application/vnd.jupyter.widget-view+json": {
       "model_id": "841c21b6e7834341b46a7407dae270bc",
       "version_major": 2,
       "version_minor": 0
      },
      "text/plain": [
       "  0%|          | 0/313 [00:00<?, ?it/s]"
      ]
     },
     "metadata": {},
     "output_type": "display_data"
    },
    {
     "name": "stdout",
     "output_type": "stream",
     "text": [
      "Epoch:19    Loss:2.0154508352279663    NumUpdates:2\n",
      "Epoch 00019: reducing learning rate of group 0 to 1.0000e-06.\n"
     ]
    },
    {
     "data": {
      "application/vnd.jupyter.widget-view+json": {
       "model_id": "ef4cbf89bfe84db4a2d1b11483f10b3a",
       "version_major": 2,
       "version_minor": 0
      },
      "text/plain": [
       "  0%|          | 0/313 [00:00<?, ?it/s]"
      ]
     },
     "metadata": {},
     "output_type": "display_data"
    },
    {
     "name": "stdout",
     "output_type": "stream",
     "text": [
      "Epoch:20    Loss:1.78826904296875    NumUpdates:1\n"
     ]
    },
    {
     "data": {
      "application/vnd.jupyter.widget-view+json": {
       "model_id": "d2ffb170d6fa4cbbbc7c1ae02040bdfd",
       "version_major": 2,
       "version_minor": 0
      },
      "text/plain": [
       "  0%|          | 0/313 [00:00<?, ?it/s]"
      ]
     },
     "metadata": {},
     "output_type": "display_data"
    },
    {
     "name": "stdout",
     "output_type": "stream",
     "text": [
      "Epoch:21    Loss:nan    NumUpdates:0\n"
     ]
    },
    {
     "data": {
      "application/vnd.jupyter.widget-view+json": {
       "model_id": "f9dda3871fff471ab439d7aaac7a8700",
       "version_major": 2,
       "version_minor": 0
      },
      "text/plain": [
       "  0%|          | 0/313 [00:00<?, ?it/s]"
      ]
     },
     "metadata": {},
     "output_type": "display_data"
    },
    {
     "name": "stdout",
     "output_type": "stream",
     "text": [
      "Epoch:22    Loss:1.9951119025548298    NumUpdates:3\n"
     ]
    },
    {
     "data": {
      "application/vnd.jupyter.widget-view+json": {
       "model_id": "6b3bd6998512459380673490a35ffd0c",
       "version_major": 2,
       "version_minor": 0
      },
      "text/plain": [
       "  0%|          | 0/313 [00:00<?, ?it/s]"
      ]
     },
     "metadata": {},
     "output_type": "display_data"
    },
    {
     "name": "stdout",
     "output_type": "stream",
     "text": [
      "Epoch:23    Loss:2.077222466468811    NumUpdates:2\n"
     ]
    },
    {
     "data": {
      "application/vnd.jupyter.widget-view+json": {
       "model_id": "86bce940829b489db2d0af3807394eea",
       "version_major": 2,
       "version_minor": 0
      },
      "text/plain": [
       "  0%|          | 0/313 [00:00<?, ?it/s]"
      ]
     },
     "metadata": {},
     "output_type": "display_data"
    },
    {
     "name": "stdout",
     "output_type": "stream",
     "text": [
      "Epoch:24    Loss:2.056936740875244    NumUpdates:1\n"
     ]
    },
    {
     "data": {
      "application/vnd.jupyter.widget-view+json": {
       "model_id": "2630fa5c8b694dbd854ffdacfc31da35",
       "version_major": 2,
       "version_minor": 0
      },
      "text/plain": [
       "  0%|          | 0/313 [00:00<?, ?it/s]"
      ]
     },
     "metadata": {},
     "output_type": "display_data"
    },
    {
     "name": "stdout",
     "output_type": "stream",
     "text": [
      "Epoch:25    Loss:nan    NumUpdates:0\n"
     ]
    },
    {
     "data": {
      "application/vnd.jupyter.widget-view+json": {
       "model_id": "2935263824cc48c8ab52d5835b2ff541",
       "version_major": 2,
       "version_minor": 0
      },
      "text/plain": [
       "  0%|          | 0/313 [00:00<?, ?it/s]"
      ]
     },
     "metadata": {},
     "output_type": "display_data"
    },
    {
     "name": "stdout",
     "output_type": "stream",
     "text": [
      "Epoch:26    Loss:2.0344985326131186    NumUpdates:3\n",
      "Epoch 00026: reducing learning rate of group 0 to 1.0000e-07.\n"
     ]
    },
    {
     "data": {
      "application/vnd.jupyter.widget-view+json": {
       "model_id": "311c8f9d9def4028a5d4ca05ed1c0504",
       "version_major": 2,
       "version_minor": 0
      },
      "text/plain": [
       "  0%|          | 0/313 [00:00<?, ?it/s]"
      ]
     },
     "metadata": {},
     "output_type": "display_data"
    },
    {
     "name": "stdout",
     "output_type": "stream",
     "text": [
      "Epoch:27    Loss:nan    NumUpdates:0\n"
     ]
    },
    {
     "data": {
      "application/vnd.jupyter.widget-view+json": {
       "model_id": "b916ca6496874854ba2dc52560922dbc",
       "version_major": 2,
       "version_minor": 0
      },
      "text/plain": [
       "  0%|          | 0/313 [00:00<?, ?it/s]"
      ]
     },
     "metadata": {},
     "output_type": "display_data"
    },
    {
     "name": "stdout",
     "output_type": "stream",
     "text": [
      "Epoch:28    Loss:1.9000872373580933    NumUpdates:1\n"
     ]
    },
    {
     "data": {
      "application/vnd.jupyter.widget-view+json": {
       "model_id": "e5fe8bff7743435ca071036b89f74f16",
       "version_major": 2,
       "version_minor": 0
      },
      "text/plain": [
       "  0%|          | 0/313 [00:00<?, ?it/s]"
      ]
     },
     "metadata": {},
     "output_type": "display_data"
    },
    {
     "name": "stdout",
     "output_type": "stream",
     "text": [
      "Epoch:29    Loss:2.0609593391418457    NumUpdates:2\n"
     ]
    },
    {
     "data": {
      "application/vnd.jupyter.widget-view+json": {
       "model_id": "bd2d60765fa342cd98fe603f1a5cca18",
       "version_major": 2,
       "version_minor": 0
      },
      "text/plain": [
       "  0%|          | 0/313 [00:00<?, ?it/s]"
      ]
     },
     "metadata": {},
     "output_type": "display_data"
    },
    {
     "name": "stdout",
     "output_type": "stream",
     "text": [
      "Epoch:30    Loss:nan    NumUpdates:0\n"
     ]
    },
    {
     "data": {
      "application/vnd.jupyter.widget-view+json": {
       "model_id": "e1b9fc035fea4f06aa0371d3102f81b0",
       "version_major": 2,
       "version_minor": 0
      },
      "text/plain": [
       "  0%|          | 0/313 [00:00<?, ?it/s]"
      ]
     },
     "metadata": {},
     "output_type": "display_data"
    },
    {
     "name": "stdout",
     "output_type": "stream",
     "text": [
      "Epoch:31    Loss:2.0188117027282715    NumUpdates:2\n"
     ]
    },
    {
     "data": {
      "application/vnd.jupyter.widget-view+json": {
       "model_id": "b550ff656a104d1a965989e030a3781f",
       "version_major": 2,
       "version_minor": 0
      },
      "text/plain": [
       "  0%|          | 0/313 [00:00<?, ?it/s]"
      ]
     },
     "metadata": {},
     "output_type": "display_data"
    },
    {
     "name": "stdout",
     "output_type": "stream",
     "text": [
      "Epoch:32    Loss:1.9457072019577026    NumUpdates:2\n",
      "Epoch 00032: reducing learning rate of group 0 to 1.0000e-08.\n"
     ]
    },
    {
     "data": {
      "application/vnd.jupyter.widget-view+json": {
       "model_id": "5117da598f454000a41c2dfc26c4f507",
       "version_major": 2,
       "version_minor": 0
      },
      "text/plain": [
       "  0%|          | 0/313 [00:00<?, ?it/s]"
      ]
     },
     "metadata": {},
     "output_type": "display_data"
    },
    {
     "name": "stdout",
     "output_type": "stream",
     "text": [
      "Epoch:33    Loss:2.056551694869995    NumUpdates:1\n"
     ]
    },
    {
     "data": {
      "application/vnd.jupyter.widget-view+json": {
       "model_id": "045254b3b6be461fbb326f6227b6ca7c",
       "version_major": 2,
       "version_minor": 0
      },
      "text/plain": [
       "  0%|          | 0/313 [00:00<?, ?it/s]"
      ]
     },
     "metadata": {},
     "output_type": "display_data"
    },
    {
     "name": "stdout",
     "output_type": "stream",
     "text": [
      "Epoch:34    Loss:1.9928735494613647    NumUpdates:2\n"
     ]
    },
    {
     "data": {
      "application/vnd.jupyter.widget-view+json": {
       "model_id": "00c6cd3c550e4783969bc0521edae6d6",
       "version_major": 2,
       "version_minor": 0
      },
      "text/plain": [
       "  0%|          | 0/313 [00:00<?, ?it/s]"
      ]
     },
     "metadata": {},
     "output_type": "display_data"
    },
    {
     "name": "stdout",
     "output_type": "stream",
     "text": [
      "Epoch:35    Loss:nan    NumUpdates:0\n"
     ]
    },
    {
     "data": {
      "application/vnd.jupyter.widget-view+json": {
       "model_id": "74c930a7d79943ebb7672a56f1b596d8",
       "version_major": 2,
       "version_minor": 0
      },
      "text/plain": [
       "  0%|          | 0/313 [00:00<?, ?it/s]"
      ]
     },
     "metadata": {},
     "output_type": "display_data"
    },
    {
     "name": "stdout",
     "output_type": "stream",
     "text": [
      "Epoch:36    Loss:2.05778968334198    NumUpdates:2\n"
     ]
    },
    {
     "data": {
      "application/vnd.jupyter.widget-view+json": {
       "model_id": "45e8104209e44da89d3135802fa15622",
       "version_major": 2,
       "version_minor": 0
      },
      "text/plain": [
       "  0%|          | 0/313 [00:00<?, ?it/s]"
      ]
     },
     "metadata": {},
     "output_type": "display_data"
    },
    {
     "name": "stdout",
     "output_type": "stream",
     "text": [
      "Epoch:37    Loss:2.064042031764984    NumUpdates:4\n"
     ]
    },
    {
     "data": {
      "application/vnd.jupyter.widget-view+json": {
       "model_id": "87fccd5b76634763b7486faf95388893",
       "version_major": 2,
       "version_minor": 0
      },
      "text/plain": [
       "  0%|          | 0/313 [00:00<?, ?it/s]"
      ]
     },
     "metadata": {},
     "output_type": "display_data"
    },
    {
     "name": "stdout",
     "output_type": "stream",
     "text": [
      "Epoch:38    Loss:2.0714609026908875    NumUpdates:2\n"
     ]
    },
    {
     "data": {
      "application/vnd.jupyter.widget-view+json": {
       "model_id": "198bc58fa7344d5b8c7eb8e1c5a763f4",
       "version_major": 2,
       "version_minor": 0
      },
      "text/plain": [
       "  0%|          | 0/313 [00:00<?, ?it/s]"
      ]
     },
     "metadata": {},
     "output_type": "display_data"
    },
    {
     "name": "stdout",
     "output_type": "stream",
     "text": [
      "Epoch:39    Loss:2.0312116146087646    NumUpdates:1\n"
     ]
    },
    {
     "data": {
      "application/vnd.jupyter.widget-view+json": {
       "model_id": "2cd2e194b7c34279af9b486c8badcabb",
       "version_major": 2,
       "version_minor": 0
      },
      "text/plain": [
       "  0%|          | 0/313 [00:00<?, ?it/s]"
      ]
     },
     "metadata": {},
     "output_type": "display_data"
    },
    {
     "name": "stdout",
     "output_type": "stream",
     "text": [
      "Epoch:40    Loss:2.0243747234344482    NumUpdates:3\n"
     ]
    },
    {
     "data": {
      "application/vnd.jupyter.widget-view+json": {
       "model_id": "33cec3a3d34d43569a61a71b21f142af",
       "version_major": 2,
       "version_minor": 0
      },
      "text/plain": [
       "  0%|          | 0/313 [00:00<?, ?it/s]"
      ]
     },
     "metadata": {},
     "output_type": "display_data"
    },
    {
     "name": "stdout",
     "output_type": "stream",
     "text": [
      "Epoch:41    Loss:2.069889545440674    NumUpdates:1\n"
     ]
    },
    {
     "data": {
      "application/vnd.jupyter.widget-view+json": {
       "model_id": "4f277cdc6cdf41e8820efe9e2c7e3243",
       "version_major": 2,
       "version_minor": 0
      },
      "text/plain": [
       "  0%|          | 0/313 [00:00<?, ?it/s]"
      ]
     },
     "metadata": {},
     "output_type": "display_data"
    },
    {
     "name": "stdout",
     "output_type": "stream",
     "text": [
      "Epoch:42    Loss:nan    NumUpdates:0\n"
     ]
    },
    {
     "data": {
      "application/vnd.jupyter.widget-view+json": {
       "model_id": "91a2e274bb244a9e9e39bb94f97517ef",
       "version_major": 2,
       "version_minor": 0
      },
      "text/plain": [
       "  0%|          | 0/313 [00:00<?, ?it/s]"
      ]
     },
     "metadata": {},
     "output_type": "display_data"
    },
    {
     "name": "stdout",
     "output_type": "stream",
     "text": [
      "Epoch:43    Loss:2.065644900004069    NumUpdates:3\n"
     ]
    },
    {
     "data": {
      "application/vnd.jupyter.widget-view+json": {
       "model_id": "37ece96895ec48f0ba7495d6562e3378",
       "version_major": 2,
       "version_minor": 0
      },
      "text/plain": [
       "  0%|          | 0/313 [00:00<?, ?it/s]"
      ]
     },
     "metadata": {},
     "output_type": "display_data"
    },
    {
     "name": "stdout",
     "output_type": "stream",
     "text": [
      "Epoch:44    Loss:2.0477514266967773    NumUpdates:1\n"
     ]
    },
    {
     "data": {
      "application/vnd.jupyter.widget-view+json": {
       "model_id": "9b545386257049f6af21552c2c4839c1",
       "version_major": 2,
       "version_minor": 0
      },
      "text/plain": [
       "  0%|          | 0/313 [00:00<?, ?it/s]"
      ]
     },
     "metadata": {},
     "output_type": "display_data"
    },
    {
     "name": "stdout",
     "output_type": "stream",
     "text": [
      "Epoch:45    Loss:1.9985589981079102    NumUpdates:1\n"
     ]
    },
    {
     "data": {
      "application/vnd.jupyter.widget-view+json": {
       "model_id": "2bff16337604434d8adc9d5de46818b8",
       "version_major": 2,
       "version_minor": 0
      },
      "text/plain": [
       "  0%|          | 0/313 [00:00<?, ?it/s]"
      ]
     },
     "metadata": {},
     "output_type": "display_data"
    },
    {
     "name": "stdout",
     "output_type": "stream",
     "text": [
      "Epoch:46    Loss:2.0330474376678467    NumUpdates:2\n"
     ]
    },
    {
     "data": {
      "application/vnd.jupyter.widget-view+json": {
       "model_id": "f87be2f05afb4223b5cf18e7de71acd5",
       "version_major": 2,
       "version_minor": 0
      },
      "text/plain": [
       "  0%|          | 0/313 [00:00<?, ?it/s]"
      ]
     },
     "metadata": {},
     "output_type": "display_data"
    },
    {
     "name": "stdout",
     "output_type": "stream",
     "text": [
      "Epoch:47    Loss:2.0541292428970337    NumUpdates:2\n"
     ]
    },
    {
     "data": {
      "application/vnd.jupyter.widget-view+json": {
       "model_id": "029b192ba7d14576960374f09e2c7771",
       "version_major": 2,
       "version_minor": 0
      },
      "text/plain": [
       "  0%|          | 0/313 [00:00<?, ?it/s]"
      ]
     },
     "metadata": {},
     "output_type": "display_data"
    },
    {
     "name": "stdout",
     "output_type": "stream",
     "text": [
      "Epoch:48    Loss:nan    NumUpdates:0\n"
     ]
    },
    {
     "data": {
      "application/vnd.jupyter.widget-view+json": {
       "model_id": "3b525e4b5f054d749a25197c8b8f76c2",
       "version_major": 2,
       "version_minor": 0
      },
      "text/plain": [
       "  0%|          | 0/313 [00:00<?, ?it/s]"
      ]
     },
     "metadata": {},
     "output_type": "display_data"
    },
    {
     "name": "stdout",
     "output_type": "stream",
     "text": [
      "Epoch:49    Loss:2.0395429134368896    NumUpdates:2\n"
     ]
    },
    {
     "data": {
      "application/vnd.jupyter.widget-view+json": {
       "model_id": "a63848d3a8544743bdcf74f4d2fe9c72",
       "version_major": 2,
       "version_minor": 0
      },
      "text/plain": [
       "  0%|          | 0/313 [00:00<?, ?it/s]"
      ]
     },
     "metadata": {},
     "output_type": "display_data"
    },
    {
     "name": "stdout",
     "output_type": "stream",
     "text": [
      "Epoch:50    Loss:2.0251569747924805    NumUpdates:1\n"
     ]
    }
   ],
   "source": [
    "epoch_losses = []\n",
    "iteration_losses = []\n",
    "num_updates_epochs = []\n",
    "for epoch in tqdm(range(1, num_epochs+1)):\n",
    "    epoch_loss_list = [] \n",
    "    num_updates_epoch = 0\n",
    "    for image_batch, text_batch in tqdm(train_loader, leave=False):\n",
    "        optimizer.zero_grad()\n",
    "        text_batch_logits = crnn(image_batch.to(device))\n",
    "        loss = compute_loss(text_batch, text_batch_logits)\n",
    "        iteration_loss = loss.item()\n",
    "\n",
    "        if np.isnan(iteration_loss) or np.isinf(iteration_loss):\n",
    "            continue\n",
    "          \n",
    "        num_updates_epoch += 1\n",
    "        iteration_losses.append(iteration_loss)\n",
    "        epoch_loss_list.append(iteration_loss)\n",
    "        loss.backward()\n",
    "        nn.utils.clip_grad_norm_(crnn.parameters(), clip_norm)\n",
    "        optimizer.step()\n",
    "\n",
    "    epoch_loss = np.mean(epoch_loss_list)\n",
    "    print(\"Epoch:{}    Loss:{}    NumUpdates:{}\".format(epoch, epoch_loss, num_updates_epoch))\n",
    "    epoch_losses.append(epoch_loss)\n",
    "    num_updates_epochs.append(num_updates_epoch)\n",
    "    lr_scheduler.step(epoch_loss)"
   ]
  },
  {
   "cell_type": "code",
   "execution_count": 151,
   "metadata": {},
   "outputs": [
    {
     "data": {
      "image/png": "[encoded data removed]",
      "text/plain": [
       "<Figure size 1000x500 with 2 Axes>"
      ]
     },
     "metadata": {},
     "output_type": "display_data"
    }
   ],
   "source": [
    "fig, (ax1, ax2) = plt.subplots(1, 2, figsize=(10, 5))\n",
    "\n",
    "ax1.plot(epoch_losses)\n",
    "ax1.set_xlabel(\"Epochs\")\n",
    "ax1.set_ylabel(\"Loss\")\n",
    "\n",
    "ax2.plot(iteration_losses)\n",
    "ax2.set_xlabel(\"Iterations\")\n",
    "ax2.set_ylabel(\"Loss\")\n",
    "\n",
    "plt.show()"
   ]
  },
  {
   "cell_type": "code",
   "execution_count": 138,
   "metadata": {},
   "outputs": [
    {
     "name": "stdout",
     "output_type": "stream",
     "text": [
      "torch.Size([16, 3, 50, 200])\n"
     ]
    }
   ],
   "source": [
    "ori_path = df_results[\"image_path\"][idx]\n",
    "ori_image = cv2.imread(ori_path)\n",
    "ori_image = cv2.cvtColor(ori_image, cv2.COLOR_BGR2RGB)\n",
    "\n",
    "text_list = []\n",
    "bboxs = df_results[\"pred_bbox\"][idx]\n",
    "\n",
    "for bbox in bboxs:\n",
    "    # Crop Image with Bounding Box\n",
    "    crop_image = ori_image[bbox[1]:bbox[3], bbox[0]:bbox[2]]\n",
    "\n",
    "    # Convert crop_image to torch tensor\n",
    "    transform = transforms.Compose([\n",
    "        transforms.ToPILImage(),\n",
    "        transforms.ToTensor(),\n",
    "        transforms.Normalize(mean=(0.485, 0.456, 0.406), std=(0.229, 0.224, 0.225))\n",
    "    ])\n",
    "    image_tensor = transform(crop_image).unsqueeze(0)\n",
    "\n",
    " # Replace this with your actual tensor\n",
    "\n",
    "    # # Target size\n",
    "    target_size = (50, 200)\n",
    "\n",
    "    # Interpolate the tensor to the target size\n",
    "    resized_tensor = F.interpolate(image_tensor, size=target_size, mode='bilinear', align_corners=False)\n",
    "\n",
    "    # Change batch size from 1 to 16\n",
    "    resized_tensor = resized_tensor.expand(16, -1, -1, -1)\n",
    "\n",
    "print(resized_tensor.size())    "
   ]
  },
  {
   "cell_type": "code",
   "execution_count": 169,
   "metadata": {},
   "outputs": [],
   "source": [
    "def get_text_crnn(idx, crnn):\n",
    "    # Assuming crnn_model is an instance of your CRNN class\n",
    "    crnn.eval()\n",
    "    \n",
    "    ori_path = df_results[\"image_path\"][idx]\n",
    "    ori_image = cv2.imread(ori_path)\n",
    "    ori_image = cv2.cvtColor(ori_image, cv2.COLOR_BGR2RGB)\n",
    "\n",
    "    text_list = []\n",
    "    bboxs = df_results[\"pred_bbox\"][idx]\n",
    "\n",
    "    for bbox in bboxs:\n",
    "        # Crop Image with Bounding Box\n",
    "        crop_image = ori_image[bbox[1]:bbox[3], bbox[0]:bbox[2]]\n",
    "\n",
    "        # Convert crop_image to torch tensor\n",
    "        transform = transforms.Compose([\n",
    "            transforms.ToPILImage(),\n",
    "            transforms.ToTensor(),\n",
    "            transforms.Normalize(mean=(0.485, 0.456, 0.406), std=(0.229, 0.224, 0.225))\n",
    "        ])\n",
    "        image_tensor = transform(crop_image).unsqueeze(0)\n",
    "\n",
    "        target_size = (50, 200)\n",
    "\n",
    "        # Interpolate the tensor to the target size\n",
    "        resized_tensor = F.interpolate(image_tensor, size=target_size, mode='bilinear', align_corners=False)\n",
    "\n",
    "        # Change batch size from 1 to 16\n",
    "        resized_tensor = resized_tensor.expand(16, -1, -1, -1)\n",
    "\n",
    "        # Send the image to the specified device\n",
    "        resized_tensor = resized_tensor.to(device)\n",
    "\n",
    "        # Perform OCR using CRNN model\n",
    "        with torch.no_grad():\n",
    "            preds = crnn(resized_tensor)\n",
    "\n",
    "        # Convert the predictions to text\n",
    "        _, preds_index = preds.max(2)\n",
    "        preds_str = ''.join([chr(preds_index[0][i] + ord('0')) for i in range(preds_index.size(1))])\n",
    "\n",
    "        # Clean Text\n",
    "        del_punc_list = [\" \", \"·\", \":\", \"-\"]\n",
    "        clean_text = re.sub(r\"[ ·:-]\", \"\", preds_str)\n",
    "        clean_text = clean_text.replace(\"O\", \"0\")\n",
    "        clean_text = clean_text.replace(\"I\", \"1\")\n",
    "        clean_text = clean_text.upper()\n",
    "        text_list.append(clean_text)\n",
    "\n",
    "    return text_list\n",
    "\n",
    "# Use the modified function\n",
    "# idx = 1  # Replace with the desired index\n",
    "# text_result = get_text_crnn(idx, crnn_model, device=device)\n",
    "# print(\"Recognized Text:\", text_result)"
   ]
  },
  {
   "cell_type": "code",
   "execution_count": 170,
   "metadata": {},
   "outputs": [
    {
     "data": {
      "application/vnd.jupyter.widget-view+json": {
       "model_id": "2e062129232f4669bc486a700078c8c8",
       "version_major": 2,
       "version_minor": 0
      },
      "text/plain": [
       "  0%|          | 0/250 [00:00<?, ?it/s]"
      ]
     },
     "metadata": {},
     "output_type": "display_data"
    },
    {
     "data": {
      "text/html": [
       "<div>\n",
       "<style scoped>\n",
       "    .dataframe tbody tr th:only-of-type {\n",
       "        vertical-align: middle;\n",
       "    }\n",
       "\n",
       "    .dataframe tbody tr th {\n",
       "        vertical-align: top;\n",
       "    }\n",
       "\n",
       "    .dataframe thead th {\n",
       "        text-align: right;\n",
       "    }\n",
       "</style>\n",
       "<table border=\"1\" class=\"dataframe\">\n",
       "  <thead>\n",
       "    <tr style=\"text-align: right;\">\n",
       "      <th></th>\n",
       "      <th>image_path</th>\n",
       "      <th>sub</th>\n",
       "      <th>decoded_plate_number</th>\n",
       "      <th>x1_bbox</th>\n",
       "      <th>y1_bbox</th>\n",
       "      <th>x2_bbox</th>\n",
       "      <th>y2_bbox</th>\n",
       "      <th>pred_bbox</th>\n",
       "      <th>confidence</th>\n",
       "      <th>pred_plate_number</th>\n",
       "    </tr>\n",
       "  </thead>\n",
       "  <tbody>\n",
       "    <tr>\n",
       "      <th>0</th>\n",
       "      <td>C:/Users/User/DeepLearning/Deep_Learning/final...</td>\n",
       "      <td>ccpd_weather</td>\n",
       "      <td>鄂AT2W80</td>\n",
       "      <td>176</td>\n",
       "      <td>497</td>\n",
       "      <td>455</td>\n",
       "      <td>595</td>\n",
       "      <td>[[177, 493, 454, 597]]</td>\n",
       "      <td>[0.94]</td>\n",
       "      <td>2222222222222222</td>\n",
       "    </tr>\n",
       "    <tr>\n",
       "      <th>1</th>\n",
       "      <td>C:/Users/User/DeepLearning/Deep_Learning/final...</td>\n",
       "      <td>ccpd_weather</td>\n",
       "      <td>皖AB967N</td>\n",
       "      <td>213</td>\n",
       "      <td>444</td>\n",
       "      <td>469</td>\n",
       "      <td>551</td>\n",
       "      <td>[[212, 443, 469, 551]]</td>\n",
       "      <td>[0.94]</td>\n",
       "      <td>2222222222222222</td>\n",
       "    </tr>\n",
       "    <tr>\n",
       "      <th>2</th>\n",
       "      <td>C:/Users/User/DeepLearning/Deep_Learning/final...</td>\n",
       "      <td>ccpd_weather</td>\n",
       "      <td>皖A25T29</td>\n",
       "      <td>257</td>\n",
       "      <td>384</td>\n",
       "      <td>525</td>\n",
       "      <td>486</td>\n",
       "      <td>[[255, 385, 523, 487]]</td>\n",
       "      <td>[0.93]</td>\n",
       "      <td>2222222222222222</td>\n",
       "    </tr>\n",
       "    <tr>\n",
       "      <th>3</th>\n",
       "      <td>C:/Users/User/DeepLearning/Deep_Learning/final...</td>\n",
       "      <td>ccpd_weather</td>\n",
       "      <td>皖AZW108</td>\n",
       "      <td>201</td>\n",
       "      <td>476</td>\n",
       "      <td>493</td>\n",
       "      <td>570</td>\n",
       "      <td>[[198, 476, 490, 570]]</td>\n",
       "      <td>[0.93]</td>\n",
       "      <td>2222222222222222</td>\n",
       "    </tr>\n",
       "    <tr>\n",
       "      <th>4</th>\n",
       "      <td>C:/Users/User/DeepLearning/Deep_Learning/final...</td>\n",
       "      <td>ccpd_weather</td>\n",
       "      <td>皖AZ2744</td>\n",
       "      <td>252</td>\n",
       "      <td>586</td>\n",
       "      <td>532</td>\n",
       "      <td>684</td>\n",
       "      <td>[[255, 587, 529, 680]]</td>\n",
       "      <td>[0.95]</td>\n",
       "      <td>2222222222222222</td>\n",
       "    </tr>\n",
       "    <tr>\n",
       "      <th>...</th>\n",
       "      <td>...</td>\n",
       "      <td>...</td>\n",
       "      <td>...</td>\n",
       "      <td>...</td>\n",
       "      <td>...</td>\n",
       "      <td>...</td>\n",
       "      <td>...</td>\n",
       "      <td>...</td>\n",
       "      <td>...</td>\n",
       "      <td>...</td>\n",
       "    </tr>\n",
       "    <tr>\n",
       "      <th>245</th>\n",
       "      <td>C:/Users/User/DeepLearning/Deep_Learning/final...</td>\n",
       "      <td>ccpd_weather</td>\n",
       "      <td>皖AR8T97</td>\n",
       "      <td>96</td>\n",
       "      <td>584</td>\n",
       "      <td>372</td>\n",
       "      <td>688</td>\n",
       "      <td>[[95, 584, 372, 687]]</td>\n",
       "      <td>[0.93]</td>\n",
       "      <td>2222222222222222</td>\n",
       "    </tr>\n",
       "    <tr>\n",
       "      <th>246</th>\n",
       "      <td>C:/Users/User/DeepLearning/Deep_Learning/final...</td>\n",
       "      <td>ccpd_weather</td>\n",
       "      <td>皖AL6M60</td>\n",
       "      <td>265</td>\n",
       "      <td>514</td>\n",
       "      <td>533</td>\n",
       "      <td>621</td>\n",
       "      <td>[[268, 515, 530, 620]]</td>\n",
       "      <td>[0.95]</td>\n",
       "      <td>2222222222222222</td>\n",
       "    </tr>\n",
       "    <tr>\n",
       "      <th>247</th>\n",
       "      <td>C:/Users/User/DeepLearning/Deep_Learning/final...</td>\n",
       "      <td>ccpd_weather</td>\n",
       "      <td>皖A576X9</td>\n",
       "      <td>282</td>\n",
       "      <td>536</td>\n",
       "      <td>566</td>\n",
       "      <td>637</td>\n",
       "      <td>[[277, 534, 570, 638]]</td>\n",
       "      <td>[0.92]</td>\n",
       "      <td>2222222222222222</td>\n",
       "    </tr>\n",
       "    <tr>\n",
       "      <th>248</th>\n",
       "      <td>C:/Users/User/DeepLearning/Deep_Learning/final...</td>\n",
       "      <td>ccpd_weather</td>\n",
       "      <td>皖ALF155</td>\n",
       "      <td>64</td>\n",
       "      <td>606</td>\n",
       "      <td>309</td>\n",
       "      <td>723</td>\n",
       "      <td>[[62, 606, 307, 721]]</td>\n",
       "      <td>[0.94]</td>\n",
       "      <td>2222222222222222</td>\n",
       "    </tr>\n",
       "    <tr>\n",
       "      <th>249</th>\n",
       "      <td>C:/Users/User/DeepLearning/Deep_Learning/final...</td>\n",
       "      <td>ccpd_weather</td>\n",
       "      <td>皖A3M336</td>\n",
       "      <td>124</td>\n",
       "      <td>496</td>\n",
       "      <td>378</td>\n",
       "      <td>609</td>\n",
       "      <td>[[123, 495, 377, 608]]</td>\n",
       "      <td>[0.94]</td>\n",
       "      <td>2222222222222222</td>\n",
       "    </tr>\n",
       "  </tbody>\n",
       "</table>\n",
       "<p>250 rows × 10 columns</p>\n",
       "</div>"
      ],
      "text/plain": [
       "                                            image_path           sub  \\\n",
       "0    C:/Users/User/DeepLearning/Deep_Learning/final...  ccpd_weather   \n",
       "1    C:/Users/User/DeepLearning/Deep_Learning/final...  ccpd_weather   \n",
       "2    C:/Users/User/DeepLearning/Deep_Learning/final...  ccpd_weather   \n",
       "3    C:/Users/User/DeepLearning/Deep_Learning/final...  ccpd_weather   \n",
       "4    C:/Users/User/DeepLearning/Deep_Learning/final...  ccpd_weather   \n",
       "..                                                 ...           ...   \n",
       "245  C:/Users/User/DeepLearning/Deep_Learning/final...  ccpd_weather   \n",
       "246  C:/Users/User/DeepLearning/Deep_Learning/final...  ccpd_weather   \n",
       "247  C:/Users/User/DeepLearning/Deep_Learning/final...  ccpd_weather   \n",
       "248  C:/Users/User/DeepLearning/Deep_Learning/final...  ccpd_weather   \n",
       "249  C:/Users/User/DeepLearning/Deep_Learning/final...  ccpd_weather   \n",
       "\n",
       "    decoded_plate_number  x1_bbox  y1_bbox  x2_bbox  y2_bbox  \\\n",
       "0                鄂AT2W80      176      497      455      595   \n",
       "1                皖AB967N      213      444      469      551   \n",
       "2                皖A25T29      257      384      525      486   \n",
       "3                皖AZW108      201      476      493      570   \n",
       "4                皖AZ2744      252      586      532      684   \n",
       "..                   ...      ...      ...      ...      ...   \n",
       "245              皖AR8T97       96      584      372      688   \n",
       "246              皖AL6M60      265      514      533      621   \n",
       "247              皖A576X9      282      536      566      637   \n",
       "248              皖ALF155       64      606      309      723   \n",
       "249              皖A3M336      124      496      378      609   \n",
       "\n",
       "                  pred_bbox confidence pred_plate_number  \n",
       "0    [[177, 493, 454, 597]]     [0.94]  2222222222222222  \n",
       "1    [[212, 443, 469, 551]]     [0.94]  2222222222222222  \n",
       "2    [[255, 385, 523, 487]]     [0.93]  2222222222222222  \n",
       "3    [[198, 476, 490, 570]]     [0.93]  2222222222222222  \n",
       "4    [[255, 587, 529, 680]]     [0.95]  2222222222222222  \n",
       "..                      ...        ...               ...  \n",
       "245   [[95, 584, 372, 687]]     [0.93]  2222222222222222  \n",
       "246  [[268, 515, 530, 620]]     [0.95]  2222222222222222  \n",
       "247  [[277, 534, 570, 638]]     [0.92]  2222222222222222  \n",
       "248   [[62, 606, 307, 721]]     [0.94]  2222222222222222  \n",
       "249  [[123, 495, 377, 608]]     [0.94]  2222222222222222  \n",
       "\n",
       "[250 rows x 10 columns]"
      ]
     },
     "execution_count": 170,
     "metadata": {},
     "output_type": "execute_result"
    }
   ],
   "source": [
    "idxs = list(np.arange(0, 250))\n",
    "text_results = tqdm([get_text_crnn(idx,crnn) for idx in idxs])\n",
    "text_results = [text[0] if len(text)>0 else \"\" for text in text_results]\n",
    "df_results[\"pred_plate_number\"] = text_results\n",
    "df_results"
   ]
  }
 ],
 "metadata": {
  "kernelspec": {
   "display_name": "DeepLearning",
   "language": "python",
   "name": "python3"
  },
  "language_info": {
   "codemirror_mode": {
    "name": "ipython",
    "version": 3
   },
   "file_extension": ".py",
   "mimetype": "text/x-python",
   "name": "python",
   "nbconvert_exporter": "python",
   "pygments_lexer": "ipython3",
   "version": "3.11.5"
  }
 },
 "nbformat": 4,
 "nbformat_minor": 2
}
